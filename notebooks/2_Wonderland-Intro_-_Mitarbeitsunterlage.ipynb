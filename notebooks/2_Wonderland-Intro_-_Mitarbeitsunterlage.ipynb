{
 "cells": [
  {
   "cell_type": "markdown",
   "metadata": {
    "slideshow": {
     "slide_type": "slide"
    }
   },
   "source": [
    "# Sanderson's Wonderland\n",
    "### Angewandte Systemwissenschaften II \n",
    "#### Python - Wonderland\n",
    "Einheit 2 / 10"
   ]
  },
  {
   "cell_type": "markdown",
   "metadata": {
    "slideshow": {
     "slide_type": "subslide"
    }
   },
   "source": [
    "# Semesterplan\n",
    "---\n",
    "1. Einführung in Python (Wiederholung von Comp. Basics VO)\n",
    "2. **Einführung ins Wonderland-Modell**\n",
    "3. Wonderland in Python - Quick & Dirty\n",
    "4. Wonderland-Paket\n",
    "5. Funktionale Programmierung\n",
    "6. Objekt-orientierte Programmierung\n",
    "7. Parameter Sweeps & Projektzuteilung\n",
    "8. Projektdiskussion\n",
    "9. Multiprocessing\n",
    "10. -"
   ]
  },
  {
   "cell_type": "markdown",
   "metadata": {
    "slideshow": {
     "slide_type": "subslide"
    }
   },
   "source": [
    "## Inhalt\n",
    "+ Modellierung allgemein\n",
    "+ Das Wonderland - Modell\n",
    "+ Seine Zustandsvariablen\n",
    "+ Deren Funktionen\n",
    "+ Szenarien im Wonderland\n",
    "\n",
    "*Kursiv* geschriebene Fragen (mit ?), sind die HÜ Fragen! <br>\n",
    "(*1-2 ganze Sätze je Frage reichen*)"
   ]
  },
  {
   "cell_type": "markdown",
   "metadata": {
    "slideshow": {
     "slide_type": "slide"
    }
   },
   "source": [
    "## Modellierung\n",
    "+ *Was ist der **Zweck** eines Modells?*\n",
    " \n",
    " "
   ]
  },
  {
   "cell_type": "markdown",
   "metadata": {
    "slideshow": {
     "slide_type": "fragment"
    }
   },
   "source": [
    "+ *Wofür finden Modelle **Verwendung**?*\n",
    " \n",
    " "
   ]
  },
  {
   "cell_type": "markdown",
   "metadata": {
    "slideshow": {
     "slide_type": "fragment"
    }
   },
   "source": [
    "+ *Welche **Modelle** gibt es zB?*\n",
    " \n",
    " "
   ]
  },
  {
   "cell_type": "markdown",
   "metadata": {
    "slideshow": {
     "slide_type": "slide"
    }
   },
   "source": [
    "## Das Wonderland - Modell\n",
    "+ **1992** entworfen, um die hoch komplexen **Modelle zur nachhaltigen Entwicklung** besser erklären zu können.\n",
    "+ Ökonomische Modelle beinhalteten und berücksichtigten **keine Umwelt**.\n",
    "    + Modelle **vereinfachen** die Realität\n",
    "    + **Umwelt** wurde als **irrelevant** für die wirtschaftliche \\\n",
    "      Entwicklung angesehen.\n",
    "+ Modelle zur **nachhaltigen Entwicklung** inkludieren eine Form von Umwelt-Ressourcen.\n",
    "\n",
    "[*Sanderson, W.C. (1992). Simulation Models of Economic, Demographic,\n",
    "and Environmental Interactions: Are They on a Sustainable Development\n",
    "Path?. Laxenburg: International Institute for Applied Systems Analysis.*](http://pure.iiasa.ac.at/id/eprint/3613/)"
   ]
  },
  {
   "cell_type": "markdown",
   "metadata": {
    "slideshow": {
     "slide_type": "subslide"
    }
   },
   "source": [
    "## Das Wonderland - Modell\n",
    "+ **Gleichungsbasiert**es, **makroskopisch**es Modell   "
   ]
  },
  {
   "cell_type": "markdown",
   "metadata": {
    "slideshow": {
     "slide_type": "fragment"
    }
   },
   "source": [
    "+ 4 **Zustand**svariablen\n",
    "\n",
    "    + 1 **exogen**e\n",
    "    \n",
    "    + 3 **endogen**e"
   ]
  },
  {
   "cell_type": "markdown",
   "metadata": {
    "slideshow": {
     "slide_type": "fragment"
    }
   },
   "source": [
    "+ Ca. 14 **Parameter**"
   ]
  },
  {
   "cell_type": "markdown",
   "metadata": {
    "slideshow": {
     "slide_type": "fragment"
    }
   },
   "source": [
    "+ 2 **Szenarien**\n",
    "\n",
    "    + Traum der ÖkonomInnen\n",
    "    \n",
    "    + Albtraum der UmweltschützerInnen"
   ]
  },
  {
   "cell_type": "markdown",
   "metadata": {
    "slideshow": {
     "slide_type": "slide"
    }
   },
   "source": [
    "## Definition: Zustandsvariablen\n",
    "\n",
    "Endogen \n",
    ">    **x** - Population <br>\n",
    "    **y** - Wirtschaft *(Pro Kopf Produktion)* <br>\n",
    "    **z** - Umwelt *(Verfügbare Ressource)*\n",
    "    \n",
    " Exogen\n",
    ">    **p** - Technologie *(Umweltverschmutzung Pro Produktion)*"
   ]
  },
  {
   "cell_type": "markdown",
   "metadata": {
    "slideshow": {
     "slide_type": "slide"
    }
   },
   "source": [
    "## Definition: Parameter\n",
    "Parameter können nicht einfach willkürlich gewählt werden! \\\n",
    "Es ist wichtig, dass diese **genau ermittelt** werden, entweder \n",
    "durch **Messungen** oder durch Kalibrierung, das sogenannte **'Fitting'**."
   ]
  },
  {
   "cell_type": "markdown",
   "metadata": {
    "slideshow": {
     "slide_type": "fragment"
    }
   },
   "source": [
    "In diesem Sinne kann ein **Modell über die Zeit auch verbessert** werden \n",
    "und den Anschein erwecken 'dazuzulernen'."
   ]
  },
  {
   "cell_type": "markdown",
   "metadata": {
    "slideshow": {
     "slide_type": "fragment"
    }
   },
   "source": [
    "In Sandersons ursprünglicher Definition dieses Modells verwendet er ein \n",
    "**Parameterset, \\\n",
    "welches wir vorerst als korrekt betrachten** können \n",
    "und verwenden wollen."
   ]
  },
  {
   "cell_type": "markdown",
   "metadata": {
    "slideshow": {
     "slide_type": "slide"
    }
   },
   "source": [
    "## Definition: Funktionen\n",
    "Die Zustandsvariablen verändern sich mit der **simulierten Zeit**. \\\n",
    "Diese Veränderung wird durch die **Funktionen** des Wonderlands beschrieben."
   ]
  },
  {
   "cell_type": "markdown",
   "metadata": {
    "slideshow": {
     "slide_type": "fragment"
    }
   },
   "source": [
    "Zu **Darstellung** brauchen wir das **Paket** ```matplotlib```. In diesem Paket eignet sich das **Modul** ```pyplot``` besonders gut um schnell zum Ergebnis zu kommen."
   ]
  },
  {
   "cell_type": "code",
   "execution_count": null,
   "metadata": {
    "slideshow": {
     "slide_type": "-"
    }
   },
   "outputs": [],
   "source": [
    "import matplotlib.pyplot as plt\n",
    "%matplotlib inline"
   ]
  },
  {
   "cell_type": "markdown",
   "metadata": {
    "slideshow": {
     "slide_type": "subslide"
    }
   },
   "source": [
    "Wir werden sehr häufig eine **Funktion** benötigen, welche **aus drei\n",
    "Kollektionen** (hier meistens Listen) einen **3D - Plot** erstellen kann. \\\n",
    "```mplot3d``` aus dem Paket ```mpl_toolkits``` ermöglicht 3D-Plots:"
   ]
  },
  {
   "cell_type": "code",
   "execution_count": null,
   "metadata": {
    "slideshow": {
     "slide_type": "fragment"
    }
   },
   "outputs": [],
   "source": [
    "from mpl_toolkits import mplot3d\n",
    "\n",
    "def plot_3D(xs, ys, zs, labels=('x','y','z')):\n",
    "    plt.figure(figsize=(10,10))\n",
    "    ax = plt.axes(projection='3d')\n",
    "\n",
    "    ax.contour3D(xs,ys,zs,300)\n",
    "\n",
    "    x,y,z = labels\n",
    "    ax.set_xlabel(x)\n",
    "    ax.set_ylabel(y)\n",
    "    ax.set_zlabel(z);"
   ]
  },
  {
   "cell_type": "markdown",
   "metadata": {
    "slideshow": {
     "slide_type": "skip"
    }
   },
   "source": [
    "<div class=\"alert alert-block alert-info\">\n",
    "<h3>Tipp: Code in Büchern und Online - Beispielen</h3>\n",
    "    \n",
    "Liest man Code welcher in Lehrmaterial enthalten ist, bekommt man oft den Eindruck, <br>\n",
    "dass man selbst nie so präzise und vorausschauend arbeiten könnte.\n",
    "<br><br>\n",
    "Tatsächlich entstehen Funktionen wie die obige <code>plot_3D</code> - Funktion erst <strong>nachdem</strong> <br>\n",
    "der Autor erkannt hat, dass er den selben Code oft wiederverwendet und daher einfach <br>\n",
    "in einer Funktion bündeln könnte. <br>\n",
    "Diese Funktion wird dann vorangestellt, da sie ja für alle folgenden Abschnitte wichtig ist.\n",
    "</div>"
   ]
  },
  {
   "cell_type": "markdown",
   "metadata": {
    "slideshow": {
     "slide_type": "subslide"
    }
   },
   "source": [
    "## Kosten des Umweltschutzes\n",
    "Umweltschutz kostet etwas. **Abhängig von Umweltzustand und Wirtschaft** ändern sich diese Kosten in Wonderland. \\\n",
    "Die Formel für diese Kosten beinhaltet **zwei Parameter**: $\\phi$ (Phi) und $\\mu$ (My)\n",
    "# $c = \\phi * (1.0 -z)^\\mu * y$"
   ]
  },
  {
   "cell_type": "markdown",
   "metadata": {
    "slideshow": {
     "slide_type": "fragment"
    }
   },
   "source": [
    "Bei **unverschmutzter** Umwelt: \\\n",
    "    $(z=1) \\quad \\Rightarrow \\quad c = 0$ "
   ]
  },
  {
   "cell_type": "markdown",
   "metadata": {
    "slideshow": {
     "slide_type": "fragment"
    }
   },
   "source": [
    "Mit zunehmender **Umweltverschmutzung**: \\\n",
    "    $(z \\rightarrow 0) \\quad \\Rightarrow \\quad c = \\phi y$ "
   ]
  },
  {
   "cell_type": "markdown",
   "metadata": {
    "slideshow": {
     "slide_type": "fragment"
    }
   },
   "source": [
    "Der **Verlauf dazwischen** wird bestimmt durch $\\mu$. Diesem wollen wir uns nun zuerst widmen."
   ]
  },
  {
   "cell_type": "markdown",
   "metadata": {
    "slideshow": {
     "slide_type": "subslide"
    }
   },
   "source": [
    "Wie **verhalten** sich die Kosten für den Umweltschutz bei einer konstanten Wirtschaftsleistung von 1\n",
    "**abhängig vom Zustand der Umwelt**? \n",
    "\n",
    "*Welchen Einfluss hat der **Parameter µ**?*"
   ]
  },
  {
   "cell_type": "code",
   "execution_count": null,
   "metadata": {
    "slideshow": {
     "slide_type": "fragment"
    }
   },
   "outputs": [],
   "source": [
    "_c = lambda z,µ: 0.5*(1-z)**µ\n",
    "zs = [0.01*i for i in range(100)]\n",
    "µs = [0.01*i for i in range(200)[::2]]\n",
    "res = [[_c(z,µ) for z in zs] for µ in µs]\n",
    "\n",
    "plot_3D(zs,µs,res,('z','µ','res'))"
   ]
  },
  {
   "cell_type": "markdown",
   "metadata": {
    "slideshow": {
     "slide_type": "subslide"
    }
   },
   "source": [
    "Mit Sandersons Parameter ergibt sich folgende Gleichung:\n",
    "\n",
    "$c = \\phi * (1.0 -z)^\\mu * y$\n",
    "\n",
    "$\\phi = 0.5$\n",
    "$\\mu = 2$"
   ]
  },
  {
   "cell_type": "markdown",
   "metadata": {
    "slideshow": {
     "slide_type": "fragment"
    }
   },
   "source": [
    "Setzen wir das $\\mu$ fest, können wir den Verlauf der Kosten \n",
    "mit dem Umweltzustand so analysieren, \\\n",
    "wie er in Sanderson's Simulationen auftritt."
   ]
  },
  {
   "cell_type": "code",
   "execution_count": null,
   "metadata": {
    "slideshow": {
     "slide_type": "fragment"
    }
   },
   "outputs": [],
   "source": [
    "res = [_c(z,2) for z in zs]\n",
    "res.sort()\n",
    "plt.plot(res)"
   ]
  },
  {
   "cell_type": "markdown",
   "metadata": {
    "slideshow": {
     "slide_type": "subslide"
    }
   },
   "source": [
    "*Wie verhalten sich die Kosten für den Umweltschutz abhängig von Wirtschaftsleistung und Umweltzustand?*"
   ]
  },
  {
   "cell_type": "code",
   "execution_count": null,
   "metadata": {
    "slideshow": {
     "slide_type": "fragment"
    }
   },
   "outputs": [],
   "source": [
    "c = lambda y,z: 0.5 * (1-z)**2 * y\n",
    "ys = [i for i in range(1000)[::10]]\n",
    "res = [[c(y,z) for z in zs] for y in ys]\n",
    "\n",
    "plot_3D(zs,ys,res,('z','y','res'))"
   ]
  },
  {
   "cell_type": "markdown",
   "metadata": {
    "slideshow": {
     "slide_type": "slide"
    }
   },
   "source": [
    "## Netto - Produktion\n",
    "Die **Umweltkosten** welche im Wonderland als Modell zur nachhaltigen Entwicklung \\\n",
    "eingeflossen sind, wirken sich **je nach Umweltzustand** stark auf die Wirtschaft aus."
   ]
  },
  {
   "cell_type": "markdown",
   "metadata": {
    "slideshow": {
     "slide_type": "fragment"
    }
   },
   "source": [
    "Daher ist der **Wohlstand** in Wonderland nicht direkt durch die Wirtschaftsleistung $y$ gegeben. \\\n",
    "Vielmehr ist es die Netto - Produktion, welche den tatsächlichen Wohlstand im Wonderland abbildet:\n",
    "\n",
    "# $\\bar{y}(y,z) = y - c(y,z) = y - \\phi (1 - z)^\\mu y$"
   ]
  },
  {
   "cell_type": "markdown",
   "metadata": {
    "slideshow": {
     "slide_type": "fragment"
    }
   },
   "source": [
    "Bei **unverschmutzter** Umwelt: \\\n",
    "    $(z=1) \\quad \\Rightarrow \\quad c = 0 \\quad \\Rightarrow \\quad \\bar{y} = y$ "
   ]
  },
  {
   "cell_type": "markdown",
   "metadata": {
    "slideshow": {
     "slide_type": "fragment"
    }
   },
   "source": [
    "Mit zunehmender **Umweltverschmutzung**: \\\n",
    "    $(z \\rightarrow 1) \\quad \\Rightarrow \\quad c = \\phi y = \\frac{y}{2} \\quad \\Rightarrow \\quad \\bar{y} = \\frac{y}{2}$"
   ]
  },
  {
   "cell_type": "markdown",
   "metadata": {
    "slideshow": {
     "slide_type": "fragment"
    }
   },
   "source": [
    "Der **Verlauf dazwischen** wird bestimmt durch $\\mu = 2$."
   ]
  },
  {
   "cell_type": "markdown",
   "metadata": {
    "slideshow": {
     "slide_type": "subslide"
    }
   },
   "source": [
    "Wir substrahieren einfach ```res``` (welches den Verlauf von $c$ beinhaltet)\n",
    "vom zugehörigen ```y``` und erhalten die Darstellung für $\\bar{y}$:"
   ]
  },
  {
   "cell_type": "code",
   "execution_count": null,
   "metadata": {
    "slideshow": {
     "slide_type": "fragment"
    }
   },
   "outputs": [],
   "source": [
    "res = [[y-r for r in rs] for y,rs in zip(ys,res)]\n",
    "plot_3D(zs,ys,res,('z','y','res'))"
   ]
  },
  {
   "cell_type": "markdown",
   "metadata": {
    "slideshow": {
     "slide_type": "slide"
    }
   },
   "source": [
    "## Population\n",
    "Die Einwohner Wonderlands wollen wir Wummis nennen. Die **Veränderung** ihrer Anzahl ist gegeben durch die **Differenz aus \\\n",
    "Geburten- ```b```** und **Sterberate ```d```:**\n",
    "\n",
    "# $\\frac{dx}{dt}=x(b(y,z)-d(y,z))$"
   ]
  },
  {
   "cell_type": "markdown",
   "metadata": {
    "slideshow": {
     "slide_type": "fragment"
    }
   },
   "source": [
    "Beide diese Raten sind **abhängig von Wirtschaftsleistung und Umweltzustand**."
   ]
  },
  {
   "cell_type": "markdown",
   "metadata": {
    "slideshow": {
     "slide_type": "fragment"
    }
   },
   "source": [
    "$b > d \\quad \\Rightarrow \\quad$ Population steigt \\\n",
    "$b < d \\quad \\Rightarrow \\quad$ Population stinkt"
   ]
  },
  {
   "cell_type": "markdown",
   "metadata": {
    "slideshow": {
     "slide_type": "subslide"
    }
   },
   "source": [
    "### Geburtenrate\n",
    "In die Formel zur Geburtenrate fließen **drei Parameter** ein: $\\beta$ (Beta), $\\beta_1$ (Beta eins) und $\\beta_2$ (Beta zwei). \\\n",
    "Außerdem hängt sie von der Nettoproduktion $\\bar{y}$ (y-Strich) ab:\n",
    "\n",
    "# $b(y,z) = \\beta_1 ( \\beta_2 - \\frac{e^{\\beta \\bar{y}}}{1+e^{\\beta \\bar{y}}} )$"
   ]
  },
  {
   "cell_type": "markdown",
   "metadata": {
    "slideshow": {
     "slide_type": "subslide"
    }
   },
   "source": [
    "Mit Parameterwerten lässt sich nun wieder das originale Verhalten analysieren: \n",
    "\n",
    "$b(y,z) = \\beta_1 ( \\beta_2 - \\frac{e^{\\beta \\bar{y}}}{1+e^{\\beta \\bar{y}}} )$ \n",
    "\n",
    "$\\beta_1 = 0.04$\n",
    "$\\beta_2 = 1.357$\n",
    "$\\beta = 0.16$\n",
    "\n",
    "*In dieser Definition tritt die **Exponential - Funktion** auf, wo finden wir diese in Python?*"
   ]
  },
  {
   "cell_type": "code",
   "execution_count": null,
   "metadata": {
    "slideshow": {
     "slide_type": "fragment"
    }
   },
   "outputs": [],
   "source": [
    "# Wir importieren die Exponential-Funktion aus dem math-Paket\n",
    "from math import exp\n",
    "\n",
    "# Kleine Erinnerung: Wie verhält sich die Exponential-Funktion?\n",
    "plt.plot([exp(0.16*y) for y in range(10)])"
   ]
  },
  {
   "cell_type": "markdown",
   "metadata": {
    "slideshow": {
     "slide_type": "subslide"
    }
   },
   "source": [
    "Wie verhält sich der Wert des **letzten Term**s der Geburtenrate \\\n",
    "abhängig von der Nettoproduktion?\n",
    "\n",
    "### $b(y,z) = \\beta_1 ( \\beta_2 - \\color{red}{\\frac{e^{\\beta \\bar{y}}}{1+e^{\\beta \\bar{y}}}})$ "
   ]
  },
  {
   "cell_type": "code",
   "execution_count": null,
   "metadata": {
    "slideshow": {
     "slide_type": "fragment"
    }
   },
   "outputs": [],
   "source": [
    "_b = lambda x: exp(0.16*x)\n",
    "\n",
    "plt.plot([_b(y) / (1+_b(y)) for y in range(50)])"
   ]
  },
  {
   "cell_type": "markdown",
   "metadata": {
    "slideshow": {
     "slide_type": "subslide"
    }
   },
   "source": [
    "Für diesen Term erstellen wir nun eine **Hilfsfunktion** welche die Nettoproduktion beinhält und als **Konstante** ```C``` einen Parameter übernimmt, sodass alle Parameter in der eigentlichen Funktion für die Geburtenrate enthalten sind."
   ]
  },
  {
   "cell_type": "code",
   "execution_count": null,
   "metadata": {
    "slideshow": {
     "slide_type": "fragment"
    }
   },
   "outputs": [],
   "source": [
    "_bd = lambda C,y,z: exp(C * (y-c(y,z))) / (1 + exp(C * (y-c(y,z))))"
   ]
  },
  {
   "cell_type": "markdown",
   "metadata": {
    "slideshow": {
     "slide_type": "fragment"
    }
   },
   "source": [
    "Die eigentliche Funktion der **Geburtenrate** lautet dann:"
   ]
  },
  {
   "cell_type": "code",
   "execution_count": null,
   "metadata": {
    "slideshow": {
     "slide_type": "subslide"
    }
   },
   "outputs": [],
   "source": [
    "b = lambda y,z: 0.04 * (1.357-_bd(0.16,y,z))"
   ]
  },
  {
   "cell_type": "markdown",
   "metadata": {
    "slideshow": {
     "slide_type": "subslide"
    }
   },
   "source": [
    "***Wie verhält sie sich*** *abhängig von der Wirtschaftsleistung $y$ und Umweltzustand $z$?*"
   ]
  },
  {
   "cell_type": "code",
   "execution_count": null,
   "metadata": {
    "slideshow": {
     "slide_type": "-"
    }
   },
   "outputs": [],
   "source": [
    "zs = [0.01*i for i in range(100)]\n",
    "ys = [i for i in range(100)]\n",
    "res = [[b(y,z) for y in ys] for z in zs]\n",
    "\n",
    "plot_3D(ys,zs,res,('y','z','res'))"
   ]
  },
  {
   "cell_type": "markdown",
   "metadata": {
    "slideshow": {
     "slide_type": "subslide"
    }
   },
   "source": [
    "**Drei Szenarien** mit unterschiedlicher, konstanter **Umweltverschmutzung**; \\\n",
    "**Vergleich:** Wie verhält sich die **Geburtenrate abhängig von der Wirtschaft** bei unterschiedlichen Umweltzuständen?"
   ]
  },
  {
   "cell_type": "code",
   "execution_count": null,
   "metadata": {
    "slideshow": {
     "slide_type": "-"
    }
   },
   "outputs": [],
   "source": [
    "plt.plot([b(y,0) for y in ys],color='darkblue')\n",
    "plt.plot([b(y,0.1) for y in ys], color='darkgreen')\n",
    "plt.plot([b(y,1) for y in ys],color='darkorange')"
   ]
  },
  {
   "cell_type": "markdown",
   "metadata": {
    "slideshow": {
     "slide_type": "subslide"
    }
   },
   "source": [
    "## Sterberate\n",
    "Die Formel zur Sterberate **gleicht** jener der **Geburtenrate**, es kommt jedoch **ein zusätzlicher Term** am Ende hinzu. \n",
    "\n",
    "Es fließen ganze **fünf Parameter** ein: $\\alpha$ (Alpha), $\\delta_1$ (Delta eins), $\\delta_2$ (Delta zwei), $\\delta_3$ (Delta drei) und $\\theta$ (Theta). \\\n",
    "Außerdem hängt sie von der Nettoproduktion $\\bar{y}$ (y-Strich) ab:\n",
    "# $d(y,z) = \\delta_1 ( \\delta_2 - \\frac{e^{\\alpha \\bar{y}}}{1+e^{\\alpha \\bar{y}}} ) (1+\\delta_3 (1-z)^\\theta)$"
   ]
  },
  {
   "cell_type": "markdown",
   "metadata": {
    "slideshow": {
     "slide_type": "subslide"
    }
   },
   "source": [
    "Wir können wieder Sandersons Parameter einsetzen um auch diese Gleichung genauer analysieren zu können:\n",
    "\n",
    "#### $d(y,z) = \\delta_1 ( \\delta_2 - \\frac{e^{\\alpha \\bar{y}}}{1+e^{\\alpha \\bar{y}}} ) (1+\\delta_3 (1-z)^\\theta)$\n",
    "$\\delta_1 = 0.01$\n",
    "$\\delta_2 = 2.5$\n",
    "$\\delta_3 = 4$\n",
    "$\\alpha = 0.18$\n",
    "$\\theta = 15$"
   ]
  },
  {
   "cell_type": "code",
   "execution_count": null,
   "metadata": {
    "slideshow": {
     "slide_type": "fragment"
    }
   },
   "outputs": [],
   "source": [
    "plt.plot([4 * (1-z)**15 for z in zs])"
   ]
  },
  {
   "cell_type": "markdown",
   "metadata": {
    "slideshow": {
     "slide_type": "-"
    }
   },
   "source": [
    "*Welchen Unterschied macht der zusätzliche Term (im Vergleich zur Geburtenrate)?*"
   ]
  },
  {
   "cell_type": "markdown",
   "metadata": {
    "slideshow": {
     "slide_type": "subslide"
    }
   },
   "source": [
    "Die eigentliche Funktion für die **Sterberate nutzt** wieder\n",
    "die ```_bd``` **Funktion** welche bei der Geburtenrate definiert wurde. \\\n",
    "Diesmal wird ihr statt des Parameters $\\beta$, **$\\alpha$ als**\n",
    "Wert für die **Konstante** ```C``` in ihrer Definition überreicht."
   ]
  },
  {
   "cell_type": "code",
   "execution_count": null,
   "metadata": {
    "slideshow": {
     "slide_type": "-"
    }
   },
   "outputs": [],
   "source": [
    "d = lambda y,z: 0.01 * (2.5-_bd(0.18,y,z)) \\\n",
    "  * (1 + 4 * (1-z)**15)\n",
    "\n",
    "# Welchen Wert nimmt die Sterberate bei verschiedenen y/z an?\n",
    "\n",
    "res = [[d(y,z) for z in zs] for y in ys]\n",
    "\n",
    "plot_3D(zs,ys,res,('z','y','res'))"
   ]
  },
  {
   "cell_type": "markdown",
   "metadata": {
    "slideshow": {
     "slide_type": "skip"
    }
   },
   "source": [
    "<div class=\"alert alert-block alert-info\">\n",
    "<h3>Tipp: Zeilenumbrüche in Python</h3>\n",
    "    \n",
    "Zu lange Zeilen Code werden schnell unübersichtlich. Es gilt als <br>\n",
    "gute Praxis eine maximale Anzahl von 80 bis 100 Zeichen einzuhalten. <br>\n",
    "Will man einen Zeilenumbruch einbauen, eignet sich <code>\\</code> wie zB: <br>\n",
    "<code>langer_text = \"Ich habe das starke \\\\\n",
    "Bedürfnis mich präzise auszudrücken.\"</code>\n",
    "<br><br>\n",
    "Man kann stattdessen aber auch einfach den Ausdruck in Klammern setzen. <br>\n",
    "Dann muss man aber die Strings einzeiln mit Anführungszeichen versehen: <br>\n",
    "<code>langer_text = (\n",
    "    \"Ich habe das starke\"\n",
    "    \"Bedürfnis mich präzise auszudrücken.\"\n",
    ")</code>\n",
    "<br><br>\n",
    "Will man hingegen mehrere Code - Zeilen in eine effektive Zeile packen, <br>\n",
    "benutzt man das Semikolon <code>;</code> zB: <br>\n",
    "<code>alpha = 0; beta = 1; theta = 3</code>\n",
    "</div>"
   ]
  },
  {
   "cell_type": "markdown",
   "metadata": {
    "slideshow": {
     "slide_type": "subslide"
    }
   },
   "source": [
    "Aus der 3D Darstellung wird **nicht deutlich**, wie das **Verhalten** bei unterschiedlichen Werten **für $y$** genau aussieht. \\\n",
    "Es lohnt sich daher ein **paar dieser Werte** festzusetzen und **genauer zu analysieren**:"
   ]
  },
  {
   "cell_type": "code",
   "execution_count": null,
   "metadata": {
    "slideshow": {
     "slide_type": "-"
    }
   },
   "outputs": [],
   "source": [
    "for y,col in zip([0,50],['red','blue']):\n",
    "    plt.plot([d(y,z) for z in zs],color=col)"
   ]
  },
  {
   "cell_type": "markdown",
   "metadata": {
    "slideshow": {
     "slide_type": "subslide"
    }
   },
   "source": [
    "### Vergleich Geburten- vs Sterberate\n",
    "## Geburtenrate: $b(y,z) = \\beta_1 ( \\beta_2 - \\frac{e^{\\beta \\bar{y}}}{1+e^{\\beta \\bar{y}}} )$\n",
    "## Sterberate: $d(y,z) = \\delta_1 ( \\delta_2 - \\frac{e^{\\alpha \\bar{y}}}{1+e^{\\alpha \\bar{y}}} ) (1+\\delta_3 (1-z)^\\theta)$\n",
    "\n",
    "Bei vollen Ressourcen $(z=1)$ sind die **Ausdrücke gleich** (mit unterschiedlichen Parametern). \\\n",
    "Mit steigender Umweltverschmutzung $(z \\rightarrow 0)$ ist die **Sterberate erhöht**."
   ]
  },
  {
   "cell_type": "markdown",
   "metadata": {
    "slideshow": {
     "slide_type": "subslide"
    }
   },
   "source": [
    "### Grafischer Vergleich\n",
    "\n",
    "Nachdem wir **beide**, auch in Python definiert haben können wir ihre **Verläufe grafisch vergleichen**."
   ]
  },
  {
   "cell_type": "markdown",
   "metadata": {
    "slideshow": {
     "slide_type": "notes"
    }
   },
   "source": [
    "Wir definieren eine **Funktion** ```rate```, welche eine **andere Funktion als Argument** ```r``` übernimmt. \\\n",
    "In der Funktion wenden wir dann diese übergebene Funktion auf verschiedene \\\n",
    "**Umweltzustände** $z$ von ```0.0``` bis ```1.0``` an. \\\n",
    "Das erste Argument, die **Wirtschaft** $y$, **bleibt konstant**."
   ]
  },
  {
   "cell_type": "markdown",
   "metadata": {
    "slideshow": {
     "slide_type": "notes"
    }
   },
   "source": [
    "Unserer neuen Funktion ```rate``` **überreichen wir** dann jeweils die **Geburten- bzw. \\\n",
    "Sterberate** als Argument ```r``` und sie berechnet diese Rate dann für die $z$-Werte."
   ]
  },
  {
   "cell_type": "code",
   "execution_count": null,
   "metadata": {
    "slideshow": {
     "slide_type": "-"
    }
   },
   "outputs": [],
   "source": [
    "rate = lambda r: [r(15,z) for z in zs]\n",
    "\n",
    "plt.plot(rate(b), label='Geburten')\n",
    "plt.plot(rate(d), label='Fatalitäten')\n",
    "plt.legend() # mit legend() aktivieren wir die Legende rechts oben"
   ]
  },
  {
   "cell_type": "markdown",
   "metadata": {
    "slideshow": {
     "slide_type": "subslide"
    }
   },
   "source": [
    "**Nun** kehren wir den Spieß um und halten $z$ **konstant** \n",
    "während wir $y$ **zwischen** ```0```  **und** ```100``` variieren."
   ]
  },
  {
   "cell_type": "code",
   "execution_count": null,
   "metadata": {
    "slideshow": {
     "slide_type": "-"
    }
   },
   "outputs": [],
   "source": [
    "rate = lambda r: [r(y,0) for y in ys]\n",
    "\n",
    "# Wieder lassen sich beide Raten schnell darstellen:\n",
    "plt.plot(rate(b), label='Geburten')\n",
    "plt.plot(rate(d), label='Fatalitäten')\n",
    "\n",
    "differenz = [bs-ds for bs,ds in zip(rate(b),rate(d))]\n",
    "\n",
    "plt.plot(differenz, label='Differenz')\n",
    "plt.legend()"
   ]
  },
  {
   "cell_type": "markdown",
   "metadata": {
    "slideshow": {
     "slide_type": "notes"
    }
   },
   "source": [
    "<div class=\"alert alert-block alert-info\">\n",
    "<h3>Tipp: 'zip' - der Python-Reißverschluss</h3>\n",
    "    \n",
    "Mit der <code>zip</code> - Funktion erstellen wir <strong>aus den zwei Listen</strong> der 'rate'-Funktionen <strong>eine</strong> gemeinsame Liste mit den Ergebnissen in Tupeln:\n",
    "\n",
    "<pre><code>zip([a,b],[c,d]) => [(a,b),(c,d)]</code></pre>\n",
    "Diese Liste kann folgend in der List-Comprehension entpackt und die Differenz der Ergebnisse gebildet werden.\n",
    "<br><br>\n",
    "<strong>Achtung</strong>: Ist eine der Listen kürzer, hört <code>zip</code> nach dieser auf und beendet die Liste.\n",
    "</div>"
   ]
  },
  {
   "cell_type": "markdown",
   "metadata": {
    "slideshow": {
     "slide_type": "slide"
    }
   },
   "source": [
    "# Wirtschaft\n",
    "Die **Änderung** der Produktion pro Kopf ist abhängig vom **Umweltzustand** und der **Wirtschaftsleistung selbst**. \\\n",
    "Außerdem wird sie durch **drei Parameter** bestimmt: $\\gamma$ (Gamma), $\\eta$ (Eta) und $\\lambda$ (Lambda).\n",
    "# $\\frac{dy}{dt}=y[\\gamma-(\\gamma+\\eta)(1-z)^{\\lambda}]$"
   ]
  },
  {
   "cell_type": "markdown",
   "metadata": {
    "slideshow": {
     "slide_type": "fragment"
    }
   },
   "source": [
    "Bei **unverschmutzter** Umwelt: \\\n",
    "    $(z=1)$ **steigt** die Produktion um den Faktor Gamma ($\\gamma$). "
   ]
  },
  {
   "cell_type": "markdown",
   "metadata": {
    "slideshow": {
     "slide_type": "fragment"
    }
   },
   "source": [
    "Mit zunehmender **Umweltverschmutzung**: \\\n",
    "    $(z \\rightarrow 1)$ **sinkt** sie um den Faktor Eta ($\\eta$)."
   ]
  },
  {
   "cell_type": "markdown",
   "metadata": {
    "slideshow": {
     "slide_type": "fragment"
    }
   },
   "source": [
    "Der **Verlauf dazwischen** wird bestimmt durch $\\lambda$."
   ]
  },
  {
   "cell_type": "markdown",
   "metadata": {
    "slideshow": {
     "slide_type": "subslide"
    }
   },
   "source": [
    "Einmal mehr setzen wir die **Parameter** wie sie **von Sanderson** benutzt wurden ein.\n",
    "\n",
    "## $\\frac{dy}{dt}=y[\\gamma-(\\gamma+\\eta)(1-z)^{\\lambda}]$\n",
    "$\\gamma = 0.02$\n",
    "$\\eta = 0.1$\n",
    "$\\lambda = 2$\n",
    "\n",
    "Und gehen zur grafischen Analyse über."
   ]
  },
  {
   "cell_type": "markdown",
   "metadata": {
    "slideshow": {
     "slide_type": "subslide"
    }
   },
   "source": [
    "*Wie Verhält sich der **vom Umweltzustand z abhängige Teil** der Änderung der Wirtschaft?*\n",
    "\n",
    "## $\\frac{dy}{dt}=y[0.02-(0.02+0.1)\\color{red}{(1-z)^{2}}]$"
   ]
  },
  {
   "cell_type": "code",
   "execution_count": null,
   "metadata": {
    "slideshow": {
     "slide_type": "-"
    }
   },
   "outputs": [],
   "source": [
    "_dy = lambda z: (1-z)**2\n",
    "plt.plot([_dy(z) for z in zs])"
   ]
  },
  {
   "cell_type": "markdown",
   "metadata": {
    "slideshow": {
     "slide_type": "subslide"
    }
   },
   "source": [
    "Die Funktion für die **Änderung der pro Kopf Produktion**. \\\n",
    "Für den letzten Term benutzen wir ```_dy``` aus der vorhergehenden\n",
    "Zelle!"
   ]
  },
  {
   "cell_type": "code",
   "execution_count": null,
   "metadata": {
    "scrolled": true,
    "slideshow": {
     "slide_type": "-"
    }
   },
   "outputs": [],
   "source": [
    "dy = lambda y,z: y*(0.02-(0.02+0.1)*_dy(z))"
   ]
  },
  {
   "cell_type": "markdown",
   "metadata": {
    "slideshow": {
     "slide_type": "fragment"
    }
   },
   "source": [
    "*Wie groß muss die Umweltverschmutzung $z$ sein, damit sich im Wonderland **kein Wirtschaftswachstum mehr** ergibt?*"
   ]
  },
  {
   "cell_type": "code",
   "execution_count": null,
   "metadata": {
    "slideshow": {
     "slide_type": "fragment"
    }
   },
   "outputs": [],
   "source": [
    "plt.plot([dy(1,z) for z in zs])\n",
    "plt.plot((0, 100),(0, 0), c = \"red\", lw = 2)"
   ]
  },
  {
   "cell_type": "markdown",
   "metadata": {
    "slideshow": {
     "slide_type": "slide"
    }
   },
   "source": [
    "# Umwelt\n",
    "Der Umweltzustand ist bisher **in jeder Gleichung einer Zustandsvariable** mit eingeflossen. \\\n",
    "Die Umwelt beeinflusst sich sogar selbst. Ihre **Wechselwirkung** mit den anderen Teilen des \\\n",
    "Wonderlands ist sehr komplex. \\\n",
    "Dementsprechend ist dieser Teil auch der **aufwändigste Teil** der Definition dieses Modells."
   ]
  },
  {
   "cell_type": "markdown",
   "metadata": {
    "slideshow": {
     "slide_type": "fragment"
    }
   },
   "source": [
    "Das soll uns aber nicht abschrecken. Wir erkunden nun Stück für Stück den **wahrscheinlich \\\n",
    "wichtigsten** Teil wenn es um **nachhaltige Entwicklung** geht."
   ]
  },
  {
   "cell_type": "markdown",
   "metadata": {
    "slideshow": {
     "slide_type": "subslide"
    }
   },
   "source": [
    "## Fluss an Umweltverschmutzungen\n",
    "Um den Einfluss der Wummis auf ihre Umwelt zu beziffern, nutzt Sanderson \\\n",
    "die sogenannte ***I-PAT - Identität***:\n",
    "\n",
    "$I = P \\times A \\times T$\n",
    "\n",
    "Wobei $I$ für den **Impakt** steht, welcher **abhängig von** der Population $P$, der Affluenz $A$ (= Wohlstand) und der Technologie $T$ ist."
   ]
  },
  {
   "cell_type": "markdown",
   "metadata": {
    "slideshow": {
     "slide_type": "fragment"
    }
   },
   "source": [
    "Im Modell sind das die Zustandsvariablen $x$, $y$ und $p$, welche den **ersten Term** der Gleichung für den Fluss ausmachen."
   ]
  },
  {
   "cell_type": "markdown",
   "metadata": {
    "slideshow": {
     "slide_type": "subslide"
    }
   },
   "source": [
    "Wie wir aber bereits wissen, lassen sich die Einwohner von Wonderland den **Schutz ihrer Umwelt** \\\n",
    "abhängig von deren Zustand durchaus etwas kosten. Dies wirkt sich in einer **Reduktion des Flusses** \\\n",
    "aus, welche im **zweiten Term** beschrieben wird."
   ]
  },
  {
   "cell_type": "markdown",
   "metadata": {
    "slideshow": {
     "slide_type": "fragment"
    }
   },
   "source": [
    "Hier bestimmen **zwei Parameter** den Einfluss dieser Ausgaben: $\\kappa$ (Kappa) und $\\epsilon$ (Epsilon).\n",
    "# $f(x,y,z,p)=pxy-\\kappa[\\frac{e^{\\epsilon c(y,z) x}}{1 + e^{\\epsilon c(y,z) x}}-0.5]$"
   ]
  },
  {
   "cell_type": "markdown",
   "metadata": {
    "slideshow": {
     "slide_type": "subslide"
    }
   },
   "source": [
    "Mit den Parameter aus Sandersons Definition können wir mit einer **Analyse** fortfahren.\n",
    "\n",
    "## $f(x,y,z,p)=pxy-\\kappa[\\frac{e^{\\epsilon c(y,z) x}}{1+e^{\\epsilon c(y,z) x}}-0.5]$\n",
    "\n",
    "$\\kappa = 2$\n",
    "$\\epsilon = 0.02$"
   ]
  },
  {
   "cell_type": "code",
   "execution_count": null,
   "metadata": {
    "slideshow": {
     "slide_type": "-"
    }
   },
   "outputs": [],
   "source": [
    "# Funktion für den Fluss an Umweltverschutzungen:\n",
    "f = lambda x,y,z,p: p*x*y - 2*(exp(0.02*c(y,z)*x) / (1+exp(0.02*c(y,z)*x)) - 0.5)"
   ]
  },
  {
   "cell_type": "markdown",
   "metadata": {
    "slideshow": {
     "slide_type": "fragment"
    }
   },
   "source": [
    "*Warum findet sich der Term $-0.5$ nach den Ausgaben für den Umweltschutz?* (Tipp: *Welche Werte nimmt der Bruch davor maximal/minimal an?*)"
   ]
  },
  {
   "cell_type": "markdown",
   "metadata": {
    "slideshow": {
     "slide_type": "subslide"
    }
   },
   "source": [
    "Je nach **Stand der Technologie**, ergibt sich eine **unterschiedliche\n",
    "Abhängigkeit** f's von Wirtschaft und Umweltzustand. \\\n",
    "Wir erstellen daher 6 Graphen um zu beurteilen, wie sich dieses\n",
    "Verhalten darstellt."
   ]
  },
  {
   "cell_type": "code",
   "execution_count": null,
   "metadata": {
    "scrolled": false,
    "slideshow": {
     "slide_type": "fragment"
    }
   },
   "outputs": [],
   "source": [
    "for p in (500,50,10,5,2.5,1,0):\n",
    "    res = [[f(1,y,z,p*0.001) for z in zs] for y in ys]\n",
    "\n",
    "    plt.figure(figsize=(7,7))\n",
    "    ax = plt.axes(projection='3d')\n",
    "\n",
    "    ax.contour3D(zs,ys,res,300)\n",
    "    ax.set_title('p: {}'.format(str(p*0.001)))\n",
    "    ax.set_xlabel('z')\n",
    "    ax.set_ylabel('y')\n",
    "    ax.set_zlabel('f');\n",
    "    #ax.set_zlim((0,1));"
   ]
  },
  {
   "cell_type": "markdown",
   "metadata": {
    "slideshow": {
     "slide_type": "notes"
    }
   },
   "source": [
    "### Man beachte die Werte welche sich für f ergeben!\n",
    "Bei $p = 0.5$ erreicht f bei einer Wirtschaftsleistung von $100$ Stück / Kopf einen Wert von $50$ ! \\\n",
    "Ist $p = 0.05$ sind es nur noch $5$, und bei $0.005$ wächst die **Abhängigkeit vom Umweltzustand** \\\n",
    "bereits stark an.\n",
    "\n",
    "Der Fluss **kann auch negativ werden**, wenn die Technologie weit fortgeschritten \\\n",
    "($\\rightarrow$ besonders geringer p-Wert) ist."
   ]
  },
  {
   "cell_type": "markdown",
   "metadata": {
    "slideshow": {
     "slide_type": "subslide"
    }
   },
   "source": [
    "## Umweltzustand\n",
    "\n",
    "**Drei Faktoren** sind in der Gleichung der Änderung des Umweltzustandes relevant:\n",
    "- Die **Abhängigkeit vom derzeitigen Zustand** der Umwelt ist sehr komplex.\n",
    "\n",
    "- Die Umwelt besitzt die **Fähigkeit sich selbst zu reinigen**. <br>\n",
    "  Dies wird durch die Funktion $g(z) = \\delta z^{\\rho}$ beschrieben.\n",
    "  \n",
    "- Sind Selbstreinigung und **Fluss an Umweltverschmutzungen** gleich, <br>\n",
    "  ergibt sich eine Änderung von $0$."
   ]
  },
  {
   "cell_type": "markdown",
   "metadata": {
    "slideshow": {
     "slide_type": "fragment"
    }
   },
   "source": [
    "# $\\frac{dz}{dt}=\\nu z(1-z)(e^{\\delta z^{\\rho}-\\omega f(x,y,z,p)}-1)$\n",
    "$\\nu = 1$\n",
    "$\\delta = 1$\n",
    "$\\rho = 2$\n",
    "$\\omega = 0.1$"
   ]
  },
  {
   "cell_type": "markdown",
   "metadata": {
    "slideshow": {
     "slide_type": "subslide"
    }
   },
   "source": [
    "```dz``` **nutzt** die vorherige **Definition des Flusses** an Umweltverschmutzungen ```f```.\n",
    "\n",
    "Welchen **Einfluss** haben Technologie $p$, Umweltzustand $z$ und Wirtschaftsleistung $y$ auf die Änderung des Umweltzustandes?"
   ]
  },
  {
   "cell_type": "code",
   "execution_count": null,
   "metadata": {
    "slideshow": {
     "slide_type": "-"
    }
   },
   "outputs": [],
   "source": [
    "dz = lambda x,y,z,p: z*(1-z)*(exp(z**2-0.1*f(x,y,z,p))-1)\n",
    "\n",
    "for p in [0.5,0.1,0.01,0]:\n",
    "    res = [[dz(1,y,z,p) for z in zs] for y in ys]\n",
    "    \n",
    "    plt.figure(figsize=(7,7))\n",
    "    ax = plt.axes(projection='3d')\n",
    "    ax.set_title('p: {}'.format(str(p)))\n",
    "    ax.contour3D(zs,ys,res,100)\n",
    "    ax.set_xlabel('z')\n",
    "    ax.set_ylabel('y');"
   ]
  },
  {
   "cell_type": "markdown",
   "metadata": {
    "slideshow": {
     "slide_type": "-"
    }
   },
   "source": [
    "*Wann verbessert sich der Umweltzustand?*\n",
    "*Wann verschlechtert er sich?*"
   ]
  },
  {
   "cell_type": "markdown",
   "metadata": {
    "slideshow": {
     "slide_type": "slide"
    }
   },
   "source": [
    "# Technologie\n",
    "\n",
    "In der Technologie finden wir die einzige **exogen**e Zustandsvariable des Wonderlands. \\\n",
    "Ihre **Änderung** ist gegeben durch:\n",
    "\n",
    "# $\\frac{dp}{dt}=-\\chi p$"
   ]
  },
  {
   "cell_type": "markdown",
   "metadata": {
    "slideshow": {
     "slide_type": "fragment"
    }
   },
   "source": [
    "Es gibt nur einen Parameter: $\\chi$ (Chi). \\\n",
    "Der Parameter Chi **bestimmt das Schicksal**\n",
    "unserer Wunderländer."
   ]
  },
  {
   "cell_type": "code",
   "execution_count": null,
   "metadata": {
    "slideshow": {
     "slide_type": "-"
    }
   },
   "outputs": [],
   "source": [
    "dp = lambda chi,p: - chi * p\n",
    "\n",
    "plt.plot([dp(0.04,t*0.01) for t in range(100)])\n",
    "plt.plot([dp(0.01,t*0.01) for t in range(100)])"
   ]
  },
  {
   "cell_type": "markdown",
   "metadata": {
    "slideshow": {
     "slide_type": "subslide"
    }
   },
   "source": [
    "Die **Differentialgleichung** für die Technologie **lässt sich leicht analytisch lösen**. \\\n",
    "Als **Startwert** benutzen wir, so wie Sanderson: $1$. Dies erleichtert auch die Interpretation.\n",
    "\n",
    "## $p(t) = p_0 * e^{-\\chi * t}$\n",
    "$p_0 = 1$ \n",
    "\n",
    "Wir können uns also schon jetzt das Verhalten der exogenen Zustandsvariable im **Lauf von 300 Jahren ansehen**:"
   ]
  },
  {
   "cell_type": "code",
   "execution_count": null,
   "metadata": {},
   "outputs": [],
   "source": [
    "p = lambda chi,t: exp(-chi*t)\n",
    "plt.plot([p(0.04,t) for t in range(300)], label=\"schnell\")\n",
    "plt.plot([p(0.01,t) for t in range(300)], label=\"langsam\")\n",
    "plt.legend()"
   ]
  },
  {
   "cell_type": "markdown",
   "metadata": {
    "slideshow": {
     "slide_type": "subslide"
    }
   },
   "source": [
    "## Betrachten wir noch einmal die Darstellungen zur Umwelt.\n",
    "+ *Kann die Technologie **so weit fortschreiten**, dass die Umwelt **keinen Schaden** mehr davonträgt?*\n",
    "    + **Wenn ja:** *Unter welchem Chi?*\n",
    "    + **Wenn nein:** *Gibt es ein Chi in welchem dies Eintritt?*"
   ]
  },
  {
   "cell_type": "markdown",
   "metadata": {
    "slideshow": {
     "slide_type": "slide"
    }
   },
   "source": [
    "# Schicksal des Wonderlands\n",
    "\n",
    "Wie ergeht es nun dem Wonderland in Sanderson's Paper? \n",
    "\n",
    "Wir importieren das Wonderland-Paket, welches wir später gemeinsam entwickeln werden:"
   ]
  },
  {
   "cell_type": "markdown",
   "metadata": {},
   "source": [
    "~~~python\n",
    "import wonderland as wl\n",
    "~~~"
   ]
  },
  {
   "cell_type": "markdown",
   "metadata": {
    "slideshow": {
     "slide_type": "subslide"
    }
   },
   "source": [
    "Zuerst das sogenannte **Economist's Dream Scenario**. Also der Traum der Ökonomen.\n",
    "\n",
    "+ ```x``` steht für die **Population** und ist blau dargestellt.\n",
    "+ ```z``` steht für die **Umwelt** und gelb.\n",
    "+ ```p``` stellt die Entwicklung der **Technologie** in grün dar.\n"
   ]
  },
  {
   "cell_type": "markdown",
   "metadata": {},
   "source": [
    "~~~python\n",
    "dream_scenario = wl.Scenario(wl.Wonderland(wl.dream_parameters))\n",
    "plt.plot([(x,z,p) for x,_,z,p in dream_scenario.ergebnis])\n",
    "~~~\n",
    "\n",
    "<img align=\"left\"\n",
    "src=\"data:image/png;base64,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\">"
   ]
  },
  {
   "cell_type": "markdown",
   "metadata": {
    "slideshow": {
     "slide_type": "-"
    }
   },
   "source": [
    "Wie man sieht, stabilisiert sich die Bevölkerungsentwicklung nach einem anfänglichen Wachstum und die Umweltkosten pro Produktionseinheit fallen nach 300 Jahren auf annähernd $0$.\n",
    "\n",
    "*Wie verhält sich nun die Wirtschaft wenn man den Zustand der restlichen Variablen nach 200 Jahren als konstant betrachtet?*"
   ]
  },
  {
   "cell_type": "markdown",
   "metadata": {
    "slideshow": {
     "slide_type": "subslide"
    }
   },
   "source": [
    "Im **Gegensatz** dazu steht das **Environmentalist's Nightmare Scenario** oder auch kurz **Horror Scenario** genannt. "
   ]
  },
  {
   "cell_type": "markdown",
   "metadata": {},
   "source": [
    "~~~python\n",
    "plt.plot([(x,z,p) for x,_,z,p in wl.Scenario(wl.Wonderland(wl.horror_parameters)).ergebnis])\n",
    "~~~\n",
    "\n",
    "<img align=\"left\" src=\"data:image/png;base64,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\">"
   ]
  },
  {
   "cell_type": "markdown",
   "metadata": {},
   "source": [
    "Nach 200 Jahren der **annähernd gleichen** Entwicklung, kommt es plötzlich zur Katastrophe. \n",
    "\n",
    "*Was war die Ursache dafür, dass es zur Katastrophe kam?* (Tipp: *Vergleiche die Graphen der Szenarien, es ändert sich nur ein Parameter!*)"
   ]
  },
  {
   "cell_type": "markdown",
   "metadata": {
    "slideshow": {
     "slide_type": "slide"
    }
   },
   "source": [
    "## Zusammenfassung\n",
    "+ Was ist Modellierung?\n",
    "+ Zweck des Wonderland - Modells\n",
    "+ Zustandsvariablen\n",
    "+ Szenarien im Wonderland"
   ]
  },
  {
   "cell_type": "markdown",
   "metadata": {
    "slideshow": {
     "slide_type": "slide"
    }
   },
   "source": [
    "<div class=\"alert alert-block alert-danger\">\n",
    "<h3>Übungsaufgabe: Die Fragen im Skript ausarbeiten!</h3>\n",
    "    \n",
    "Beantworte alle <i>kursiv geschriebenen</i> Fragen im Skript. Ein bis zwei ganze Sätze pro Frage reichen.\n",
    "<br><br>\n",
    "Hier alle Fragen zum Herauskopieren:\n",
    "<br><br>\n",
    "<ol>\n",
    "<li><i>Was ist der <strong>Zweck</strong> eines Modells?</i></li>\n",
    "<li><i>Wofür finden Modelle <strong>Verwendung</strong>?</i></li>\n",
    "<li><i>Welche <strong>Modelle</strong> gibt es zB?</i></li>\n",
    "<li><i>Welchen Einfluss hat der <strong>Parameter µ</strong>?</i></li>\n",
    "<li><i>Wie verhalten sich die Kosten für den Umweltschutz abhängig von Wirtschaftsleistung und Umweltzustand?</i></li>\n",
    "<lI><i>In dieser Definition tritt die <strong>Exponential - Funktion</strong> auf, wo finden wir diese in Python?</i></li>\n",
    "<li><strong><i>Wie verhält sie sich</i></strong> <i>abhängig von der Wirtschaftsleistung $y$ und Umweltzustand $z$?</i></li>\n",
    "<li><i>Welchen Unterschied macht der zusätzliche Term (im Vergleich zur Geburtenrate)?</i></li>\n",
    "<li><i>Wie Verhält sich der <strong>vom Umweltzustand z abhängige Teil</strong> der Änderung der Wirtschaft?</i></li>\n",
    "<li><i>Wie groß muss die Umweltverschmutzung $z$ sein, damit sich im Wonderland <strong>kein Wirtschaftswachstum mehr</strong> ergibt?</i></li>\n",
    "<li><i>Warum findet sich der Term $-0.5$ nach den Ausgaben für den Umweltschutz?</i> (Tipp: <i>Welche Werte nimmt der Bruch davor maximal/minimal an?</i>)</li>\n",
    "<li><i>Wann verbessert sich der Umweltzustand?</i></li>\n",
    "<li><i>Wann verschlechtert er sich?</i></li>\n",
    "<li><i>Kann die Technologie <strong>so weit fortschreiten</strong>, dass die Umwelt <strong>keinen Schaden</strong> mehr davonträgt?</i>\n",
    "    <ul>\n",
    "        <li><strong>Wenn ja:</strong> <i>Unter welchem Chi?</i></li>\n",
    "        <li><strong>Wenn nein:</strong> <i>Gibt es ein Chi in welchem dies Eintritt?</i></li>\n",
    "    </ul>\n",
    "</li>\n",
    "<li><i>Wie verhält sich nun die Wirtschaft wenn man den Zustand der restlichen Variablen nach 200 Jahren als konstant betrachtet?</i></li>\n",
    "<li><i>Was war die Ursache dafür, dass es zur Katastrophe kam?</i> (Tipp: <i>Vergleiche die Graphen der Szenarien, es ändert sich nur ein Parameter!</i>)</li>\n",
    "</ol>\n",
    "</div>"
   ]
  }
 ],
 "metadata": {
  "kernelspec": {
   "display_name": "Python 3",
   "language": "python",
   "name": "python3"
  },
  "language_info": {
   "codemirror_mode": {
    "name": "ipython",
    "version": 3
   },
   "file_extension": ".py",
   "mimetype": "text/x-python",
   "name": "python",
   "nbconvert_exporter": "python",
   "pygments_lexer": "ipython3",
   "version": "3.7.3"
  },
  "rise": {
   "enable_chalkboard": true,
   "scroll": true,
   "theme": "serif"
  }
 },
 "nbformat": 4,
 "nbformat_minor": 2
}
