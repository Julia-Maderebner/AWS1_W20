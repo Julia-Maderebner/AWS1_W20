{
 "cells": [
  {
   "cell_type": "markdown",
   "metadata": {
    "slideshow": {
     "slide_type": "slide"
    }
   },
   "source": [
    "# Sanderson's Wonderland in Python\n",
    "### Angewandte Systemwissenschaften I\n",
    "#### Python - Wonderland\n",
    "Einheit 3 / 10"
   ]
  },
  {
   "cell_type": "markdown",
   "metadata": {
    "slideshow": {
     "slide_type": "subslide"
    }
   },
   "source": [
    "# Semesterplan\n",
    "---\n",
    "0. Anaconda und Pip\n",
    "1. Einführung in Python\n",
    "2. Matplotlib: Eine Einführung ins Wonderland - Modell\n",
    "3. **Jupyter-Notebooks: Wonderland in Python**\n",
    "4. Funktionale Programmierung & Python-Module\n",
    "5. Python-Pakete und Workflow\n",
    "6. Objekt-orientierte Programmierung\n",
    "7. Agenten-basierte Modellierung\n",
    "8. Animationen zur Modellentwicklung\n",
    "9. Multiprocessing & Sensitivity Analysis\n",
    "10. Projektpräsentationen"
   ]
  },
  {
   "cell_type": "markdown",
   "metadata": {
    "slideshow": {
     "slide_type": "slide"
    }
   },
   "source": [
    "## Inhalt\n",
    "+ Diskretisierung allgemein\n",
    "+ Diskretisierung des Wonderland - Modells\n",
    "+ Wonderland in Python\n",
    "+ Erkundung unserer ersten Implementation"
   ]
  },
  {
   "cell_type": "markdown",
   "metadata": {
    "slideshow": {
     "slide_type": "slide"
    }
   },
   "source": [
    "## Jupyter\n",
    "Jupyter ist eine Anwendung welche sich besonders **gut zur Prototypisierung** und **Darstelung** von Code eignet. <br>\n",
    "Hier kann man schnell eine **Code - Basis schaffen** und **Daten** sowie **Ergebnisse analysieren**."
   ]
  },
  {
   "cell_type": "markdown",
   "metadata": {
    "slideshow": {
     "slide_type": "fragment"
    }
   },
   "source": [
    "Um ein **neues Projekt** in Jupyter zu erstellen geht man am besten **wie folgt** vor:\n",
    "\n",
    "+ Anaconda starten\n",
    "+ Richtiges Environment wählen, oder neues erstellen\n",
    "+ Jupyter starten\n",
    "+ Notebook anlegen"
   ]
  },
  {
   "cell_type": "markdown",
   "metadata": {
    "slideshow": {
     "slide_type": "slide"
    }
   },
   "source": [
    "## Vom Differentialgleichungssystem zum Computermodell\n",
    "+ Differentialgleichungen beschreiben die **Änderung** der Zustandsvariablen.\n",
    "    + Beschreiben in jedem Punkt die Ableitung ($\\rightarrow$ die **Tangente**) der Gleichung!"
   ]
  },
  {
   "cell_type": "markdown",
   "metadata": {
    "slideshow": {
     "slide_type": "fragment"
    }
   },
   "source": [
    "+ Wir brauchen also:\n",
    "    + Anfangsbedingungen\n",
    "    + Ein diskretisiertes Gleichungssystem"
   ]
  },
  {
   "cell_type": "markdown",
   "metadata": {
    "slideshow": {
     "slide_type": "slide"
    }
   },
   "source": [
    "## Anfangsbedingungen\n",
    "\n",
    "Die Anfangsbedingungen für die Zustandsvariablen in unserem Wonderland, <br>\n",
    "**entnehmen wir der Definition** von [Sanderson](http://pure.iiasa.ac.at/id/eprint/3613/):\n",
    "#  \n",
    "Population: $x(t_0) = x_0 = 1.0$ \n",
    "\n",
    "Wirtschaft: $y(t_0) = y_0 = 1.0$ \n",
    "\n",
    "Umweltzustand: $z(t_0) = z_0 = 0.98$ \n",
    "\n",
    "Technologie: $p(t_0) = p_0 = 1.0$"
   ]
  },
  {
   "cell_type": "markdown",
   "metadata": {
    "slideshow": {
     "slide_type": "slide"
    }
   },
   "source": [
    "## Diskretisiertes Gleichungssystem\n",
    "+ Mittels **explizitem Euler-Verfahren**\n",
    "    + Für unsere Anwendung **reicht** das Euler-Verfahren\n",
    "    + Genauere Alternativen sind: Das Heun-, das Runge-Kutta- und das Butcher-Verfahren\n",
    "    \n",
    "+ Wir benötigen:\n",
    "    + Schrittweite $h$\n",
    "    + Gekoppelte gewöhnliche Differentialgleichungen\n",
    "        + Also die Gleichungen des Wonderland-Modells aus Einheit 2"
   ]
  },
  {
   "cell_type": "markdown",
   "metadata": {
    "slideshow": {
     "slide_type": "slide"
    }
   },
   "source": [
    "## Explizites Euler-Verfahren"
   ]
  },
  {
   "cell_type": "markdown",
   "metadata": {
    "slideshow": {
     "slide_type": "fragment"
    }
   },
   "source": [
    "Um mit dem expliziten Euler-Verfahren zu beginnen, benötigen wir\n",
    "**diskrete Zeitschritte** $t_k$:\n",
    "\n",
    "## $t_k = t_0 + k * h$\n",
    "\n",
    "Dabei ist $h$ die **Schrittweite**. Je kleiner diese ist, desto genauer \n",
    "stimmt diese mit der kontinuierlichen Form überein. <br>\n",
    "Die Variable $k$ ist die **Schrittzahl**: $k \\in \\mathbb{N}$"
   ]
  },
  {
   "cell_type": "markdown",
   "metadata": {
    "slideshow": {
     "slide_type": "subslide"
    }
   },
   "source": [
    "**Bekannt** sind uns dabei bereits die betroffene **Differentialgleichung** und ihre **Startbedingungen**.\n",
    "\n",
    "## $\\frac{dy}{dt} = f(t,y)$\n",
    "### $y(t_0) = y_0$"
   ]
  },
  {
   "cell_type": "markdown",
   "metadata": {
    "slideshow": {
     "slide_type": "fragment"
    }
   },
   "source": [
    "Wir **suchen** eine Funktion $g$ welche uns verrät wie viel wir jeweils zum **vorherigen Wert** <br>\n",
    "der Zustandsvariable **addieren** müssen, um **zum nächsten Wert** zu gelangen.\n",
    "\n",
    "## $y_{k+1} = y_k + g(t_k, y_k)$"
   ]
  },
  {
   "cell_type": "markdown",
   "metadata": {
    "slideshow": {
     "slide_type": "fragment"
    }
   },
   "source": [
    "Diese Funktion $g(t_k,y_k)$ kann durch $h * f(t_k,y_k)$ **approximiert** werden.\n",
    "Wieder gilt, **je kleiner $h$ desto genauer** ist diese Näherung.\n",
    "\n",
    "Es ergibt sich also, dass die Zustandsvariable im nächsten Zeitschritt **gegeben ist durch**:\n",
    "\n",
    "## $y_{k+1} = y_k + h*f(t_k, y_k)$"
   ]
  },
  {
   "cell_type": "markdown",
   "metadata": {
    "slideshow": {
     "slide_type": "slide"
    }
   },
   "source": [
    "# Funktionen\n",
    "Dieses Verfahren wollen wir **nun auf** das Differentialgleichungssystem welches <br>\n",
    "das **Wonderland** - Modell bildet **anwenden**."
   ]
  },
  {
   "cell_type": "markdown",
   "metadata": {
    "slideshow": {
     "slide_type": "subslide"
    }
   },
   "source": [
    "## Technologie\n",
    "\n",
    "Wir starten mit der **einfachsten** der Gleichungen des Wonderlands,\n",
    "**der Technologie** $p$. <br>\n",
    "Ihre kontinuierliche Definition lautet: $\\frac{dp}{dt}=-\\chi p$ . Diese bildet also unser $f$.\n",
    "Den Startwert entnehmen wir Sandersons Publikation: $p_0 = 1$\n",
    "\n",
    "Wie lautet nun die diskrete Variante? <br>\n",
    "$p_{t+1} =$"
   ]
  },
  {
   "cell_type": "markdown",
   "metadata": {
    "slideshow": {
     "slide_type": "fragment"
    }
   },
   "source": [
    "Wir erinnern uns daran, dass die diskrete Formel $y_{k+1} = y_k + h * f(t_k,y_k)$ gelautet hat."
   ]
  },
  {
   "cell_type": "markdown",
   "metadata": {
    "slideshow": {
     "slide_type": "fragment"
    }
   },
   "source": [
    "Damit ergibt sich: <br>\n",
    "$p_{t+1} = p_t + h * \\frac{dp}{dt}$"
   ]
  },
  {
   "cell_type": "markdown",
   "metadata": {
    "slideshow": {
     "slide_type": "fragment"
    }
   },
   "source": [
    "Wir können $h=1$ wählen und gelangen so mit $\\frac{dp}{dt}=-\\chi p \\rightarrow f(p_t) = - \\chi p_t$ zu: <br>\n",
    "$p_{t+1} = p_t + 1 * -\\chi p_t$"
   ]
  },
  {
   "cell_type": "markdown",
   "metadata": {
    "slideshow": {
     "slide_type": "subslide"
    }
   },
   "source": [
    "Natürlich können wir die Multiplikation mit 1 einfach weglassen und vereinfachen: <br>\n",
    "$p_{t+1} = p_t -\\chi p_t$"
   ]
  },
  {
   "cell_type": "markdown",
   "metadata": {
    "slideshow": {
     "slide_type": "fragment"
    }
   },
   "source": [
    "Dann heben wir noch $p_t$ heraus und gelangen zu: <br>\n",
    "$p_{t+1} = p_t (1-\\chi)$\n",
    "\n",
    "Diese Gleichung wird nun die erste in unserem Jupyter - Notebook:"
   ]
  },
  {
   "cell_type": "code",
   "execution_count": 1,
   "metadata": {
    "slideshow": {
     "slide_type": "fragment"
    }
   },
   "outputs": [],
   "source": [
    "def technologie(p):\n",
    "    return p*(1.0-CHI)"
   ]
  },
  {
   "cell_type": "markdown",
   "metadata": {
    "slideshow": {
     "slide_type": "subslide"
    }
   },
   "source": [
    "## Wirtschaft\n",
    "Die kontinuierliche Definition für die **Änderung der Wirtschaft** lautet, wie **aus Teil 2** bekannt: <br>\n",
    " $\\frac{dy}{dt}=y[\\gamma-(\\gamma+\\eta)(1-z)^{\\lambda}]$"
   ]
  },
  {
   "cell_type": "markdown",
   "metadata": {
    "slideshow": {
     "slide_type": "fragment"
    }
   },
   "source": [
    "Somit lautet die diskrete Variante, nach dem gleichen Verfahren **wie schon zur Technologie**: <br>\n",
    " $y_{t+1}=y_t[1+\\gamma-(\\gamma+\\eta)(1-z_t)^{\\lambda}]$\n",
    " \n",
    " Man beachte, dass auch der referenzierte **Umweltzustand** nun aus dem **vorherigen Zeitschritt** entstammt.\n",
    " \n",
    " Dies ist wichtig wenn wir unsere Python - Funktion schreiben, <br>\n",
    " da diese nun **von zwei Zustandsvariablen abhängig** ist."
   ]
  },
  {
   "cell_type": "code",
   "execution_count": 2,
   "metadata": {
    "slideshow": {
     "slide_type": "fragment"
    }
   },
   "outputs": [],
   "source": [
    "def wirtschaft(y,z):\n",
    "    return y*(1.0+GAMMA-(GAMMA+ETA)*(1.0-z)**LAMBDA)"
   ]
  },
  {
   "cell_type": "markdown",
   "metadata": {
    "slideshow": {
     "slide_type": "subslide"
    }
   },
   "source": [
    "## Bevölkerung\n",
    "Für die Bevölkerung wird es nun noch **etwas schwieriger**. Nicht nur ist ihre **Änderung** \n",
    "von **zwei Zustandsvariablen abhängig**, <br>\n",
    "sondern ihre Definition stützt sich auf zwei **andere \n",
    "Funktionen**: Geburten- und Sterberate.\n",
    "\n",
    "$\\frac{dx}{dt}=x(b(y,z)-d(y,z))$"
   ]
  },
  {
   "cell_type": "markdown",
   "metadata": {
    "slideshow": {
     "slide_type": "fragment"
    }
   },
   "source": [
    "Bei der **Diskretisierung** können wir dennoch so fortfahren **wie schon zuvor** für Technologie \n",
    "und Wirtschaft:\n",
    "\n",
    "$x_{t+1}=x_t[1+(b(y,z)-d(y,z))]$\n",
    "\n",
    "Das können wir so auch schon **in unser Notebook** eintragen:"
   ]
  },
  {
   "cell_type": "code",
   "execution_count": 3,
   "metadata": {
    "slideshow": {
     "slide_type": "fragment"
    }
   },
   "outputs": [],
   "source": [
    "def population(x,y,z):\n",
    "    return x*(1.0+geburtenrate(y,z)-sterberate(y,z))"
   ]
  },
  {
   "cell_type": "markdown",
   "metadata": {
    "slideshow": {
     "slide_type": "fragment"
    }
   },
   "source": [
    "Doch wie sehen jetzt die **Änderungsraten** aus?"
   ]
  },
  {
   "cell_type": "markdown",
   "metadata": {
    "slideshow": {
     "slide_type": "subslide"
    }
   },
   "source": [
    "### Geburten- und Sterberate\n",
    "\n",
    "Wir erinnern uns an die Gleichungen zur Geburten- und Sterberate:\n",
    "\n",
    "$b(y,z) = \\beta_1 ( \\beta_2 - \\frac{e^{\\beta \\bar{y}}}{1+e^{\\beta \\bar{y}}} )$ \n",
    "\n",
    "$d(y,z) = \\delta_1 ( \\delta_2 - \\frac{e^{\\alpha \\bar{y}}}{1+e^{\\alpha \\bar{y}}} ) (1+\\delta_3 (1-z)^\\theta)$"
   ]
  },
  {
   "cell_type": "markdown",
   "metadata": {
    "slideshow": {
     "slide_type": "fragment"
    }
   },
   "source": [
    "#### Netto - Produktion\n",
    "\n",
    "Beide **Raten** hängen von der Netto - Produktion $\\bar{y}$ ab,\n",
    "diese wollen wir **zuerst** implementieren.\n",
    "\n",
    "$\\bar{y}(y,z) = y - c(y,z)$\n",
    "\n",
    "Dabei soll die **gesamte Exponentialfunktion** in den Brüchen in einer Funktion zusammengefasst werden. <br>\n",
    "Der einzige **Unterschied** zwischen den Raten ist dabei der Parameter mit welchem $\\bar{y}$ multipliziert wird."
   ]
  },
  {
   "cell_type": "code",
   "execution_count": 4,
   "metadata": {
    "slideshow": {
     "slide_type": "fragment"
    }
   },
   "outputs": [],
   "source": [
    "def y_strich(CONST,y,z):\n",
    "    return exp(CONST * (y - umweltschutz(y,z)))"
   ]
  },
  {
   "cell_type": "markdown",
   "metadata": {
    "slideshow": {
     "slide_type": "subslide"
    }
   },
   "source": [
    "Außerdem benötigen wir nun die **Exponentialfunktion** in Python:\n",
    "```from math import exp```"
   ]
  },
  {
   "cell_type": "markdown",
   "metadata": {
    "slideshow": {
     "slide_type": "subslide"
    }
   },
   "source": [
    "### Kosten des Umweltschutzes\n",
    "\n",
    "In ```y_strich``` besteht nun eine Abhängigkeit von der Funktion $c(y_t,z_t)$, <br>\n",
    "diese wollen wir als nächstes in unser Notebook einbauen:\n",
    "\n",
    "$c = \\phi * (1.0 -z)^\\mu * y$"
   ]
  },
  {
   "cell_type": "code",
   "execution_count": 5,
   "metadata": {
    "slideshow": {
     "slide_type": "fragment"
    }
   },
   "outputs": [],
   "source": [
    "def umweltschutz(y,z):\n",
    "    return PHI * (1.0-z)**MY * y"
   ]
  },
  {
   "cell_type": "markdown",
   "metadata": {
    "slideshow": {
     "slide_type": "subslide"
    }
   },
   "source": [
    "### Implementation der Geburten- und Sterberate:\n",
    "\n",
    "Nun sind auch die beiden Änderungsraten der Population **leicht in Python zu schreiben**.\n",
    "\n",
    "Wir nennen das Ergebnis der ```y_strich``` - Funktion mit **passendem Parameter** ```e```, <br>\n",
    "um die Zeile für den **Rückgabewert** leichter verständlich zu gestalten:"
   ]
  },
  {
   "cell_type": "code",
   "execution_count": 6,
   "metadata": {
    "slideshow": {
     "slide_type": "fragment"
    }
   },
   "outputs": [],
   "source": [
    "def geburtenrate(y,z):\n",
    "    e = y_strich(BETA,y,z)\n",
    "    return BETA1 * (BETA2 - e/(1.0+e))\n",
    "\n",
    "def sterberate(y,z):\n",
    "    e = y_strich(ALPHA,y,z)\n",
    "    return DELTA1 * (DELTA2 - e/(1.0+e)) * (1.0 + DELTA3 * (1.0-z)**THETA)"
   ]
  },
  {
   "cell_type": "markdown",
   "metadata": {
    "slideshow": {
     "slide_type": "slide"
    }
   },
   "source": [
    "## Umwelt\n",
    "\n",
    "Für die Diskretisierung der letzten Differentialgleichung haben wir uns \n",
    "eine **kleine Challenge** aufgehoben. <br> Die kontinuierliche Änderung des\n",
    "Umweltzustandes lautet:\n",
    "\n",
    "$\\frac{dz}{dt}=\\nu z(1-z)(e^{\\delta z^{\\rho}-\\omega f(x,y,z,p)}-1)$"
   ]
  },
  {
   "cell_type": "markdown",
   "metadata": {
    "slideshow": {
     "slide_type": "fragment"
    }
   },
   "source": [
    "Die diskrete Definition wird nun mit $z_{t+1} = z_t + h *\\frac{dz}{dt}$ zu:\n",
    "\n",
    "$z_{t+1} = z_t + \\nu (z_t-z_t^2)[e^{\\delta z_t^{\\rho}-\\omega f(x_t,y_t,z_t,p_t)}-1]$\n",
    "\n",
    "Und in Python:"
   ]
  },
  {
   "cell_type": "code",
   "execution_count": 7,
   "metadata": {
    "slideshow": {
     "slide_type": "fragment"
    }
   },
   "outputs": [],
   "source": [
    "def umwelt(x,y,z,p):\n",
    "    g = exp(DELTA*z**RHO - OMEGA*fluss_emissionen(x,y,z,p))\n",
    "    return z + NY * (z-z**2) * (g - 1.0)"
   ]
  },
  {
   "cell_type": "markdown",
   "metadata": {
    "slideshow": {
     "slide_type": "subslide"
    }
   },
   "source": [
    "### Fluss der Umweltverschmutzungen\n",
    "\n",
    "Uns fehlt nun noch der Teil $f(x,y,z,p)$ unserer Funktion.\n",
    "\n",
    "$f(x,y,z,p)=pxy-\\kappa[\\frac{e^{\\epsilon c(y,z) x}}{1 + e^{\\epsilon c(y,z) x}}-0.5]$\n",
    "\n",
    "Diese verwendet wieder eine Hilfsfunktion ```c_strich``` in ihrer Python - Version:"
   ]
  },
  {
   "cell_type": "code",
   "execution_count": 8,
   "metadata": {
    "slideshow": {
     "slide_type": "fragment"
    }
   },
   "outputs": [],
   "source": [
    "def fluss_emissionen(x,y,z,p):\n",
    "    c_strich = exp(EPSILON * umweltschutz(y,z) * x)\n",
    "    return x*y*p - KAPPA * (c_strich/(1.0+c_strich) - 0.5)"
   ]
  },
  {
   "cell_type": "markdown",
   "metadata": {
    "slideshow": {
     "slide_type": "slide"
    }
   },
   "source": [
    "## Parameter\n",
    "In unseren Funktionen haben wir eine ganze Reihe an Parametern genutzt, \n",
    "welche wir **soweit nicht definiert** haben.\n",
    "\n",
    "Diese entnehmen wir Milik et al. (1996) und definieren sie um den **Überblick** \n",
    "zu behalten für jeden **Teilbereich**:"
   ]
  },
  {
   "cell_type": "code",
   "execution_count": 9,
   "metadata": {
    "slideshow": {
     "slide_type": "fragment"
    }
   },
   "outputs": [],
   "source": [
    "# Geburtenrate\n",
    "BETA1 = 0.04; BETA2 = 1.375; BETA = 0.16"
   ]
  },
  {
   "cell_type": "code",
   "execution_count": 10,
   "metadata": {
    "slideshow": {
     "slide_type": "fragment"
    }
   },
   "outputs": [],
   "source": [
    "# Sterberate\n",
    "ALPHA = 0.18; DELTA1 = 0.01; DELTA2 = 2.5; DELTA3 = 4.0; THETA = 15.0"
   ]
  },
  {
   "cell_type": "code",
   "execution_count": 11,
   "metadata": {
    "slideshow": {
     "slide_type": "fragment"
    }
   },
   "outputs": [],
   "source": [
    "# Wirtschaft\n",
    "GAMMA = 0.02; ETA = 0.1; LAMBDA = 2.0"
   ]
  },
  {
   "cell_type": "code",
   "execution_count": 12,
   "metadata": {
    "slideshow": {
     "slide_type": "fragment"
    }
   },
   "outputs": [],
   "source": [
    "# Umwelt\n",
    "KAPPA = 2.0; EPSILON = 0.02; DELTA = 1.0; RHO = 2.0; OMEGA = 0.1; NY = 1.0"
   ]
  },
  {
   "cell_type": "code",
   "execution_count": 13,
   "metadata": {
    "slideshow": {
     "slide_type": "fragment"
    }
   },
   "outputs": [],
   "source": [
    "# Umweltschutz\n",
    "PHI = 0.5; MY = 2.0"
   ]
  },
  {
   "cell_type": "code",
   "execution_count": 14,
   "metadata": {
    "slideshow": {
     "slide_type": "fragment"
    }
   },
   "outputs": [],
   "source": [
    "# Technologie\n",
    "CHI = 0.04"
   ]
  },
  {
   "cell_type": "markdown",
   "metadata": {
    "slideshow": {
     "slide_type": "slide"
    }
   },
   "source": [
    "# Sammlung der Funktionen\n",
    "\n",
    "Wenn nun alle Funktionen richtig **im Jupyter - Notebook** eingegeben worden sind, \n",
    "sollte sich dort **folgender Code** finden:\n",
    "\n",
    "*Die Reihenfolge der Funktionen ist dabei nicht relevant.*"
   ]
  },
  {
   "cell_type": "code",
   "execution_count": 15,
   "metadata": {
    "slideshow": {
     "slide_type": "-"
    }
   },
   "outputs": [],
   "source": [
    "from math import exp\n",
    "\n",
    "def technologie(p):\n",
    "    return p*(1.0-CHI)\n",
    "\n",
    "def wirtschaft(y,z):\n",
    "    return y*(1.0+GAMMA-(GAMMA+ETA)*(1.0-z)**LAMBDA)\n",
    "\n",
    "def population(x,y,z):\n",
    "    return x*(1.0+geburtenrate(y,z)-sterberate(y,z))\n",
    "\n",
    "def geburtenrate(y,z):\n",
    "    e = y_strich(BETA,y,z)\n",
    "    return BETA1 * (BETA2 - e/(1.0+e))\n",
    "\n",
    "def sterberate(y,z):\n",
    "    e = y_strich(ALPHA,y,z)\n",
    "    return DELTA1 * (DELTA2 - e/(1.0+e)) * (1.0 + DELTA3 * (1.0-z)**THETA)\n",
    "\n",
    "def y_strich(CONST,y,z):\n",
    "    return exp(CONST * (y - umweltschutz(y,z)))\n",
    "\n",
    "def umwelt(x,y,z,p):\n",
    "    g = exp(DELTA*z**RHO - OMEGA*fluss_emissionen(x,y,z,p))\n",
    "    z = z + NY * (z-z**2) * (g - 1.0)\n",
    "    if z > 1:\n",
    "        z = 1.0\n",
    "\n",
    "def fluss_emissionen(x,y,z,p):\n",
    "    c_strich = exp(EPSILON * umweltschutz(y,z) * x)\n",
    "    return x*y*p - KAPPA * (c_strich/(1.0+c_strich) - 0.5)\n",
    "\n",
    "def umweltschutz(y,z):\n",
    "    return PHI * (1.0-z)**MY * y"
   ]
  },
  {
   "cell_type": "markdown",
   "metadata": {
    "slideshow": {
     "slide_type": "slide"
    }
   },
   "source": [
    "## Zustand\n",
    "Alle unsere Funktionen hängen vom Wert ihrer Zustandsvariable zum **vorherigen\n",
    "Zeitpunkt** ab.\n",
    "\n",
    "Dieses **Anfangswertproblem** können wir einfach lösen indem wir die Startwerte aus\n",
    "**Sanderson** (1992) übernehmen: <br>\n",
    "$x_0 = 1 , y_0 = 1 , z_0 = 0.98 , p_0 = 1$\n",
    "\n",
    "Somit schreiben wir **in Python**:"
   ]
  },
  {
   "cell_type": "code",
   "execution_count": 16,
   "metadata": {
    "slideshow": {
     "slide_type": "fragment"
    }
   },
   "outputs": [],
   "source": [
    "x_0 = y_0 = p_0 = 1.0\n",
    "z_0 = 0.98"
   ]
  },
  {
   "cell_type": "markdown",
   "metadata": {
    "slideshow": {
     "slide_type": "fragment"
    }
   },
   "source": [
    "Nun können wir endlich zur **Analyse** unseres diskretisierten Modells übergehen!"
   ]
  },
  {
   "cell_type": "markdown",
   "metadata": {
    "slideshow": {
     "slide_type": "slide"
    }
   },
   "source": [
    "# Analyse"
   ]
  },
  {
   "cell_type": "markdown",
   "metadata": {
    "slideshow": {
     "slide_type": "fragment"
    }
   },
   "source": [
    "Welcher **Python - Typ** eignet sich am besten **um die Ergebnisse** unserer Berechnungen **zu speichern** ?"
   ]
  },
  {
   "cell_type": "code",
   "execution_count": 17,
   "metadata": {
    "slideshow": {
     "slide_type": "fragment"
    }
   },
   "outputs": [],
   "source": [
    "ergebnis = [(x_0,y_0,z_0,p_0)]"
   ]
  },
  {
   "cell_type": "markdown",
   "metadata": {
    "slideshow": {
     "slide_type": "fragment"
    }
   },
   "source": [
    "Wie berechnen wir nun unsere **Simulation**? <br>\n",
    "Wir wollen uns den **Verlauf** des Schicksals von Wonderland **über 300 Jahre** ansehen."
   ]
  },
  {
   "cell_type": "code",
   "execution_count": 18,
   "metadata": {
    "slideshow": {
     "slide_type": "fragment"
    }
   },
   "outputs": [],
   "source": [
    "def simulation(jahre=300):\n",
    "    ergebnis = [(x_0,y_0,z_0,p_0)]\n",
    "    for jahr in range(1,jahre):\n",
    "        x, y, z, p = ergebnis[jahr-1]\n",
    "        x_neu = population(x,y,z)\n",
    "        y_neu = wirtschaft(y,z)\n",
    "        z_neu = umwelt(x,y,z,p)\n",
    "        p_neu = technologie(p)\n",
    "        ergebnis.append((x_neu, y_neu, z_neu, p_neu))\n",
    "    return ergebnis"
   ]
  },
  {
   "cell_type": "markdown",
   "metadata": {
    "slideshow": {
     "slide_type": "subslide"
    }
   },
   "source": [
    "**Grafisch** können wir unser Ergebnis nun wieder mit dem **Paket** ```matplotlib``` betrachten. <br>\n",
    "Mittels des **Modul**s ```pyplot``` welches wir mit dem Namen ```plt``` **import**ieren erstellen wir <br>\n",
    "einen Graphen unserer **Zustandsvariablen**.\n",
    "\n",
    "Dabei hilft uns die **Funktion** ```plot``` welche in diesem Modul definiert ist."
   ]
  },
  {
   "cell_type": "code",
   "execution_count": 19,
   "metadata": {
    "slideshow": {
     "slide_type": "-"
    }
   },
   "outputs": [],
   "source": [
    "import matplotlib.pyplot as plt\n",
    "%matplotlib inline"
   ]
  },
  {
   "cell_type": "code",
   "execution_count": 20,
   "metadata": {
    "slideshow": {
     "slide_type": "fragment"
    }
   },
   "outputs": [
    {
     "data": {
      "text/plain": [
       "[<matplotlib.lines.Line2D at 0x221712d9390>,\n",
       " <matplotlib.lines.Line2D at 0x221712d94e0>,\n",
       " <matplotlib.lines.Line2D at 0x221712d9630>,\n",
       " <matplotlib.lines.Line2D at 0x221712d9780>]"
      ]
     },
     "execution_count": 20,
     "metadata": {},
     "output_type": "execute_result"
    },
    {
     "data": {
      "image/png": "[encoded data removed]",
      "text/plain": [
       "<Figure size 432x288 with 1 Axes>"
      ]
     },
     "metadata": {
      "needs_background": "light"
     },
     "output_type": "display_data"
    }
   ],
   "source": [
    "plt.plot(simulation())"
   ]
  },
  {
   "cell_type": "markdown",
   "metadata": {
    "slideshow": {
     "slide_type": "subslide"
    }
   },
   "source": [
    "Der **Wirtschaft** scheint es ausgezeichnet zu gehen, sie schießt förmlich **exponentiell** in die Höhe. <br>\n",
    "Damit **verdeckt** sie leider auch das Verhalten unserer anderen Zustandsvariablen."
   ]
  },
  {
   "cell_type": "markdown",
   "metadata": {
    "slideshow": {
     "slide_type": "fragment"
    }
   },
   "source": [
    "Vorerst wollen wir sie daher einfach auslassen um den Verlauf der **anderen\n",
    "analysieren** zu können.\n",
    "\n",
    "**Wie** verfahren wir, wenn wir eine der Variablen in ```simulation()``` **nicht\n",
    "darstellen** lassen wollen?"
   ]
  },
  {
   "cell_type": "code",
   "execution_count": 21,
   "metadata": {
    "slideshow": {
     "slide_type": "subslide"
    }
   },
   "outputs": [
    {
     "data": {
      "text/plain": [
       "[<matplotlib.lines.Line2D at 0x2217139beb8>,\n",
       " <matplotlib.lines.Line2D at 0x221713a8080>,\n",
       " <matplotlib.lines.Line2D at 0x221713a81d0>]"
      ]
     },
     "execution_count": 21,
     "metadata": {},
     "output_type": "execute_result"
    },
    {
     "data": {
      "image/png": "[encoded data removed]",
      "text/plain": [
       "<Figure size 432x288 with 1 Axes>"
      ]
     },
     "metadata": {
      "needs_background": "light"
     },
     "output_type": "display_data"
    }
   ],
   "source": [
    "plt.plot([(x,z,p) for x,_,z,p in simulation()])"
   ]
  },
  {
   "cell_type": "markdown",
   "metadata": {
    "slideshow": {
     "slide_type": "subslide"
    }
   },
   "source": [
    "### Krise im Wonderland\n",
    "\n",
    "Wie wir aus der letzten Einheit wissen reicht eine **geringfügig langsamere Entwicklung** der Technologie, <br>\n",
    "um das Wonderland in die **Umwelt - Krise** stürzen zu lassen.\n",
    "\n",
    "Wir ändern also den **kritischen Paramter** $\\chi$ (Chi) von 0.04 auf einen Wert jenseits des **kritischen Übergangs** von 0.01."
   ]
  },
  {
   "cell_type": "code",
   "execution_count": 22,
   "metadata": {
    "slideshow": {
     "slide_type": "-"
    }
   },
   "outputs": [],
   "source": [
    "CHI = 0.01"
   ]
  },
  {
   "cell_type": "code",
   "execution_count": 23,
   "metadata": {
    "slideshow": {
     "slide_type": "fragment"
    }
   },
   "outputs": [
    {
     "data": {
      "text/plain": [
       "[<matplotlib.lines.Line2D at 0x2217141c7f0>,\n",
       " <matplotlib.lines.Line2D at 0x2217141c978>,\n",
       " <matplotlib.lines.Line2D at 0x2217141cac8>]"
      ]
     },
     "execution_count": 23,
     "metadata": {},
     "output_type": "execute_result"
    },
    {
     "data": {
      "image/png": "[encoded data removed]",
      "text/plain": [
       "<Figure size 432x288 with 1 Axes>"
      ]
     },
     "metadata": {
      "needs_background": "light"
     },
     "output_type": "display_data"
    }
   ],
   "source": [
    "plt.plot([(x,z,p) for x,_,z,p in simulation()])"
   ]
  },
  {
   "cell_type": "markdown",
   "metadata": {
    "slideshow": {
     "slide_type": "slide"
    }
   },
   "source": [
    "### Warum bleibt unser Wonderland stabil?\n",
    "\n",
    "Betrachten wir die Verläufe von **Technologie, Wirtschaft und Population**, \n",
    "zeigen diese deutliche Dynamik."
   ]
  },
  {
   "cell_type": "markdown",
   "metadata": {
    "slideshow": {
     "slide_type": "fragment"
    }
   },
   "source": [
    "Beim **Umwelt**zustand scheint allerdings **keine all zu große Dynamik** oder Veränderung \n",
    "stattgefunden haben. <br> Die Vermutung liegt nahe, dass hier die **Wurzel unseres Problems**\n",
    "zu liegen kommt."
   ]
  },
  {
   "cell_type": "markdown",
   "metadata": {
    "slideshow": {
     "slide_type": "subslide"
    }
   },
   "source": [
    "\n",
    "Das liegt an der **Ungenauigkeit** welche wir durch unsere **Diskretisierung** und dadurch, <br>\n",
    "dass **Python** nur eine gewisse **Anzahl an Bits** im Speicher zur Verfügung hat, einführen."
   ]
  },
  {
   "cell_type": "markdown",
   "metadata": {
    "slideshow": {
     "slide_type": "fragment"
    }
   },
   "source": [
    "Häufig ist Pythonistas **nicht bewusst**, dass der Computer intern ihre Eingabe nur **approximiert**. <br>\n",
    "Das liegt auch an der **Darstellung** welche in Wirklichkeit nur eine **gerundete** Zahl zeigt."
   ]
  },
  {
   "cell_type": "markdown",
   "metadata": {
    "slideshow": {
     "slide_type": "fragment"
    }
   },
   "source": [
    "Auf den meisten Computern würde eine Ausgabe des **tatsächlichen Werts** von ```0.1``` in Python <br>\n",
    "in etwa so aussehen:\n",
    "\n",
    "~~~python\n",
    ">>> 0.1\n",
    "0.1000000000000000055511151231257827021181583404541015625\n",
    "~~~"
   ]
  },
  {
   "cell_type": "markdown",
   "metadata": {
    "slideshow": {
     "slide_type": "subslide"
    }
   },
   "source": [
    "**Rundungsfehler** können sich im Programm **fortsetzen** und somit das gesamte **Ergebnis verfälschen**.\n",
    "\n",
    "Wir können allerdings unsere **Gleichung** für die Umwelt so **umformen**, dass wir diese **Dynamik nicht verlieren**!"
   ]
  },
  {
   "cell_type": "code",
   "execution_count": 24,
   "metadata": {
    "slideshow": {
     "slide_type": "fragment"
    }
   },
   "outputs": [],
   "source": [
    "import wonderland as wl\n",
    "umwelt = wl.Wonderland(wl.parameters.horror_parameters).umwelt"
   ]
  },
  {
   "cell_type": "code",
   "execution_count": 25,
   "metadata": {
    "slideshow": {
     "slide_type": "fragment"
    }
   },
   "outputs": [
    {
     "data": {
      "text/plain": [
       "[<matplotlib.lines.Line2D at 0x221714ed240>,\n",
       " <matplotlib.lines.Line2D at 0x221714ed390>,\n",
       " <matplotlib.lines.Line2D at 0x221714ed4e0>]"
      ]
     },
     "execution_count": 25,
     "metadata": {},
     "output_type": "execute_result"
    },
    {
     "data": {
      "image/png": "[encoded data removed]",
      "text/plain": [
       "<Figure size 432x288 with 1 Axes>"
      ]
     },
     "metadata": {
      "needs_background": "light"
     },
     "output_type": "display_data"
    }
   ],
   "source": [
    "plt.plot([(x,z,p) for x,_,z,p in simulation()])"
   ]
  },
  {
   "cell_type": "markdown",
   "metadata": {
    "slideshow": {
     "slide_type": "slide"
    }
   },
   "source": [
    "<div class=\"alert alert-block alert-danger\">\n",
    "<h3>Übungsaufgabe: Finde zumindest eine umgeformte Variante für die Umwelt-Funktion,<br>\n",
    "    mit welcher sich bei CHI = 0.01 die Umwelt dynamisch verhält.</h3>\n",
    "    \n",
    "Die Gleichung für den Umweltzustand $z$ so wie wir sie derzeit hier definiert hatten lautet:<br>\n",
    "$z_{t+1} = z_t + \\nu (z_t-z_t^2)[e^{\\delta z_t^{\\rho}-\\omega f(x_t,y_t,z_t,p_t)}-1]$\n",
    "\n",
    "<h4>Beziehungsweise in Python:</h4>\n",
    "\n",
    "<pre><code class=\"python\">def umwelt(x,y,z,p):\n",
    "    g = exp(DELTA*z**RHO - OMEGA*fluss_emissionen(x,y,z,p))\n",
    "    return z + NY * (z-z**2) * (g - 1.0)\n",
    "</code></pre>\n",
    "\n",
    "Mit einer <strong>mathematischen Umformung</strong> von $z_{t+1}$ bzw. der <strong>letzten Zeile</strong> dieses Codes lässt sich das <strong>dynamische Ergebnis</strong> erreichen.\n",
    "\n",
    "<h4>Tipps:</h4>\n",
    "<i>Binome: $\\quad (a-b) * (c-d) = a*c - b*c - a*d + b*d$</i>\n",
    "<br><br>\n",
    "<i>Herausheben: $\\quad (a^2+2*a) = a * (a+2)$</i>\n",
    "<br><br>\n",
    "<i>Die Exponentialfunktion braucht <strong>nicht umgeformt</strong> werden!</i>\n",
    "\n",
    "<h3>Pro Form 2 Punkte! Einen für den Code, einen für den mathematischen Ausdruck.</h3>\n",
    "</div>"
   ]
  }
 ],
 "metadata": {
  "celltoolbar": "Slideshow",
  "kernelspec": {
   "display_name": "Python 3",
   "language": "python",
   "name": "python3"
  },
  "language_info": {
   "codemirror_mode": {
    "name": "ipython",
    "version": 3
   },
   "file_extension": ".py",
   "mimetype": "text/x-python",
   "name": "python",
   "nbconvert_exporter": "python",
   "pygments_lexer": "ipython3",
   "version": "3.7.7"
  },
  "rise": {
   "enable_chalkboard": true,
   "scroll": true,
   "theme": "serif"
  }
 },
 "nbformat": 4,
 "nbformat_minor": 2
}
