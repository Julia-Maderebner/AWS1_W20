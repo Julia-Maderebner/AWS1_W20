{
 "cells": [
  {
   "cell_type": "markdown",
   "metadata": {
    "colab_type": "text",
    "id": "0VPtNM1lV6t_",
    "slideshow": {
     "slide_type": "skip"
    }
   },
   "source": [
    "## Anaconda\n",
    "\n",
    "In Anaconda findet sich eine **Sammlung von Programmen und Bibliotheken** für das Arbeiten mit Datensätzen (Data Science), sei das in Python, der statistischen Programmiersprache R oder anderen.\n",
    "\n",
    "+ **NumPy, Pandas, matplotlib, SciPy** und viele andere Bibliotheken befinden sich in Anacondas Standard-Umgebung.\n",
    "\n",
    "\n",
    "+ Die IPython **QT Console** eignet sich für Tests kleiner Code-Fragmente.\n",
    "\n",
    "\n",
    "+ **Jupyter Notebooks** eignen sich hervorragend für  kleinere Projekte und das Arbeiten mit Datensätzen.\n",
    "\n",
    "\n",
    "+ Mit **Spyder** steht auch eine Matlab-ähnliche Programmierumgebung für größere Projekte zur Verfügung.\n",
    "\n",
    "\n",
    "+ Wer einfach ```python``` und einen Editor gemeinsam verwenden will, ist mit **Visual Studio Code** gut beraten."
   ]
  },
  {
   "cell_type": "markdown",
   "metadata": {
    "colab_type": "text",
    "id": "z9Q2C3peV6t5",
    "slideshow": {
     "slide_type": "slide"
    }
   },
   "source": [
    "# Python 101\n",
    "### Angewandte Systemwissenschaften II \n",
    "#### Python - Wonderland\n",
    "Einheit 1 / 10"
   ]
  },
  {
   "cell_type": "markdown",
   "metadata": {
    "colab_type": "text",
    "id": "1616C0BBV6t5",
    "slideshow": {
     "slide_type": "subslide"
    }
   },
   "source": [
    "# Semesterplan\n",
    "---\n",
    "0. Anaconda und Pip\n",
    "1. **Einführung in Python (Wiederholung der Comp. Basics VO Inhalte)**\n",
    "2. Matplotlib: Eine Einführung ins Wonderland - Modell\n",
    "3. Jupyter-Notebooks: Wonderland in Python\n",
    "4. Funktionale Programmierung & Python-Module\n",
    "5. Python-Pakete und Workflow\n",
    "6. Agenten-basierte Modellierung\n",
    "7. Objekt-orientierte Programmierung \n",
    "8. Animationen zur Modellentwicklung\n",
    "9. Multiprocessing & Sensitivity Analysis\n",
    "10. Projektpräsentationen"
   ]
  },
  {
   "cell_type": "markdown",
   "metadata": {
    "colab_type": "text",
    "id": "0yYp4GV6V6t6"
   },
   "source": [
    "## Inhalt\n",
    "+ Programmiergrundlagen\n",
    "+ Python-Einleitung\n",
    "+ Typen\n",
    "+ Kollektionen\n",
    "+ Funktionen\n",
    "+ If-Abfragen\n",
    "+ Rekursion\n",
    "+ Schleifen\n",
    "+ Comprehensions"
   ]
  },
  {
   "cell_type": "markdown",
   "metadata": {
    "colab_type": "text",
    "id": "nCNBTaYSV6t7"
   },
   "source": [
    "## Warum brauchen wir Programmiersprachen?"
   ]
  },
  {
   "cell_type": "markdown",
   "metadata": {
    "colab_type": "text",
    "id": "9-8-6miAV6t8"
   },
   "source": [
    "+ Computer 'verstehen' nur binären Code, also 0-er & 1-er \\\n",
    "  Der Befehlscode ```1 0 0 0 0 s s s``` sagt zB dem Intel 8008 Prozessor, \\\n",
    "  dass er die binäre Zahl ```s s s``` zum Wert in seinem Register addieren soll.\n",
    "  "
   ]
  },
  {
   "cell_type": "markdown",
   "metadata": {
    "colab_type": "text",
    "id": "DVcnt8z2V6t9"
   },
   "source": [
    "+ Ein **Assembler** kann uns für diese Computersprache ein anderes Vokabular geben: \\\n",
    "  ```ADD s``` wird vom Intel 8008 Assembler zu ```1 0 0 0 0 s s s``` übersetzt. \\\n",
    "  ```ADD 3``` wird also zu ```1 0 0 0 0 0 1 1``` und addiert 3 zum Wert im Register. "
   ]
  },
  {
   "cell_type": "markdown",
   "metadata": {
    "colab_type": "text",
    "id": "N_HfB6a4V6t9"
   },
   "source": [
    "+ Ein **Compiler** kann von einer Sprache wie zB C oder C++ in die binäre Sprache übersetzen. \\\n",
    "  Man nennt diesen Vorgang **kompilieren**. \\\n",
    "  Der Compiler tausch also nicht nur einfach die Vokabeln aus, sondern übersetzt auch \\\n",
    "  grammatikalische Unterschiede. Die sogenannte Syntax. \\\n",
    "  \\\n",
    "  Das Ergebnis ist dann eine **Binärdatei**. Auf Windows ist eine ausführbare Binärdatei zB ```Internet Explorer.exe```"
   ]
  },
  {
   "cell_type": "markdown",
   "metadata": {
    "colab_type": "text",
    "id": "uh0WUJjIV6t-"
   },
   "source": [
    "+ Ein **Interpreter** übersetzt nicht mehr ein ganzes Programm, sondern interpretiert Zeile für Zeile. \\\n",
    "  Dies abstrahiert noch etwas mehr vom eigentlichen, binären Computercode. \\\n",
    "  **Python** wird oft als interpretierte Sprache bezeichnet. Das Program ```python``` ist der zugehörige Interpreter."
   ]
  },
  {
   "cell_type": "markdown",
   "metadata": {
    "colab_type": "text",
    "id": "rXvDZK4bV6uA"
   },
   "source": [
    "## Python-Einleitung\n",
    "\n",
    "Den Python-Interpreter startet man mit dem Konsolenbefehl ```python```. \\\n",
    "Um Anaconda's Python zu benutzen, öffnet man die Anaconda-Shell:"
   ]
  },
  {
   "cell_type": "markdown",
   "metadata": {},
   "source": [
    "+ Windows: ```[Win]```-Taste drücken und dann \"Anaconda\" eingeben und die \"Anaconda Powershell\" auswählen."
   ]
  },
  {
   "cell_type": "markdown",
   "metadata": {},
   "source": [
    "+ macOS: In der Spotlight-Suche (Tastaturbefehl: ```[CMD] + [Leer]```) \"Terminal\" eingeben und auswählen."
   ]
  },
  {
   "cell_type": "markdown",
   "metadata": {},
   "source": [
    "+ Linux: Den Terminal öffnen."
   ]
  },
  {
   "cell_type": "markdown",
   "metadata": {},
   "source": [
    "Die Kommandozeile sollte nun mit ```(base)``` beginnen."
   ]
  },
  {
   "cell_type": "markdown",
   "metadata": {},
   "source": [
    "<div class=\"alert alert-block alert-info\">\n",
    "<h3>Tipp: Anaconda initialisieren</h3>\n",
    "<p>\n",
    "    Du möchtest die <code>conda</code>-Befehle auch in der normalen Powershell oder einer anderen Shell benutzen können? <br>\n",
    "    <code>conda activate</code> funktioniert nicht, weil Anaconda nicht initialisiert ist? <br>\n",
    "    <br>\n",
    "    Mit <code>conda init</code> kannst du die Anaconda initialisieren. Für die Powershell lautet der Befehl dann zB <code>conda init powershell</code>.\n",
    "    </p>\n",
    "    <p>\n",
    "    <b>Achtung:</b> Oft benötigt dieser Befehl Administratorrechte!\n",
    "    </p>\n",
    "</div>"
   ]
  },
  {
   "cell_type": "markdown",
   "metadata": {
    "colab_type": "text",
    "id": "1h0j3fpHV6uA"
   },
   "source": [
    "Python kann man benutzen wie einen **Taschenrechner**,\n",
    "einfach mir einfachen Grundrechenarten ausprobieren:"
   ]
  },
  {
   "cell_type": "code",
   "execution_count": 1,
   "metadata": {
    "colab": {
     "base_uri": "https://localhost:8080/",
     "height": 34
    },
    "colab_type": "code",
    "executionInfo": {
     "elapsed": 775,
     "status": "ok",
     "timestamp": 1570621615205,
     "user": {
      "displayName": "Simon Pi",
      "photoUrl": "https://lh3.googleusercontent.com/a-/AAuE7mDuZdwBZoQryBTqBNUgN91JKtM0IKNciPP1UIkstCk=s64",
      "userId": "10986297225409594266"
     },
     "user_tz": -120
    },
    "id": "cff2915VV6uB",
    "outputId": "f4125d55-ae13-4139-d3da-d7a2003028d4"
   },
   "outputs": [
    {
     "data": {
      "text/plain": [
       "7"
      ]
     },
     "execution_count": 1,
     "metadata": {
      "tags": []
     },
     "output_type": "execute_result"
    }
   ],
   "source": [
    "1+6"
   ]
  },
  {
   "cell_type": "markdown",
   "metadata": {
    "colab_type": "text",
    "id": "gBUlyr02V6uE"
   },
   "source": [
    "**Kommentare** werden vom Python Interpreter einfach ignoriert. Sie beginnen mit einem ```#```:"
   ]
  },
  {
   "cell_type": "code",
   "execution_count": 0,
   "metadata": {
    "colab": {},
    "colab_type": "code",
    "id": "FpIRtyrTV6uF"
   },
   "outputs": [],
   "source": [
    "# Kommentare beginnen mit einer Raute (Hashtag): #\n",
    "'''\n",
    "Blockkommentare können in einem String welcher \n",
    "mit drei ' umfasst wird geschrieben werden\n",
    "'''"
   ]
  },
  {
   "cell_type": "markdown",
   "metadata": {
    "colab_type": "text",
    "id": "NLVd-mMrV6uH"
   },
   "source": [
    "*Übrigens:* Ein **String** ist in Python eine **Kollektion** von Buchstaben-Strings:"
   ]
  },
  {
   "cell_type": "code",
   "execution_count": 0,
   "metadata": {
    "colab": {},
    "colab_type": "code",
    "id": "zzVVJFUiV6uH",
    "outputId": "b3ca684f-03b4-4e32-963a-a9989952dcc3"
   },
   "outputs": [
    {
     "data": {
      "text/plain": [
       "'a'"
      ]
     },
     "execution_count": 2,
     "metadata": {
      "tags": []
     },
     "output_type": "execute_result"
    }
   ],
   "source": [
    "'abc'[0] # erstes Element von 'abc' -> Index ist 0 ; Ergebnis: 'a'"
   ]
  },
  {
   "cell_type": "markdown",
   "metadata": {
    "colab_type": "text",
    "id": "yAPkrITjV6uJ"
   },
   "source": [
    "## Typen\n",
    "Daten welche man in Python eingibt, werden vom Interpreter im Speicher abgelegt. \\\n",
    "Vorerst ist wichtig, dass sie dabei einen **Typ zugewiesen** bekommen."
   ]
  },
  {
   "cell_type": "markdown",
   "metadata": {
    "colab_type": "text",
    "id": "kbX8Vnw9V6uK"
   },
   "source": [
    "Dieser Typ lässt sich mit der **Funktion** ```type``` abrufen. \\\n",
    "Den Typ ```str``` für Buchstaben (Strings) kennen wir nun schon:"
   ]
  },
  {
   "cell_type": "code",
   "execution_count": 0,
   "metadata": {
    "colab": {},
    "colab_type": "code",
    "id": "xmcZJ3HwV6uK",
    "outputId": "5bd5ef47-cafa-44e6-a80b-04d2c2db9839"
   },
   "outputs": [
    {
     "data": {
      "text/plain": [
       "(str, str)"
      ]
     },
     "execution_count": 3,
     "metadata": {
      "tags": []
     },
     "output_type": "execute_result"
    }
   ],
   "source": [
    "type('abc'), type( \"Python\" ) # Strings werden von ' oder \" Zeichen umfasst"
   ]
  },
  {
   "cell_type": "markdown",
   "metadata": {
    "colab_type": "text",
    "id": "wLCmehbHV6uM"
   },
   "source": [
    "**Ganzzahlen** bekommen den Typ ```int``` (Englisch: Ganzzahl = Integer) zugewiesen, \\\n",
    "**Gleitkommazahlen** werden als ```float``` (Englisch: Floating Point) abgelegt."
   ]
  },
  {
   "cell_type": "code",
   "execution_count": 0,
   "metadata": {
    "colab": {},
    "colab_type": "code",
    "id": "kurAh3glV6uN",
    "outputId": "9aea3ba6-594b-4762-a5d9-947664c2cb4d"
   },
   "outputs": [
    {
     "data": {
      "text/plain": [
       "(True, float)"
      ]
     },
     "execution_count": 4,
     "metadata": {
      "tags": []
     },
     "output_type": "execute_result"
    }
   ],
   "source": [
    "type( 10 )==int, type( 1.0 )"
   ]
  },
  {
   "cell_type": "markdown",
   "metadata": {
    "colab_type": "text",
    "id": "I4zR6_S8V6uP"
   },
   "source": [
    "Für Werte die entweder **Wahr** (```True```) oder **Falsch** (```False```) sein können, benutzen wir ```bool```s (aus der *Bool'schen Algebra*):"
   ]
  },
  {
   "cell_type": "code",
   "execution_count": 0,
   "metadata": {
    "colab": {},
    "colab_type": "code",
    "id": "iiVJfz4SV6uP",
    "outputId": "80bee495-c2e6-41af-e6b3-e557501b66eb"
   },
   "outputs": [
    {
     "data": {
      "text/plain": [
       "bool"
      ]
     },
     "execution_count": 5,
     "metadata": {
      "tags": []
     },
     "output_type": "execute_result"
    }
   ],
   "source": [
    "type( True )"
   ]
  },
  {
   "cell_type": "markdown",
   "metadata": {
    "colab_type": "text",
    "id": "B9R4mk63V6uR"
   },
   "source": [
    "## Operatoren\n",
    "Operatoren sind Zeichen, die zwischen zwei Werte gesetzt eine Funktion ausführen.\n",
    "+ Vergleichsoperatoren\n",
    "+ Mathematische Operatoren\n",
    "+ Binäre Operatoren"
   ]
  },
  {
   "cell_type": "markdown",
   "metadata": {
    "colab_type": "text",
    "id": "I9Kn8D6_V6uS"
   },
   "source": [
    "Das ```==``` dient als Vergleich zweier Bool'scher Werte, oder auch für Ganzzahlen. \\\n",
    "Es gibt auch ```>=```, ```<=```, ```!=```, ```<``` und ```>```\n",
    "\n",
    "Alle folgenden Beispiele ergeben ```True```:"
   ]
  },
  {
   "cell_type": "code",
   "execution_count": 0,
   "metadata": {
    "colab": {},
    "colab_type": "code",
    "id": "u5scTKSlV6uS"
   },
   "outputs": [],
   "source": [
    "1 != 2    ,    1 > 0    ,    True == 1    , \\\n",
    "\\\n",
    "0 != True    ,    1 > False    ,    -2 < False    , \\\n",
    "\\\n",
    "True and True    ,   False or True"
   ]
  },
  {
   "cell_type": "markdown",
   "metadata": {
    "colab_type": "text",
    "id": "J_ulcnUKV6uU"
   },
   "source": [
    "Alle folgenden Beispiele ergeben ```False```:"
   ]
  },
  {
   "cell_type": "code",
   "execution_count": 0,
   "metadata": {
    "colab": {},
    "colab_type": "code",
    "id": "zARTnaYBV6uU"
   },
   "outputs": [],
   "source": [
    "# Alle folgenden Beispiele ergeben False!\n",
    "not True\n",
    "False and True\n",
    "False or False"
   ]
  },
  {
   "cell_type": "markdown",
   "metadata": {
    "colab_type": "text",
    "id": "07VnF5zmV6uW"
   },
   "source": [
    "Einfach ausprobieren:"
   ]
  },
  {
   "cell_type": "code",
   "execution_count": 0,
   "metadata": {
    "colab": {},
    "colab_type": "code",
    "id": "_XjvTuazV6uX"
   },
   "outputs": [],
   "source": [
    "1 > False"
   ]
  },
  {
   "cell_type": "markdown",
   "metadata": {
    "colab_type": "text",
    "id": "ZJBK1UXRV6uZ"
   },
   "source": [
    "<div class=\"alert alert-block alert-info\">\n",
    "<h3>Tipp: Vergleich von 'float's</h3>\n",
    "    \n",
    "Die Darstellung von Zahlen des Typs ```float``` ist sehr genau. \\\n",
    "Oft will man aber, dass ```17.00000 == 17.00001``` trotzdem ```True``` ergibt. \\\n",
    "Deshalb prüft man bei ```float```s besser: ```a > b-i and a < b+i``` wobei ```i``` das Toleranzintervall darstellt.\n",
    "</div>"
   ]
  },
  {
   "cell_type": "markdown",
   "metadata": {
    "colab_type": "text",
    "id": "Wzh5vdzbV6uZ"
   },
   "source": [
    "**Ganzzahlen und Gleitkommazahlen** lassen sich  **in mathematischen Operationen mischen**,\\\n",
    "das Ergebnis ist dann (fast) immer ein ```float```.\n",
    "\n",
    "Folgende Beispiele funktionieren so:"
   ]
  },
  {
   "cell_type": "code",
   "execution_count": 0,
   "metadata": {
    "colab": {},
    "colab_type": "code",
    "id": "8ekhskdbV6ua",
    "outputId": "6dcf93b9-d068-4c46-80fc-80772817cf0b"
   },
   "outputs": [
    {
     "data": {
      "text/plain": [
       "1"
      ]
     },
     "execution_count": 9,
     "metadata": {
      "tags": []
     },
     "output_type": "execute_result"
    }
   ],
   "source": [
    "1 + 2.0 # float\n",
    "2.0 * 3 # float\n",
    "1 / 3 # float -> auch eine Operation auf zwei Ganzzahlen kann eine float ergeben\n",
    "1 // 3 # int -> \"floor divide\" runded auf die nächste Ganzzahl ab\n",
    "6 // 5.0 # float -> rundet trotzdem weiter ab\n",
    "6%5 # int -> Gibt den Rest der Division 6/5, also 1 "
   ]
  },
  {
   "cell_type": "markdown",
   "metadata": {
    "colab_type": "text",
    "id": "a_BX3NlJV6ub"
   },
   "source": [
    "Einfach ausprobieren:"
   ]
  },
  {
   "cell_type": "code",
   "execution_count": 0,
   "metadata": {
    "colab": {},
    "colab_type": "code",
    "id": "qOTNUKJPV6uc"
   },
   "outputs": [],
   "source": [
    "1 + 2.0"
   ]
  },
  {
   "cell_type": "markdown",
   "metadata": {
    "colab_type": "text",
    "id": "5Hwg-spXV6ug"
   },
   "source": [
    "Mit der Funktion ```print``` kann man sich Werte ausgeben lassen:"
   ]
  },
  {
   "cell_type": "code",
   "execution_count": 0,
   "metadata": {
    "colab": {},
    "colab_type": "code",
    "id": "uDHENZj3V6uh",
    "outputId": "ec4e46de-7f5d-49e4-9743-58096e308f89"
   },
   "outputs": [
    {
     "name": "stdout",
     "output_type": "stream",
     "text": [
      "True\n"
     ]
    },
    {
     "data": {
      "text/plain": [
       "'Ende der Mini-Einleitung'"
      ]
     },
     "execution_count": 10,
     "metadata": {
      "tags": []
     },
     "output_type": "execute_result"
    }
   ],
   "source": [
    "print(False > -1)\n",
    "\n",
    "# Das letzte Element einer Zelle wird immer automatisch ausgegeben\n",
    "\"Ende der Mini-Einleitung\""
   ]
  },
  {
   "cell_type": "markdown",
   "metadata": {
    "colab_type": "text",
    "id": "eTNCSRnrV6uj"
   },
   "source": [
    "<div class=\"alert alert-block alert-info\">\n",
    "<h3>Tipp: Nützliche Funktionen um Python besser kennen zu lernen und zu verstehen</h3>\n",
    "    \n",
    "Mit der Funktion ```dir``` lassen sich alle Methoden welche man auf einem Objekt aufrufen kann anzeigen:\n",
    "</div>"
   ]
  },
  {
   "cell_type": "code",
   "execution_count": 0,
   "metadata": {
    "colab": {},
    "colab_type": "code",
    "id": "Y1MFwcOwV6ul"
   },
   "outputs": [],
   "source": [
    "print(dir(list()))"
   ]
  },
  {
   "cell_type": "markdown",
   "metadata": {
    "colab_type": "text",
    "id": "w5lzsC2NV6uo"
   },
   "source": [
    "<div class=\"alert alert-block alert-info\">\n",
    "    <h3>Tipp: Nützliche Funktionen der <b>QT Console</b>, von <b>Jupyter</b> und anderen IPython-Anwendungen</h3>\n",
    "    \n",
    "Alternativ kann man den Cursor auch einfach hinter ```list().``` oder eine Liste setzen und \\\n",
    "dann die ```Tabulator``` - Taste drücken!\n",
    "\n",
    "Drückt man die ```Shift``` - und die ```Tabulator``` - Taste gleichzeitig, wird einem auch ein kleines Hilfsfenster angezeigt. \\\n",
    "Dieses ist angepasst daran, wo man sich gerade mit dem Cursor befindet. Probier es aus!\n",
    "</div>"
   ]
  },
  {
   "cell_type": "markdown",
   "metadata": {
    "colab_type": "text",
    "id": "zLTAv8LxV6up"
   },
   "source": [
    "<div class=\"alert alert-block alert-info\">\n",
    "    <h3>Tipp: Mit 'dis' den Interpreter erkunden</h3>\n",
    "    \n",
    "Die Funktion ```dis``` zeigt euch, was im Hintergrund in einer Python-Funktion passiert. \\\n",
    "Um eine Funktion zu erzeugen kann man einfach ```lambda : ``` vor alles schreiben,\n",
    "was man zerlegt angezeigt haben will:\n",
    "</div>"
   ]
  },
  {
   "cell_type": "code",
   "execution_count": 0,
   "metadata": {
    "colab": {},
    "colab_type": "code",
    "id": "5qVz0sC_V6uq"
   },
   "outputs": [],
   "source": [
    "from dis import dis\n",
    "print( dis(lambda : print('Hallo')) )\n",
    "print( \"\" )  # Leerzeile\n",
    "print( dis(lambda : 1+3) )\n",
    "\n",
    "#eval(\"abs\")"
   ]
  },
  {
   "cell_type": "markdown",
   "metadata": {
    "colab_type": "text",
    "id": "-jeydYxdV6ur"
   },
   "source": [
    "## Abfalldaten importieren\n",
    "\n",
    "Mit der Software - Bibliothek ```pandas``` können wir Datensätze importieren, durchsuchen und bearbeiten. \\\n",
    "Wir importieren die Abfalldaten der Steiermark für das Jahr 2016 aus einer ```.csv``` - Datei (**C**omma **S**eparated **V**alues) um damit in Folge **Python zu üben**."
   ]
  },
  {
   "cell_type": "code",
   "execution_count": 0,
   "metadata": {
    "colab": {},
    "colab_type": "code",
    "id": "zDavdOg_V6us",
    "outputId": "21d7ff4e-4512-46a1-e783-d622b2c2eff6"
   },
   "outputs": [
    {
     "data": {
      "text/html": [
       "<div>\n",
       "<style scoped>\n",
       "    .dataframe tbody tr th:only-of-type {\n",
       "        vertical-align: middle;\n",
       "    }\n",
       "\n",
       "    .dataframe tbody tr th {\n",
       "        vertical-align: top;\n",
       "    }\n",
       "\n",
       "    .dataframe thead th {\n",
       "        text-align: right;\n",
       "    }\n",
       "</style>\n",
       "<table border=\"1\" class=\"dataframe\">\n",
       "  <thead>\n",
       "    <tr style=\"text-align: right;\">\n",
       "      <th></th>\n",
       "      <th>Jahr</th>\n",
       "      <th>VKZ</th>\n",
       "      <th>Abfallwirtschaftsverband</th>\n",
       "      <th>GKZ_2015</th>\n",
       "      <th>Gemeindename</th>\n",
       "      <th>EW_Gde</th>\n",
       "      <th>HFR</th>\n",
       "      <th>Abfallgruppen</th>\n",
       "      <th>FNr</th>\n",
       "      <th>Abfallfraktion</th>\n",
       "      <th>Masse in kg</th>\n",
       "      <th>kg/EW</th>\n",
       "    </tr>\n",
       "  </thead>\n",
       "  <tbody>\n",
       "    <tr>\n",
       "      <td>0</td>\n",
       "      <td>2016.0</td>\n",
       "      <td>0.0</td>\n",
       "      <td>Graz-Stadt</td>\n",
       "      <td>60101.0</td>\n",
       "      <td>Graz</td>\n",
       "      <td>280258.0</td>\n",
       "      <td>3.0</td>\n",
       "      <td>Restmüll inkl. Sperrmüll</td>\n",
       "      <td>1.0</td>\n",
       "      <td>Gemischte Siedlungsabfälle (Restmüll)</td>\n",
       "      <td>50927769.0</td>\n",
       "      <td>181.72</td>\n",
       "    </tr>\n",
       "    <tr>\n",
       "      <td>1</td>\n",
       "      <td>2016.0</td>\n",
       "      <td>0.0</td>\n",
       "      <td>Graz-Stadt</td>\n",
       "      <td>60101.0</td>\n",
       "      <td>Graz</td>\n",
       "      <td>280258.0</td>\n",
       "      <td>3.0</td>\n",
       "      <td>Restmüll inkl. Sperrmüll</td>\n",
       "      <td>2.0</td>\n",
       "      <td>Sperrige Siedlungsabfälle (Sperrmüll)</td>\n",
       "      <td>8830870.0</td>\n",
       "      <td>31.51</td>\n",
       "    </tr>\n",
       "    <tr>\n",
       "      <td>2</td>\n",
       "      <td>2016.0</td>\n",
       "      <td>0.0</td>\n",
       "      <td>Graz-Stadt</td>\n",
       "      <td>60101.0</td>\n",
       "      <td>Graz</td>\n",
       "      <td>280258.0</td>\n",
       "      <td>4.0</td>\n",
       "      <td>Bioabfall - Biogene Siedlungsabfälle</td>\n",
       "      <td>4.0</td>\n",
       "      <td>Bioabfall getrennt erfasst (Biotonne)</td>\n",
       "      <td>21996780.0</td>\n",
       "      <td>78.49</td>\n",
       "    </tr>\n",
       "    <tr>\n",
       "      <td>3</td>\n",
       "      <td>2016.0</td>\n",
       "      <td>0.0</td>\n",
       "      <td>Graz-Stadt</td>\n",
       "      <td>60101.0</td>\n",
       "      <td>Graz</td>\n",
       "      <td>280258.0</td>\n",
       "      <td>4.0</td>\n",
       "      <td>Bioabfall - Biogene Siedlungsabfälle</td>\n",
       "      <td>27.0</td>\n",
       "      <td>kommunale Garten- und Parkabfälle</td>\n",
       "      <td>6208450.0</td>\n",
       "      <td>22.15</td>\n",
       "    </tr>\n",
       "    <tr>\n",
       "      <td>4</td>\n",
       "      <td>2016.0</td>\n",
       "      <td>0.0</td>\n",
       "      <td>Graz-Stadt</td>\n",
       "      <td>60101.0</td>\n",
       "      <td>Graz</td>\n",
       "      <td>280258.0</td>\n",
       "      <td>5.0</td>\n",
       "      <td>Straßenkehricht</td>\n",
       "      <td>6.0</td>\n",
       "      <td>Straßenkehricht</td>\n",
       "      <td>626730.0</td>\n",
       "      <td>2.24</td>\n",
       "    </tr>\n",
       "    <tr>\n",
       "      <td>...</td>\n",
       "      <td>...</td>\n",
       "      <td>...</td>\n",
       "      <td>...</td>\n",
       "      <td>...</td>\n",
       "      <td>...</td>\n",
       "      <td>...</td>\n",
       "      <td>...</td>\n",
       "      <td>...</td>\n",
       "      <td>...</td>\n",
       "      <td>...</td>\n",
       "      <td>...</td>\n",
       "      <td>...</td>\n",
       "    </tr>\n",
       "    <tr>\n",
       "      <td>7336</td>\n",
       "      <td>NaN</td>\n",
       "      <td>NaN</td>\n",
       "      <td>NaN</td>\n",
       "      <td>NaN</td>\n",
       "      <td>NaN</td>\n",
       "      <td>NaN</td>\n",
       "      <td>NaN</td>\n",
       "      <td>NaN</td>\n",
       "      <td>NaN</td>\n",
       "      <td>NaN</td>\n",
       "      <td>NaN</td>\n",
       "      <td>NaN</td>\n",
       "    </tr>\n",
       "    <tr>\n",
       "      <td>7337</td>\n",
       "      <td>NaN</td>\n",
       "      <td>NaN</td>\n",
       "      <td>NaN</td>\n",
       "      <td>NaN</td>\n",
       "      <td>NaN</td>\n",
       "      <td>NaN</td>\n",
       "      <td>NaN</td>\n",
       "      <td>NaN</td>\n",
       "      <td>NaN</td>\n",
       "      <td>NaN</td>\n",
       "      <td>NaN</td>\n",
       "      <td>NaN</td>\n",
       "    </tr>\n",
       "    <tr>\n",
       "      <td>7338</td>\n",
       "      <td>NaN</td>\n",
       "      <td>NaN</td>\n",
       "      <td>NaN</td>\n",
       "      <td>NaN</td>\n",
       "      <td>NaN</td>\n",
       "      <td>NaN</td>\n",
       "      <td>NaN</td>\n",
       "      <td>NaN</td>\n",
       "      <td>NaN</td>\n",
       "      <td>NaN</td>\n",
       "      <td>NaN</td>\n",
       "      <td>NaN</td>\n",
       "    </tr>\n",
       "    <tr>\n",
       "      <td>7339</td>\n",
       "      <td>NaN</td>\n",
       "      <td>NaN</td>\n",
       "      <td>NaN</td>\n",
       "      <td>NaN</td>\n",
       "      <td>NaN</td>\n",
       "      <td>NaN</td>\n",
       "      <td>NaN</td>\n",
       "      <td>NaN</td>\n",
       "      <td>NaN</td>\n",
       "      <td>NaN</td>\n",
       "      <td>NaN</td>\n",
       "      <td>NaN</td>\n",
       "    </tr>\n",
       "    <tr>\n",
       "      <td>7340</td>\n",
       "      <td>NaN</td>\n",
       "      <td>NaN</td>\n",
       "      <td>NaN</td>\n",
       "      <td>NaN</td>\n",
       "      <td>NaN</td>\n",
       "      <td>NaN</td>\n",
       "      <td>NaN</td>\n",
       "      <td>NaN</td>\n",
       "      <td>NaN</td>\n",
       "      <td>NaN</td>\n",
       "      <td>NaN</td>\n",
       "      <td>NaN</td>\n",
       "    </tr>\n",
       "  </tbody>\n",
       "</table>\n",
       "<p>7341 rows × 12 columns</p>\n",
       "</div>"
      ],
      "text/plain": [
       "        Jahr  VKZ Abfallwirtschaftsverband  GKZ_2015 Gemeindename    EW_Gde  \\\n",
       "0     2016.0  0.0               Graz-Stadt   60101.0         Graz  280258.0   \n",
       "1     2016.0  0.0               Graz-Stadt   60101.0         Graz  280258.0   \n",
       "2     2016.0  0.0               Graz-Stadt   60101.0         Graz  280258.0   \n",
       "3     2016.0  0.0               Graz-Stadt   60101.0         Graz  280258.0   \n",
       "4     2016.0  0.0               Graz-Stadt   60101.0         Graz  280258.0   \n",
       "...      ...  ...                      ...       ...          ...       ...   \n",
       "7336     NaN  NaN                      NaN       NaN          NaN       NaN   \n",
       "7337     NaN  NaN                      NaN       NaN          NaN       NaN   \n",
       "7338     NaN  NaN                      NaN       NaN          NaN       NaN   \n",
       "7339     NaN  NaN                      NaN       NaN          NaN       NaN   \n",
       "7340     NaN  NaN                      NaN       NaN          NaN       NaN   \n",
       "\n",
       "      HFR                         Abfallgruppen   FNr  \\\n",
       "0     3.0              Restmüll inkl. Sperrmüll   1.0   \n",
       "1     3.0              Restmüll inkl. Sperrmüll   2.0   \n",
       "2     4.0  Bioabfall - Biogene Siedlungsabfälle   4.0   \n",
       "3     4.0  Bioabfall - Biogene Siedlungsabfälle  27.0   \n",
       "4     5.0                       Straßenkehricht   6.0   \n",
       "...   ...                                   ...   ...   \n",
       "7336  NaN                                   NaN   NaN   \n",
       "7337  NaN                                   NaN   NaN   \n",
       "7338  NaN                                   NaN   NaN   \n",
       "7339  NaN                                   NaN   NaN   \n",
       "7340  NaN                                   NaN   NaN   \n",
       "\n",
       "                             Abfallfraktion  Masse in kg   kg/EW  \n",
       "0     Gemischte Siedlungsabfälle (Restmüll)   50927769.0  181.72  \n",
       "1     Sperrige Siedlungsabfälle (Sperrmüll)    8830870.0   31.51  \n",
       "2     Bioabfall getrennt erfasst (Biotonne)   21996780.0   78.49  \n",
       "3         kommunale Garten- und Parkabfälle    6208450.0   22.15  \n",
       "4                           Straßenkehricht     626730.0    2.24  \n",
       "...                                     ...          ...     ...  \n",
       "7336                                    NaN          NaN     NaN  \n",
       "7337                                    NaN          NaN     NaN  \n",
       "7338                                    NaN          NaN     NaN  \n",
       "7339                                    NaN          NaN     NaN  \n",
       "7340                                    NaN          NaN     NaN  \n",
       "\n",
       "[7341 rows x 12 columns]"
      ]
     },
     "execution_count": 11,
     "metadata": {
      "tags": []
     },
     "output_type": "execute_result"
    }
   ],
   "source": [
    "import pandas as pd\n",
    "\n",
    "data = pd.read_csv(\"OGD_Abfalldaten_Stmk_2016_auf_Gemeindeebene.csv\",encoding='ansi',sep=';'\n",
    "                  ,thousands='.',decimal=',')\n",
    "data"
   ]
  },
  {
   "cell_type": "markdown",
   "metadata": {
    "colab_type": "text",
    "id": "hwSBDxxZV6ut"
   },
   "source": [
    "Betrachtet man sich die **unteren Zeilen** in ```data``` fällt einem auf, dass hier alle Werte nur ```NaN``` lauten.\n",
    "Dieses ```NaN``` steht für **Not a Number** und bedeutet nichts anderes, als dass keine Werte vorhanden sind. "
   ]
  },
  {
   "cell_type": "markdown",
   "metadata": {
    "colab_type": "text",
    "id": "ZRLXAjuxV6uu"
   },
   "source": [
    "Um solche **Leerzeilen** aus unserem Datensatz zu filtern, können wir auf ```data``` die **Methode** ```dropna``` aufrufen. Dies geschieht indem wir einen Punkt ```.``` zwischen **Objekt** und **Methode** setzen und sie mit ```()``` **aufrufen**."
   ]
  },
  {
   "cell_type": "code",
   "execution_count": 0,
   "metadata": {
    "colab": {},
    "colab_type": "code",
    "id": "6jZHr8D8V6uu",
    "outputId": "d2ae04ff-e0d9-4b09-89fa-cfddf190378a"
   },
   "outputs": [
    {
     "data": {
      "text/html": [
       "<div>\n",
       "<style scoped>\n",
       "    .dataframe tbody tr th:only-of-type {\n",
       "        vertical-align: middle;\n",
       "    }\n",
       "\n",
       "    .dataframe tbody tr th {\n",
       "        vertical-align: top;\n",
       "    }\n",
       "\n",
       "    .dataframe thead th {\n",
       "        text-align: right;\n",
       "    }\n",
       "</style>\n",
       "<table border=\"1\" class=\"dataframe\">\n",
       "  <thead>\n",
       "    <tr style=\"text-align: right;\">\n",
       "      <th></th>\n",
       "      <th>Jahr</th>\n",
       "      <th>VKZ</th>\n",
       "      <th>Abfallwirtschaftsverband</th>\n",
       "      <th>GKZ_2015</th>\n",
       "      <th>Gemeindename</th>\n",
       "      <th>EW_Gde</th>\n",
       "      <th>HFR</th>\n",
       "      <th>Abfallgruppen</th>\n",
       "      <th>FNr</th>\n",
       "      <th>Abfallfraktion</th>\n",
       "      <th>Masse in kg</th>\n",
       "      <th>kg/EW</th>\n",
       "    </tr>\n",
       "  </thead>\n",
       "  <tbody>\n",
       "    <tr>\n",
       "      <td>0</td>\n",
       "      <td>2016.0</td>\n",
       "      <td>0.0</td>\n",
       "      <td>Graz-Stadt</td>\n",
       "      <td>60101.0</td>\n",
       "      <td>Graz</td>\n",
       "      <td>280258.0</td>\n",
       "      <td>3.0</td>\n",
       "      <td>Restmüll inkl. Sperrmüll</td>\n",
       "      <td>1.0</td>\n",
       "      <td>Gemischte Siedlungsabfälle (Restmüll)</td>\n",
       "      <td>50927769.0</td>\n",
       "      <td>181.72</td>\n",
       "    </tr>\n",
       "    <tr>\n",
       "      <td>1</td>\n",
       "      <td>2016.0</td>\n",
       "      <td>0.0</td>\n",
       "      <td>Graz-Stadt</td>\n",
       "      <td>60101.0</td>\n",
       "      <td>Graz</td>\n",
       "      <td>280258.0</td>\n",
       "      <td>3.0</td>\n",
       "      <td>Restmüll inkl. Sperrmüll</td>\n",
       "      <td>2.0</td>\n",
       "      <td>Sperrige Siedlungsabfälle (Sperrmüll)</td>\n",
       "      <td>8830870.0</td>\n",
       "      <td>31.51</td>\n",
       "    </tr>\n",
       "    <tr>\n",
       "      <td>2</td>\n",
       "      <td>2016.0</td>\n",
       "      <td>0.0</td>\n",
       "      <td>Graz-Stadt</td>\n",
       "      <td>60101.0</td>\n",
       "      <td>Graz</td>\n",
       "      <td>280258.0</td>\n",
       "      <td>4.0</td>\n",
       "      <td>Bioabfall - Biogene Siedlungsabfälle</td>\n",
       "      <td>4.0</td>\n",
       "      <td>Bioabfall getrennt erfasst (Biotonne)</td>\n",
       "      <td>21996780.0</td>\n",
       "      <td>78.49</td>\n",
       "    </tr>\n",
       "    <tr>\n",
       "      <td>3</td>\n",
       "      <td>2016.0</td>\n",
       "      <td>0.0</td>\n",
       "      <td>Graz-Stadt</td>\n",
       "      <td>60101.0</td>\n",
       "      <td>Graz</td>\n",
       "      <td>280258.0</td>\n",
       "      <td>4.0</td>\n",
       "      <td>Bioabfall - Biogene Siedlungsabfälle</td>\n",
       "      <td>27.0</td>\n",
       "      <td>kommunale Garten- und Parkabfälle</td>\n",
       "      <td>6208450.0</td>\n",
       "      <td>22.15</td>\n",
       "    </tr>\n",
       "    <tr>\n",
       "      <td>4</td>\n",
       "      <td>2016.0</td>\n",
       "      <td>0.0</td>\n",
       "      <td>Graz-Stadt</td>\n",
       "      <td>60101.0</td>\n",
       "      <td>Graz</td>\n",
       "      <td>280258.0</td>\n",
       "      <td>5.0</td>\n",
       "      <td>Straßenkehricht</td>\n",
       "      <td>6.0</td>\n",
       "      <td>Straßenkehricht</td>\n",
       "      <td>626730.0</td>\n",
       "      <td>2.24</td>\n",
       "    </tr>\n",
       "    <tr>\n",
       "      <td>...</td>\n",
       "      <td>...</td>\n",
       "      <td>...</td>\n",
       "      <td>...</td>\n",
       "      <td>...</td>\n",
       "      <td>...</td>\n",
       "      <td>...</td>\n",
       "      <td>...</td>\n",
       "      <td>...</td>\n",
       "      <td>...</td>\n",
       "      <td>...</td>\n",
       "      <td>...</td>\n",
       "      <td>...</td>\n",
       "    </tr>\n",
       "    <tr>\n",
       "      <td>4416</td>\n",
       "      <td>2016.0</td>\n",
       "      <td>16.0</td>\n",
       "      <td>Weiz</td>\n",
       "      <td>61766.0</td>\n",
       "      <td>Weiz</td>\n",
       "      <td>11431.0</td>\n",
       "      <td>8.0</td>\n",
       "      <td>Diverse Abfälle</td>\n",
       "      <td>50.0</td>\n",
       "      <td>Sonstige Abfälle - nicht einzeln angeführt</td>\n",
       "      <td>8606.0</td>\n",
       "      <td>0.75</td>\n",
       "    </tr>\n",
       "    <tr>\n",
       "      <td>4417</td>\n",
       "      <td>2016.0</td>\n",
       "      <td>16.0</td>\n",
       "      <td>Weiz</td>\n",
       "      <td>61766.0</td>\n",
       "      <td>Weiz</td>\n",
       "      <td>11431.0</td>\n",
       "      <td>9.0</td>\n",
       "      <td>Baurestmassen</td>\n",
       "      <td>21.0</td>\n",
       "      <td>Bauschutt</td>\n",
       "      <td>296670.0</td>\n",
       "      <td>25.95</td>\n",
       "    </tr>\n",
       "    <tr>\n",
       "      <td>4418</td>\n",
       "      <td>2016.0</td>\n",
       "      <td>16.0</td>\n",
       "      <td>Weiz</td>\n",
       "      <td>61766.0</td>\n",
       "      <td>Weiz</td>\n",
       "      <td>11431.0</td>\n",
       "      <td>9.0</td>\n",
       "      <td>Baurestmassen</td>\n",
       "      <td>54.0</td>\n",
       "      <td>Asbestzement</td>\n",
       "      <td>9530.0</td>\n",
       "      <td>0.83</td>\n",
       "    </tr>\n",
       "    <tr>\n",
       "      <td>4419</td>\n",
       "      <td>2016.0</td>\n",
       "      <td>16.0</td>\n",
       "      <td>Weiz</td>\n",
       "      <td>61766.0</td>\n",
       "      <td>Weiz</td>\n",
       "      <td>11431.0</td>\n",
       "      <td>9.0</td>\n",
       "      <td>Baurestmassen</td>\n",
       "      <td>90.0</td>\n",
       "      <td>Baurestmassen - nicht einzeln angeführt</td>\n",
       "      <td>840.0</td>\n",
       "      <td>0.07</td>\n",
       "    </tr>\n",
       "    <tr>\n",
       "      <td>4420</td>\n",
       "      <td>2016.0</td>\n",
       "      <td>16.0</td>\n",
       "      <td>Weiz</td>\n",
       "      <td>61766.0</td>\n",
       "      <td>Weiz</td>\n",
       "      <td>11431.0</td>\n",
       "      <td>17.0</td>\n",
       "      <td>Batterien und Akkumulatoren</td>\n",
       "      <td>47.0</td>\n",
       "      <td>Fahrzeugbatterien</td>\n",
       "      <td>2165.0</td>\n",
       "      <td>0.19</td>\n",
       "    </tr>\n",
       "  </tbody>\n",
       "</table>\n",
       "<p>4421 rows × 12 columns</p>\n",
       "</div>"
      ],
      "text/plain": [
       "        Jahr   VKZ Abfallwirtschaftsverband  GKZ_2015 Gemeindename    EW_Gde  \\\n",
       "0     2016.0   0.0               Graz-Stadt   60101.0         Graz  280258.0   \n",
       "1     2016.0   0.0               Graz-Stadt   60101.0         Graz  280258.0   \n",
       "2     2016.0   0.0               Graz-Stadt   60101.0         Graz  280258.0   \n",
       "3     2016.0   0.0               Graz-Stadt   60101.0         Graz  280258.0   \n",
       "4     2016.0   0.0               Graz-Stadt   60101.0         Graz  280258.0   \n",
       "...      ...   ...                      ...       ...          ...       ...   \n",
       "4416  2016.0  16.0                     Weiz   61766.0         Weiz   11431.0   \n",
       "4417  2016.0  16.0                     Weiz   61766.0         Weiz   11431.0   \n",
       "4418  2016.0  16.0                     Weiz   61766.0         Weiz   11431.0   \n",
       "4419  2016.0  16.0                     Weiz   61766.0         Weiz   11431.0   \n",
       "4420  2016.0  16.0                     Weiz   61766.0         Weiz   11431.0   \n",
       "\n",
       "       HFR                         Abfallgruppen   FNr  \\\n",
       "0      3.0              Restmüll inkl. Sperrmüll   1.0   \n",
       "1      3.0              Restmüll inkl. Sperrmüll   2.0   \n",
       "2      4.0  Bioabfall - Biogene Siedlungsabfälle   4.0   \n",
       "3      4.0  Bioabfall - Biogene Siedlungsabfälle  27.0   \n",
       "4      5.0                       Straßenkehricht   6.0   \n",
       "...    ...                                   ...   ...   \n",
       "4416   8.0                       Diverse Abfälle  50.0   \n",
       "4417   9.0                         Baurestmassen  21.0   \n",
       "4418   9.0                         Baurestmassen  54.0   \n",
       "4419   9.0                         Baurestmassen  90.0   \n",
       "4420  17.0           Batterien und Akkumulatoren  47.0   \n",
       "\n",
       "                                  Abfallfraktion  Masse in kg   kg/EW  \n",
       "0          Gemischte Siedlungsabfälle (Restmüll)   50927769.0  181.72  \n",
       "1          Sperrige Siedlungsabfälle (Sperrmüll)    8830870.0   31.51  \n",
       "2          Bioabfall getrennt erfasst (Biotonne)   21996780.0   78.49  \n",
       "3              kommunale Garten- und Parkabfälle    6208450.0   22.15  \n",
       "4                                Straßenkehricht     626730.0    2.24  \n",
       "...                                          ...          ...     ...  \n",
       "4416  Sonstige Abfälle - nicht einzeln angeführt       8606.0    0.75  \n",
       "4417                                   Bauschutt     296670.0   25.95  \n",
       "4418                                Asbestzement       9530.0    0.83  \n",
       "4419     Baurestmassen - nicht einzeln angeführt        840.0    0.07  \n",
       "4420                           Fahrzeugbatterien       2165.0    0.19  \n",
       "\n",
       "[4421 rows x 12 columns]"
      ]
     },
     "execution_count": 12,
     "metadata": {
      "tags": []
     },
     "output_type": "execute_result"
    }
   ],
   "source": [
    "data_gefiltert = data.dropna()\n",
    "data_gefiltert"
   ]
  },
  {
   "cell_type": "markdown",
   "metadata": {
    "colab_type": "text",
    "id": "CPyXOQxuV6uw"
   },
   "source": [
    "<div class=\"alert alert-block alert-warning\">\n",
    "    <h2>Kollektionen</h2>\n",
    "    <br>\n",
    "    Zuerst wollen wir uns den vielen verschiedenen Arten von Kollektionen in Python widmen:\n",
    "    <ul>\n",
    "        <li><b>Listen</b></li>\n",
    "        <li><b>Tupel</b></li>\n",
    "        <li><b>Wörterbücher</b></li>\n",
    "        <li><b>Mengen</b></li>\n",
    "        <li><b>Vektoren / Matrizen</b></li>\n",
    "    </ul>\n",
    "</div>"
   ]
  },
  {
   "cell_type": "markdown",
   "metadata": {
    "colab_type": "text",
    "id": "y0iq7EFTV6uw"
   },
   "source": [
    "## Listen\n",
    "\n",
    "Listen sind in Python **sehr häufig** in Gebrauch. Sie sind **mutabel** und **Container**. Was das bedeutet werden wir gleich sehen.\n",
    "\n",
    "Eine **leere Liste** kann man auf zwei Wegen erstellen: Mit ```[]``` oder mit ```list()```"
   ]
  },
  {
   "cell_type": "code",
   "execution_count": 0,
   "metadata": {
    "colab": {},
    "colab_type": "code",
    "id": "JtWBMfNtV6ux"
   },
   "outputs": [],
   "source": [
    "unsere_liste = [] # Liste wird als eine leere Liste initiiert"
   ]
  },
  {
   "cell_type": "markdown",
   "metadata": {
    "colab_type": "text",
    "id": "WeLb16JsV6uy"
   },
   "source": [
    "Da eine Liste **mutabel** ist können wir ```unsere_liste``` nun **verändern**.\n",
    "\n",
    "Listen bieten uns die **Methode** ```append``` welche ein Argument entgegennimmt und es in die Liste **einfügt**:"
   ]
  },
  {
   "cell_type": "code",
   "execution_count": 0,
   "metadata": {
    "colab": {},
    "colab_type": "code",
    "id": "7dfxfazaV6uy"
   },
   "outputs": [],
   "source": [
    "unsere_liste.append(20) # wir fügen den Ganzzahlen-Wert 20 an die Liste an"
   ]
  },
  {
   "cell_type": "markdown",
   "metadata": {
    "colab_type": "text",
    "id": "8tjTZ9LyV6u0"
   },
   "source": [
    "Da sie auch ein **Container** ist, können wir Objekte **verschiedener Typen** in ihr ablegen:"
   ]
  },
  {
   "cell_type": "code",
   "execution_count": 0,
   "metadata": {
    "colab": {},
    "colab_type": "code",
    "id": "hNR7A2rdV6u0"
   },
   "outputs": [],
   "source": [
    "unsere_liste.append('30') # Wir fügen einen String mit den Zeichen 3 und 0 an\n",
    "unsere_liste.append(40.0) # Wir fügen eine Gleitkommazahl mit dem Wert 40 an\n",
    "unsere_liste.append(True) # Wir fügen eine Bool mit dem Wert True an"
   ]
  },
  {
   "cell_type": "markdown",
   "metadata": {
    "colab_type": "text",
    "id": "Eu9g3f8IV6u2"
   },
   "source": [
    "Wir wollen nun den Inhalt der Liste einmal betrachten:"
   ]
  },
  {
   "cell_type": "code",
   "execution_count": 0,
   "metadata": {
    "colab": {},
    "colab_type": "code",
    "id": "1tvPNdJxV6u3",
    "outputId": "5267064e-eec7-4084-f5bb-3171522026ad"
   },
   "outputs": [
    {
     "data": {
      "text/plain": [
       "[20, '30', 40.0, True]"
      ]
     },
     "execution_count": 17,
     "metadata": {
      "tags": []
     },
     "output_type": "execute_result"
    }
   ],
   "source": [
    "unsere_liste"
   ]
  },
  {
   "cell_type": "markdown",
   "metadata": {
    "colab_type": "text",
    "id": "cfnM4IY2V6u4"
   },
   "source": [
    "Mit der Methode ```pop``` können wir nun ein **Element** aus der Liste **herausnehmen**:"
   ]
  },
  {
   "cell_type": "code",
   "execution_count": 0,
   "metadata": {
    "colab": {},
    "colab_type": "code",
    "id": "uSv4diZCV6u5"
   },
   "outputs": [],
   "source": [
    "ein_element = unsere_liste.pop()"
   ]
  },
  {
   "cell_type": "markdown",
   "metadata": {
    "colab_type": "text",
    "id": "oDAcWnQFV6u6"
   },
   "source": [
    "*Welches Element wird als erstes heraus-```pop```-pen?*"
   ]
  },
  {
   "cell_type": "code",
   "execution_count": 0,
   "metadata": {
    "colab": {},
    "colab_type": "code",
    "id": "XvyT0N0IV6u6",
    "outputId": "03043e92-bb67-439c-b93d-4ef35ab8c83f"
   },
   "outputs": [
    {
     "data": {
      "text/plain": [
       "True"
      ]
     },
     "execution_count": 20,
     "metadata": {
      "tags": []
     },
     "output_type": "execute_result"
    }
   ],
   "source": [
    "ein_element"
   ]
  },
  {
   "cell_type": "markdown",
   "metadata": {
    "colab_type": "text",
    "id": "SqQs34avV6u8"
   },
   "source": [
    "Wie man in der vorherigen Zelle sieht, besteht eine Liste aus einer **leeren Liste**, an welche dann **Elemente angefügt** werden.\n",
    "Diese Elemente haben **Indizes** *(Mehrzahl Index = lateinisch für „Zeigefinger, Kennzeichen Verzeichnis“)*.\n",
    "\n",
    "Das **erste Element** bekommt Index ```0```. Diesen schreiben wir in **eckige Klammern** ```[]``` nach der Liste:"
   ]
  },
  {
   "cell_type": "code",
   "execution_count": 0,
   "metadata": {
    "colab": {},
    "colab_type": "code",
    "id": "DiJXAjx6V6u8",
    "outputId": "b8815523-8a63-4753-b02c-63c0f03cdac4"
   },
   "outputs": [
    {
     "data": {
      "text/plain": [
       "20"
      ]
     },
     "execution_count": 21,
     "metadata": {
      "tags": []
     },
     "output_type": "execute_result"
    }
   ],
   "source": [
    "unsere_liste[0]"
   ]
  },
  {
   "cell_type": "markdown",
   "metadata": {
    "colab_type": "text",
    "id": "5inxOPzxV6u-"
   },
   "source": [
    "*Welchen Index hat das letzte Element?*\n",
    "\n",
    "*(Tipp: Es gibt mehrere Antworten!)*"
   ]
  },
  {
   "cell_type": "code",
   "execution_count": 0,
   "metadata": {
    "colab": {},
    "colab_type": "code",
    "id": "myZSto6ZV6u-",
    "outputId": "0f43eb17-320c-4834-ff4f-e772f688ab68"
   },
   "outputs": [
    {
     "data": {
      "text/plain": [
       "40.0"
      ]
     },
     "execution_count": 23,
     "metadata": {
      "tags": []
     },
     "output_type": "execute_result"
    }
   ],
   "source": [
    "index = len(unsere_liste)-1\n",
    "unsere_liste[index]"
   ]
  },
  {
   "cell_type": "markdown",
   "metadata": {
    "colab_type": "text",
    "id": "uyZ6yuoLV6vA"
   },
   "source": [
    "Vielleicht hilft folgende Zelle weiter. Die **Funktion** ```len``` nimmt eine Kollektion als Argument und gibt uns ihre **Länge** aus."
   ]
  },
  {
   "cell_type": "code",
   "execution_count": 0,
   "metadata": {
    "colab": {},
    "colab_type": "code",
    "id": "EOqKsKsGV6vA"
   },
   "outputs": [],
   "source": [
    "print(unsere_liste)\n",
    "unsere_liste[len(unsere_liste)-2]\n",
    "unsere_liste[-2]"
   ]
  },
  {
   "cell_type": "markdown",
   "metadata": {
    "colab_type": "text",
    "id": "-uAhyAIXV6vC"
   },
   "source": [
    "Listen lassen sich auch zusammenfügen mit ```+```:"
   ]
  },
  {
   "cell_type": "code",
   "execution_count": 0,
   "metadata": {
    "colab": {},
    "colab_type": "code",
    "id": "oQxHiS0LV6vC",
    "outputId": "ad6d5706-ea49-445f-8298-d659f3444c16"
   },
   "outputs": [
    {
     "data": {
      "text/plain": [
       "[20, '30', 40.0, 1, 2, 3]"
      ]
     },
     "execution_count": 24,
     "metadata": {
      "tags": []
     },
     "output_type": "execute_result"
    }
   ],
   "source": [
    "unsere_liste + [1,2,3]"
   ]
  },
  {
   "cell_type": "markdown",
   "metadata": {
    "colab_type": "text",
    "id": "GdcWfgXSV6vE"
   },
   "source": [
    "Mit ```*``` lassen sie sich **mehrmals an sich selbst** anfügen:"
   ]
  },
  {
   "cell_type": "code",
   "execution_count": 0,
   "metadata": {
    "colab": {},
    "colab_type": "code",
    "id": "fjGWvB59V6vE",
    "outputId": "970e9069-ed97-4921-82f7-9c2d7376baa9"
   },
   "outputs": [
    {
     "data": {
      "text/plain": [
       "[20, '30', 40.0, 20, '30', 40.0, 20, '30', 40.0]"
      ]
     },
     "execution_count": 25,
     "metadata": {
      "tags": []
     },
     "output_type": "execute_result"
    }
   ],
   "source": [
    "unsere_liste * 3"
   ]
  },
  {
   "cell_type": "markdown",
   "metadata": {
    "colab_type": "text",
    "id": "ma6QjXFbV6vF"
   },
   "source": [
    "Diese **Operatoren** erstellen eine **neue Liste**. \\\n",
    "Die ursprüngliche Liste wird nicht verändert:"
   ]
  },
  {
   "cell_type": "code",
   "execution_count": 0,
   "metadata": {
    "colab": {},
    "colab_type": "code",
    "id": "SHAxkPDUV6vG",
    "outputId": "951674ca-5ba8-4d5e-f3cf-83e92ae7806b"
   },
   "outputs": [
    {
     "data": {
      "text/plain": [
       "[20, '30', 40.0]"
      ]
     },
     "execution_count": 26,
     "metadata": {
      "tags": []
     },
     "output_type": "execute_result"
    }
   ],
   "source": [
    "unsere_liste"
   ]
  },
  {
   "cell_type": "markdown",
   "metadata": {
    "colab_type": "text",
    "id": "8CTYQxrYV6vI"
   },
   "source": [
    "Benötigt man also das **Ergebnis der Operation**, muss man der neuen Liste auch einen **Namen zuweisen**:"
   ]
  },
  {
   "cell_type": "code",
   "execution_count": 0,
   "metadata": {
    "colab": {},
    "colab_type": "code",
    "id": "5SwIb2U5V6vI",
    "outputId": "ab78d182-0cb6-411b-9c7c-f21423ec7c8b"
   },
   "outputs": [
    {
     "data": {
      "text/plain": [
       "[20, '30', 40.0, 1, 2, 3]"
      ]
     },
     "execution_count": 27,
     "metadata": {
      "tags": []
     },
     "output_type": "execute_result"
    }
   ],
   "source": [
    "neue_liste = unsere_liste + [1,2,3]\n",
    "neue_liste"
   ]
  },
  {
   "cell_type": "markdown",
   "metadata": {
    "colab_type": "text",
    "id": "YAjBn0rmV6vL"
   },
   "source": [
    "Alternativ kann man eine **Zuweisung zum ursprünglichen Namen** mit der Operation **zusammenfassen** mittels ```+=``` bzw. ```*=```"
   ]
  },
  {
   "cell_type": "code",
   "execution_count": 0,
   "metadata": {
    "colab": {},
    "colab_type": "code",
    "id": "oJpT3ccWV6vL",
    "outputId": "6b96cb85-acc2-4b64-da33-5c4e44999546"
   },
   "outputs": [
    {
     "name": "stdout",
     "output_type": "stream",
     "text": [
      "[20, '30', 40.0, 1, 2, 3, 20, '30', 40.0, 1, 2, 3, 20, '30', 40.0, 1, 2, 3]\n"
     ]
    }
   ],
   "source": [
    "neue_liste *= 3\n",
    "print(neue_liste)"
   ]
  },
  {
   "cell_type": "markdown",
   "metadata": {
    "colab_type": "text",
    "id": "2xFG8v-SV6vN"
   },
   "source": [
    "<div class=\"alert alert-block alert-info\">\n",
    "    <h3>Tipp: Operation + Zuweisung</h3>\n",
    "    \n",
    "Nicht nur ```+``` und ```*``` lassen sich mit einem ```=``` in einen **Zuweisungsoperator** verwandeln, sondern alle solchen Operatoren. Eine **Auflistung** der Möglichkeiten findet man im Modul [```operator```](https://docs.python.org/3.2/library/operator.html#operator.iadd)\n",
    "\n",
    "\n",
    "</div>"
   ]
  },
  {
   "cell_type": "markdown",
   "metadata": {
    "colab_type": "text",
    "id": "4DDp8XFkV6vN"
   },
   "source": [
    "**ACHTUNG!** Es werden dabei Referenzen angefügt, nicht Kopien!\n",
    "\n",
    "Erstellen wir eine Liste mit **drei leeren Listen** als Elementen:"
   ]
  },
  {
   "cell_type": "code",
   "execution_count": 1,
   "metadata": {
    "colab": {},
    "colab_type": "code",
    "id": "C5OrcM4yV6vN",
    "outputId": "b276bd8e-5a07-4370-ae36-29cc1f9c4718"
   },
   "outputs": [
    {
     "data": {
      "text/plain": [
       "[[], [], []]"
      ]
     },
     "execution_count": 1,
     "metadata": {},
     "output_type": "execute_result"
    }
   ],
   "source": [
    "liste_mit_listen = [[]]*3\n",
    "liste_mit_listen"
   ]
  },
  {
   "cell_type": "markdown",
   "metadata": {
    "colab_type": "text",
    "id": "6C2Mm5oxV6vP"
   },
   "source": [
    "Dann fügen wir an das **erste Element** (*Index* ```0```) der ```liste_mit_listen``` einen Wert an:"
   ]
  },
  {
   "cell_type": "code",
   "execution_count": 2,
   "metadata": {
    "colab": {},
    "colab_type": "code",
    "id": "604_3mGkV6vP"
   },
   "outputs": [],
   "source": [
    "liste_mit_listen[0].append(\"Hallo\")"
   ]
  },
  {
   "cell_type": "markdown",
   "metadata": {
    "colab_type": "text",
    "id": "4xeGOlaiV6vQ"
   },
   "source": [
    "*Wie sieht die* ```liste_mit_listen``` *nun aus?*"
   ]
  },
  {
   "cell_type": "code",
   "execution_count": 3,
   "metadata": {
    "colab": {},
    "colab_type": "code",
    "id": "FAnf_pGaV6vR",
    "outputId": "f52191d7-c7d8-43f5-d228-1f46f9482b94"
   },
   "outputs": [
    {
     "data": {
      "text/plain": [
       "[['Hallo'], ['Hallo'], ['Hallo']]"
      ]
     },
     "execution_count": 3,
     "metadata": {},
     "output_type": "execute_result"
    }
   ],
   "source": [
    "liste_mit_listen"
   ]
  },
  {
   "cell_type": "markdown",
   "metadata": {
    "colab_type": "text",
    "id": "x90o-r02V6vS"
   },
   "source": [
    "Dieses Problem lässt sich sowohl mit **Tupeln** als auch mit List-Comprehensions vermeiden. \\\n",
    "Zu beidem kommen wir **bald**!"
   ]
  },
  {
   "cell_type": "markdown",
   "metadata": {
    "colab_type": "text",
    "id": "LHWwzycLV6vS"
   },
   "source": [
    "Zurück zu unserer **Abfalldatenbank**! Wir wollen die Massen pro Einwohner in ihr zu einer Liste zusammenfassen:"
   ]
  },
  {
   "cell_type": "code",
   "execution_count": 0,
   "metadata": {
    "colab": {},
    "colab_type": "code",
    "id": "Ew2qRvh2V6vT"
   },
   "outputs": [],
   "source": [
    "masse_pro_ew = list(data_gefiltert[\"kg/EW\"])"
   ]
  },
  {
   "cell_type": "markdown",
   "metadata": {
    "colab_type": "text",
    "id": "TApuD5VHV6vV"
   },
   "source": [
    "**Zusätzlich** wollen wir eine **Liste mit den Indizes** dieser Elemente haben, die Funktion ```range``` hilft uns dabei eine **Kollektion mit ganzzahligen Elementen** zu erstellen.\n",
    "\n",
    "Sie übernimmt **drei ganzzahlige Argumente**: ```start```, ```stop``` & ```step``` \\\n",
    "Das Endwert in ```stop``` befindet sich allerdings **nicht** mehr in der Kollektion:"
   ]
  },
  {
   "cell_type": "code",
   "execution_count": 0,
   "metadata": {
    "colab": {},
    "colab_type": "code",
    "id": "T4C5xX-OV6vV",
    "outputId": "faa23aad-7343-4af6-8926-ab920bc61fc8"
   },
   "outputs": [
    {
     "data": {
      "text/plain": [
       "range(0, 4421)"
      ]
     },
     "execution_count": 33,
     "metadata": {
      "tags": []
     },
     "output_type": "execute_result"
    }
   ],
   "source": [
    "range(0, len(masse_pro_ew), 1) # beinhaltet also alle Indizes der Elemente in unserer Liste."
   ]
  },
  {
   "cell_type": "markdown",
   "metadata": {
    "colab_type": "text",
    "id": "_Lr5IskZV6vX"
   },
   "source": [
    "**Verpflichtend** ist allerdings nur das Argument ```stop```. \\\n",
    "Wird ```step``` weggelassen ist es automatisch ```1```. Lässt man auch ```start``` weg, ist dieser Wert auf ```0``` gesetzt."
   ]
  },
  {
   "cell_type": "code",
   "execution_count": 0,
   "metadata": {
    "colab": {},
    "colab_type": "code",
    "id": "pmP-MwSaV6vX",
    "outputId": "c4d62ec6-f88a-4cbf-dac1-79670c5fe592"
   },
   "outputs": [
    {
     "data": {
      "text/plain": [
       "[3, 5, 7, 9]"
      ]
     },
     "execution_count": 41,
     "metadata": {
      "tags": []
     },
     "output_type": "execute_result"
    }
   ],
   "source": [
    "list(range(3,10,2)) # beinhaltet also ebenso alle unsere Indizes"
   ]
  },
  {
   "cell_type": "markdown",
   "metadata": {
    "colab_type": "text",
    "id": "QL-x5alNV6vY"
   },
   "source": [
    "Mit der Funktion ```zip``` können wir nun, wie bei einem **Reißverschluss (*= Zipper*)** die Elemente der beiden Kollektionen in einer Kollektion zusammenfassen:"
   ]
  },
  {
   "cell_type": "code",
   "execution_count": 0,
   "metadata": {
    "colab": {},
    "colab_type": "code",
    "id": "QcaIL3kQV6vZ",
    "outputId": "1b4bc3ed-f93e-4d88-832d-27824ebc47f1"
   },
   "outputs": [
    {
     "data": {
      "text/plain": [
       "[(0, 181.72),\n",
       " (1, 31.51),\n",
       " (2, 78.49),\n",
       " (3, 22.15),\n",
       " (4, 2.24),\n",
       " (5, 2.5),\n",
       " (6, 4.59),\n",
       " (7, 24.98),\n",
       " (8, 1.42),\n",
       " (9, 1.87),\n",
       " (10, 0.01),\n",
       " (11, 0.08),\n",
       " (12, 0.19),\n",
       " (13, 0.02),\n",
       " (14, 0.02),\n",
       " (15, 0.0),\n",
       " (16, 0.15),\n",
       " (17, 0.6),\n",
       " (18, 0.6),\n",
       " (19, 20.96),\n",
       " (20, 73.29),\n",
       " (21, 0.56),\n",
       " (22, 1.64),\n",
       " (23, 0.2),\n",
       " (24, 109.51),\n",
       " (25, 15.64),\n",
       " (26, 76.95),\n",
       " (27, 226.96),\n",
       " (28, 3.18),\n",
       " (29, 6.23),\n",
       " (30, 11.05),\n",
       " (31, 0.37),\n",
       " (32, 0.57),\n",
       " (33, 0.12),\n",
       " (34, 0.8),\n",
       " (35, 4.35),\n",
       " (36, 7.72),\n",
       " (37, 5.29),\n",
       " (38, 0.26),\n",
       " (39, 79.36),\n",
       " (40, 28.57),\n",
       " (41, 113.55),\n",
       " (42, 68.74),\n",
       " (43, 3.18),\n",
       " (44, 4.0),\n",
       " (45, 17.13),\n",
       " (46, 0.29),\n",
       " (47, 0.17),\n",
       " (48, 0.54),\n",
       " (49, 0.28),\n",
       " (50, 0.83),\n",
       " (51, 4.02),\n",
       " (52, 13.08),\n",
       " (53, 1.62),\n",
       " (54, 0.24),\n",
       " (55, 122.53),\n",
       " (56, 18.98),\n",
       " (57, 132.53),\n",
       " (58, 3.4),\n",
       " (59, 3.43),\n",
       " (60, 9.34),\n",
       " (61, 14.99),\n",
       " (62, 0.35),\n",
       " (63, 1.28),\n",
       " (64, 0.32),\n",
       " (65, 0.28),\n",
       " (66, 0.04),\n",
       " (67, 1.03),\n",
       " (68, 3.17),\n",
       " (69, 7.62),\n",
       " (70, 0.12),\n",
       " (71, 0.34),\n",
       " (72, 83.59),\n",
       " (73, 25.65),\n",
       " (74, 74.02),\n",
       " (75, 5.78),\n",
       " (76, 3.18),\n",
       " (77, 11.95),\n",
       " (78, 21.59),\n",
       " (79, 0.42),\n",
       " (80, 0.79),\n",
       " (81, 0.25),\n",
       " (82, 2.24),\n",
       " (83, 1.55),\n",
       " (84, 17.87),\n",
       " (85, 1.91),\n",
       " (86, 0.06),\n",
       " (87, 0.3),\n",
       " (88, 113.06),\n",
       " (89, 36.09),\n",
       " (90, 22.2),\n",
       " (91, 2.42),\n",
       " (92, 16.21),\n",
       " (93, 47.65),\n",
       " (94, 0.32),\n",
       " (95, 0.18),\n",
       " (96, 1.02),\n",
       " (97, 0.35),\n",
       " (98, 0.43),\n",
       " (99, 1.43),\n",
       " (100, 2.31),\n",
       " (101, 39.59),\n",
       " (102, 0.99),\n",
       " (103, 0.01),\n",
       " (104, 3.33),\n",
       " (105, 1.02),\n",
       " (106, 91.09),\n",
       " (107, 41.76),\n",
       " (108, 18.33),\n",
       " (109, 3.17),\n",
       " (110, 0.31),\n",
       " (111, 2.11),\n",
       " (112, 0.21),\n",
       " (113, 0.0),\n",
       " (114, 4.08),\n",
       " (115, 70.49),\n",
       " (116, 19.34),\n",
       " (117, 15.36),\n",
       " (118, 2.24),\n",
       " (119, 3.18),\n",
       " (120, 8.06),\n",
       " (121, 16.23),\n",
       " (122, 0.36),\n",
       " (123, 1.02),\n",
       " (124, 0.43),\n",
       " (125, 0.27),\n",
       " (126, 2.07),\n",
       " (127, 1.26),\n",
       " (128, 12.52),\n",
       " (129, 1.43),\n",
       " (130, 0.71),\n",
       " (131, 0.53),\n",
       " (132, 0.31),\n",
       " (133, 118.18),\n",
       " (134, 20.19),\n",
       " (135, 92.68),\n",
       " (136, 8.37),\n",
       " (137, 35.15),\n",
       " (138, 3.22),\n",
       " (139, 4.19),\n",
       " (140, 17.24),\n",
       " (141, 0.39),\n",
       " (142, 0.34),\n",
       " (143, 0.91),\n",
       " (144, 0.06),\n",
       " (145, 0.12),\n",
       " (146, 0.39),\n",
       " (147, 1.89),\n",
       " (148, 15.36),\n",
       " (149, 1.9),\n",
       " (150, 0.77),\n",
       " (151, 0.19),\n",
       " (152, 77.07),\n",
       " (153, 59.81),\n",
       " (154, 20.62),\n",
       " (155, 50.87),\n",
       " (156, 4.23),\n",
       " (157, 27.84),\n",
       " (158, 39.04),\n",
       " (159, 1.49),\n",
       " (160, 1.67),\n",
       " (161, 0.45),\n",
       " (162, 0.01),\n",
       " (163, 0.98),\n",
       " (164, 1.67),\n",
       " (165, 1.29),\n",
       " (166, 37.13),\n",
       " (167, 0.59),\n",
       " (168, 3.2),\n",
       " (169, 108.85),\n",
       " (170, 1.43),\n",
       " (171, 38.94),\n",
       " (172, 3.18),\n",
       " (173, 1.71),\n",
       " (174, 0.71),\n",
       " (175, 0.23),\n",
       " (176, 92.82),\n",
       " (177, 21.35),\n",
       " (178, 167.92),\n",
       " (179, 2.79),\n",
       " (180, 2.55),\n",
       " (181, 2.42),\n",
       " (182, 3.19),\n",
       " (183, 23.05),\n",
       " (184, 0.24),\n",
       " (185, 0.44),\n",
       " (186, 0.38),\n",
       " (187, 0.0),\n",
       " (188, 0.56),\n",
       " (189, 0.02),\n",
       " (190, 0.02),\n",
       " (191, 0.47),\n",
       " (192, 0.83),\n",
       " (193, 1.09),\n",
       " (194, 0.13),\n",
       " (195, 25.8),\n",
       " (196, 0.18),\n",
       " (197, 1.73),\n",
       " (198, 1.38),\n",
       " (199, 1.89),\n",
       " (200, 0.75),\n",
       " (201, 0.63),\n",
       " (202, 0.18),\n",
       " (203, 106.25),\n",
       " (204, 54.27),\n",
       " (205, 11.01),\n",
       " (206, 2.58),\n",
       " (207, 146.12),\n",
       " (208, 3.17),\n",
       " (209, 1.63),\n",
       " (210, 22.74),\n",
       " (211, 0.05),\n",
       " (212, 0.66),\n",
       " (213, 0.19),\n",
       " (214, 1.12),\n",
       " (215, 0.01),\n",
       " (216, 1.16),\n",
       " (217, 0.1),\n",
       " (218, 59.77),\n",
       " (219, 54.81),\n",
       " (220, 4.16),\n",
       " (221, 2.42),\n",
       " (222, 10.0),\n",
       " (223, 34.07),\n",
       " (224, 0.19),\n",
       " (225, 2.17),\n",
       " (226, 0.91),\n",
       " (227, 1.01),\n",
       " (228, 2.07),\n",
       " (229, 1.5),\n",
       " (230, 31.11),\n",
       " (231, 0.39),\n",
       " (232, 6.81),\n",
       " (233, 0.95),\n",
       " (234, 0.99),\n",
       " (235, 108.09),\n",
       " (236, 59.33),\n",
       " (237, 6.14),\n",
       " (238, 31.62),\n",
       " (239, 2.42),\n",
       " (240, 20.34),\n",
       " (241, 43.89),\n",
       " (242, 145.26),\n",
       " (243, 1.01),\n",
       " (244, 4.66),\n",
       " (245, 2.21),\n",
       " (246, 2.84),\n",
       " (247, 1.19),\n",
       " (248, 1.88),\n",
       " (249, 0.98),\n",
       " (250, 98.02),\n",
       " (251, 29.43),\n",
       " (252, 30.11),\n",
       " (253, 29.0),\n",
       " (254, 3.18),\n",
       " (255, 13.35),\n",
       " (256, 24.41),\n",
       " (257, 0.11),\n",
       " (258, 2.84),\n",
       " (259, 1.11),\n",
       " (260, 0.14),\n",
       " (261, 0.46),\n",
       " (262, 1.31),\n",
       " (263, 0.9),\n",
       " (264, 23.93),\n",
       " (265, 2.3),\n",
       " (266, 0.51),\n",
       " (267, 0.92),\n",
       " (268, 44.32),\n",
       " (269, 47.05),\n",
       " (270, 3.18),\n",
       " (271, 16.27),\n",
       " (272, 28.81),\n",
       " (273, 4.22),\n",
       " (274, 1.51),\n",
       " (275, 1.92),\n",
       " (276, 2.98),\n",
       " (277, 19.3),\n",
       " (278, 2.57),\n",
       " (279, 0.66),\n",
       " (280, 85.15),\n",
       " (281, 12.96),\n",
       " (282, 22.96),\n",
       " (283, 3.18),\n",
       " (284, 0.25),\n",
       " (285, 8.79),\n",
       " (286, 0.16),\n",
       " (287, 0.45),\n",
       " (288, 0.53),\n",
       " (289, 1.16),\n",
       " (290, 0.04),\n",
       " (291, 0.72),\n",
       " (292, 76.11),\n",
       " (293, 30.1),\n",
       " (294, 2.43),\n",
       " (295, 25.94),\n",
       " (296, 28.47),\n",
       " (297, 2.38),\n",
       " (298, 7.09),\n",
       " (299, 1.22),\n",
       " (300, 0.73),\n",
       " (301, 1.67),\n",
       " (302, 1.18),\n",
       " (303, 2.79),\n",
       " (304, 0.43),\n",
       " (305, 43.5),\n",
       " (306, 32.41),\n",
       " (307, 13.55),\n",
       " (308, 2.42),\n",
       " (309, 32.35),\n",
       " (310, 23.73),\n",
       " (311, 0.48),\n",
       " (312, 0.6),\n",
       " (313, 0.74),\n",
       " (314, 1.01),\n",
       " (315, 4.64),\n",
       " (316, 16.28),\n",
       " (317, 4.4),\n",
       " (318, 0.56),\n",
       " (319, 78.18),\n",
       " (320, 64.17),\n",
       " (321, 12.26),\n",
       " (322, 9.07),\n",
       " (323, 16.33),\n",
       " (324, 54.22),\n",
       " (325, 0.6),\n",
       " (326, 0.7),\n",
       " (327, 0.55),\n",
       " (328, 2.46),\n",
       " (329, 0.08),\n",
       " (330, 0.03),\n",
       " (331, 97.5),\n",
       " (332, 28.58),\n",
       " (333, 12.46),\n",
       " (334, 7.5),\n",
       " (335, 3.18),\n",
       " (336, 17.47),\n",
       " (337, 36.71),\n",
       " (338, 1.41),\n",
       " (339, 1.8),\n",
       " (340, 0.37),\n",
       " (341, 0.39),\n",
       " (342, 0.89),\n",
       " (343, 0.48),\n",
       " (344, 0.91),\n",
       " (345, 3.96),\n",
       " (346, 1.48),\n",
       " (347, 39.01),\n",
       " (348, 6.35),\n",
       " (349, 1.73),\n",
       " (350, 0.17),\n",
       " (351, 0.82),\n",
       " (352, 82.97),\n",
       " (353, 31.82),\n",
       " (354, 25.43),\n",
       " (355, 32.11),\n",
       " (356, 3.18),\n",
       " (357, 10.36),\n",
       " (358, 24.44),\n",
       " (359, 0.09),\n",
       " (360, 0.32),\n",
       " (361, 0.54),\n",
       " (362, 0.59),\n",
       " (363, 0.98),\n",
       " (364, 4.96),\n",
       " (365, 1.14),\n",
       " (366, 17.54),\n",
       " (367, 1.02),\n",
       " (368, 0.32),\n",
       " (369, 0.3),\n",
       " (370, 55.91),\n",
       " (371, 21.41),\n",
       " (372, 118.77),\n",
       " (373, 58.61),\n",
       " (374, 3.18),\n",
       " (375, 9.15),\n",
       " (376, 18.59),\n",
       " (377, 0.54),\n",
       " (378, 0.35),\n",
       " (379, 0.85),\n",
       " (380, 1.41),\n",
       " (381, 0.28),\n",
       " (382, 1.11),\n",
       " (383, 8.62),\n",
       " (384, 23.52),\n",
       " (385, 2.71),\n",
       " (386, 0.47),\n",
       " (387, 106.81),\n",
       " (388, 54.57),\n",
       " (389, 35.54),\n",
       " (390, 57.32),\n",
       " (391, 3.18),\n",
       " (392, 4.82),\n",
       " (393, 16.43),\n",
       " (394, 0.14),\n",
       " (395, 0.24),\n",
       " (396, 0.48),\n",
       " (397, 0.01),\n",
       " (398, 0.67),\n",
       " (399, 6.31),\n",
       " (400, 0.07),\n",
       " (401, 3.49),\n",
       " (402, 0.05),\n",
       " (403, 0.13),\n",
       " (404, 0.41),\n",
       " (405, 135.37),\n",
       " (406, 30.36),\n",
       " (407, 68.54),\n",
       " (408, 29.23),\n",
       " (409, 4.88),\n",
       " (410, 13.83),\n",
       " (411, 35.43),\n",
       " (412, 3.47),\n",
       " (413, 3.23),\n",
       " (414, 0.93),\n",
       " (415, 1.48),\n",
       " (416, 0.96),\n",
       " (417, 1.44),\n",
       " (418, 7.26),\n",
       " (419, 2.87),\n",
       " (420, 2.1),\n",
       " (421, 0.04),\n",
       " (422, 0.18),\n",
       " (423, 0.79),\n",
       " (424, 97.17),\n",
       " (425, 12.62),\n",
       " (426, 25.3),\n",
       " (427, 1.65),\n",
       " (428, 18.59),\n",
       " (429, 3.18),\n",
       " (430, 19.89),\n",
       " (431, 22.06),\n",
       " (432, 0.58),\n",
       " (433, 2.65),\n",
       " (434, 0.64),\n",
       " (435, 0.76),\n",
       " (436, 2.01),\n",
       " (437, 1.44),\n",
       " (438, 0.9),\n",
       " (439, 4.62),\n",
       " (440, 5.17),\n",
       " (441, 2.67),\n",
       " (442, 2.28),\n",
       " (443, 2.42),\n",
       " (444, 0.01),\n",
       " (445, 95.34),\n",
       " (446, 30.85),\n",
       " (447, 0.25),\n",
       " (448, 5.84),\n",
       " (449, 11.2),\n",
       " (450, 33.67),\n",
       " (451, 1.07),\n",
       " (452, 0.86),\n",
       " (453, 0.73),\n",
       " (454, 0.1),\n",
       " (455, 0.66),\n",
       " (456, 0.06),\n",
       " (457, 0.8),\n",
       " (458, 1.23),\n",
       " (459, 1.28),\n",
       " (460, 27.31),\n",
       " (461, 1.05),\n",
       " (462, 3.51),\n",
       " (463, 0.5),\n",
       " (464, 0.64),\n",
       " (465, 100.54),\n",
       " (466, 16.88),\n",
       " (467, 67.3),\n",
       " (468, 10.74),\n",
       " (469, 47.92),\n",
       " (470, 3.18),\n",
       " (471, 10.89),\n",
       " (472, 17.58),\n",
       " (473, 0.37),\n",
       " (474, 0.85),\n",
       " (475, 0.12),\n",
       " (476, 0.12),\n",
       " (477, 0.97),\n",
       " (478, 1.77),\n",
       " (479, 0.07),\n",
       " (480, 0.33),\n",
       " (481, 1.78),\n",
       " (482, 5.13),\n",
       " (483, 17.08),\n",
       " (484, 0.4),\n",
       " (485, 0.49),\n",
       " (486, 0.51),\n",
       " (487, 128.76),\n",
       " (488, 51.32),\n",
       " (489, 85.55),\n",
       " (490, 0.46),\n",
       " (491, 68.28),\n",
       " (492, 3.18),\n",
       " (493, 5.96),\n",
       " (494, 9.75),\n",
       " (495, 0.13),\n",
       " (496, 0.64),\n",
       " (497, 0.03),\n",
       " (498, 0.53),\n",
       " (499, 0.15),\n",
       " (500, 2.3),\n",
       " (501, 4.87),\n",
       " (502, 0.65),\n",
       " (503, 5.21),\n",
       " (504, 0.14),\n",
       " (505, 0.15),\n",
       " (506, 0.46),\n",
       " (507, 93.67),\n",
       " (508, 31.16),\n",
       " (509, 35.43),\n",
       " (510, 24.09),\n",
       " (511, 3.18),\n",
       " (512, 10.99),\n",
       " (513, 35.45),\n",
       " (514, 0.36),\n",
       " (515, 0.94),\n",
       " (516, 0.26),\n",
       " (517, 0.68),\n",
       " (518, 0.0),\n",
       " (519, 0.06),\n",
       " (520, 0.0),\n",
       " (521, 0.27),\n",
       " (522, 3.2),\n",
       " (523, 0.36),\n",
       " (524, 29.22),\n",
       " (525, 0.11),\n",
       " (526, 0.46),\n",
       " (527, 0.29),\n",
       " (528, 0.06),\n",
       " (529, 0.46),\n",
       " (530, 92.08),\n",
       " (531, 27.51),\n",
       " (532, 39.08),\n",
       " (533, 2.42),\n",
       " (534, 5.53),\n",
       " (535, 16.65),\n",
       " (536, 0.84),\n",
       " (537, 0.07),\n",
       " (538, 0.71),\n",
       " (539, 3.96),\n",
       " (540, 0.63),\n",
       " (541, 0.83),\n",
       " (542, 0.76),\n",
       " (543, 1.16),\n",
       " (544, 0.56),\n",
       " (545, 0.12),\n",
       " (546, 0.39),\n",
       " (547, 92.81),\n",
       " (548, 20.45),\n",
       " (549, 7.6),\n",
       " (550, 44.35),\n",
       " (551, 3.18),\n",
       " (552, 9.98),\n",
       " (553, 20.53),\n",
       " (554, 2.1),\n",
       " (555, 0.59),\n",
       " (556, 0.03),\n",
       " (557, 0.88),\n",
       " (558, 0.72),\n",
       " (559, 0.67),\n",
       " (560, 10.29),\n",
       " (561, 5.53),\n",
       " (562, 1.96),\n",
       " (563, 4.64),\n",
       " (564, 0.58),\n",
       " (565, 67.0),\n",
       " (566, 24.13),\n",
       " (567, 106.09),\n",
       " (568, 16.81),\n",
       " (569, 3.18),\n",
       " (570, 30.31),\n",
       " (571, 0.21),\n",
       " (572, 0.6),\n",
       " (573, 0.69),\n",
       " (574, 0.16),\n",
       " (575, 0.42),\n",
       " (576, 0.62),\n",
       " (577, 0.68),\n",
       " (578, 79.55),\n",
       " (579, 2.34),\n",
       " (580, 0.37),\n",
       " (581, 90.3),\n",
       " (582, 21.35),\n",
       " (583, 2.18),\n",
       " (584, 20.06),\n",
       " (585, 3.18),\n",
       " (586, 11.13),\n",
       " (587, 20.86),\n",
       " (588, 1.29),\n",
       " (589, 2.4),\n",
       " (590, 1.01),\n",
       " (591, 0.44),\n",
       " (592, 0.22),\n",
       " (593, 0.51),\n",
       " (594, 0.7),\n",
       " (595, 1.03),\n",
       " (596, 1.15),\n",
       " (597, 20.85),\n",
       " (598, 1.15),\n",
       " (599, 0.64),\n",
       " (600, 55.14),\n",
       " (601, 16.17),\n",
       " (602, 66.59),\n",
       " (603, 6.18),\n",
       " (604, 5.77),\n",
       " (605, 5.35),\n",
       " (606, 8.74),\n",
       " (607, 0.17),\n",
       " (608, 0.76),\n",
       " (609, 0.17),\n",
       " (610, 0.62),\n",
       " (611, 0.75),\n",
       " (612, 0.83),\n",
       " (613, 0.6),\n",
       " (614, 0.27),\n",
       " (615, 1.09),\n",
       " (616, 0.31),\n",
       " (617, 92.64),\n",
       " (618, 21.36),\n",
       " (619, 87.91),\n",
       " (620, 3.48),\n",
       " (621, 3.38),\n",
       " (622, 4.92),\n",
       " (623, 40.32),\n",
       " (624, 0.81),\n",
       " (625, 0.18),\n",
       " (626, 0.21),\n",
       " (627, 0.0),\n",
       " (628, 0.32),\n",
       " (629, 0.27),\n",
       " (630, 0.09),\n",
       " (631, 0.38),\n",
       " (632, 0.0),\n",
       " (633, 0.77),\n",
       " (634, 7.92),\n",
       " (635, 24.15),\n",
       " (636, 0.37),\n",
       " (637, 4.73),\n",
       " (638, 1.57),\n",
       " (639, 0.13),\n",
       " (640, 0.22),\n",
       " (641, 108.68),\n",
       " (642, 31.72),\n",
       " (643, 50.28),\n",
       " (644, 5.95),\n",
       " (645, 12.22),\n",
       " (646, 21.1),\n",
       " (647, 0.77),\n",
       " (648, 1.12),\n",
       " (649, 1.06),\n",
       " (650, 0.62),\n",
       " (651, 2.16),\n",
       " (652, 0.03),\n",
       " (653, 0.12),\n",
       " (654, 109.18),\n",
       " (655, 16.94),\n",
       " (656, 84.73),\n",
       " (657, 2.55),\n",
       " (658, 5.6),\n",
       " (659, 20.15),\n",
       " (660, 0.97),\n",
       " (661, 0.03),\n",
       " (662, 0.42),\n",
       " (663, 0.81),\n",
       " (664, 4.01),\n",
       " (665, 1.13),\n",
       " (666, 1.02),\n",
       " (667, 3.96),\n",
       " (668, 13.75),\n",
       " (669, 0.0),\n",
       " (670, 0.04),\n",
       " (671, 1.54),\n",
       " (672, 0.58),\n",
       " (673, 0.26),\n",
       " (674, 0.42),\n",
       " (675, 44.66),\n",
       " (676, 11.86),\n",
       " (677, 32.58),\n",
       " (678, 12.29),\n",
       " (679, 17.84),\n",
       " (680, 46.0),\n",
       " (681, 1.27),\n",
       " (682, 0.28),\n",
       " (683, 0.82),\n",
       " (684, 10.05),\n",
       " (685, 61.44),\n",
       " (686, 5.53),\n",
       " (687, 47.2),\n",
       " (688, 14.03),\n",
       " (689, 13.83),\n",
       " (690, 2.47),\n",
       " (691, 4.49),\n",
       " (692, 1.15),\n",
       " (693, 72.77),\n",
       " (694, 39.37),\n",
       " (695, 8.01),\n",
       " (696, 1.7),\n",
       " (697, 18.66),\n",
       " (698, 24.62),\n",
       " (699, 0.45),\n",
       " (700, 0.01),\n",
       " (701, 0.08),\n",
       " (702, 0.15),\n",
       " (703, 0.22),\n",
       " (704, 0.5),\n",
       " (705, 0.03),\n",
       " (706, 0.54),\n",
       " (707, 0.56),\n",
       " (708, 0.49),\n",
       " (709, 0.86),\n",
       " (710, 2.98),\n",
       " (711, 0.42),\n",
       " (712, 2.51),\n",
       " (713, 1.91),\n",
       " (714, 0.36),\n",
       " (715, 2.45),\n",
       " (716, 122.26),\n",
       " (717, 23.72),\n",
       " (718, 5.59),\n",
       " (719, 5.54),\n",
       " (720, 11.98),\n",
       " (721, 88.11),\n",
       " (722, 72.38),\n",
       " (723, 26.76),\n",
       " (724, 5.3),\n",
       " (725, 126.82),\n",
       " (726, 1.61),\n",
       " (727, 53.74),\n",
       " (728, 59.56),\n",
       " (729, 1.74),\n",
       " (730, 2.73),\n",
       " (731, 10.24),\n",
       " (732, 4.25),\n",
       " (733, 2.89),\n",
       " (734, 2.84),\n",
       " (735, 33.5),\n",
       " (736, 0.79),\n",
       " (737, 1.51),\n",
       " (738, 150.05),\n",
       " (739, 35.04),\n",
       " (740, 40.25),\n",
       " (741, 2.63),\n",
       " (742, 5.98),\n",
       " (743, 24.06),\n",
       " (744, 18.29),\n",
       " (745, 23.25),\n",
       " (746, 0.37),\n",
       " (747, 11.55),\n",
       " (748, 0.17),\n",
       " (749, 0.62),\n",
       " (750, 0.01),\n",
       " (751, 0.61),\n",
       " (752, 0.01),\n",
       " (753, 0.88),\n",
       " (754, 1.1),\n",
       " (755, 8.72),\n",
       " (756, 0.56),\n",
       " (757, 0.44),\n",
       " (758, 0.62),\n",
       " (759, 89.96),\n",
       " (760, 40.39),\n",
       " (761, 17.65),\n",
       " (762, 2.28),\n",
       " (763, 12.63),\n",
       " (764, 12.98),\n",
       " (765, 30.25),\n",
       " (766, 0.86),\n",
       " (767, 1.02),\n",
       " (768, 0.02),\n",
       " (769, 0.93),\n",
       " (770, 1.11),\n",
       " (771, 0.55),\n",
       " (772, 6.1),\n",
       " (773, 0.34),\n",
       " (774, 0.37),\n",
       " (775, 108.04),\n",
       " (776, 7.56),\n",
       " (777, 28.07),\n",
       " (778, 7.15),\n",
       " (779, 1.66),\n",
       " (780, 0.06),\n",
       " (781, 82.55),\n",
       " (782, 43.79),\n",
       " (783, 3.42),\n",
       " (784, 1.63),\n",
       " (785, 26.23),\n",
       " (786, 36.12),\n",
       " (787, 2.18),\n",
       " (788, 1.98),\n",
       " (789, 0.79),\n",
       " (790, 5.25),\n",
       " (791, 0.92),\n",
       " (792, 1.16),\n",
       " (793, 0.72),\n",
       " (794, 9.42),\n",
       " (795, 0.62),\n",
       " (796, 94.11),\n",
       " (797, 1.28),\n",
       " (798, 4.14),\n",
       " (799, 11.44),\n",
       " (800, 0.21),\n",
       " (801, 0.24),\n",
       " (802, 92.75),\n",
       " (803, 44.85),\n",
       " (804, 13.64),\n",
       " (805, 4.03),\n",
       " (806, 17.5),\n",
       " (807, 23.68),\n",
       " (808, 36.86),\n",
       " (809, 0.19),\n",
       " (810, 0.48),\n",
       " (811, 0.46),\n",
       " (812, 0.02),\n",
       " (813, 0.66),\n",
       " (814, 1.67),\n",
       " (815, 1.24),\n",
       " (816, 1.22),\n",
       " (817, 108.96),\n",
       " (818, 32.01),\n",
       " (819, 25.82),\n",
       " (820, 2.49),\n",
       " (821, 82.49),\n",
       " (822, 18.96),\n",
       " (823, 32.86),\n",
       " (824, 0.07),\n",
       " (825, 0.2),\n",
       " (826, 0.11),\n",
       " (827, 0.83),\n",
       " (828, 0.85),\n",
       " (829, 1.65),\n",
       " (830, 0.51),\n",
       " (831, 0.37),\n",
       " (832, 81.83),\n",
       " (833, 37.1),\n",
       " (834, 21.96),\n",
       " (835, 2.31),\n",
       " (836, 11.32),\n",
       " (837, 22.93),\n",
       " (838, 31.81),\n",
       " (839, 0.2),\n",
       " (840, 1.44),\n",
       " (841, 1.12),\n",
       " (842, 0.98),\n",
       " (843, 1.38),\n",
       " (844, 0.51),\n",
       " (845, 76.92),\n",
       " (846, 24.59),\n",
       " (847, 15.52),\n",
       " (848, 4.28),\n",
       " (849, 21.51),\n",
       " (850, 27.72),\n",
       " (851, 2.62),\n",
       " (852, 0.06),\n",
       " (853, 0.85),\n",
       " (854, 4.28),\n",
       " (855, 0.0),\n",
       " (856, 1.0),\n",
       " (857, 1.12),\n",
       " (858, 0.7),\n",
       " (859, 6.6),\n",
       " (860, 0.54),\n",
       " (861, 0.4),\n",
       " (862, 71.4),\n",
       " (863, 24.57),\n",
       " (864, 3.9),\n",
       " (865, 27.33),\n",
       " (866, 39.3),\n",
       " (867, 0.5),\n",
       " (868, 0.79),\n",
       " (869, 0.75),\n",
       " (870, 2.74),\n",
       " (871, 2.1),\n",
       " (872, 1.68),\n",
       " (873, 35.23),\n",
       " (874, 5.28),\n",
       " (875, 0.81),\n",
       " (876, 86.15),\n",
       " (877, 30.21),\n",
       " (878, 4.15),\n",
       " (879, 18.31),\n",
       " (880, 16.45),\n",
       " (881, 1.21),\n",
       " (882, 1.11),\n",
       " (883, 0.05),\n",
       " (884, 0.73),\n",
       " (885, 0.65),\n",
       " (886, 0.41),\n",
       " (887, 19.79),\n",
       " (888, 0.41),\n",
       " (889, 0.73),\n",
       " (890, 80.4),\n",
       " (891, 22.84),\n",
       " (892, 4.13),\n",
       " (893, 27.5),\n",
       " (894, 5.77),\n",
       " (895, 0.88),\n",
       " (896, 2.13),\n",
       " (897, 0.85),\n",
       " (898, 0.95),\n",
       " (899, 1.12),\n",
       " (900, 0.74),\n",
       " (901, 7.95),\n",
       " (902, 3.04),\n",
       " (903, 2.15),\n",
       " (904, 124.88),\n",
       " (905, 8.26),\n",
       " (906, 0.03),\n",
       " (907, 4.16),\n",
       " (908, 17.59),\n",
       " (909, 16.06),\n",
       " (910, 1.54),\n",
       " (911, 0.05),\n",
       " (912, 1.07),\n",
       " (913, 2.21),\n",
       " (914, 1.15),\n",
       " (915, 1.64),\n",
       " (916, 5.13),\n",
       " (917, 0.38),\n",
       " (918, 1.08),\n",
       " (919, 106.75),\n",
       " (920, 25.43),\n",
       " (921, 70.66),\n",
       " (922, 1.12),\n",
       " (923, 4.09),\n",
       " (924, 13.34),\n",
       " (925, 12.91),\n",
       " (926, 0.97),\n",
       " (927, 1.15),\n",
       " (928, 0.04),\n",
       " (929, 0.64),\n",
       " (930, 0.0),\n",
       " (931, 0.35),\n",
       " (932, 0.82),\n",
       " (933, 1.37),\n",
       " (934, 15.1),\n",
       " (935, 0.74),\n",
       " (936, 0.97),\n",
       " (937, 0.28),\n",
       " (938, 88.72),\n",
       " (939, 27.63),\n",
       " (940, 17.83),\n",
       " (941, 5.37),\n",
       " (942, 28.21),\n",
       " (943, 4.01),\n",
       " (944, 24.33),\n",
       " (945, 33.25),\n",
       " (946, 1.45),\n",
       " (947, 0.59),\n",
       " (948, 2.56),\n",
       " (949, 0.15),\n",
       " (950, 0.57),\n",
       " (951, 3.25),\n",
       " (952, 1.62),\n",
       " (953, 1.59),\n",
       " (954, 2.21),\n",
       " (955, 1.26),\n",
       " (956, 20.77),\n",
       " (957, 3.1),\n",
       " (958, 2.96),\n",
       " (959, 0.99),\n",
       " (960, 102.03),\n",
       " (961, 43.14),\n",
       " (962, 41.69),\n",
       " (963, 2.8),\n",
       " (964, 7.53),\n",
       " (965, 10.26),\n",
       " (966, 26.73),\n",
       " (967, 0.06),\n",
       " (968, 0.02),\n",
       " (969, 0.6),\n",
       " (970, 0.01),\n",
       " (971, 0.01),\n",
       " (972, 0.44),\n",
       " (973, 0.74),\n",
       " (974, 0.45),\n",
       " (975, 0.7),\n",
       " (976, 0.76),\n",
       " (977, 24.0),\n",
       " (978, 0.89),\n",
       " (979, 1.44),\n",
       " (980, 0.07),\n",
       " (981, 86.12),\n",
       " (982, 46.84),\n",
       " (983, 14.38),\n",
       " (984, 5.17),\n",
       " (985, 16.25),\n",
       " (986, 4.16),\n",
       " (987, 12.59),\n",
       " (988, 29.91),\n",
       " (989, 2.47),\n",
       " (990, 3.02),\n",
       " (991, 0.2),\n",
       " (992, 0.07),\n",
       " (993, 1.32),\n",
       " (994, 0.97),\n",
       " (995, 1.06),\n",
       " (996, 1.71),\n",
       " (997, 0.78),\n",
       " (998, 11.57),\n",
       " (999, 37.35),\n",
       " ...]"
      ]
     },
     "execution_count": 42,
     "metadata": {
      "tags": []
     },
     "output_type": "execute_result"
    }
   ],
   "source": [
    "list(zip(indizes,masse_pro_ew)) # wir erstellen nach 'zip' wieder eine Liste"
   ]
  },
  {
   "cell_type": "markdown",
   "metadata": {
    "colab_type": "text",
    "id": "kl1h2Q9LV6va"
   },
   "source": [
    "*Welchen Typen haben die Elemente dieser Liste?*"
   ]
  },
  {
   "cell_type": "markdown",
   "metadata": {
    "colab_type": "text",
    "id": "jSqgoFM_V6va"
   },
   "source": [
    "## Tupel\n",
    "\n",
    "Tupel sind die **immutablen** Geschwister von Listen. Dem entsprechend bieten sie **keine** Methoden wie ```append``` oder ```pop```. Ist ein Tupel einmal **initiiert** kann es nicht verändert, sondern nur ein anderes **neues** Tupel geschaffen werden. Warum das wichtig ist, werden wir bald sehen!\n",
    "\n",
    "Ein leeres Tupel erstellt man entweder mit ```tuple()``` oder mit ```()```."
   ]
  },
  {
   "cell_type": "code",
   "execution_count": 0,
   "metadata": {
    "colab": {},
    "colab_type": "code",
    "id": "2r21s3jxV6vc",
    "outputId": "5d41b591-9426-493e-e212-89306a2e89d1"
   },
   "outputs": [
    {
     "data": {
      "text/plain": [
       "tuple"
      ]
     },
     "execution_count": 43,
     "metadata": {
      "tags": []
     },
     "output_type": "execute_result"
    }
   ],
   "source": [
    "# Der Typ der Elemente in der Liste 'masse_pro_ew':\n",
    "type(list(zip(indizes,masse_pro_ew))[0])"
   ]
  },
  {
   "cell_type": "markdown",
   "metadata": {
    "colab_type": "text",
    "id": "oEYC8MWpV6ve"
   },
   "source": [
    "Tupel **eignen** sich vor allem als **Rückgabewert** von Funktionen (*siehe unten*) oder um **zusammengehörige Werte** zusammenzufassen."
   ]
  },
  {
   "cell_type": "code",
   "execution_count": 0,
   "metadata": {
    "colab": {},
    "colab_type": "code",
    "id": "jskQZj1iV6ve",
    "outputId": "19838061-2509-426f-c3bb-d40524ef273c"
   },
   "outputs": [
    {
     "data": {
      "text/plain": [
       "(0, 1, 2, 10, 11, 12)"
      ]
     },
     "execution_count": 44,
     "metadata": {
      "tags": []
     },
     "output_type": "execute_result"
    }
   ],
   "source": [
    "tuple(range(3)) + tuple(range(10,13))"
   ]
  },
  {
   "cell_type": "markdown",
   "metadata": {
    "colab_type": "text",
    "id": "BsrJnvQ9V6vf"
   },
   "source": [
    "Man kann Tupel also wie Listen mit ```+``` **zusammenfügen**. Die **Wiederholung** mit ```*``` funktioniert ebenfalls nach dem gleichen Prinzip:"
   ]
  },
  {
   "cell_type": "code",
   "execution_count": 0,
   "metadata": {
    "colab": {},
    "colab_type": "code",
    "id": "WB4dHW0_V6vf",
    "outputId": "8efc99bf-4061-45be-f1f4-6149ffb3a299"
   },
   "outputs": [
    {
     "data": {
      "text/plain": [
       "(0, 1, 2, 0, 1, 2, 0, 1, 2)"
      ]
     },
     "execution_count": 45,
     "metadata": {
      "tags": []
     },
     "output_type": "execute_result"
    }
   ],
   "source": [
    "tup = tuple(range(3))\n",
    "tup * 3 "
   ]
  },
  {
   "cell_type": "markdown",
   "metadata": {
    "colab_type": "text",
    "id": "jxJr8e3mV6vh"
   },
   "source": [
    "*Wie helfen uns Tupel jetzt das Problem mit der* ```liste_mit_listen``` *zu lösen?*"
   ]
  },
  {
   "cell_type": "markdown",
   "metadata": {
    "colab_type": "text",
    "id": "jCEY-q7oV6vh"
   },
   "source": [
    "Da Tupel **nicht mutabel** sind, sich also eigentlich nicht verändern lassen, wird **bei jeder Veränderung ein neues\n",
    "Tupel** erschaffen und dem Namen zugewiesen. \\\n",
    "Deshalb muss man statt der ```append``` - Methode, den ```+=``` - **in-place Operator** verwenden:"
   ]
  },
  {
   "cell_type": "code",
   "execution_count": 4,
   "metadata": {
    "colab": {},
    "colab_type": "code",
    "id": "dkG0Xp8GV6vh",
    "outputId": "b6c64b61-0629-43f2-fca7-52264c797238"
   },
   "outputs": [
    {
     "data": {
      "text/plain": [
       "[(1,), (), ()]"
      ]
     },
     "execution_count": 4,
     "metadata": {},
     "output_type": "execute_result"
    }
   ],
   "source": [
    "liste_mit_tupeln = [()]*3\n",
    "liste_mit_tupeln[0] += 1,\n",
    "liste_mit_tupeln"
   ]
  },
  {
   "cell_type": "markdown",
   "metadata": {
    "colab_type": "text",
    "id": "in2XXfWSV6vj"
   },
   "source": [
    "<div class=\"alert alert-block alert-info\">\n",
    "    <h3>Tipp: Ein-Element-Tupel</h3>\n",
    "    \n",
    "Will man **kein leeres** Tupel schaffen sondern eines mit Elementen, braucht man **keine Klammern** ```()```. Es ist **in Wirklichkeit** das Komma ```,``` welches das Tupel erstellt!\n",
    "\n",
    "Deshalb funktioniert es in der vorhergehenden Zelle ```1,``` zu schreiben.\n",
    "</div>"
   ]
  },
  {
   "cell_type": "markdown",
   "metadata": {
    "colab_type": "text",
    "id": "54n-2EBOV6vj"
   },
   "source": [
    "Dass ein neues Element erstellt wird, lässt sich leicht mit dem Operator **```is``` überprüfen**."
   ]
  },
  {
   "cell_type": "markdown",
   "metadata": {
    "colab_type": "text",
    "id": "c_80dJ7OV6vj"
   },
   "source": [
    "Verweisen zwei Namen auf **dieselbe ID** (*und damit dasselbe Element im Speicher*) ergibt er ```True```, ansonsten ```False```."
   ]
  },
  {
   "cell_type": "markdown",
   "metadata": {
    "colab_type": "text",
    "id": "5mEyJpInV6vk"
   },
   "source": [
    "Wir überprüfen einmal die Elemente der ```liste_mit_tupeln``` und dann jene der ```liste_mit_listen```:"
   ]
  },
  {
   "cell_type": "code",
   "execution_count": 6,
   "metadata": {
    "colab": {},
    "colab_type": "code",
    "id": "hSSnIimSV6vk",
    "outputId": "5c7de399-cc17-49a8-98b7-ff38a44e40eb"
   },
   "outputs": [
    {
     "data": {
      "text/plain": [
       "(False, True)"
      ]
     },
     "execution_count": 6,
     "metadata": {},
     "output_type": "execute_result"
    }
   ],
   "source": [
    "liste_mit_tupeln[0] is liste_mit_tupeln[2] , liste_mit_listen[0] is liste_mit_listen[2]"
   ]
  },
  {
   "cell_type": "markdown",
   "metadata": {
    "colab_type": "text",
    "id": "ORfDQuy3V6vl"
   },
   "source": [
    "Weisen wir den anderen **Elemente**n in der Liste mit Tupeln den **gleichen Wert** zu, behalten sie ihre **unterschiedlichen ID**s (*d.h. sie referenzieren andere Stellen im Speicher*):"
   ]
  },
  {
   "cell_type": "code",
   "execution_count": 8,
   "metadata": {
    "colab": {},
    "colab_type": "code",
    "id": "en5PdjqoV6vm",
    "outputId": "6c14be88-05e8-473d-c2f3-266a0b866f2b"
   },
   "outputs": [
    {
     "data": {
      "text/plain": [
       "[(1,), (1,), ()]"
      ]
     },
     "execution_count": 8,
     "metadata": {},
     "output_type": "execute_result"
    }
   ],
   "source": [
    "liste_mit_tupeln[1] += 1,\n",
    "print(liste_mit_tupeln)\n",
    "\n",
    "liste_mit_tupeln[0] is liste_mit_tupeln[1]"
   ]
  },
  {
   "cell_type": "markdown",
   "metadata": {
    "colab_type": "text",
    "id": "IKw_heK4V6vn"
   },
   "source": [
    "*Wie lässt sich nun überprüfen, ob die Elemente den selben Wert unabhängig von der Speicherposition haben?*"
   ]
  },
  {
   "cell_type": "markdown",
   "metadata": {
    "colab_type": "text",
    "id": "lHGMSY3BV6vo"
   },
   "source": [
    "Hier offenbart sich der Unterschied zwischen ```==``` und **```is```**. Es ist daher **Vorsicht geboten welche** Art von Vergleich man anwenden will:"
   ]
  },
  {
   "cell_type": "code",
   "execution_count": 0,
   "metadata": {
    "colab": {},
    "colab_type": "code",
    "id": "dWlKGvkXV6vo",
    "outputId": "0143b004-4ea0-417e-f79e-eecf4e7275fe"
   },
   "outputs": [
    {
     "data": {
      "text/plain": [
       "True"
      ]
     },
     "execution_count": 50,
     "metadata": {
      "tags": []
     },
     "output_type": "execute_result"
    }
   ],
   "source": [
    "liste_mit_tupeln[0] == liste_mit_tupeln[1]"
   ]
  },
  {
   "cell_type": "markdown",
   "metadata": {
    "colab_type": "text",
    "id": "T1K2KH3AV6vp"
   },
   "source": [
    "Zurück zu den **Abfalldaten** der Steiermark. \n",
    "\n",
    "Die Einträge der **Massen** sollen jeweils eindeutig einem **Index zuweisbar** sein, es macht also Sinn sie **zu Tupeln zusammenzufassen**. \\\n",
    "Wir verfahren gleich wie schon im Kapitel 'Listen', geben dieser Liste nun aber auch einen Namen:"
   ]
  },
  {
   "cell_type": "code",
   "execution_count": 0,
   "metadata": {
    "colab": {},
    "colab_type": "code",
    "id": "uh3CRsBeV6vp"
   },
   "outputs": [],
   "source": [
    "indizes_mit_massen = list(zip(indizes,masse_pro_ew))"
   ]
  },
  {
   "cell_type": "markdown",
   "metadata": {
    "colab_type": "text",
    "id": "GIBbNSWyV6vs"
   },
   "source": [
    "<div class=\"alert alert-block alert-info\">\n",
    "    <h3>Tipp: Tupel-Entpackung</h3>\n",
    "    \n",
    "Mit Tuple-unpacking kann Elemente aus Kollektionen entpacken und mit ```*``` den Rest einfach auch aufheben:\n",
    "</div>"
   ]
  },
  {
   "cell_type": "code",
   "execution_count": 7,
   "metadata": {
    "colab": {},
    "colab_type": "code",
    "id": "vRQ8YIMwV6vs"
   },
   "outputs": [
    {
     "name": "stdout",
     "output_type": "stream",
     "text": [
      "<class 'list'>\n"
     ]
    },
    {
     "data": {
      "text/plain": [
       "(0, 1, [2, 3, 4, 5, 6, 7], 8, 9)"
      ]
     },
     "execution_count": 7,
     "metadata": {},
     "output_type": "execute_result"
    }
   ],
   "source": [
    "a,b,*rest,c,d = range(10)\n",
    "print(type(rest))\n",
    "a,b,rest,c,d"
   ]
  },
  {
   "cell_type": "markdown",
   "metadata": {
    "colab_type": "text",
    "id": "ZAsGyVK8V6vu"
   },
   "source": [
    "*Was aber, wenn wir in einer langen Liste von Werten, genau jenen einer gewissen Gemeinde finden wollen?*\n",
    "\n",
    "Benutzen wir **Tupel in Listen**, müssten wir **alle** Tupel entpacken und mit unserer Suche **vergleichen**, bis wir unseren Wert finden!"
   ]
  },
  {
   "cell_type": "markdown",
   "metadata": {
    "colab_type": "text",
    "id": "Ukve8fdwV6vu"
   },
   "source": [
    "## Wörterbücher\n",
    "\n",
    "Wörterbücher lösen dieses Problem, indem sie uns einen **Namen direkt einem anderen Objekt zuweisen** lassen.\n",
    "Dabei steht der **Schlüssel** links, dann ein **Doppelpunkt** und das **Objekt** auf welches der Schlüssel verweist rechts:"
   ]
  },
  {
   "cell_type": "code",
   "execution_count": 0,
   "metadata": {
    "colab": {},
    "colab_type": "code",
    "id": "ylgoO8A9V6vu"
   },
   "outputs": [],
   "source": [
    "Wörterbuch = {'Graz':18924,'Kainbach':5893,'Feldkirchen':6790}"
   ]
  },
  {
   "cell_type": "markdown",
   "metadata": {
    "colab_type": "text",
    "id": "WkC4sYhlV6vv"
   },
   "source": [
    "**Abrufen** lassen sich die Werte/Objekte dann einfach **mittels** Eingabe des **Schlüssel**s, anstatt eines Index':"
   ]
  },
  {
   "cell_type": "code",
   "execution_count": 0,
   "metadata": {
    "colab": {},
    "colab_type": "code",
    "id": "4Z-lse3NV6vw",
    "outputId": "c1aaeb27-6168-49ca-a0b8-ab13e3c60cf4"
   },
   "outputs": [
    {
     "data": {
      "text/plain": [
       "5893"
      ]
     },
     "execution_count": 52,
     "metadata": {
      "tags": []
     },
     "output_type": "execute_result"
    }
   ],
   "source": [
    "Wörterbuch['Kainbach']"
   ]
  },
  {
   "cell_type": "markdown",
   "metadata": {
    "colab_type": "text",
    "id": "fUoZ530XV6vx"
   },
   "source": [
    "Wir können ein Wörterbuch auch einfach **aus einer Liste mit 2er-Tupeln erstellen**:"
   ]
  },
  {
   "cell_type": "code",
   "execution_count": 0,
   "metadata": {
    "colab": {},
    "colab_type": "code",
    "id": "HqghOGV0V6vx",
    "outputId": "79d381fe-fbeb-4c06-b4a4-c6905f0ba23b"
   },
   "outputs": [
    {
     "ename": "NameError",
     "evalue": "name 'indizes_mit_massen' is not defined",
     "output_type": "error",
     "traceback": [
      "\u001b[1;31m---------------------------------------------------------------------------\u001b[0m",
      "\u001b[1;31mNameError\u001b[0m                                 Traceback (most recent call last)",
      "\u001b[1;32m<ipython-input-53-3cbc097834d2>\u001b[0m in \u001b[0;36m<module>\u001b[1;34m\u001b[0m\n\u001b[1;32m----> 1\u001b[1;33m \u001b[0mdict\u001b[0m\u001b[1;33m(\u001b[0m\u001b[0mindizes_mit_massen\u001b[0m\u001b[1;33m)\u001b[0m\u001b[1;33m\u001b[0m\u001b[1;33m\u001b[0m\u001b[0m\n\u001b[0m",
      "\u001b[1;31mNameError\u001b[0m: name 'indizes_mit_massen' is not defined"
     ]
    }
   ],
   "source": [
    "dict(indizes_mit_massen)"
   ]
  },
  {
   "cell_type": "markdown",
   "metadata": {
    "colab_type": "text",
    "id": "d5Hqp4nsV6vz"
   },
   "source": [
    "Ein **Schlüssel** kann allerdings **nie doppelt** vorkommen!\n",
    "\n",
    "*Was passiert wenn wir ein Wörterbuch aus folgender Liste machen? Warum?*"
   ]
  },
  {
   "cell_type": "code",
   "execution_count": 0,
   "metadata": {
    "colab": {},
    "colab_type": "code",
    "id": "A5ioglHEV6vz"
   },
   "outputs": [],
   "source": [
    "liste_mit_doppelten_werten = [(1,'a'),(1,'b')]"
   ]
  },
  {
   "cell_type": "code",
   "execution_count": 0,
   "metadata": {
    "colab": {},
    "colab_type": "code",
    "id": "8k_bV51JV6v0",
    "outputId": "6c03cb79-bb1b-47ee-8c3f-f1fc5571535e"
   },
   "outputs": [
    {
     "data": {
      "text/plain": [
       "{1: 'b'}"
      ]
     },
     "execution_count": 55,
     "metadata": {
      "tags": []
     },
     "output_type": "execute_result"
    }
   ],
   "source": [
    "dict(liste_mit_doppelten_werten)"
   ]
  },
  {
   "cell_type": "markdown",
   "metadata": {
    "colab_type": "text",
    "id": "t38RKom1V6v2"
   },
   "source": [
    "Außerdem sind Wörterbücher **mutable Collections**."
   ]
  },
  {
   "cell_type": "markdown",
   "metadata": {
    "colab_type": "text",
    "id": "BdwKxVwIV6v2"
   },
   "source": [
    "Sie können also Werte verschiedener Typen speichern und verändert werden."
   ]
  },
  {
   "cell_type": "markdown",
   "metadata": {
    "colab_type": "text",
    "id": "KXFkzriNV6v3"
   },
   "source": [
    "*Warum kann man aber Elemente in einem Wörterbuch **so viel schneller** finden als in einer Liste?*\n",
    "\n",
    "Das liegt daran, dass um einen schnellen Zugriff zu garantieren, \\\n",
    "nicht der Schlüssel sondern sein **Hash -\n",
    "Wert** abgespeichert wird."
   ]
  },
  {
   "cell_type": "code",
   "execution_count": 0,
   "metadata": {
    "colab": {},
    "colab_type": "code",
    "id": "7DIwnKSuV6v3",
    "outputId": "c21670ea-9f90-4914-d2aa-b5d4ce633ffa"
   },
   "outputs": [
    {
     "data": {
      "text/plain": [
       "-877232727830553907"
      ]
     },
     "execution_count": 56,
     "metadata": {
      "tags": []
     },
     "output_type": "execute_result"
    }
   ],
   "source": [
    "hash(\"haus\")"
   ]
  },
  {
   "cell_type": "markdown",
   "metadata": {
    "colab_type": "text",
    "id": "oJoa7lZvV6v5"
   },
   "source": [
    "Wie wir bereits wissen: Listen sind **mutabel**, Tupel nicht. \\\n",
    "Deshalb können Listen **keinen Hash-Wert** haben, man kann sie **nicht als Schlüssel** in einem Wörterbuch verwenden:"
   ]
  },
  {
   "cell_type": "code",
   "execution_count": 0,
   "metadata": {
    "colab": {},
    "colab_type": "code",
    "id": "jqdh-K9tV6v6",
    "outputId": "cf6d1b6e-0f56-4b4c-85c2-e8937ff45aac"
   },
   "outputs": [
    {
     "data": {
      "text/plain": [
       "{(): 1}"
      ]
     },
     "execution_count": 58,
     "metadata": {
      "tags": []
     },
     "output_type": "execute_result"
    }
   ],
   "source": [
    "{():1}"
   ]
  },
  {
   "cell_type": "markdown",
   "metadata": {
    "colab_type": "text",
    "id": "dqyN1WXWV6v7"
   },
   "source": [
    "Deshalb funktioniert auch der **```in```** - Operator **in Listen viel langsamer** als in Wörterbüchern:"
   ]
  },
  {
   "cell_type": "code",
   "execution_count": 0,
   "metadata": {
    "colab": {},
    "colab_type": "code",
    "id": "2j7sB0BhV6v8",
    "outputId": "16b6c45f-6a42-4f2a-d44d-f00e21636c65"
   },
   "outputs": [
    {
     "name": "stdout",
     "output_type": "stream",
     "text": [
      "6.01 µs ± 151 ns per loop (mean ± std. dev. of 7 runs, 100000 loops each)\n",
      "78.9 ns ± 22.3 ns per loop (mean ± std. dev. of 7 runs, 10000000 loops each)\n"
     ]
    }
   ],
   "source": [
    "test_liste = list(range(99999))\n",
    "test_wobu  = dict(zip(range(99999),[()]*99999))\n",
    "\n",
    "# mit dem magic-command %timeit lässt sich messen wie lange\n",
    "# eine Operation braucht:\n",
    "\n",
    "%timeit 630 in test_liste\n",
    "%timeit 630 in test_wobu"
   ]
  },
  {
   "cell_type": "markdown",
   "metadata": {
    "colab_type": "text",
    "id": "2AukHNHVV6v9"
   },
   "source": [
    "In unserem Test-Wörterbuch interessiert uns **nur die Zugehörigkeit** eines Elements. \\\n",
    "Wir haben also den Schlüsseln als **Dummy-Werte leere Tupel** zugewiesen. \\\n",
    "Diese **brauchen wenig Speicher**.\n",
    "\n",
    "Es gibt aber eine bessere Lösung:"
   ]
  },
  {
   "cell_type": "markdown",
   "metadata": {
    "colab_type": "text",
    "id": "N3nEedqkV6v_"
   },
   "source": [
    "## Mengen\n",
    "\n",
    "Mengen **gab es in Python lange nicht**. \n",
    "Damals wurden Wörterbücher mit **Dummy-Werte**n verwendet\n",
    "um schnelle Zugehörigkeitstest zu ermöglichen. \\\n",
    "Mit **Mengen** geht das nun **einfacher** und mit weniger \n",
    "Speicherbedarf."
   ]
  },
  {
   "cell_type": "markdown",
   "metadata": {
    "colab_type": "text",
    "id": "E1ge6NtjV6v_"
   },
   "source": [
    "Mit ```set``` kann man eine Menge **aus einer Kollektion** erstellen:"
   ]
  },
  {
   "cell_type": "code",
   "execution_count": 0,
   "metadata": {
    "colab": {},
    "colab_type": "code",
    "id": "LI10APPRV6v_",
    "outputId": "eb6a0293-d50a-4229-8050-4006f383bc28"
   },
   "outputs": [
    {
     "data": {
      "text/plain": [
       "{1, 2, 3}"
      ]
     },
     "execution_count": 60,
     "metadata": {
      "tags": []
     },
     "output_type": "execute_result"
    }
   ],
   "source": [
    "set([1,2,3])"
   ]
  },
  {
   "cell_type": "markdown",
   "metadata": {
    "colab_type": "text",
    "id": "7o2w7H65V6wB"
   },
   "source": [
    "Mengen sind außerdem **mutabel** und eine **Collection**. Werte in ihr müssen aber natürlich **hashable** sein, wie eben bei Wörterbüchern-"
   ]
  },
  {
   "cell_type": "markdown",
   "metadata": {
    "colab_type": "text",
    "id": "MEuqGbVFV6wB"
   },
   "source": [
    "Mengen **sehen auch fast so aus wie Wörterbücher**.\n",
    "Sie werden in **geschwungene Klammern** ```{}``` gefasst, ihre 'Schlüssel' haben aber natürlich **keinen Doppelpunkt und keine Werte**:"
   ]
  },
  {
   "cell_type": "code",
   "execution_count": 0,
   "metadata": {
    "colab": {},
    "colab_type": "code",
    "id": "Kzh64jNkV6wB",
    "outputId": "622b084f-1fff-4207-a0a7-8dbdc68aa3a7"
   },
   "outputs": [
    {
     "data": {
      "text/plain": [
       "set"
      ]
     },
     "execution_count": 61,
     "metadata": {
      "tags": []
     },
     "output_type": "execute_result"
    }
   ],
   "source": [
    "type({1,2,3})"
   ]
  },
  {
   "cell_type": "markdown",
   "metadata": {
    "colab_type": "text",
    "id": "IRl4QKvKV6wD"
   },
   "source": [
    "Aber **Achtung**: ```{}``` ist ein **leeres Wörterbuch**, kein Set!"
   ]
  },
  {
   "cell_type": "code",
   "execution_count": 0,
   "metadata": {
    "colab": {},
    "colab_type": "code",
    "id": "tfqkpP7DV6wD"
   },
   "outputs": [],
   "source": [
    "type({})  ,   type(set())"
   ]
  },
  {
   "cell_type": "markdown",
   "metadata": {
    "colab_type": "text",
    "id": "W8vkUKdGV6wF"
   },
   "source": [
    "Eine **leere Menge** erstellt man also mit ```set```."
   ]
  },
  {
   "cell_type": "markdown",
   "metadata": {
    "colab_type": "text",
    "id": "jWVPNKpvV6wG"
   },
   "source": [
    " Wiederholen wir unseren **Geschwindigkeitstest** von vorher! Diesmal ersetzen wir das Wörterbuch durch eine **Menge**:"
   ]
  },
  {
   "cell_type": "code",
   "execution_count": 0,
   "metadata": {
    "colab": {},
    "colab_type": "code",
    "id": "Xu4dqKwuV6wJ",
    "outputId": "e7ca6e40-0dea-4bcc-aae0-c1fc38a6a62a"
   },
   "outputs": [
    {
     "name": "stdout",
     "output_type": "stream",
     "text": [
      "5.72 µs ± 45.4 ns per loop (mean ± std. dev. of 7 runs, 100000 loops each)\n",
      "45.1 ns ± 0.17 ns per loop (mean ± std. dev. of 7 runs, 10000000 loops each)\n"
     ]
    }
   ],
   "source": [
    "test_liste = list(range(99999))\n",
    "test_menge = set(range(99999))\n",
    "\n",
    "%timeit 630 in test_liste\n",
    "%timeit 630 in test_menge"
   ]
  },
  {
   "cell_type": "markdown",
   "metadata": {
    "colab_type": "text",
    "id": "iQfC03suV6wK"
   },
   "source": [
    "Auch Mengen sind als **Hash-Tables** implementiert und können daher keine Elemente doppelt enthalten:"
   ]
  },
  {
   "cell_type": "code",
   "execution_count": 0,
   "metadata": {
    "colab": {},
    "colab_type": "code",
    "id": "mE-O47r-V6wK",
    "outputId": "33cfb9a7-d3a7-4674-d05c-b77af6f87679"
   },
   "outputs": [
    {
     "data": {
      "text/plain": [
       "{1, 2}"
      ]
     },
     "execution_count": 63,
     "metadata": {
      "tags": []
     },
     "output_type": "execute_result"
    }
   ],
   "source": [
    "set([1,1,1,2])"
   ]
  },
  {
   "cell_type": "markdown",
   "metadata": {
    "colab_type": "text",
    "id": "94ux4mUdV6wM"
   },
   "source": [
    "Da wir hier nur Schlüssel haben, entfällt der Einfluss der Reihenfolge.\n",
    "\n",
    "Das sorgt allerdings auch dafür, das Mengen einen **signifikanten** (Speicher-)**Overhead gegenüber Listen** haben:"
   ]
  },
  {
   "cell_type": "code",
   "execution_count": 0,
   "metadata": {
    "colab": {},
    "colab_type": "code",
    "id": "QanqF3ikV6wM",
    "outputId": "c155de56-b03b-480b-87ad-e2839c3e2701"
   },
   "outputs": [
    {
     "name": "stdout",
     "output_type": "stream",
     "text": [
      "2.35 ms ± 18.4 µs per loop (mean ± std. dev. of 7 runs, 100 loops each)\n",
      "5.81 ms ± 195 µs per loop (mean ± std. dev. of 7 runs, 100 loops each)\n"
     ]
    }
   ],
   "source": [
    "%timeit list(range(99999))\n",
    "%timeit set(range(99999))"
   ]
  },
  {
   "cell_type": "markdown",
   "metadata": {
    "colab_type": "text",
    "id": "WH68_EeGV6wN"
   },
   "source": [
    "<div class=\"alert alert-block alert-info\">\n",
    "<h3>Tipp: 'range' als Objekt</h3>\n",
    "    \n",
    "In Python 3 gibt die 'range'-Funktion ein eigenes Objekt\n",
    "zurück, welches den 'in' Operator unterstützt.\n",
    "\n",
    "Range ist 'lazy'. Das bedeutet: Range erzeugt seine Ausgabewerte\n",
    "erst wenn ihr sie wirklich abfragt, vorher speichert es nur den\n",
    "Start-, den Stop- und den Step-Wert. \n",
    "Daher kann es einfach ausrechnen ob 630 erzeugt werden würde.\n",
    "Das ist viel schneller als tatsächlich nachzusehen! (Siehe nächste Zelle)\n",
    "</div>"
   ]
  },
  {
   "cell_type": "code",
   "execution_count": 0,
   "metadata": {
    "colab": {},
    "colab_type": "code",
    "id": "8dTdAHl9V6wP"
   },
   "outputs": [],
   "source": [
    "%timeit 630 in range(99999)"
   ]
  },
  {
   "cell_type": "markdown",
   "metadata": {
    "colab_type": "text",
    "id": "Hg7dEjLZV6wQ"
   },
   "source": [
    "Der Name 'Menge' hat auch **mathematische Relevanz**, Python-Mengen kann man auch als mathematische nutzen!"
   ]
  },
  {
   "cell_type": "markdown",
   "metadata": {
    "colab_type": "text",
    "id": "QnvelfjDV6wQ"
   },
   "source": [
    "### Symbole der Mengenleere in Python\n",
    "$\\setminus \\quad \\to \\quad$ ``` - ``` \\\n",
    "$\\cap \\quad \\to \\quad$ ``` & ``` \\\n",
    "$\\cup \\quad \\to \\quad$ ``` | ```\n",
    "\n",
    "Seien a, b zwei Teilmengen von $\\mathbb{N}$"
   ]
  },
  {
   "cell_type": "code",
   "execution_count": 0,
   "metadata": {
    "colab": {},
    "colab_type": "code",
    "id": "XMjMcHnHV6wR",
    "outputId": "3d67eb4d-b0c1-4646-e620-f17c8c441ad0"
   },
   "outputs": [
    {
     "data": {
      "text/plain": [
       "({1, 2}, {3}, {1, 2, 3, 4, 5})"
      ]
     },
     "execution_count": 65,
     "metadata": {
      "tags": []
     },
     "output_type": "execute_result"
    }
   ],
   "source": [
    "a,b = {1,2,3}, {3,4,5}\n",
    "\n",
    "a - b  ,  a & b  ,  a|b"
   ]
  },
  {
   "cell_type": "markdown",
   "metadata": {
    "colab_type": "text",
    "id": "V4sAqOlnV6wT"
   },
   "source": [
    "<div class=\"alert alert-block alert-info\">\n",
    "<h3>Tipp: Weitere Mengenleere-Äquivalente in Python</h3>\n",
    "\n",
    "$\\in \\quad \\to \\quad$ ``` in ``` \\\n",
    "$\\subset \\quad \\to \\quad$ ``` < ``` \\\n",
    "$\\subseteq \\quad \\to \\quad$ ``` <= ``` \\\n",
    "$\\supset \\quad \\to \\quad$ ``` > ``` \\\n",
    "$\\supseteq \\quad \\to \\quad$ ``` >= ``` \\\n",
    "$= \\quad \\to \\quad$ ``` == ``` \\\n",
    "$\\ne \\quad \\to \\quad$ ``` != ``` \n",
    "\n",
    "</div>"
   ]
  },
  {
   "cell_type": "code",
   "execution_count": 0,
   "metadata": {
    "colab": {},
    "colab_type": "code",
    "id": "5UiuKx2HV6wU"
   },
   "outputs": [],
   "source": [
    "# Hier einfach ausprobieren, zB:\n",
    "a = {3,4}\n",
    "b = {3,4,1}\n",
    "print(a < b)"
   ]
  },
  {
   "cell_type": "markdown",
   "metadata": {
    "colab_type": "text",
    "id": "IYLLbDl1V6wV"
   },
   "source": [
    "Wenn wir zum Beispiel wissen wollen. **welche Gemeinden** in unserem Datensatz zu den Abfallwerten **vorkommen**, können wir einfach eine **Menge mit den Namen** erstellen:"
   ]
  },
  {
   "cell_type": "code",
   "execution_count": 0,
   "metadata": {
    "colab": {},
    "colab_type": "code",
    "id": "eBqIzm_FV6wW"
   },
   "outputs": [],
   "source": [
    "gemeinden = set(data_gefiltert.Gemeindename)"
   ]
  },
  {
   "cell_type": "code",
   "execution_count": 0,
   "metadata": {
    "colab": {},
    "colab_type": "code",
    "id": "BrRD2UmUV6wX",
    "outputId": "daca60bf-7a36-488d-c6e8-5b995363c7f7"
   },
   "outputs": [
    {
     "data": {
      "text/plain": [
       "{'Admont',\n",
       " 'Aflenz',\n",
       " 'Aich',\n",
       " 'Aigen im Ennstal',\n",
       " 'Albersdorf-Prebuch',\n",
       " 'Allerheiligen bei Wildon',\n",
       " 'Altaussee',\n",
       " 'Altenmarkt bei St.Gallen',\n",
       " 'Anger',\n",
       " 'Ardning',\n",
       " 'Arnfels',\n",
       " 'Bad Aussee',\n",
       " 'Bad Blumau',\n",
       " 'Bad Gleichenberg',\n",
       " 'Bad Mitterndorf',\n",
       " 'Bad Radkersburg',\n",
       " 'Bad Waltersdorf',\n",
       " 'Birkfeld',\n",
       " 'Breitenau am Hochlantsch',\n",
       " 'Bruck an der Mur',\n",
       " 'Buch-St.Magdalena',\n",
       " 'Burgau',\n",
       " 'Bärnbach',\n",
       " 'Dechantskirchen',\n",
       " 'Deutsch Goritz',\n",
       " 'Deutschfeistritz',\n",
       " 'Deutschlandsberg',\n",
       " 'Dobl-Zwaring',\n",
       " 'Ebersdorf',\n",
       " 'Edelsbach bei Feldbach',\n",
       " 'Edelschrott',\n",
       " 'Eggersdorf bei Graz',\n",
       " 'Ehrenhausen an der Weinstraße',\n",
       " 'Eibiswald',\n",
       " 'Eichkögl',\n",
       " 'Eisenerz',\n",
       " 'Empersdorf',\n",
       " 'Fehring',\n",
       " 'Feistritztal',\n",
       " 'Feldbach',\n",
       " 'Feldkirchen bei Graz',\n",
       " 'Fernitz-Mellach',\n",
       " 'Fischbach',\n",
       " 'Fladnitz an der Teichalm',\n",
       " 'Floing',\n",
       " 'Fohnsdorf',\n",
       " 'Frauental an der Laßnitz',\n",
       " 'Friedberg',\n",
       " 'Frohnleiten',\n",
       " 'Fürstenfeld',\n",
       " 'Gaal',\n",
       " 'Gabersdorf',\n",
       " 'Gaishorn am See',\n",
       " 'Gamlitz',\n",
       " 'Gasen',\n",
       " 'Geistthal-Södingberg',\n",
       " 'Gersdorf an der Feistritz',\n",
       " 'Gleinstätten',\n",
       " 'Gleisdorf',\n",
       " 'Gnas',\n",
       " 'Grafendorf bei Hartberg',\n",
       " 'Gralla',\n",
       " 'Gratkorn',\n",
       " 'Gratwein-Straßengel',\n",
       " 'Graz',\n",
       " 'Greinbach',\n",
       " 'Groß St.Florian',\n",
       " 'Großklein',\n",
       " 'Großsteinbach',\n",
       " 'Großwilfersdorf',\n",
       " 'Grundlsee',\n",
       " 'Gröbming',\n",
       " 'Gutenberg-Stenzengreith',\n",
       " 'Gössendorf',\n",
       " 'Halbenrain',\n",
       " 'Hart bei Graz',\n",
       " 'Hartberg',\n",
       " 'Hartberg Umgebung',\n",
       " 'Hartl',\n",
       " 'Haselsdorf-Tobelbad',\n",
       " 'Haus',\n",
       " 'Hausmannstätten',\n",
       " 'Heiligenkreuz am Waasen',\n",
       " 'Heimschuh',\n",
       " 'Hengsberg',\n",
       " 'Hirschegg-Pack',\n",
       " 'Hitzendorf',\n",
       " 'Hofstätten an der Raab',\n",
       " 'Hohentauern',\n",
       " 'Ilz',\n",
       " 'Ilztal',\n",
       " 'Irdnig-Donnersbachtal',\n",
       " 'Jagerberg',\n",
       " 'Judenburg',\n",
       " 'Kainach bei Voitsberg',\n",
       " 'Kainbach bei Graz',\n",
       " 'Kaindorf',\n",
       " 'Kalsdorf bei Graz',\n",
       " 'Kalwang',\n",
       " 'Kammern im Liesingtal',\n",
       " 'Kapfenberg',\n",
       " 'Kapfenstein',\n",
       " 'Kindberg',\n",
       " 'Kirchbach-Zerlach',\n",
       " 'Kirchberg an der Raab',\n",
       " 'Kitzeck im Sausal',\n",
       " 'Klöch',\n",
       " 'Knittelfeld',\n",
       " 'Kobenz',\n",
       " 'Krakau',\n",
       " 'Kraubath an der Mur',\n",
       " 'Krieglach',\n",
       " 'Krottendorf-Gaisfeld',\n",
       " 'Kumberg',\n",
       " 'Köflach',\n",
       " 'Lafnitz',\n",
       " 'Landl',\n",
       " 'Lang',\n",
       " 'Langenwang',\n",
       " 'Lannach',\n",
       " 'Lassing',\n",
       " 'Laßnitzhöhe',\n",
       " 'Lebring-St.Margarethen',\n",
       " 'Leibnitz',\n",
       " 'Leoben',\n",
       " 'Leutschach an der Weinstraße',\n",
       " 'Lieboch',\n",
       " 'Liezen',\n",
       " 'Ligist',\n",
       " 'Lobmingtal',\n",
       " 'Loipersdorf bei Fürstenfeld',\n",
       " 'Ludersdorf-Wilfersdorf',\n",
       " 'Maria Lankowitz',\n",
       " 'Mariazell',\n",
       " 'Markt Hartmannsdorf',\n",
       " 'Mautern in Steiermark',\n",
       " 'Mettersdorf am Saßbach',\n",
       " 'Michaelerberg-Pruggern',\n",
       " 'Miesenbach bei Birkfeld',\n",
       " 'Mitterberg-Sankt Martin',\n",
       " 'Mitterdorf an der Raab',\n",
       " 'Mooskirchen',\n",
       " 'Mortantsch',\n",
       " 'Murau',\n",
       " 'Mureck',\n",
       " 'Murfeld',\n",
       " 'Mühlen',\n",
       " 'Mürzzuschlag',\n",
       " 'Naas',\n",
       " 'Nestelbach bei Graz',\n",
       " 'Neuberg an der Mürz',\n",
       " 'Neudau',\n",
       " 'Neumarkt in der Steiermark',\n",
       " 'Niederwölz',\n",
       " 'Niklasdorf',\n",
       " 'Obdach',\n",
       " 'Oberhaag',\n",
       " 'Oberwölz',\n",
       " 'Ottendorf  an der Rittschein',\n",
       " 'Paldau',\n",
       " 'Passail',\n",
       " 'Peggau',\n",
       " 'Pernegg an der Mur',\n",
       " 'Pinggau',\n",
       " 'Pirching am Traubenberg',\n",
       " 'Pischelsdorf am Kulm',\n",
       " 'Preding',\n",
       " 'Premstätten',\n",
       " 'Proleb',\n",
       " 'Puch bei Weiz',\n",
       " 'Pusterwald',\n",
       " 'Pölfing-Brunn',\n",
       " 'Pöllau',\n",
       " 'Pöllauberg',\n",
       " 'Pöls-Oberkurzheim',\n",
       " 'Pölstal',\n",
       " 'Raaba-Grambach',\n",
       " 'Radmer',\n",
       " 'Ragnitz',\n",
       " 'Ramsau am Dachstein',\n",
       " 'Ranten',\n",
       " 'Ratten',\n",
       " 'Rettenegg',\n",
       " 'Riegersburg',\n",
       " 'Rohr bei Hartberg',\n",
       " 'Rohrbach an der Lafnitz',\n",
       " 'Rosental an der Kainach',\n",
       " 'Rottenmann',\n",
       " 'Scheifling',\n",
       " 'Schladming',\n",
       " 'Schwanberg',\n",
       " 'Schwarzautal',\n",
       " 'Schäffern',\n",
       " 'Schöder',\n",
       " 'Seckau',\n",
       " 'Seiersberg-Pirka',\n",
       " 'Selzthal',\n",
       " 'Semriach',\n",
       " 'Sinabelkirchen',\n",
       " 'Spielberg',\n",
       " 'Spital am Semmering',\n",
       " 'St.Andrä-Höch',\n",
       " 'St.Anna am Aigen',\n",
       " 'St.Barbara im Mürztal',\n",
       " 'St.Bartholomä',\n",
       " 'St.Gallen',\n",
       " 'St.Georgen am Kreischberg',\n",
       " 'St.Georgen an der Stiefing',\n",
       " 'St.Georgen ob Judenburg',\n",
       " 'St.Jakob im Walde',\n",
       " 'St.Johann im Saggautal',\n",
       " 'St.Johann in der Haide',\n",
       " 'St.Josef in der Weststeiermark',\n",
       " 'St.Kathrein am Hauenstein',\n",
       " 'St.Kathrein am Offenegg',\n",
       " 'St.Lambrecht',\n",
       " 'St.Lorenzen am Wechsel',\n",
       " 'St.Lorenzen im Mürztal',\n",
       " 'St.Marein bei Graz',\n",
       " 'St.Marein im Mürztal',\n",
       " 'St.Marein-Feistritz',\n",
       " 'St.Margarethen an der Raab',\n",
       " 'St.Margarethen bei Knittelfeld',\n",
       " 'St.Martin am Wöllmißberg',\n",
       " 'St.Martin im Sulmtal',\n",
       " 'St.Michael in der Obersteiermark',\n",
       " 'St.Nikolai im Sausal',\n",
       " 'St.Oswald bei Plankenwarth',\n",
       " 'St.Peter am Kammersberg',\n",
       " 'St.Peter am Ottersbach',\n",
       " 'St.Peter im Sulmtal',\n",
       " 'St.Peter ob Judenburg',\n",
       " 'St.Peter-Freienstein',\n",
       " 'St.Radegund bei Graz',\n",
       " 'St.Ruprecht an der Raab',\n",
       " 'St.Stefan im Rosental',\n",
       " 'St.Stefan ob Leoben',\n",
       " 'St.Stefan ob Stainz',\n",
       " 'St.Veit in der Südsteiermark',\n",
       " 'Stadl-Predlitz',\n",
       " 'Stainach-Pürgg',\n",
       " 'Stainz',\n",
       " 'Stallhofen',\n",
       " 'Stanz im Mürztal',\n",
       " 'Stattegg',\n",
       " 'Stiwoll',\n",
       " 'Straden',\n",
       " 'Strallegg',\n",
       " 'Straß in Steiermark',\n",
       " 'Stubenberg',\n",
       " 'Söchau',\n",
       " 'Söding-St.Johann',\n",
       " 'Sölk',\n",
       " 'Teufenbach-Katsch',\n",
       " 'Thal',\n",
       " 'Thannhausen',\n",
       " 'Thörl',\n",
       " 'Tieschen',\n",
       " 'Tillmitsch',\n",
       " 'Traboch',\n",
       " 'Tragöß-Sankt Katharein',\n",
       " 'Trieben',\n",
       " 'Trofaiach',\n",
       " 'Turnau',\n",
       " 'Unterlamm',\n",
       " 'Unzmarkt-Frauenburg',\n",
       " 'Vasoldsberg',\n",
       " 'Voitsberg',\n",
       " 'Vorau',\n",
       " 'Vordernberg',\n",
       " 'Wagna',\n",
       " 'Wald am Schoberpaß',\n",
       " 'Waldbach-Mönichwald',\n",
       " 'Weinitzen',\n",
       " 'Weiz',\n",
       " 'Weißkirchen in der Steiermark',\n",
       " 'Wenigzell',\n",
       " 'Werndorf',\n",
       " 'Wettmannstätten',\n",
       " 'Wies',\n",
       " 'Wildalpen',\n",
       " 'Wildon',\n",
       " 'Wundschuh',\n",
       " 'Wörschach',\n",
       " 'Zeltweg',\n",
       " 'Öblarn',\n",
       " 'Übelbach'}"
      ]
     },
     "execution_count": 69,
     "metadata": {
      "tags": []
     },
     "output_type": "execute_result"
    }
   ],
   "source": [
    "gemeinden"
   ]
  },
  {
   "cell_type": "markdown",
   "metadata": {
    "colab_type": "text",
    "id": "KZkEUPRlV6wY"
   },
   "source": [
    "### *Was aber, wenn wir eine Kollektion multiplizieren wollen?*\n",
    "### *Was wenn wir zwei Kollektionen elementweise addieren wollen?*"
   ]
  },
  {
   "cell_type": "markdown",
   "metadata": {
    "colab_type": "text",
    "id": "2dyJMDiIV6wY"
   },
   "source": [
    "Mit Listen oder Tupeln bekommen wir nur längere Kollektionen:"
   ]
  },
  {
   "cell_type": "code",
   "execution_count": 0,
   "metadata": {
    "colab": {},
    "colab_type": "code",
    "id": "FL0H5po-V6wY",
    "scrolled": true
   },
   "outputs": [],
   "source": [
    "[1,2,3] * 3  ,  (1,2,3) * 3"
   ]
  },
  {
   "cell_type": "markdown",
   "metadata": {
    "colab_type": "text",
    "id": "JeZzEkoxV6wZ"
   },
   "source": [
    "Dicts und Sets können ein ELement nicht doppelt enthalten.\n",
    "\n",
    "*Was passiert wenn wir sie multiplizieren?*"
   ]
  },
  {
   "cell_type": "code",
   "execution_count": 0,
   "metadata": {
    "colab": {},
    "colab_type": "code",
    "id": "2NiLMRU4V6wZ"
   },
   "outputs": [],
   "source": [
    "try:\n",
    "    {1,2,3}*3\n",
    "except TypeError as e:\n",
    "    print(e)"
   ]
  },
  {
   "cell_type": "markdown",
   "metadata": {
    "colab_type": "text",
    "id": "BGVyaMi3V6wb"
   },
   "source": [
    "<div class=\"alert alert-block alert-info\">\n",
    "<h3>Tipp: try - except - Blöcke</h3>\n",
    "    \n",
    "Mit try + except könnt ihr Fehlermeldungen abfangen.\n",
    "Allerdings ist dabei vorsicht geboten! Fängt man einfach\n",
    "jeden Fehler ab, wird der eigene Code nicht fehlerfrei\n",
    "sondern die Fehler nur weniger sichtbar.\n",
    "\n",
    "Try-Except-Blöcke eignen sich besonders dann, wenn man\n",
    "nicht weiß, welche Eingaben Nutzer dem Programm geben.\n",
    "</div>"
   ]
  },
  {
   "cell_type": "markdown",
   "metadata": {
    "colab_type": "text",
    "id": "oFeQ75IvV6wb"
   },
   "source": [
    "## Vektoren und Matrizen\n",
    "\n",
    ".. bieten die schnellste Variante mit Kollektionen **elementweise Operationen** zu ermöglichen."
   ]
  },
  {
   "cell_type": "markdown",
   "metadata": {
    "colab_type": "text",
    "id": "KDkbf7LpV6wb"
   },
   "source": [
    "Um mit **Vektoren und Matrizen** rechen zu können müssen wir die Bibliothek ```numpy``` importieren:"
   ]
  },
  {
   "cell_type": "code",
   "execution_count": 0,
   "metadata": {
    "colab": {},
    "colab_type": "code",
    "id": "plWcvkHPV6wb"
   },
   "outputs": [],
   "source": [
    "import numpy as np"
   ]
  },
  {
   "cell_type": "code",
   "execution_count": 0,
   "metadata": {
    "colab": {},
    "colab_type": "code",
    "id": "spa937yrV6wc"
   },
   "outputs": [],
   "source": [
    "# Führe diesen Befehl aus um Numpy zu installieren:\n",
    "try: \n",
    "    import numpy as np\n",
    "except ModuleNotFoundError:\n",
    "    %pip install numpy "
   ]
  },
  {
   "cell_type": "markdown",
   "metadata": {
    "colab_type": "text",
    "id": "ZWEX__CuV6wd"
   },
   "source": [
    "Ein Vektor lässt sich dann einfach mit ```np.array``` **erstellen und** dann auch gleich **multiplizieren**:"
   ]
  },
  {
   "cell_type": "code",
   "execution_count": 0,
   "metadata": {
    "colab": {},
    "colab_type": "code",
    "id": "d_ywyCyaV6wd",
    "outputId": "5d935e1a-0c82-4a42-e5e8-f02dd4755b9c"
   },
   "outputs": [
    {
     "data": {
      "text/plain": [
       "array([ 0,  2,  4,  6,  8, 10, 12, 14, 16, 18])"
      ]
     },
     "execution_count": 71,
     "metadata": {
      "tags": []
     },
     "output_type": "execute_result"
    }
   ],
   "source": [
    "vektor = np.array(range(10))\n",
    "vektor * 2"
   ]
  },
  {
   "cell_type": "code",
   "execution_count": 0,
   "metadata": {
    "colab": {},
    "colab_type": "code",
    "id": "HKeONCDgV6wf"
   },
   "outputs": [],
   "source": []
  },
  {
   "cell_type": "markdown",
   "metadata": {
    "colab_type": "text",
    "id": "gQp368B9V6wf"
   },
   "source": [
    "Eine Matrix ist dann einfach ein **Vektor welcher Vektoren als Elemente** beinhält."
   ]
  },
  {
   "cell_type": "code",
   "execution_count": 0,
   "metadata": {
    "colab": {},
    "colab_type": "code",
    "id": "wck6qCHbV6wg",
    "outputId": "23fcbc18-ab2b-4cfc-ae6d-d2efc2c354af"
   },
   "outputs": [
    {
     "data": {
      "text/plain": [
       "matrix([[0, 3, 6],\n",
       "        [0, 3, 6],\n",
       "        [0, 3, 6]])"
      ]
     },
     "execution_count": 72,
     "metadata": {
      "tags": []
     },
     "output_type": "execute_result"
    }
   ],
   "source": [
    "matrix = np.matrix([range(3)]*3)\n",
    "\n",
    "matrix*3"
   ]
  },
  {
   "cell_type": "markdown",
   "metadata": {
    "colab_type": "text",
    "id": "6u8xMOw1V6wg"
   },
   "source": [
    "**Matrix-Multiplikation** benutzt dann den speziellen **Operator** ```@```!"
   ]
  },
  {
   "cell_type": "code",
   "execution_count": 0,
   "metadata": {
    "colab": {},
    "colab_type": "code",
    "id": "_iur8nzqV6wg",
    "outputId": "a001677c-3fa0-4cd2-9972-25310b5c291f"
   },
   "outputs": [
    {
     "data": {
      "text/plain": [
       "matrix([[0, 3, 6],\n",
       "        [0, 3, 6],\n",
       "        [0, 3, 6]])"
      ]
     },
     "execution_count": 73,
     "metadata": {
      "tags": []
     },
     "output_type": "execute_result"
    }
   ],
   "source": [
    "matrix @ matrix"
   ]
  },
  {
   "cell_type": "markdown",
   "metadata": {
    "colab_type": "text",
    "id": "FEZWpjdKV6wh"
   },
   "source": [
    "**Achtung!** Vor Python Version ```3.5``` gibt es dieses ```@``` nicht! \\\n",
    "In dem Fall benutzt man besser ```np.matrix``` und ```*```. Diese Matrizen können aber **nur 2-dimensional** sein."
   ]
  },
  {
   "cell_type": "markdown",
   "metadata": {
    "colab_type": "text",
    "id": "sX1gekwSV6wh"
   },
   "source": [
    "Als **Vergleich** zu den vorherigen Kollektions-Typen soll auch hier der **Geschwindigkeitstest zur Zugehörigkeitsprüfung** vollzogen werden:"
   ]
  },
  {
   "cell_type": "code",
   "execution_count": 0,
   "metadata": {
    "colab": {},
    "colab_type": "code",
    "id": "GfR323AFV6wi",
    "outputId": "366c5b7a-10b3-4eaa-f1fc-a58319659d34"
   },
   "outputs": [
    {
     "name": "stdout",
     "output_type": "stream",
     "text": [
      "62.2 µs ± 885 ns per loop (mean ± std. dev. of 7 runs, 10000 loops each)\n"
     ]
    }
   ],
   "source": [
    "test_vektor = np.array(range(99999))\n",
    "\n",
    "%timeit 630 in test_vektor"
   ]
  },
  {
   "cell_type": "markdown",
   "metadata": {
    "colab_type": "text",
    "id": "VEqpKTQZV6wi"
   },
   "source": [
    "Die Masse des Abfalls in unserer Datenbank ist in \\[kg\\] gegeben.\n",
    "\n",
    "*Wie wandeln wir sie in Tonnen um?*"
   ]
  },
  {
   "cell_type": "code",
   "execution_count": 0,
   "metadata": {
    "colab": {},
    "colab_type": "code",
    "id": "OSG530WbV6wj",
    "outputId": "375a14a6-5244-4dce-9231-92b545bb444e"
   },
   "outputs": [
    {
     "data": {
      "text/plain": [
       "array([5.0927769e+04, 8.8308700e+03, 2.1996780e+04, ..., 9.5300000e+00,\n",
       "       8.4000000e-01, 2.1650000e+00])"
      ]
     },
     "execution_count": 75,
     "metadata": {
      "tags": []
     },
     "output_type": "execute_result"
    }
   ],
   "source": [
    "UMRECHNUNGSFAKTOR = 0.001\n",
    "\n",
    "np.array(data_gefiltert[\"Masse in kg\"])*UMRECHNUNGSFAKTOR"
   ]
  },
  {
   "cell_type": "markdown",
   "metadata": {
    "colab_type": "text",
    "id": "yJyT9NCPV6wk"
   },
   "source": [
    "<div class=\"alert alert-block alert-info\">\n",
    "<h3>Tipp: Groß-, Kleinschreibung und Unterstriche</h3>\n",
    "    \n",
    "In Python gibt es einige **Konventionen** was die Benennung von Variablen, Konstanten, Objekten, und Definitionen betrifft.\n",
    "\n",
    "```KONSTANTE``` $\\to$ Eine Konstante wird mit Großbuchstaben benannt. Sie soll konstant bleiben! \\\n",
    "```name_einer_variable``` $\\to$ Variablen werden in Kleinbuchstaben geschrieben. \\\n",
    "```KlassenName``` $\\to$ Erstellt man eine Klasse, wirname_einer_d nur jeder erste Buchstabe groß geschrieben. \\\n",
    "```name_einer_funktion``` $\\to$ Funktionen und Variablen haben oft zur besseren Verständlichkeit längere Namen.\n",
    "\n",
    "Wörter trennt man mit Unterstrich ```_``` \n",
    "</div>"
   ]
  },
  {
   "cell_type": "markdown",
   "metadata": {
    "colab_type": "text",
    "id": "SuC9i5gbV6wk"
   },
   "source": [
    "## Slices (Scheibchen)\n",
    "Elemente von **Kollektionen** in Python lassen sich nicht nur einzeln über ihren Index aufrufen. \\\n",
    "Man kann die Kollektionen auch **in Scheibchen schneiden**."
   ]
  },
  {
   "cell_type": "markdown",
   "metadata": {
    "colab_type": "text",
    "id": "0SncNq0UV6wk"
   },
   "source": [
    "Slices funktionieren ganz **ähnlich** wie ```range```. Sie haben einen ```start``` - und einen ```stop``` - Wert und einen Wert\n",
    "```step``` für die Schrittweite. \\\n",
    "Um eine Kollektion zu zerschneiden, setzen wir diese **Werte in dieser Reihenfolge**\n",
    "in **eckige Klammern** ```[]``` nach der Kollektion."
   ]
  },
  {
   "cell_type": "code",
   "execution_count": 0,
   "metadata": {
    "colab": {},
    "colab_type": "code",
    "id": "mdok_7BkV6wk",
    "outputId": "656d61a8-3fce-4c2d-e272-01c1bcb469b3"
   },
   "outputs": [
    {
     "data": {
      "text/plain": [
       "[3, 5]"
      ]
     },
     "execution_count": 76,
     "metadata": {
      "tags": []
     },
     "output_type": "execute_result"
    }
   ],
   "source": [
    "null_bis_zehn = list(range(10))\n",
    "null_bis_zehn[3:7:2]"
   ]
  },
  {
   "cell_type": "markdown",
   "metadata": {
    "colab_type": "text",
    "id": "4-kLbQVkV6wl"
   },
   "source": [
    "Setzt man **keinen Wert** ```step``` für die Schrittweite ist sie **automatisch 1**:"
   ]
  },
  {
   "cell_type": "code",
   "execution_count": 0,
   "metadata": {
    "colab": {},
    "colab_type": "code",
    "id": "y9biqknlV6wl",
    "outputId": "ab369923-4552-4abf-cc94-5439f632519c"
   },
   "outputs": [
    {
     "data": {
      "text/plain": [
       "(3, 4, 5)"
      ]
     },
     "execution_count": 77,
     "metadata": {
      "tags": []
     },
     "output_type": "execute_result"
    }
   ],
   "source": [
    "tuple(range(10))[3:6:]"
   ]
  },
  {
   "cell_type": "markdown",
   "metadata": {
    "colab_type": "text",
    "id": "l7wM1LgAV6wm"
   },
   "source": [
    "Lässt man den ```start``` - Wert **weg**, wird er **als 0 interpretiert**:"
   ]
  },
  {
   "cell_type": "code",
   "execution_count": 0,
   "metadata": {
    "colab": {},
    "colab_type": "code",
    "id": "oPzBUEi8V6wm",
    "outputId": "82a78d5b-a6fb-43c7-95d5-b6b7f2dbc9f5"
   },
   "outputs": [
    {
     "data": {
      "text/plain": [
       "[0, 1, 2, 3, 4, 5]"
      ]
     },
     "execution_count": 80,
     "metadata": {
      "tags": []
     },
     "output_type": "execute_result"
    }
   ],
   "source": [
    "list(range(10))[:6]"
   ]
  },
  {
   "cell_type": "markdown",
   "metadata": {
    "colab_type": "text",
    "id": "ML4s9NjNV6wn"
   },
   "source": [
    "Bei einer Slice **ohne Endwert**, ist dieser gleich der **Länge der Kollektion**:"
   ]
  },
  {
   "cell_type": "code",
   "execution_count": 0,
   "metadata": {
    "colab": {},
    "colab_type": "code",
    "id": "7rrlqANnV6wo",
    "outputId": "2f200c46-9c8e-4e9e-b51c-68168881407d"
   },
   "outputs": [
    {
     "data": {
      "text/plain": [
       "(3, 5, 7, 9)"
      ]
     },
     "execution_count": 81,
     "metadata": {
      "tags": []
     },
     "output_type": "execute_result"
    }
   ],
   "source": [
    "tuple(range(10))[3::2]"
   ]
  },
  {
   "cell_type": "markdown",
   "metadata": {
    "colab_type": "text",
    "id": "VXlecCx0V6wo"
   },
   "source": [
    "### Slices sind äußerst vielseitig:"
   ]
  },
  {
   "cell_type": "markdown",
   "metadata": {
    "colab_type": "text",
    "id": "ipbj70MmV6wp"
   },
   "source": [
    "Wir können **jedes zweite** Element wählen:"
   ]
  },
  {
   "cell_type": "code",
   "execution_count": 0,
   "metadata": {
    "colab": {},
    "colab_type": "code",
    "id": "EArT4LiMV6wp",
    "outputId": "2e515502-b80d-4282-b522-6005904f00eb"
   },
   "outputs": [
    {
     "data": {
      "text/plain": [
       "[0, 2, 4, 6, 8]"
      ]
     },
     "execution_count": 82,
     "metadata": {
      "tags": []
     },
     "output_type": "execute_result"
    }
   ],
   "source": [
    "null_bis_zehn[::2]"
   ]
  },
  {
   "cell_type": "markdown",
   "metadata": {
    "colab_type": "text",
    "id": "tR71AUlMV6wq"
   },
   "source": [
    "Oder eine Liste **umkehren**:"
   ]
  },
  {
   "cell_type": "code",
   "execution_count": 0,
   "metadata": {
    "colab": {},
    "colab_type": "code",
    "id": "TjLWjRwnV6wq",
    "outputId": "62489999-822c-4121-bd3d-70228e6ce0a7"
   },
   "outputs": [
    {
     "data": {
      "text/plain": [
       "[9, 8, 7, 6, 5, 4, 3, 2, 1, 0]"
      ]
     },
     "execution_count": 83,
     "metadata": {
      "tags": []
     },
     "output_type": "execute_result"
    }
   ],
   "source": [
    "null_bis_zehn[::-1]"
   ]
  },
  {
   "cell_type": "markdown",
   "metadata": {
    "colab_type": "text",
    "id": "R7PZJ9g_V6wr"
   },
   "source": [
    "Oder eine **Kopie** einer Kollektion erstellen: (*der Typ bleibt dabei gleich*)"
   ]
  },
  {
   "cell_type": "code",
   "execution_count": 0,
   "metadata": {
    "colab": {},
    "colab_type": "code",
    "id": "UhwFqmG9V6wr",
    "outputId": "bb8b2798-cace-44bd-a35e-c2e9f49e9023"
   },
   "outputs": [
    {
     "data": {
      "text/plain": [
       "False"
      ]
     },
     "execution_count": 84,
     "metadata": {
      "tags": []
     },
     "output_type": "execute_result"
    }
   ],
   "source": [
    "null_bis_zehn[::] is null_bis_zehn"
   ]
  },
  {
   "cell_type": "markdown",
   "metadata": {
    "colab_type": "text",
    "id": "j-h29nA2V6wt"
   },
   "source": [
    "*Wie erhält man rückwärts jedes zweite Element?*"
   ]
  },
  {
   "cell_type": "code",
   "execution_count": 0,
   "metadata": {
    "colab": {},
    "colab_type": "code",
    "id": "bdCsZy3gV6wt"
   },
   "outputs": [],
   "source": [
    "null_bis_zehn[-1::-2]"
   ]
  },
  {
   "cell_type": "markdown",
   "metadata": {
    "colab_type": "text",
    "id": "ojDpyepWV6wu"
   },
   "source": [
    "### Slices funktionieren auch als Objekte\n",
    "Wie bei ```range``` kann man auch einer **Slice als Objekt** einen Namen geben. \\\n",
    "Man erzeugt eine solche mittels:\n",
    "```slice( start, stop, step)```\n",
    "\n",
    "Das ist dann praktisch, wenn man **mehrere Listen gleich zerschneiden** will."
   ]
  },
  {
   "cell_type": "markdown",
   "metadata": {
    "colab_type": "text",
    "id": "8CrfDb7tV6wu"
   },
   "source": [
    "Eine **Datenbank** wurde uns **in** mehreren **gleich geordneten Listen** übergeben. \\\n",
    "Wir wollen jeweils nur **jedes zweite Element** dieser Datenbank, ab dem\n",
    "**50sten** jeweiligen Element **bis zum 100sten**.\n",
    "\n",
    "*Welche Werte müssen wir setzen?*"
   ]
  },
  {
   "cell_type": "code",
   "execution_count": 0,
   "metadata": {
    "colab": {},
    "colab_type": "code",
    "id": "Z9zD6YqeV6ww"
   },
   "outputs": [],
   "source": [
    "startwert = 50\n",
    "endwert = 101\n",
    "schrittwert = 2\n",
    "\n",
    "ausschnitt = slice(startwert, endwert, schrittwert)"
   ]
  },
  {
   "cell_type": "code",
   "execution_count": 0,
   "metadata": {
    "colab": {},
    "colab_type": "code",
    "id": "GlhUSWbJV6wx",
    "outputId": "769bdc2f-a03c-4550-a486-5cdc863065d3"
   },
   "outputs": [
    {
     "data": {
      "text/plain": [
       "slice"
      ]
     },
     "execution_count": 86,
     "metadata": {
      "tags": []
     },
     "output_type": "execute_result"
    }
   ],
   "source": [
    "type(ausschnitt)"
   ]
  },
  {
   "cell_type": "code",
   "execution_count": 0,
   "metadata": {
    "colab": {},
    "colab_type": "code",
    "id": "5bMtpIh9V6wy",
    "outputId": "ff5872be-3441-4711-fcf4-400bbe691330"
   },
   "outputs": [
    {
     "data": {
      "text/plain": [
       "[50,\n",
       " 52,\n",
       " 54,\n",
       " 56,\n",
       " 58,\n",
       " 60,\n",
       " 62,\n",
       " 64,\n",
       " 66,\n",
       " 68,\n",
       " 70,\n",
       " 72,\n",
       " 74,\n",
       " 76,\n",
       " 78,\n",
       " 80,\n",
       " 82,\n",
       " 84,\n",
       " 86,\n",
       " 88,\n",
       " 90,\n",
       " 92,\n",
       " 94,\n",
       " 96,\n",
       " 98,\n",
       " 100]"
      ]
     },
     "execution_count": 87,
     "metadata": {
      "tags": []
     },
     "output_type": "execute_result"
    }
   ],
   "source": [
    "# Die Anwendung funktioniert wieder mittels eckiger Klammern:\n",
    "list(range(200))[ausschnitt]"
   ]
  },
  {
   "cell_type": "markdown",
   "metadata": {
    "colab_type": "text",
    "id": "_vdlJaYEV6wy"
   },
   "source": [
    "# Pause"
   ]
  },
  {
   "cell_type": "markdown",
   "metadata": {
    "colab_type": "text",
    "id": "sHs6RvEbV6wy"
   },
   "source": [
    "<div class=\"alert alert-block alert-warning\">\n",
    "    <h2>Ausdrücke</h2>\n",
    "    \n",
    "Python kennt einige **Schlüsselwörter** welche sogenannte **Ausdrücke** einleiten. \\\n",
    "Ein Ausdruck wird mit einem **Doppelpunkt** ```:``` beendet. \\\n",
    "Ihm folgt ein sogenannter **Block** welcher mit **4 Leerzeichen** eingerückt ist. \\\n",
    "Dieser Block gehört zum Ausdruck und wird **abhängig von diesem ausgeführt**.\n",
    "<br/><br/>\n",
    "\n",
    "Alle Zeilen welche mit derselben **Anzahl an Leerzeichen** beginnen, \\\n",
    "werden einem **Block zugehörig** interpretiert.\n",
    "<br/><br/>\n",
    "\n",
    "Einer der wichtigsten Formen von Ausdrücken sind **Funktionen**.\n",
    "</div>"
   ]
  },
  {
   "cell_type": "markdown",
   "metadata": {
    "colab_type": "text",
    "id": "LQDo_brxV6wz"
   },
   "source": [
    "## Funktionen\n",
    "Das Schlüsselwort um eine Funktion zu erstellen lautet ```def```\n",
    "\n",
    "Darauf folgt dann der **Name** der Funktion. \n",
    "In der folgenden **Klammer** weißt man allen **Argumenten** \\\n",
    "welche die Funktion übernehmen soll **ihre Namen** zu.\n",
    "\n",
    "Ein weiteres wichtiges Schlüsselwort ist ```return``` nach welchem der **Rückgabewert** der Funktion folgt."
   ]
  },
  {
   "cell_type": "markdown",
   "metadata": {
    "colab_type": "text",
    "id": "06S-f8PWV6wz"
   },
   "source": [
    "<div class=\"alert alert-block alert-info\">\n",
    "<h3>Tipp: Funktionsaufrufe in Python</h3>\n",
    "    \n",
    "Wie wir bereits wissen, ist eine **Variable** in Python nur ein Name welcher einer **ID** eines im Speicher liegenden **Objekt**s zugewiesen ist. \\\n",
    "Was erhält nun eine Funktion als **Argument** wenn wir sie aufrufen?\n",
    "+ Eine Kopie des Objekts?\n",
    "+ Den Namen?\n",
    "+ Die ID?\n",
    "\n",
    "Nichts von alledem! Sie erhält **einen neuen Namen** für die selbe **ID**, also auch **das selbe Objekt**. \\\n",
    "Dementsprechend kann sie ein mutables Objekt verändern, nicht aber dessen ID.\n",
    "</div>"
   ]
  },
  {
   "cell_type": "code",
   "execution_count": 0,
   "metadata": {
    "colab": {},
    "colab_type": "code",
    "id": "8GR9dcHmV6wz",
    "outputId": "0b926b12-ccaf-4e65-b8ca-6a55f00ab662"
   },
   "outputs": [
    {
     "data": {
      "text/plain": [
       "function"
      ]
     },
     "execution_count": 88,
     "metadata": {
      "tags": []
     },
     "output_type": "execute_result"
    }
   ],
   "source": [
    "def funktionsname(argument1,argument2,):\n",
    "    ergebnis = argument1 - argument2\n",
    "    return ergebnis\n",
    "\n",
    "type(funktionsname)"
   ]
  },
  {
   "cell_type": "markdown",
   "metadata": {
    "colab_type": "text",
    "id": "qxQVJpUrV6w0"
   },
   "source": [
    "Mit dem **Schlüsselwort** ```lambda``` lässt sich eine Funktion auch **in nur einer Zeile** definieren. "
   ]
  },
  {
   "cell_type": "code",
   "execution_count": 0,
   "metadata": {
    "colab": {},
    "colab_type": "code",
    "id": "sAiqydZEV6w1",
    "outputId": "9b99a35a-c362-440f-ba4e-a3c20607429e"
   },
   "outputs": [
    {
     "data": {
      "text/plain": [
       "function"
      ]
     },
     "execution_count": 89,
     "metadata": {
      "tags": []
     },
     "output_type": "execute_result"
    }
   ],
   "source": [
    "lambdafunktion = lambda argument1,argument2: argument1 - argument2\n",
    "\n",
    "type(lambdafunktion)"
   ]
  },
  {
   "cell_type": "markdown",
   "metadata": {
    "colab_type": "text",
    "id": "MAD2X3qoV6w2"
   },
   "source": [
    "Außerdem muss ihr dabei **kein Name** zugewiesen werden."
   ]
  },
  {
   "cell_type": "code",
   "execution_count": 0,
   "metadata": {
    "colab": {},
    "colab_type": "code",
    "id": "oLqz57OSV6w2",
    "outputId": "7470c82d-950c-40be-c94d-4464f0c8db73"
   },
   "outputs": [
    {
     "data": {
      "text/plain": [
       "function"
      ]
     },
     "execution_count": 90,
     "metadata": {
      "tags": []
     },
     "output_type": "execute_result"
    }
   ],
   "source": [
    "type(lambda argument1,argument2: argument1 - argument2)"
   ]
  },
  {
   "cell_type": "markdown",
   "metadata": {
    "colab_type": "text",
    "id": "-BYfL5S6V6w2"
   },
   "source": [
    "Man bezeichnet ```lambda``` - Funktionen daher auch als **anonyme Funktionen**."
   ]
  },
  {
   "cell_type": "markdown",
   "metadata": {
    "colab_type": "text",
    "id": "s2J6WhpfV6w3"
   },
   "source": [
    "<div class=\"alert alert-block alert-info\">\n",
    "<h3>Tipp: Funktionen als Bürger erster Klasse</h3>\n",
    "    \n",
    "```lambda``` - Ausdrücke sind **nützlicher** als man auf den ersten Blick denkt. \\\n",
    "In Python stellen **Funktionen 'Bürger erster Klasse'** dar. Das heißt,\n",
    "dass Funktionen andere **Funktionen als Argument** übernehmen **oder als Ergebnis** ausgeben können. \\\n",
    "Die Funktion ```map``` nimmt zB eine Funktion mit einem Argument, und wendet sie auf\n",
    "alle Elemente einer Kollektion an:\n",
    "</div>"
   ]
  },
  {
   "cell_type": "code",
   "execution_count": 0,
   "metadata": {
    "colab": {},
    "colab_type": "code",
    "id": "DxoK3geHV6w3"
   },
   "outputs": [],
   "source": [
    "list(map(lambda x: x*x,range(10)))"
   ]
  },
  {
   "cell_type": "markdown",
   "metadata": {
    "colab_type": "text",
    "id": "U3EsA4UgV6w3"
   },
   "source": [
    "<div class=\"alert alert-block alert-info\">\n",
    "\n",
    "Wie man sieht, musste keine Funktion ```quadrat``` definiert werden.\n",
    "Eine anonyme ```lambda``` - Funktion übernimmt stattdessn die Aufgabe \\\n",
    "ein Objekt der Klasse ```'function'``` zu erstellen.\n",
    "\n",
    "In der Tipp - Box zu ```range``` weiter oben kann man eine weitere Anwendung\n",
    "der Funktionen als Bürger erster Klasse erkennen. \\\n",
    "Wir werden **später** und vor allem im **Teil 6 (Functional Programming)** dieser Lehrveranstaltung noch mehr von Funktionen als First-Class-Citizens profitieren.\n",
    "</div>"
   ]
  },
  {
   "cell_type": "markdown",
   "metadata": {
    "colab_type": "text",
    "id": "-ax2i9_qV6w4"
   },
   "source": [
    "Wieder zur **Abfalldatenbank**.\n",
    "\n",
    "Wir wollen die Angaben **einzelner Massen von Kilogramm in Tonnen** umwandeln!\n",
    "\n",
    "Also definieren wir eine Funktion ```kg_in_t```:"
   ]
  },
  {
   "cell_type": "code",
   "execution_count": 0,
   "metadata": {
    "colab": {},
    "colab_type": "code",
    "id": "yOn214NyV6w4"
   },
   "outputs": [],
   "source": [
    "def kg_in_t(masse):\n",
    "    return masse * 10**-3"
   ]
  },
  {
   "cell_type": "markdown",
   "metadata": {
    "colab_type": "text",
    "id": "mVjNtmWRV6w4"
   },
   "source": [
    "Wir können auch gleich **testen** ob diese Funktion das macht, was wir erwarten:"
   ]
  },
  {
   "cell_type": "code",
   "execution_count": 0,
   "metadata": {
    "colab": {},
    "colab_type": "code",
    "id": "KNwcDrBaV6w4",
    "outputId": "bfa36868-9705-4343-96e4-eb6c0d613bc0"
   },
   "outputs": [
    {
     "data": {
      "text/plain": [
       "1.0"
      ]
     },
     "execution_count": 92,
     "metadata": {
      "tags": []
     },
     "output_type": "execute_result"
    }
   ],
   "source": [
    "kg_in_t(1000)"
   ]
  },
  {
   "cell_type": "markdown",
   "metadata": {
    "colab_type": "text",
    "id": "nBzAOEiSV6w5"
   },
   "source": [
    "## Konditionelle Ausdrücke\n",
    "Es kommt sehr häufig vor, dass wir abhängig von einer **Kondition** \\\n",
    "einen gewissen **Teil** eines Programmes **ausführen** wollen oder einen anderen."
   ]
  },
  {
   "cell_type": "markdown",
   "metadata": {
    "colab_type": "text",
    "id": "fsR62t7SV6w5"
   },
   "source": [
    "Mit den Schlüsselwörtern ```if```, ```else``` und ```elif``` kann man genau das erreichen!"
   ]
  },
  {
   "cell_type": "markdown",
   "metadata": {
    "colab_type": "text",
    "id": "AssEF5HMV6w5"
   },
   "source": [
    "+ ```if```  erwartet eine Variable, Operation oder Funktion, welche \n",
    "  als ```True``` oder ```False``` interpretiert werden kann. \\\n",
    "  Danach folgt ein **Doppelpunkt** und ein **Code - Block** welcher \n",
    "  im Fall von ```True``` ausgeführt wird."
   ]
  },
  {
   "cell_type": "markdown",
   "metadata": {
    "colab_type": "text",
    "id": "GnjW828uV6w6"
   },
   "source": [
    "+ ```else:``` **folgt** nach diesem Block und wird genausoweit eingerückt wie das vorherige ```if```. \\\n",
    "  Ihm folgt ein **Block** welcher ausgeführt wird falls zuvor ```False``` dem ```if``` folgte."
   ]
  },
  {
   "cell_type": "markdown",
   "metadata": {
    "colab_type": "text",
    "id": "W0mHd1ANV6w6"
   },
   "source": [
    "+ ```elif``` ist kurz für ```else``` + ```if```. \n",
    "  Es **folgt** also auf einen ```if``` - Block, leitet aber selbst einen **neuen** ein."
   ]
  },
  {
   "cell_type": "code",
   "execution_count": 0,
   "metadata": {
    "colab": {},
    "colab_type": "code",
    "id": "cjMsiuNZV6w6",
    "outputId": "a3d49c57-5e35-4b73-fbc1-c729a887849a"
   },
   "outputs": [
    {
     "name": "stdout",
     "output_type": "stream",
     "text": [
      "Yes\n"
     ]
    }
   ],
   "source": [
    "variable = 6\n",
    "if variable > 5:\n",
    "    print(\"Yes\")\n",
    "else:\n",
    "    print(\"No\")"
   ]
  },
  {
   "cell_type": "markdown",
   "metadata": {
    "colab_type": "text",
    "id": "H6vzCJiWV6w7"
   },
   "source": [
    "<div class=\"alert alert-block alert-info\">\n",
    "<h3>Tipp: Kurzschlüsse von logischen Operatoren</h3>\n",
    "    \n",
    "Steht ein ```False``` vor einem ```and``` oder ein ```True``` vor einem ```or``` \\\n",
    "so ist das Ergebnis schon ohne den Operator berechnen zu müssen bekannt.\n",
    "\n",
    "Python macht daher sogenannte **Kurzschlüsse** und sieht sich gar nicht mehr an, \\\n",
    "welches zweite Argument dem Operator übergeben wurde.\n",
    "\n",
    "Wie man folgenden Beispiel sieht, ergibt dann die Division durch 0 keinen Fehler, \\\n",
    "sie muss schließlich nie berechnet werden.\n",
    "</div>"
   ]
  },
  {
   "cell_type": "code",
   "execution_count": 0,
   "metadata": {
    "colab": {},
    "colab_type": "code",
    "id": "2fST5im0V6w7"
   },
   "outputs": [],
   "source": [
    "print(True and ())\n",
    "print(\"\") # Leerzeile\n",
    "# Short-Circuit Beispiele:\n",
    "print(False and ())\n",
    "print(True or (1/0))"
   ]
  },
  {
   "cell_type": "markdown",
   "metadata": {
    "colab_type": "text",
    "id": "kCa7Y3kBV6w8"
   },
   "source": [
    "Zum **Abfallsdatensatz**.\n",
    "\n",
    "Wir wollen einen **Grenzwert** setzen ab welchem der Wert für 'kg Abfall pro Person' alarmierend wird:"
   ]
  },
  {
   "cell_type": "code",
   "execution_count": 0,
   "metadata": {
    "colab": {},
    "colab_type": "code",
    "id": "WiaBfp6xV6w8"
   },
   "outputs": [],
   "source": [
    "def alarm(nr,kg_pro_pers):\n",
    "    if kg_pro_pers > 100:\n",
    "        print(\"Alarm! Nr: %.2f überschreitet Grenzwert!\"%nr)\n",
    "        \n",
    "    # Das else kann hier ausgelassen werden, dient jedoch \n",
    "    # der Code-Qualität\n",
    "    else:\n",
    "        pass"
   ]
  },
  {
   "cell_type": "code",
   "execution_count": 0,
   "metadata": {
    "colab": {},
    "colab_type": "code",
    "id": "PBUO2wh4V6w9",
    "outputId": "52077bed-024f-4ef8-b9d8-c25f19cb6871"
   },
   "outputs": [
    {
     "name": "stdout",
     "output_type": "stream",
     "text": [
      "Alarm! Nr: 1.00 überschreitet Grenzwert!\n"
     ]
    }
   ],
   "source": [
    "alarm(1,120)"
   ]
  },
  {
   "cell_type": "markdown",
   "metadata": {
    "colab_type": "text",
    "id": "I7F8biAaV6w9"
   },
   "source": [
    "Eine **Warnung bevor Grenzwerte überschritten werden** ist praktisch also bauen wir auch eine solche ein!"
   ]
  },
  {
   "cell_type": "code",
   "execution_count": 0,
   "metadata": {
    "colab": {},
    "colab_type": "code",
    "id": "TAv45nwbV6w9"
   },
   "outputs": [],
   "source": [
    "GRENZWERT = 100\n",
    "WARNWERT  = GRENZWERT - GRENZWERT/10\n",
    "\n",
    "def warnung_und_alarm(nr,kg_pro_person):\n",
    "    if kg_pro_person > GRENZWERT:\n",
    "        print(\"Alarm! Nr: {} überschreitet Grenzwert!\".format(nr))\n",
    "    elif kg_pro_person > WARNWERT:\n",
    "        print(\"Achtung! Nr: {} ist nah am Grenzwert!\".format(nr))\n",
    "    else:\n",
    "        print(\"Nr {} passt.\".format(nr))"
   ]
  },
  {
   "cell_type": "code",
   "execution_count": 0,
   "metadata": {
    "colab": {},
    "colab_type": "code",
    "id": "DehUgBG3V6w-",
    "outputId": "73094f66-63d7-41ff-a7a4-6fab711d39d4"
   },
   "outputs": [
    {
     "name": "stdout",
     "output_type": "stream",
     "text": [
      "Nr 0 passt.\n"
     ]
    }
   ],
   "source": [
    "warnung_und_alarm(0,80)"
   ]
  },
  {
   "cell_type": "markdown",
   "metadata": {
    "colab_type": "text",
    "id": "ZP33DF8tV6w_"
   },
   "source": [
    "<div class=\"alert alert-block alert-info\">\n",
    "<h3>Tipp: Leerzeichen in Formeln</h3>\n",
    "    \n",
    "Python weiß von selbst, dass Punkt - vor Strich - Rechnung erfolgt. \\\n",
    "Allerdings lässt sich eine Formel im Code schneller lesen und verstehen, \\\n",
    "wenn man die später erfolgenden Rechenoperationen mit Beistrichen versieht.\n",
    "\n",
    "Aus ```a-b/2``` wird also ```a - b/2```. \\\n",
    "Und aus ```a*b**2``` dann ```a * b**2```.\n",
    "</div>"
   ]
  },
  {
   "cell_type": "markdown",
   "metadata": {
    "colab_type": "text",
    "id": "Iva6gsixV6w_"
   },
   "source": [
    "## Rekursive Funktionen\n",
    "\n",
    "Funktionen können sich auch **selbst aufrufen**. Solche Funktionen nennt man dann **rekursiv**.\n",
    "\n",
    "Ein **Countdown** kann zum Beispiel als solche **implementiert** werden:"
   ]
  },
  {
   "cell_type": "markdown",
   "metadata": {
    "colab_type": "text",
    "id": "uqBtGgP6V6w_"
   },
   "source": [
    "*Mit sleep können wir den Computer zwischendurch etwas warten lassen. Das brauchen wir dann gleich.*"
   ]
  },
  {
   "cell_type": "code",
   "execution_count": 0,
   "metadata": {
    "colab": {},
    "colab_type": "code",
    "id": "bArBEd2QV6w_"
   },
   "outputs": [],
   "source": [
    "from time import sleep"
   ]
  },
  {
   "cell_type": "code",
   "execution_count": 0,
   "metadata": {
    "colab": {},
    "colab_type": "code",
    "id": "UYOlSqriV6xA"
   },
   "outputs": [],
   "source": [
    "def countdown(startwert):\n",
    "    if startwert < 0:\n",
    "        return None\n",
    "    else:\n",
    "        print(startwert, end=' ')\n",
    "        sleep(0.5)\n",
    "        countdown(startwert-1)"
   ]
  },
  {
   "cell_type": "code",
   "execution_count": 0,
   "metadata": {
    "colab": {},
    "colab_type": "code",
    "id": "t0urPZFnV6xC",
    "outputId": "78c2662c-7862-4f4f-da34-a5285db4376e"
   },
   "outputs": [
    {
     "name": "stdout",
     "output_type": "stream",
     "text": [
      "10 9 8 7 6 5 4 3 2 1 0 "
     ]
    }
   ],
   "source": [
    "countdown(10)"
   ]
  },
  {
   "cell_type": "markdown",
   "metadata": {
    "colab_type": "text",
    "id": "M5axAA7QV6xE"
   },
   "source": [
    "<div class=\"alert alert-block alert-info\">\n",
    "    \n",
    "<h3>Tipp: Strings formatieren mit '%'</h3>\n",
    "    \n",
    "Als Beispiel eine etwas schönere Countdown-Funktion. \\\n",
    "Mit ```'\\r'``` lassen wir die Ausgabe immer wieder\n",
    "von vorne starten. \\\n",
    "Mit ```'%i'``` sagen wir Python, dass wir eine Ganzzahl\n",
    "in unseren String setzen wollen. \\\n",
    "Mit ```%startwert``` nach dem String geben wir Python\n",
    "dann den passenden Wert dazu:\n",
    "</div>"
   ]
  },
  {
   "cell_type": "code",
   "execution_count": 0,
   "metadata": {
    "colab": {},
    "colab_type": "code",
    "id": "sYNgiPbJV6xE"
   },
   "outputs": [],
   "source": [
    "def countdown(startwert):\n",
    "    if startwert < 0:\n",
    "        return None\n",
    "    else:\n",
    "        print(\"\\r%i\"%startwert, end=' ')\n",
    "        sleep(1)\n",
    "        countdown(startwert-1)\n",
    "        \n",
    "countdown(10)"
   ]
  },
  {
   "cell_type": "markdown",
   "metadata": {
    "colab_type": "text",
    "id": "9IA_5bsOV6xE"
   },
   "source": [
    "<div class=\"alert alert-block alert-info\">\n",
    "    <h3>Tipp: Strings formatieren mit '{}' und .format()</h3>\n",
    "    \n",
    "Das selbe lässt sich auch mit ```'{}'``` an der Einsetz - Stelle im String erledigen. \\\n",
    "Den passenden Wert der gibt man dem String dann mittels ```.format()``` :\n",
    "</div>"
   ]
  },
  {
   "cell_type": "code",
   "execution_count": 0,
   "metadata": {
    "colab": {},
    "colab_type": "code",
    "id": "j9IlHxcdV6xE"
   },
   "outputs": [],
   "source": [
    "\"Fünf ist: {}\".format(5)"
   ]
  },
  {
   "cell_type": "markdown",
   "metadata": {
    "colab_type": "text",
    "id": "IM5UJwG1V6xF"
   },
   "source": [
    "Im **Abfallsdatensatz** wollen wir die **Werte für eine Stadt aufsummieren** können.\n",
    "\n",
    "*Wie kann das unsere Funktion* ```summe``` *bewerkstelligen?*"
   ]
  },
  {
   "cell_type": "code",
   "execution_count": 0,
   "metadata": {
    "colab": {},
    "colab_type": "code",
    "id": "H2uCFhknV6xF"
   },
   "outputs": [],
   "source": [
    "def summe(werte):\n",
    "    #\n",
    "    #\n",
    "    # \n",
    "    return summe(werte) + #\n",
    "\n",
    "summe(list(range(11)))"
   ]
  },
  {
   "cell_type": "markdown",
   "metadata": {
    "colab_type": "text",
    "id": "emfRTHENV6xH"
   },
   "source": [
    "Hier eine **Lösung**:"
   ]
  },
  {
   "cell_type": "code",
   "execution_count": 0,
   "metadata": {
    "colab": {},
    "colab_type": "code",
    "id": "IzCYIR9CV6xI",
    "outputId": "51b2972e-8e74-4ac7-8547-2c515c524162"
   },
   "outputs": [
    {
     "data": {
      "text/plain": [
       "6"
      ]
     },
     "execution_count": 3,
     "metadata": {
      "tags": []
     },
     "output_type": "execute_result"
    }
   ],
   "source": [
    "def summe(werte):\n",
    "    a,*rest = werte\n",
    "    if rest != []:\n",
    "        return a + summe(rest)\n",
    "    else:\n",
    "        return a\n",
    "    \n",
    "summe([1,2,3])"
   ]
  },
  {
   "cell_type": "markdown",
   "metadata": {
    "colab_type": "text",
    "id": "WA8c3OIzV6xI"
   },
   "source": [
    "**Achtung!** Rekursive Funktionen verursachen schnell Probleme in Python. \\\n",
    "Nämlich genau dann, wenn sie sich **zu oft selbst aufrufen** müssen:"
   ]
  },
  {
   "cell_type": "code",
   "execution_count": 0,
   "metadata": {
    "colab": {},
    "colab_type": "code",
    "id": "_VagirshV6xK",
    "outputId": "a757d89e-9c76-48c3-aafd-35a987055a4d"
   },
   "outputs": [
    {
     "name": "stdout",
     "output_type": "stream",
     "text": [
      "maximum recursion depth exceeded while calling a Python object\n"
     ]
    }
   ],
   "source": [
    "try:\n",
    "    summe(list(range(9999)))\n",
    "except Exception as e:\n",
    "    print(e)"
   ]
  },
  {
   "cell_type": "markdown",
   "metadata": {
    "colab_type": "text",
    "id": "2UuOrPxTV6xK"
   },
   "source": [
    "<div class=\"alert alert-block alert-info\">\n",
    "<h3>Tipp: Der Python-Stack.</h3>\n",
    "    \n",
    "Der Stack stellt das Limit für die Aufrude dar. Jedes Mal wenn sich die\n",
    "rekursive Funktion selbst aufruft merkt sich das Python und fügt\n",
    "einen Eintrag zum Stack hinzu. Seine maximale Größe in Python liegt bei\n",
    "circa 1000 Einträgen.\n",
    "\n",
    "Einen Stack kann man sich vorstellen wie einen Stapel Papier, wo immer\n",
    "wieder ein Blatt oben hinzugefügt wird. Man hat also immer nur\n",
    "Zugriff auf das oberste Blatt Papier. \n",
    "Dieses Konzept nennt man \"LIFO\" - Last in, first out.\n",
    "\n",
    "Ein verwandtes Konzept wird \"FIFO\" genannt - wofür steht diese Abkürzung?\n",
    "</div>"
   ]
  },
  {
   "cell_type": "markdown",
   "metadata": {
    "colab_type": "text",
    "id": "jiXoEleVV6xK"
   },
   "source": [
    "+ #### Was ist die Lösung für dieses Problem?"
   ]
  },
  {
   "cell_type": "markdown",
   "metadata": {
    "colab_type": "text",
    "id": "Is4TegPuV6xL"
   },
   "source": [
    "## Die While-Schleife\n",
    "```while``` - **Schleifen** führen einen Code-Block so lange aus, wie eine **Bedingung erfüllt** ist. \\\n",
    "Ist die Bedingung **nicht (mehr) erfüllt**, fährt Python mit dem **Code nach der Einrückung** fort."
   ]
  },
  {
   "cell_type": "markdown",
   "metadata": {
    "colab_type": "text",
    "id": "V6CPmyN3V6xL"
   },
   "source": [
    "Wir schreiben die Funktion ```summe``` so um, dass sie die **Summe über eine while-Schleife** bildet:"
   ]
  },
  {
   "cell_type": "code",
   "execution_count": 0,
   "metadata": {
    "colab": {},
    "colab_type": "code",
    "id": "PGdX3JbDV6xM"
   },
   "outputs": [],
   "source": [
    "def while_summe(werte):\n",
    "    summe = 0\n",
    "    while(werte != []):\n",
    "        a, *werte = werte\n",
    "        summe += a\n",
    "    return summe"
   ]
  },
  {
   "cell_type": "markdown",
   "metadata": {
    "colab_type": "text",
    "id": "5LBxqf0kV6xM"
   },
   "source": [
    "Diese Funktion kann nun auch große Kollektionen übernehmen:"
   ]
  },
  {
   "cell_type": "code",
   "execution_count": 0,
   "metadata": {
    "colab": {},
    "colab_type": "code",
    "id": "9sBZJCTJV6xM",
    "outputId": "fa18ff10-5b51-4c71-ba50-7dade65c9292"
   },
   "outputs": [
    {
     "data": {
      "text/plain": [
       "15"
      ]
     },
     "execution_count": 115,
     "metadata": {
      "tags": []
     },
     "output_type": "execute_result"
    }
   ],
   "source": [
    "while_summe(range(6))"
   ]
  },
  {
   "cell_type": "markdown",
   "metadata": {
    "colab_type": "text",
    "id": "TWBY2QvMV6xN"
   },
   "source": [
    "Mit einem ```else:``` Ausdruck nach einer ```while``` - Schleife lässt sich ein **Block einmalig** ausführen, \\\n",
    "wenn die Bedingung nicht (mehr) erfüllt ist."
   ]
  },
  {
   "cell_type": "code",
   "execution_count": 0,
   "metadata": {
    "colab": {},
    "colab_type": "code",
    "id": "S8xnlHO6V6xN",
    "outputId": "1d2f21cb-ccda-4e4a-e3df-5367c6e6241a"
   },
   "outputs": [
    {
     "name": "stdout",
     "output_type": "stream",
     "text": [
      "7  "
     ]
    }
   ],
   "source": [
    "i = 10 \n",
    "while i >= 0:\n",
    "    if i == 6:\n",
    "        continue \n",
    "    print(\"\\r%i\"%i,end=' ')\n",
    "    sleep(0.5)\n",
    "    i-=1\n",
    "    \n",
    "else:\n",
    "    print(\"\\r%i :Success!\"%i)"
   ]
  },
  {
   "cell_type": "markdown",
   "metadata": {
    "colab_type": "text",
    "id": "7tMhn3s6V6xN"
   },
   "source": [
    "Wenn wir **gewarnt** werden wollen sobald der **Grenzwert überschritten** ist, können wir dieses ```else``` nutzen:"
   ]
  },
  {
   "cell_type": "code",
   "execution_count": 0,
   "metadata": {
    "colab": {},
    "colab_type": "code",
    "id": "Vg6wzDKaV6xP",
    "scrolled": true
   },
   "outputs": [],
   "source": [
    "# \n",
    "grenzwert_überschritten = lambda wert: wert > 100\n",
    "\n",
    "wert = #\n",
    "while not grenzwert_überschritten(wert):\n",
    "    wert += 1\n",
    "else:\n",
    "#    print(\"Überschreitung!\")\n"
   ]
  },
  {
   "cell_type": "markdown",
   "metadata": {
    "colab_type": "text",
    "id": "4mElogpYV6xQ"
   },
   "source": [
    "<div class=\"alert alert-block alert-info\">\n",
    "<h3>Tipp: Control - Flow und Else nach Schleifen</h3>\n",
    "    \n",
    "Wichtig für dem **Control - Flow** im engeren Sinne sind die Schlüsselwörter ```continue``` und ```break```. \\\n",
    "Beide können nur **innerhalb einer Schleife** verwendet werden.\n",
    "\n",
    "Stößt der Python-Interpreter auf ein ```continue```, so **springt** er wieder **auf die erste Zeile** des Blocks innerhalb der Schleife.\n",
    "\n",
    "Bei einem ```break``` **bricht die Schleife ab**. Das ```else:``` - Statement nach der Schleife wird dabei **nicht** ausgeführt.\n",
    "</div>"
   ]
  },
  {
   "cell_type": "markdown",
   "metadata": {
    "colab_type": "text",
    "id": "vprkzsUvV6xQ"
   },
   "source": [
    "## For-Schleife\n",
    "Oftmals wollen wir mit einer Schleife **Element für Element einer Kollektion aufrufen** können. Hier eignet sich ```for``` besonders gut.\n",
    "\n",
    "Diese Schleife **ruft alle Elemente hintereinander auf**. Sie weißt dem **aktuellen Element** immer auch einen **Namen** zu, sodass wir das Element nicht mehr in der Kollektion suchen müssen."
   ]
  },
  {
   "cell_type": "markdown",
   "metadata": {
    "colab_type": "text",
    "id": "0MLZ8gbcV6xQ"
   },
   "source": [
    "Nutzen wir die ```for``` **- Schleife** um die Funktion ```range``` genauer **kennenzulernen**.\n",
    "\n",
    "Die Schleife **weißt jedem Element** welches von ```range``` erzeugt wird **nacheinander den Namen** ```it``` zu. \\\n",
    "Wir lassen uns dann den Wert von ```it``` mit ```print``` im **Körper** der Schleife (*also dem eingerückten Block*) ausgeben:"
   ]
  },
  {
   "cell_type": "code",
   "execution_count": 0,
   "metadata": {
    "colab": {},
    "colab_type": "code",
    "id": "9-fwGQpbV6xQ",
    "outputId": "16ecd341-9d63-481a-b05c-bb152f17a81b"
   },
   "outputs": [
    {
     "name": "stdout",
     "output_type": "stream",
     "text": [
      "0 | 2 | 4 | 8 | "
     ]
    }
   ],
   "source": [
    "for it in range(0,10,2): \n",
    "    if it == 6:\n",
    "        continue\n",
    "    print(it, end=' | ')"
   ]
  },
  {
   "cell_type": "markdown",
   "metadata": {
    "colab_type": "text",
    "id": "k7g7IcifV6xR"
   },
   "source": [
    "In einer ```for``` - Schleife können wir auch **Tupel in einer Kollektion entpacken**:"
   ]
  },
  {
   "cell_type": "code",
   "execution_count": 0,
   "metadata": {
    "colab": {},
    "colab_type": "code",
    "id": "8B0g6cykV6xR",
    "outputId": "c4742bdb-7bdd-4148-ed68-28aa4c4dadb8"
   },
   "outputs": [
    {
     "name": "stdout",
     "output_type": "stream",
     "text": [
      "1. - Gold\n",
      "2. - Silber\n",
      "3. - Bronze\n",
      "4. - Blech\n",
      "5. - Pech\n"
     ]
    }
   ],
   "source": [
    "ränge = zip([1,2,3,4,5] , ['Gold','Silber','Bronze','Blech','Pech'])\n",
    "\n",
    "for (nummer, medaille) in ränge:\n",
    "    print(\"{}. - {}\".format(nummer, medaille))"
   ]
  },
  {
   "cell_type": "markdown",
   "metadata": {
    "colab_type": "text",
    "id": "KjQVOwvFV6xT"
   },
   "source": [
    "*Was passiert, wenn wir 'zip' zwei Kollektionen unterschiedlicher Länge geben?*"
   ]
  },
  {
   "cell_type": "markdown",
   "metadata": {
    "colab_type": "text",
    "id": "rffiDmCgV6xT"
   },
   "source": [
    "Oftmals wollen wir die **Werte eines Wörterbuches entpacken**. Das geht indem wir auf dem Wörterbuch-Objekt die **Methode** ```items``` aufrufen."
   ]
  },
  {
   "cell_type": "code",
   "execution_count": 0,
   "metadata": {
    "colab": {},
    "colab_type": "code",
    "id": "1w0nUIqlV6xT",
    "outputId": "fa240c1f-336b-43b8-eabc-e4fc50508250"
   },
   "outputs": [
    {
     "name": "stdout",
     "output_type": "stream",
     "text": [
      "564\n",
      "498\n",
      "431\n"
     ]
    }
   ],
   "source": [
    "wb = {'Graz':564, 'Linz':498, 'Salzburg':431}\n",
    "for _, wert in wb.items():\n",
    "    print(wert)"
   ]
  },
  {
   "cell_type": "markdown",
   "metadata": {
    "colab_type": "text",
    "id": "QTbq0s1VV6xU"
   },
   "source": [
    "<div class=\"alert alert-block alert-info\">\n",
    "<h3>Tipp: Nutzen von Unterstrichen zur Namensgebung</h3>\n",
    "    \n",
    "Oft kommt es **beim Entpacken von Tupeln** dazu, dass wir nur an einem Teil \\\n",
    "der im Tupel enthaltenen Werte interessiert sind. \\\n",
    "Dann weisen wir jedem Wert an dem wir nicht interessiert sind den Namen ```_``` zu. \\\n",
    "\n",
    ">_Verwendet man Python's [text.gettext](https://docs.python.org/3/library/gettext.html#gettext.install) empfiehlt es sich, zwei Unterstriche zu verwenden. \\\n",
    "```_``` wird dort als Funktion definiert._ \n",
    "\n",
    "Wollen wir eine **Funktion, Klasse oder Variable** definieren, \\\n",
    "auf welche nur innerhalb unseres Codes zugegriffen werden soll, \\\n",
    "so setzen wir einen Unterstrich vor dessen Namen: \\\n",
    "```_interne_variable```.\n",
    "</div>"
   ]
  },
  {
   "cell_type": "markdown",
   "metadata": {
    "colab_type": "text",
    "id": "OQUU8s-7V6xU"
   },
   "source": [
    "Nun wollen wir über die Reihen unserer **Abfallsdatenbank** gehen und die **Gesamtmenge an Müll je Standort** ermitteln."
   ]
  },
  {
   "cell_type": "markdown",
   "metadata": {
    "colab_type": "text",
    "id": "XE7t_C7CV6xY"
   },
   "source": [
    "Zuerst schauen wir nach **welche Werte in der Datenbank sind**, um sie in der richtigen Reihenfolge entpacken zu können:"
   ]
  },
  {
   "cell_type": "code",
   "execution_count": 0,
   "metadata": {
    "colab": {},
    "colab_type": "code",
    "id": "MLxLoVJ4V6xY",
    "outputId": "8bca4052-cb26-4621-ce1a-dff50fb3102e"
   },
   "outputs": [
    {
     "data": {
      "text/plain": [
       "Index(['Jahr', 'VKZ', 'Abfallwirtschaftsverband', 'GKZ_2015', 'Gemeindename',\n",
       "       'EW_Gde', 'HFR', 'Abfallgruppen', 'FNr', 'Abfallfraktion',\n",
       "       'Masse in kg', 'kg/EW'],\n",
       "      dtype='object')"
      ]
     },
     "execution_count": 124,
     "metadata": {
      "tags": []
     },
     "output_type": "execute_result"
    }
   ],
   "source": [
    "data_gefiltert.keys()"
   ]
  },
  {
   "cell_type": "markdown",
   "metadata": {
    "colab_type": "text",
    "id": "BoxKHWE9V6xZ"
   },
   "source": [
    "Um die Masse je Standort zu **summieren**, erstellen wir ein **leeres Wörterbuch**. Nach und nach wollen wir **Standorte hinzufügen**.\n",
    "\n",
    "*Was sollte im Körper der Schleife stehen?*"
   ]
  },
  {
   "cell_type": "code",
   "execution_count": 0,
   "metadata": {
    "colab": {},
    "colab_type": "code",
    "id": "3-B0asExV6xZ"
   },
   "outputs": [],
   "source": [
    "ergebnis = {}\n",
    "\n",
    "for _,_,_,name,*_,masse,_ in data_gefiltert.itertuples():\n",
    "    #\n",
    "    #\n",
    "    #\n",
    "else:\n",
    "    print(\"Schleife erfolgreich abgeschlossen!\")"
   ]
  },
  {
   "cell_type": "code",
   "execution_count": 0,
   "metadata": {
    "colab": {},
    "colab_type": "code",
    "id": "ozNSbmUTV6xa"
   },
   "outputs": [],
   "source": [
    "ergebnis"
   ]
  },
  {
   "cell_type": "markdown",
   "metadata": {
    "colab_type": "text",
    "id": "JXQtTlm4V6xa"
   },
   "source": [
    "Die **Lösung** für die vorhergehende Schleife:"
   ]
  },
  {
   "cell_type": "code",
   "execution_count": 0,
   "metadata": {
    "colab": {},
    "colab_type": "code",
    "id": "BzGQLTgHV6xa",
    "outputId": "1d348c9c-5b6e-4b04-ff87-bcdbaa9c11e7",
    "scrolled": true
   },
   "outputs": [
    {
     "ename": "KeyError",
     "evalue": "'Graz-Stadt'",
     "output_type": "error",
     "traceback": [
      "\u001b[1;31m---------------------------------------------------------------------------\u001b[0m",
      "\u001b[1;31mKeyError\u001b[0m                                  Traceback (most recent call last)",
      "\u001b[1;32m<ipython-input-126-5a28098d77e7>\u001b[0m in \u001b[0;36m<module>\u001b[1;34m\u001b[0m\n\u001b[0;32m      2\u001b[0m \u001b[1;33m\u001b[0m\u001b[0m\n\u001b[0;32m      3\u001b[0m \u001b[1;32mfor\u001b[0m \u001b[0m_\u001b[0m\u001b[1;33m,\u001b[0m\u001b[0m_\u001b[0m\u001b[1;33m,\u001b[0m\u001b[0m_\u001b[0m\u001b[1;33m,\u001b[0m\u001b[0mname\u001b[0m\u001b[1;33m,\u001b[0m\u001b[1;33m*\u001b[0m\u001b[0m_\u001b[0m\u001b[1;33m,\u001b[0m\u001b[0mmasse\u001b[0m\u001b[1;33m,\u001b[0m\u001b[0m_\u001b[0m \u001b[1;32min\u001b[0m \u001b[0mdata_gefiltert\u001b[0m\u001b[1;33m.\u001b[0m\u001b[0mitertuples\u001b[0m\u001b[1;33m(\u001b[0m\u001b[1;33m)\u001b[0m\u001b[1;33m:\u001b[0m\u001b[1;33m\u001b[0m\u001b[1;33m\u001b[0m\u001b[0m\n\u001b[1;32m----> 4\u001b[1;33m     \u001b[0ma\u001b[0m \u001b[1;33m=\u001b[0m \u001b[0mergebnis\u001b[0m\u001b[1;33m[\u001b[0m\u001b[0mname\u001b[0m\u001b[1;33m]\u001b[0m\u001b[1;33m\u001b[0m\u001b[1;33m\u001b[0m\u001b[0m\n\u001b[0m\u001b[0;32m      5\u001b[0m     \u001b[0mergebnis\u001b[0m\u001b[1;33m[\u001b[0m\u001b[0mname\u001b[0m\u001b[1;33m]\u001b[0m \u001b[1;33m=\u001b[0m \u001b[0ma\u001b[0m \u001b[1;33m+\u001b[0m \u001b[0mmasse\u001b[0m\u001b[1;33m\u001b[0m\u001b[1;33m\u001b[0m\u001b[0m\n\u001b[0;32m      6\u001b[0m \u001b[1;32melse\u001b[0m\u001b[1;33m:\u001b[0m\u001b[1;33m\u001b[0m\u001b[1;33m\u001b[0m\u001b[0m\n",
      "\u001b[1;31mKeyError\u001b[0m: 'Graz-Stadt'"
     ]
    }
   ],
   "source": [
    "ergebnis = {}\n",
    "\n",
    "for _,_,_,name,*_,masse,_ in data_gefiltert.itertuples():\n",
    "    a = ergebnis[name] \n",
    "    ergebnis[name] = a + masse\n",
    "else:\n",
    "    print(\"Schleife erfolgreich abgeschlossen!\")\n",
    "\n",
    "ergebnis"
   ]
  },
  {
   "cell_type": "markdown",
   "metadata": {
    "colab_type": "text",
    "id": "MQg2HVDoV6xb"
   },
   "source": [
    "## List - Comprehensions\n",
    "Wir können aber auch die **Konstruktion** einer Liste **mit** der praktischen Darstellung einer ```for``` **- Schleife direkt verbinden**. \\\n",
    "Dies lässt sich einfach mit einer ```list``` - Comprehension bewerkstelligen.\n",
    "\n",
    "Die **Semantik kehrt sich dabei um** und man benutzt zuerst das Element und **beschreibt dann woher** das Element mit diesem Namen kommen soll.\\\n",
    "Dies alles geschieht **in eckigen Klammern** ```[]```."
   ]
  },
  {
   "cell_type": "markdown",
   "metadata": {
    "colab_type": "text",
    "id": "UwzzZN3WV6xb"
   },
   "source": [
    "Eine **Liste mit Quadraten von Ganzzahlen bis 10** lässt sich so konstruieren:"
   ]
  },
  {
   "cell_type": "code",
   "execution_count": 0,
   "metadata": {
    "colab": {},
    "colab_type": "code",
    "id": "-vXA5FqAV6xc",
    "outputId": "24469624-f94b-4025-cf5d-8b2984d84cf2"
   },
   "outputs": [
    {
     "data": {
      "text/plain": [
       "[0, 1, 4, 9, 16, 25, 36, 49, 64, 81]"
      ]
     },
     "execution_count": 127,
     "metadata": {
      "tags": []
     },
     "output_type": "execute_result"
    }
   ],
   "source": [
    "[x*x for x in range(10)]"
   ]
  },
  {
   "cell_type": "markdown",
   "metadata": {
    "colab_type": "text",
    "id": "Lou_tSOoV6xd"
   },
   "source": [
    "Wir erinnern uns an das Problem, der mehrfach-Referenzen in der ```liste_von_listen```:"
   ]
  },
  {
   "cell_type": "code",
   "execution_count": 0,
   "metadata": {
    "colab": {},
    "colab_type": "code",
    "id": "PKylUW46V6xd",
    "outputId": "416cc995-1b92-4184-df00-9ba674908d0b"
   },
   "outputs": [
    {
     "data": {
      "text/plain": [
       "[[6], [6], [6]]"
      ]
     },
     "execution_count": 128,
     "metadata": {
      "tags": []
     },
     "output_type": "execute_result"
    }
   ],
   "source": [
    "liste_mit_listen = [[]]*3\n",
    "liste_mit_listen[0].append(6)\n",
    "liste_mit_listen"
   ]
  },
  {
   "cell_type": "markdown",
   "metadata": {
    "colab_type": "text",
    "id": "qFvzotCtV6xe"
   },
   "source": [
    "Dieses Problem/Diese Falle lässt sich **mit List-Comprehensions vermeiden**:"
   ]
  },
  {
   "cell_type": "code",
   "execution_count": 0,
   "metadata": {
    "colab": {},
    "colab_type": "code",
    "id": "4iPd_Iv7V6xe",
    "outputId": "b2b14a95-8d94-401f-fd2a-651758a60f77"
   },
   "outputs": [
    {
     "data": {
      "text/plain": [
       "[[6], [], []]"
      ]
     },
     "execution_count": 129,
     "metadata": {
      "tags": []
     },
     "output_type": "execute_result"
    }
   ],
   "source": [
    "liste_mit_listen_comp = [[] for _ in range(3)]\n",
    "liste_mit_listen_comp[0].append(6)\n",
    "liste_mit_listen_comp"
   ]
  },
  {
   "cell_type": "markdown",
   "metadata": {
    "colab_type": "text",
    "id": "sxgEA58-V6xe"
   },
   "source": [
    "## Weitere Comprehensions\n",
    "Ganz ähnlich zu List Comprehensions funktionieren auch **Comprehensions für andere Kollektions-Typen**."
   ]
  },
  {
   "cell_type": "markdown",
   "metadata": {
    "colab_type": "text",
    "id": "yc9CrRLOV6xe"
   },
   "source": [
    "**Set-Comprehensions** verwenden geschwungene anstatt eckiger Klammern ```{}``` und **erstellen Mengen**:"
   ]
  },
  {
   "cell_type": "code",
   "execution_count": 0,
   "metadata": {
    "colab": {},
    "colab_type": "code",
    "id": "-McCISDDV6xe",
    "outputId": "86277b44-105b-4014-d772-60725f3debc9"
   },
   "outputs": [
    {
     "data": {
      "text/plain": [
       "{0, 1, 2, 3, 4, 5}"
      ]
     },
     "execution_count": 130,
     "metadata": {
      "tags": []
     },
     "output_type": "execute_result"
    }
   ],
   "source": [
    "{it for it in range(6)}"
   ]
  },
  {
   "cell_type": "markdown",
   "metadata": {
    "colab_type": "text",
    "id": "adgkj2mxV6xf"
   },
   "source": [
    "**Dict-Comprehensions** kombinieren in geschwungenen Klammern Schlüssel und Wert ```{:}``` zu einem **Wörterbuch-Eintrag**:"
   ]
  },
  {
   "cell_type": "code",
   "execution_count": 0,
   "metadata": {
    "colab": {},
    "colab_type": "code",
    "id": "kVMielJCV6xf",
    "outputId": "c58042c3-cf2b-40fe-da72-961a03ec3d96"
   },
   "outputs": [
    {
     "data": {
      "text/plain": [
       "{0: '0', 1: '1', 2: '2', 3: '3', 4: '4', 5: '5'}"
      ]
     },
     "execution_count": 131,
     "metadata": {
      "tags": []
     },
     "output_type": "execute_result"
    }
   ],
   "source": [
    "{k:str(k) for k in range(6)}"
   ]
  },
  {
   "cell_type": "markdown",
   "metadata": {
    "colab_type": "text",
    "id": "hQWGBUdvV6xf"
   },
   "source": [
    "#### Generator-Expressions\n",
    "Sie sehen aus wie List-Comprehensions **mit normalen Klammern.** \\\n",
    "Diese erzeugen **keine Tupel!** \n",
    "Stattdessen erzeugen sie ähnlich wie die ```range``` - Funktion ihre \\\n",
    "Elemente Stück für Stück erst wenn diese mit ```next``` abgerufen werden. \\\n",
    "Dies nennt man **'lazy - evaluation'**:"
   ]
  },
  {
   "cell_type": "code",
   "execution_count": 0,
   "metadata": {
    "colab": {},
    "colab_type": "code",
    "id": "oQ9RcZ6FV6xg"
   },
   "outputs": [],
   "source": [
    "gen = (x*x for x in range(6))"
   ]
  },
  {
   "cell_type": "code",
   "execution_count": 0,
   "metadata": {
    "colab": {},
    "colab_type": "code",
    "id": "XqdiC1xnV6xh",
    "outputId": "803db772-780b-4589-ea6b-87b8957a4fae"
   },
   "outputs": [
    {
     "data": {
      "text/plain": [
       "4"
      ]
     },
     "execution_count": 141,
     "metadata": {
      "tags": []
     },
     "output_type": "execute_result"
    }
   ],
   "source": [
    "next(gen)"
   ]
  },
  {
   "cell_type": "markdown",
   "metadata": {
    "colab_type": "text",
    "id": "Tl3JpNmKV6xh"
   },
   "source": [
    "## Zusammenfassung\n",
    "\n",
    "+ Anaconda\n",
    "+ Typen\n",
    "+ Kollektionen\n",
    "+ Funktionen\n",
    "+ If-Abfragen\n",
    "+ Rekursion\n",
    "+ Schleifen\n",
    "+ Comprehensions"
   ]
  },
  {
   "cell_type": "markdown",
   "metadata": {
    "colab_type": "text",
    "id": "_4ZX7yavV6xh",
    "slideshow": {
     "slide_type": "slide"
    }
   },
   "source": [
    "<div class=\"alert alert-block alert-danger\">\n",
    "<h3>Übungsaufgabe: Das FizzBuzz - Beispiel</h3>\n",
    "    \n",
    "Ein beliebtes Beispiel in Bewerbungsgesprächen ist FizzBuzz. \\\n",
    "Damit soll überprüft werden, ob der_die Bewerber_In Programmier - \\\n",
    "Grundkonzepte verstanden hat und anwenden kann.\n",
    "\n",
    "Dabei ist das Beispiel ganz einfach!\n",
    "\n",
    "<br></br>\n",
    "\n",
    ">Für die Zahlen ```1``` bis ```100```:\n",
    ">+ Wenn die Zahl durch ```3``` teilbar ist, wird 'Fizz' ausgegeben.\n",
    ">+ Wenn die Zahl durch ```5``` teilbar ist, wird 'Buzz' ausgegeben.\n",
    ">+ Ist die Zahl durch beides teilbar, soll 'FizzBuzz' ausgegeben werden.\n",
    ">+ In allen anderen Fällen soll einfach die Zahl ausgegeben werden.\n",
    "\n",
    "Tipp: Der Modulo-Operator ```%``` könnte hilfreich sein ;)\n",
    "</div>"
   ]
  },
  {
   "cell_type": "code",
   "execution_count": 8,
   "metadata": {
    "slideshow": {
     "slide_type": "-"
    }
   },
   "outputs": [
    {
     "name": "stdout",
     "output_type": "stream",
     "text": [
      "1\n",
      "2\n",
      "Fizz\n",
      "4\n",
      "Buzz\n",
      "Fizz\n",
      "7\n",
      "8\n",
      "Fizz\n",
      "Buzz\n",
      "11\n",
      "Fizz\n",
      "13\n",
      "14\n",
      "FizzBuzz\n",
      "16\n",
      "17\n",
      "Fizz\n",
      "19\n",
      "Buzz\n",
      "Fizz\n",
      "22\n",
      "23\n",
      "Fizz\n",
      "Buzz\n",
      "26\n",
      "Fizz\n",
      "28\n",
      "29\n",
      "FizzBuzz\n",
      "31\n",
      "32\n",
      "Fizz\n",
      "34\n",
      "Buzz\n",
      "Fizz\n",
      "37\n",
      "38\n",
      "Fizz\n",
      "Buzz\n",
      "41\n",
      "Fizz\n",
      "43\n",
      "44\n",
      "FizzBuzz\n",
      "46\n",
      "47\n",
      "Fizz\n",
      "49\n",
      "Buzz\n",
      "Fizz\n",
      "52\n",
      "53\n",
      "Fizz\n",
      "Buzz\n",
      "56\n",
      "Fizz\n",
      "58\n",
      "59\n",
      "FizzBuzz\n",
      "61\n",
      "62\n",
      "Fizz\n",
      "64\n",
      "Buzz\n",
      "Fizz\n",
      "67\n",
      "68\n",
      "Fizz\n",
      "Buzz\n",
      "71\n",
      "Fizz\n",
      "73\n",
      "74\n",
      "FizzBuzz\n",
      "76\n",
      "77\n",
      "Fizz\n",
      "79\n",
      "Buzz\n",
      "Fizz\n",
      "82\n",
      "83\n",
      "Fizz\n",
      "Buzz\n",
      "86\n",
      "Fizz\n",
      "88\n",
      "89\n",
      "FizzBuzz\n",
      "91\n",
      "92\n",
      "Fizz\n",
      "94\n",
      "Buzz\n",
      "Fizz\n",
      "97\n",
      "98\n",
      "Fizz\n",
      "Buzz\n"
     ]
    }
   ],
   "source": [
    "for it in range(100): print(int(it%3/2)*\"Fizz\" + int(it%5/4)*\"Buzz\" or it+1)"
   ]
  }
 ],
 "metadata": {
  "_comment": {
   "backimage": "mybackimage.png",
   "footer": "<h4 align=\"center\">Python Wonderland - Simon Plakolb</h4>",
   "header": "<h4 align=\"center\">Angewandte Systemwissenschaften II</h4>",
   "start_slideshow_at": "beginning",
   "theme": "serif"
  },
  "celltoolbar": "Slideshow",
  "colab": {
   "name": "1 Python Intro.ipynb",
   "provenance": []
  },
  "kernelspec": {
   "display_name": "Python 3",
   "language": "python",
   "name": "python3"
  },
  "language_info": {
   "codemirror_mode": {
    "name": "ipython",
    "version": 3
   },
   "file_extension": ".py",
   "mimetype": "text/x-python",
   "name": "python",
   "nbconvert_exporter": "python",
   "pygments_lexer": "ipython3",
   "version": "3.7.7"
  },
  "rise": {
   "enable_chalkboard": true,
   "scroll": true
  }
 },
 "nbformat": 4,
 "nbformat_minor": 1
}
