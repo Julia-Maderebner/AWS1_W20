{
 "cells": [
  {
   "cell_type": "markdown",
   "metadata": {},
   "source": [
    "# Wonderland Jupyter-Notebook\n",
    "\n",
    "## ( KOMPAKT )"
   ]
  },
  {
   "cell_type": "markdown",
   "metadata": {},
   "source": [
    "Parameter"
   ]
  },
  {
   "cell_type": "code",
   "execution_count": 1,
   "metadata": {},
   "outputs": [],
   "source": [
    "# Geburtenrate\n",
    "BETA1 = 0.04; BETA2 = 1.375; BETA = 0.16"
   ]
  },
  {
   "cell_type": "code",
   "execution_count": 2,
   "metadata": {},
   "outputs": [],
   "source": [
    "# Sterberate\n",
    "ALPHA = 0.18; DELTA1 = 0.01; DELTA2 = 2.5; DELTA3 = 4.0; THETA = 15.0"
   ]
  },
  {
   "cell_type": "code",
   "execution_count": 3,
   "metadata": {},
   "outputs": [],
   "source": [
    "# Wirtschaft\n",
    "GAMMA = 0.02; ETA = 0.1; LAMBDA = 2.0"
   ]
  },
  {
   "cell_type": "code",
   "execution_count": 4,
   "metadata": {},
   "outputs": [],
   "source": [
    "# Umwelt\n",
    "KAPPA = 2.0; EPSILON = 0.02; DELTA = 1.0; RHO = 2.0; OMEGA = 0.1; NY = 1.0"
   ]
  },
  {
   "cell_type": "code",
   "execution_count": 5,
   "metadata": {},
   "outputs": [],
   "source": [
    "# Umweltschutz\n",
    "PHI = 0.5; MY = 2.0"
   ]
  },
  {
   "cell_type": "code",
   "execution_count": 13,
   "metadata": {},
   "outputs": [],
   "source": [
    "# Technologie\n",
    "CHI = 0.01"
   ]
  },
  {
   "cell_type": "markdown",
   "metadata": {},
   "source": [
    "Funktionen"
   ]
  },
  {
   "cell_type": "code",
   "execution_count": 29,
   "metadata": {},
   "outputs": [],
   "source": [
    "from math import exp\n",
    "\n",
    "def technologie(p):\n",
    "    return p*(1.0-CHI)\n",
    "\n",
    "def wirtschaft(y,z):\n",
    "    return y*(1.0+GAMMA-(GAMMA+ETA)*(1.0-z)**LAMBDA)\n",
    "\n",
    "def population(x,y,z):\n",
    "    return x*(1.0+geburtenrate(y,z)-sterberate(y,z))\n",
    "\n",
    "def geburtenrate(y,z):\n",
    "    e = e_y_strich(BETA,y,z)\n",
    "    return BETA1 * (BETA2 - e/(1.0+e))\n",
    "\n",
    "def sterberate(y,z):\n",
    "    e = e_y_strich(ALPHA,y,z)\n",
    "    return DELTA1 * (DELTA2 - e/(1.0+e)) * (1.0 + DELTA3 * (1.0-z)**THETA)\n",
    "\n",
    "def e_y_strich(CONST,y,z):\n",
    "    return exp(CONST * (y - umweltschutz(y,z)))\n",
    "\n",
    "def umwelt(x,y,z,p):\n",
    "    g = exp(DELTA*z**RHO - OMEGA*fluss_emissionen(x,y,z,p))\n",
    "    return z * (1 + NY * g - z*g + z - 1)\n",
    "\n",
    "def fluss_emissionen(x,y,z,p):\n",
    "    e = exp(EPSILON * umweltschutz(y,z) * x)\n",
    "    return x*y*p - KAPPA * (e/(1.0+e) - 0.5)\n",
    "\n",
    "def umweltschutz(y,z):\n",
    "    return PHI * (1.0-z)**MY * y"
   ]
  },
  {
   "cell_type": "markdown",
   "metadata": {},
   "source": [
    "Ausgangszustand"
   ]
  },
  {
   "cell_type": "code",
   "execution_count": 30,
   "metadata": {},
   "outputs": [],
   "source": [
    "x_0 = y_0 = p_0 = 1.0\n",
    "z_0 = 0.98"
   ]
  },
  {
   "cell_type": "markdown",
   "metadata": {},
   "source": [
    "Simulationsfunktion"
   ]
  },
  {
   "cell_type": "code",
   "execution_count": 31,
   "metadata": {},
   "outputs": [],
   "source": [
    "def simulation(years=300):\n",
    "    res = [(x_0, y_0, z_0, p_0)]\n",
    "    for year in range(1, years, 1): # 300 Jahre\n",
    "        # Zustand zum Zeitpunkt t entpacken\n",
    "        x_t, y_t, z_t, p_t = res[-1]\n",
    "        # Berechnung des Zustands in t+1\n",
    "        x_neu = population(x_t, y_t, z_t)\n",
    "        y_neu = wirtschaft(y_t, z_t)\n",
    "        z_neu = umwelt(x_t, y_t, z_t, p_t)\n",
    "        p_neu = technologie(p_t)\n",
    "        # Initialisierung des Zustand-Tupels in t+1\n",
    "        zustand_neu = (x_neu, y_neu, z_neu, p_neu)\n",
    "        # Speicherung des neuen Zustands\n",
    "        res.append(zustand_neu)\n",
    "    return res"
   ]
  },
  {
   "cell_type": "markdown",
   "metadata": {},
   "source": [
    "Matplotlib ..."
   ]
  },
  {
   "cell_type": "code",
   "execution_count": 32,
   "metadata": {},
   "outputs": [],
   "source": [
    "import matplotlib.pyplot as plt"
   ]
  },
  {
   "cell_type": "code",
   "execution_count": 33,
   "metadata": {},
   "outputs": [
    {
     "data": {
      "text/plain": [
       "[<matplotlib.lines.Line2D at 0x7fe7b6c344d0>,\n",
       " <matplotlib.lines.Line2D at 0x7fe7b6c34710>,\n",
       " <matplotlib.lines.Line2D at 0x7fe7b6c348d0>]"
      ]
     },
     "execution_count": 33,
     "metadata": {},
     "output_type": "execute_result"
    },
    {
     "data": {
      "image/png": "[encoded data removed]",
      "text/plain": [
       "<Figure size 432x288 with 1 Axes>"
      ]
     },
     "metadata": {
      "needs_background": "light"
     },
     "output_type": "display_data"
    }
   ],
   "source": [
    "plt.plot([(x,z,p) for x,y,z,p in simulation()])"
   ]
  },
  {
   "cell_type": "code",
   "execution_count": null,
   "metadata": {},
   "outputs": [],
   "source": []
  }
 ],
 "metadata": {
  "kernelspec": {
   "display_name": "Python 3",
   "language": "python",
   "name": "python3"
  },
  "language_info": {
   "codemirror_mode": {
    "name": "ipython",
    "version": 3
   },
   "file_extension": ".py",
   "mimetype": "text/x-python",
   "name": "python",
   "nbconvert_exporter": "python",
   "pygments_lexer": "ipython3",
   "version": "3.7.7"
  }
 },
 "nbformat": 4,
 "nbformat_minor": 4
}
