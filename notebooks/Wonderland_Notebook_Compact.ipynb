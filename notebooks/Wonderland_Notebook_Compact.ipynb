{
 "cells": [
  {
   "cell_type": "markdown",
   "metadata": {},
   "source": [
    "# Wonderland Jupyter-Notebook\n",
    "\n",
    "## ( KOMPAKT )"
   ]
  },
  {
   "cell_type": "markdown",
   "metadata": {},
   "source": [
    "Parameter"
   ]
  },
  {
   "cell_type": "code",
   "execution_count": 1,
   "metadata": {},
   "outputs": [],
   "source": [
    "# Geburtenrate\n",
    "BETA1 = 0.04; BETA2 = 1.375; BETA = 0.16"
   ]
  },
  {
   "cell_type": "code",
   "execution_count": 2,
   "metadata": {},
   "outputs": [],
   "source": [
    "# Sterberate\n",
    "ALPHA = 0.18; DELTA1 = 0.01; DELTA2 = 2.5; DELTA3 = 4.0; THETA = 15.0"
   ]
  },
  {
   "cell_type": "code",
   "execution_count": 3,
   "metadata": {},
   "outputs": [],
   "source": [
    "# Wirtschaft\n",
    "GAMMA = 0.02; ETA = 0.1; LAMBDA = 2.0"
   ]
  },
  {
   "cell_type": "code",
   "execution_count": 4,
   "metadata": {},
   "outputs": [],
   "source": [
    "# Umwelt\n",
    "KAPPA = 2.0; EPSILON = 0.02; DELTA = 1.0; RHO = 2.0; OMEGA = 0.1; NY = 1.0"
   ]
  },
  {
   "cell_type": "code",
   "execution_count": 5,
   "metadata": {},
   "outputs": [],
   "source": [
    "# Umweltschutz\n",
    "PHI = 0.5; MY = 2.0"
   ]
  },
  {
   "cell_type": "code",
   "execution_count": 6,
   "metadata": {},
   "outputs": [],
   "source": [
    "# Technologie\n",
    "CHI = 0.04"
   ]
  },
  {
   "cell_type": "markdown",
   "metadata": {},
   "source": [
    "Funktionen"
   ]
  },
  {
   "cell_type": "code",
   "execution_count": 7,
   "metadata": {},
   "outputs": [],
   "source": [
    "from math import exp\n",
    "\n",
    "def technologie(p):\n",
    "    return p*(1.0-CHI)\n",
    "\n",
    "def wirtschaft(y,z):\n",
    "    return y*(1.0+GAMMA-(GAMMA+ETA)*(1.0-z)**LAMBDA)\n",
    "\n",
    "def population(x,y,z):\n",
    "    return x*(1.0+geburtenrate(y,z)-sterberate(y,z))\n",
    "\n",
    "def geburtenrate(y,z):\n",
    "    e = y_strich(BETA,y,z)\n",
    "    return BETA1 * (BETA2 - e/(1.0+e))\n",
    "\n",
    "def sterberate(y,z):\n",
    "    e = y_strich(ALPHA,y,z)\n",
    "    return DELTA1 * (DELTA2 - e/(1.0+e)) * (1.0 + DELTA3 * (1.0-z)**THETA)\n",
    "\n",
    "def e_y_strich(CONST,y,z):\n",
    "    return exp(CONST * (y - umweltschutz(y,z)))\n",
    "\n",
    "def umwelt(x,y,z,p):\n",
    "    g = exp(DELTA*z**RHO - OMEGA*fluss_emissionen(x,y,z,p))\n",
    "    return z + NY * (z-z**2) * (g - 1.0)\n",
    "\n",
    "def fluss_emissionen(x,y,z,p):\n",
    "    e = exp(EPSILON * umweltschutz(y,z) * x)\n",
    "    return x*y*p - KAPPA * (e/(1.0+e) - 0.5)\n",
    "\n",
    "def umweltschutz(y,z):\n",
    "    return PHI * (1.0-z)**MY * y"
   ]
  },
  {
   "cell_type": "markdown",
   "metadata": {},
   "source": [
    "Simulationsfunktion"
   ]
  },
  {
   "cell_type": "code",
   "execution_count": 8,
   "metadata": {},
   "outputs": [],
   "source": [
    "def simulation(years=300):\n",
    "    res = [zustand_0]\n",
    "    for year in range(1, years, 1): # 300 Jahre\n",
    "        # Zustand zum Zeitpunkt t entpacken\n",
    "        x_t, y_t, z_t, p_t = res[-1]\n",
    "        # Berechnung des Zustands in t+1\n",
    "        x_neu = population(x_t, y_t, z_t)\n",
    "        y_neu = wirtschaft(y_t, z_t)\n",
    "        z_neu = umwelt(x_t, y_t, z_t, p_t)\n",
    "        p_neu = technologie(p_t)\n",
    "        # Initialisierung des Zustand-Tupels in t+1\n",
    "        zustand_neu = (x_neu, y_neu, z_neu, p_neu)\n",
    "        # Speicherung des neuen Zustands\n",
    "        res.append(zustand_neu)\n",
    "    return res"
   ]
  }
 ],
 "metadata": {
  "kernelspec": {
   "display_name": "Python 3",
   "language": "python",
   "name": "python3"
  },
  "language_info": {
   "codemirror_mode": {
    "name": "ipython",
    "version": 3
   },
   "file_extension": ".py",
   "mimetype": "text/x-python",
   "name": "python",
   "nbconvert_exporter": "python",
   "pygments_lexer": "ipython3",
   "version": "3.7.7"
  }
 },
 "nbformat": 4,
 "nbformat_minor": 4
}
