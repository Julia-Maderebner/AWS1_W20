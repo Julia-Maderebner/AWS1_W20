{
 "cells": [
  {
   "cell_type": "markdown",
   "metadata": {
    "slideshow": {
     "slide_type": "slide"
    }
   },
   "source": [
    "# Funktionale Programmierung\n",
    "### Angewandte Systemwissenschaften I\n",
    "#### Python - Wonderland\n",
    "Einheit 4 / 10"
   ]
  },
  {
   "cell_type": "markdown",
   "metadata": {
    "slideshow": {
     "slide_type": "slide"
    }
   },
   "source": [
    "# Semesterplan\n",
    "\n",
    "0. Anaconda und Pip\n",
    "1. Einführung in Python\n",
    "2. Matplotlib: Eine Einführung ins Wonderland - Modell\n",
    "3. Jupyter-Notebooks: Wonderland in Python\n",
    "4. **Funktionale Programmierung & Python-Module**\n",
    "5. Python-Pakete und Workflow\n",
    "6. Agenten-basierte Modellierung\n",
    "7. Objekt-orientierte Programmierung \n",
    "8. Animationen zur Modellentwicklung\n",
    "9. Multiprocessing & Sensitivity Analysis\n",
    "10. Projektpräsentationen"
   ]
  },
  {
   "cell_type": "markdown",
   "metadata": {
    "slideshow": {
     "slide_type": "subslide"
    }
   },
   "source": [
    "## Inhalt\n",
    "+ Programmierparadigmen\n",
    "+ Prozedurale Programmierung\n",
    "+ Funktionale Programmierung\n",
    "+ Python als funktionale Programmiersprache\n",
    "+ Vom Jupyter Notebook zum Python-Modul"
   ]
  },
  {
   "cell_type": "markdown",
   "metadata": {
    "slideshow": {
     "slide_type": "slide"
    }
   },
   "source": [
    "# *** Programmierung - Was heißt das?\n",
    "\n",
    "Es gibt verschiedene **Paradigmen** zur Programmierung.\n",
    "\n",
    "Die Namen dieser Paradigmen beschreiben meist den **Gedankengang** beim Programmieren.\n",
    "\n"
   ]
  },
  {
   "cell_type": "markdown",
   "metadata": {
    "slideshow": {
     "slide_type": "slide"
    }
   },
   "source": [
    "# Was bisher geschah: Prozedureale Programmierung\n",
    "\n",
    "Bei der **prozedurealen** Programmierung denkt man also in **Prozederen** (Abfolgen)."
   ]
  },
  {
   "cell_type": "markdown",
   "metadata": {
    "slideshow": {
     "slide_type": "fragment"
    }
   },
   "source": [
    "Da man hier nur einige **Programmiergrundlagen** benötigt, lernt man Python oft so kennen.\n",
    "\n",
    "~~~python\n",
    "# Sortiere 100 Fibonacci zahlen in gerade und ungerade\n",
    "LOOPS = 98\n",
    "fibs = [0,1]\n",
    "# Erzeuge Fibonacci Reihe\n",
    "for _ in range(LOOPS):\n",
    "    fibs.append(fibs[-1] + fibs[-2])\n",
    "# Sortiere in gerade und ungerade\n",
    "fibs_odd  = list()\n",
    "fibs_even = list()\n",
    "for fib in fibs:\n",
    "    if fib % 2:\n",
    "        fibs_odd.append(fib)\n",
    "    else:\n",
    "        fibs_even.append(fib)\n",
    "~~~"
   ]
  },
  {
   "cell_type": "markdown",
   "metadata": {
    "slideshow": {
     "slide_type": "fragment"
    }
   },
   "source": [
    "Man **denkt** also Befehl für Befehl und führt diese **der Reihe nach** aus. Im Jupyter Notebook lassen sich diese Befehlsreihen in **Segmente** unterteilen."
   ]
  },
  {
   "cell_type": "markdown",
   "metadata": {
    "slideshow": {
     "slide_type": "subslide"
    }
   },
   "source": [
    "## Globaler Zustand\n",
    "\n",
    "Als globalen Zustand bezeichnet man **Variablen** welche sich im **globalen Namespace** befinden. Auf die also **alle Teile** des Quellcodes **Zugriff** haben."
   ]
  },
  {
   "cell_type": "markdown",
   "metadata": {
    "slideshow": {
     "slide_type": "fragment"
    }
   },
   "source": [
    "Dadurch entstehen einige Probleme:\n",
    "\n",
    "+ Ergebnisse sind von der **Abfolge** der Abschnitte abhängig\n",
    "+ Fehler sind **schwer Auswertbar**\n",
    "+ Code **lässt sich nicht gut testen**\n",
    "+ Der Zustand des Programms wird zunehmen **unvorhersehbar**"
   ]
  },
  {
   "cell_type": "code",
   "execution_count": null,
   "metadata": {
    "slideshow": {
     "slide_type": "fragment"
    }
   },
   "outputs": [],
   "source": [
    "# Globaler Zustand\n",
    "speicher = 0\n",
    "\n",
    "def a():\n",
    "    speicher += 1\n",
    "    \n",
    "def b():\n",
    "    speicher += 2"
   ]
  },
  {
   "cell_type": "code",
   "execution_count": null,
   "metadata": {
    "slideshow": {
     "slide_type": "fragment"
    }
   },
   "outputs": [],
   "source": []
  },
  {
   "cell_type": "markdown",
   "metadata": {
    "slideshow": {
     "slide_type": "slide"
    }
   },
   "source": [
    "## Funktionale Programmierung\n",
    "\n",
    "Es gibt verschiedene Varianten die Lösung eines Problems zu beschreiben. Viele Programmiersprachen setzen auf **imperative** Paradigmen. Man gibt dem Computer also **Befehle** die dieser hintereinander ausführt (auch: *Prozedureale Programmierung*).\n",
    "\n",
    "Dabei ergibt sich ein Problem: **Globaler Zustand**, also Variablen die allgemein zugänglich sind, machen den Programm-Ablauf **unübersichtlich** und **verhindern**, dass Funktionen **parallel** ausgeführt werden können."
   ]
  },
  {
   "cell_type": "markdown",
   "metadata": {
    "slideshow": {
     "slide_type": "fragment"
    }
   },
   "source": [
    "Einen **Lösungsansatz** dafür werden wir bereits in der nächsten Einheit kennenlernen: **Objekt-orientierte** Programmierung erlaubt es, den **Zustand in Objekten zu bündeln** und so **nicht mehr global** zugänglich zu machen und besser zu **organisieren**."
   ]
  },
  {
   "cell_type": "markdown",
   "metadata": {
    "slideshow": {
     "slide_type": "fragment"
    }
   },
   "source": [
    "**Funktionale Programmierung** erlaubt gar keinen variablen Zustand. <br>\n",
    "Programme werden nicht mehr als **Ausführung von Befehlen** betrachtet, sondern **als mathematische Funktionen** beschrieben, die gelöst werden wollen."
   ]
  },
  {
   "cell_type": "markdown",
   "metadata": {
    "slideshow": {
     "slide_type": "subslide"
    }
   },
   "source": [
    "## Geschichte der funktionalen Programmierung\n",
    "\n",
    "Bereits eine der **ersten Programmiersprachen** überhaupt, der [Lambda - Kalkül](https://de.wikipedia.org/wiki/Lambda-Kalk%C3%BCl) von Alonso Church, war rein funktional!"
   ]
  },
  {
   "cell_type": "markdown",
   "metadata": {
    "slideshow": {
     "slide_type": "fragment"
    }
   },
   "source": [
    "Dessen Ideen flossen später in der **bis heute angewandt**en Sprache ```LISP``` (kurz für: *List Processing*) ein."
   ]
  },
  {
   "cell_type": "markdown",
   "metadata": {
    "slideshow": {
     "slide_type": "fragment"
    }
   },
   "source": [
    "Später wurde von der Firma Ericsson eine Programmiersprache gesucht, mit welcher man die vielen Prozesse welche in einem **Telekommunikations-Server** gleichzeitig ablaufen praktisch implementieren konnte. Dies ging nur mit funktionaler Programmierung und mit ```Erlang``` erschufen sie schließlich eine eigene."
   ]
  },
  {
   "cell_type": "markdown",
   "metadata": {
    "slideshow": {
     "slide_type": "fragment"
    }
   },
   "source": [
    "In etwa zur gleichen Zeit fanden sich einige Professoren zusammen und beschlossen die Sprache ```Haskell``` **als Forschungsgegenstand** zu funktionaler Programmierung zu schaffen."
   ]
  },
  {
   "cell_type": "markdown",
   "metadata": {
    "slideshow": {
     "slide_type": "subslide"
    }
   },
   "source": [
    "So wurden viele Konzepte entwickelt, welche sich dann **mit der Zeit auch in klassischeren** Programmiersprachen wiederfanden:\n",
    "+ Lambda - Ausdrücke\n",
    "+ List - Comprehensions\n",
    "+ Lazy - Evaluation\n",
    "+ Höhere Funktionen\n",
    "+ und sogar Funktoren, Applikative Funktoren und Monaden"
   ]
  },
  {
   "cell_type": "markdown",
   "metadata": {
    "slideshow": {
     "slide_type": "fragment"
    }
   },
   "source": [
    "Einige dieser Konzepte haben wir **bereits in Python** wiedergefunden. Im folgenden wollen wir deren **Vorteile erörtern**."
   ]
  },
  {
   "cell_type": "markdown",
   "metadata": {
    "slideshow": {
     "slide_type": "subslide"
    }
   },
   "source": [
    "## Referentielle Transparenz\n",
    "\n",
    "Mathematische Funktionen haben **eine zentrale Eigenschaft** welche für uns wichtig ist:\n",
    "> Gibt man einer solchen zweimal den **selben Input**, ergibt sie garantiert das **selbe Ergebnis**!"
   ]
  },
  {
   "cell_type": "markdown",
   "metadata": {
    "slideshow": {
     "slide_type": "notes"
    }
   },
   "source": [
    "Dies nennt man **Referentielle Transparenz**."
   ]
  },
  {
   "cell_type": "markdown",
   "metadata": {
    "slideshow": {
     "slide_type": "fragment"
    }
   },
   "source": [
    "Solche Funktionen können **unmöglich** auf einen variablen Zustand zugreifen! Deshalb erlauben **reine funktionale Programmiersprachen** wie zum Beispiel ```Haskell``` nicht einmal Schleifen sondern **nur Rekursion**. Das ist natürlich unrealistisch in ```Python``` (*siehe Einheit 1*)."
   ]
  },
  {
   "cell_type": "markdown",
   "metadata": {
    "slideshow": {
     "slide_type": "subslide"
    }
   },
   "source": [
    "## Vorteile funktionaler Prorgammierung\n",
    "\n",
    "*Was bringt einem diese Einschränkung?*"
   ]
  },
  {
   "cell_type": "markdown",
   "metadata": {
    "slideshow": {
     "slide_type": "fragment"
    }
   },
   "source": [
    "> \"The functional programmer sounds rather like a medievæl monk denying himself the pleasures of life, in the hope that it will make him virtuos\"\n",
    ">\n",
    "> \\- *John Hughes (Why Functional Programming matters)*"
   ]
  },
  {
   "cell_type": "markdown",
   "metadata": {
    "slideshow": {
     "slide_type": "slide"
    }
   },
   "source": [
    "## Funktionale Programmierung in Python\n",
    "\n",
    "In Python haben wir den **Nutzen** von ```lambda```s und List-Comprehensions **schon entdeckt**. "
   ]
  },
  {
   "cell_type": "code",
   "execution_count": 1,
   "metadata": {
    "slideshow": {
     "slide_type": "fragment"
    }
   },
   "outputs": [
    {
     "data": {
      "text/plain": [
       "(function, function)"
      ]
     },
     "execution_count": 1,
     "metadata": {},
     "output_type": "execute_result"
    }
   ],
   "source": [
    "def f():\n",
    "    print('Hola')\n",
    "\n",
    "type(f), type(lambda: print('Hola')) # lambdas sind anonyme Funktionen, also Funktionen ohne Namen"
   ]
  },
  {
   "cell_type": "code",
   "execution_count": 4,
   "metadata": {
    "slideshow": {
     "slide_type": "fragment"
    }
   },
   "outputs": [
    {
     "data": {
      "text/plain": [
       "[1, 36]"
      ]
     },
     "execution_count": 4,
     "metadata": {},
     "output_type": "execute_result"
    }
   ],
   "source": [
    " # Mit List-Comprehensions gelingt filter und map (auch gleichzeitig)\n",
    "[x*x for x in range(10) if x%5 == 1]"
   ]
  },
  {
   "cell_type": "markdown",
   "metadata": {
    "slideshow": {
     "slide_type": "subslide"
    }
   },
   "source": [
    "## Höhere Funktionen\n",
    "\n",
    "Höhere Funktionen sind Funktionen welche als **Argument** eine Funktion entgegennehmen können."
   ]
  },
  {
   "cell_type": "markdown",
   "metadata": {
    "slideshow": {
     "slide_type": "fragment"
    }
   },
   "source": [
    "+ ```map``` - Wendet eine Funktion auf alle Elemente einer Kollektion an:"
   ]
  },
  {
   "cell_type": "code",
   "execution_count": 2,
   "metadata": {
    "slideshow": {
     "slide_type": "-"
    }
   },
   "outputs": [
    {
     "data": {
      "text/plain": [
       "[0, 1, 4, 9, 16, 25, 36, 49, 64, 81]"
      ]
     },
     "execution_count": 2,
     "metadata": {},
     "output_type": "execute_result"
    }
   ],
   "source": [
    "list(map(lambda x: x*x, range(10)))"
   ]
  },
  {
   "cell_type": "markdown",
   "metadata": {
    "slideshow": {
     "slide_type": "fragment"
    }
   },
   "source": [
    "+ ```filter``` - Filtert die Elemente einer Funktion anhand einer Funktion welche eine ```bool``` ergibt:"
   ]
  },
  {
   "cell_type": "code",
   "execution_count": 3,
   "metadata": {
    "slideshow": {
     "slide_type": "-"
    }
   },
   "outputs": [
    {
     "data": {
      "text/plain": [
       "[1, 6]"
      ]
     },
     "execution_count": 3,
     "metadata": {},
     "output_type": "execute_result"
    }
   ],
   "source": [
    "list(filter(lambda x: x%5 == 1, range(10)))"
   ]
  },
  {
   "cell_type": "markdown",
   "metadata": {
    "slideshow": {
     "slide_type": "fragment"
    }
   },
   "source": [
    "Zwei weitere Vorteile funktionaler Programmiersprachen können wir noch besser erkunden:\n",
    "    \n",
    "**Lazy - Evaluation** und **andere höhere Funktionen**."
   ]
  },
  {
   "cell_type": "markdown",
   "metadata": {
    "slideshow": {
     "slide_type": "slide"
    }
   },
   "source": [
    "### Lazy Evaluation\n",
    "\n",
    "Unter **verzögerter Berechnung** versteht man den Umstand, dass Funktionen **erst dann berechnet** werden, wenn ihr **Ergebnis tatsächlich gebraucht** wird."
   ]
  },
  {
   "cell_type": "markdown",
   "metadata": {
    "slideshow": {
     "slide_type": "fragment"
    }
   },
   "source": [
    "Was zuerst nach einem unnötigen Warten klingt, hat **einige wichtige Vorteile**! So können wir mit Lazy Evaluation **unendlich lange Kollektionen** schaffen. Außerdem müssen wir niemals eine **lange Kollektion** im Speicher aufbewaren, da wir sie **on the fly berechnen** können."
   ]
  },
  {
   "cell_type": "markdown",
   "metadata": {
    "slideshow": {
     "slide_type": "fragment"
    }
   },
   "source": [
    "In Python sind Objekte vom Typ ```Generator``` **lazy**. Diese können wir ganz einfach mit einer **Generator Expression** ähnllich einer List - Comprehension erstellen. Statt der eckigen Klammer ```[]``` benutzen wir einfach runde ```()```:"
   ]
  },
  {
   "cell_type": "code",
   "execution_count": 6,
   "metadata": {
    "slideshow": {
     "slide_type": "-"
    }
   },
   "outputs": [],
   "source": [
    "gen = (x*x for x in range(99_999))"
   ]
  },
  {
   "cell_type": "markdown",
   "metadata": {
    "slideshow": {
     "slide_type": "fragment"
    }
   },
   "source": [
    "Ihren nächsten Wert lassen wir mit ```next``` berechnen:"
   ]
  },
  {
   "cell_type": "code",
   "execution_count": 47,
   "metadata": {
    "slideshow": {
     "slide_type": "-"
    }
   },
   "outputs": [
    {
     "data": {
      "text/plain": [
       "1600"
      ]
     },
     "execution_count": 47,
     "metadata": {},
     "output_type": "execute_result"
    }
   ],
   "source": [
    "next(gen)"
   ]
  },
  {
   "cell_type": "markdown",
   "metadata": {
    "slideshow": {
     "slide_type": "skip"
    }
   },
   "source": [
    "<div class=\"alert alert-block alert-info\">\n",
    "<h3>Tipp: Mit dem Unterstrich Zahlen strukturieren</h3>\n",
    "    \n",
    "In Python gilt:\n",
    "<pre><code>>>>10000000 == 10_000_000\n",
    "True\n",
    "</pre></code>\n",
    "Mit ```_``` bleibt die Zahl gleich, ihr Wert ist aber <strong>übersichtlicher</strong> zu erfassen.\n",
    "</div>"
   ]
  },
  {
   "cell_type": "markdown",
   "metadata": {
    "slideshow": {
     "slide_type": "slide"
    }
   },
   "source": [
    "### Generators\n",
    "\n",
    "Außerdem können wir auch **normale Funktionen** zu Generator-Fabriken **verwandeln**. Alles was wir dazu brauchen ist das **Schlüsselwort** ```yield```:"
   ]
  },
  {
   "cell_type": "code",
   "execution_count": 8,
   "metadata": {
    "slideshow": {
     "slide_type": "-"
    }
   },
   "outputs": [],
   "source": [
    "def quadrate(bis=4):\n",
    "    for x in range(2,bis):\n",
    "        yield x*x"
   ]
  },
  {
   "cell_type": "markdown",
   "metadata": {
    "slideshow": {
     "slide_type": "fragment"
    }
   },
   "source": [
    "Rufen wir nun die Funktion ```quadrate``` auf, liefert sie uns einen Generator:"
   ]
  },
  {
   "cell_type": "code",
   "execution_count": 11,
   "metadata": {
    "slideshow": {
     "slide_type": "-"
    }
   },
   "outputs": [
    {
     "data": {
      "text/plain": [
       "generator"
      ]
     },
     "execution_count": 11,
     "metadata": {},
     "output_type": "execute_result"
    }
   ],
   "source": [
    "new_gen = quadrate()\n",
    "type(new_gen)"
   ]
  },
  {
   "cell_type": "markdown",
   "metadata": {
    "slideshow": {
     "slide_type": "fragment"
    }
   },
   "source": [
    "Wenn wir diesen an ```next``` überreichen, wird das **Ergebnis** bei ```yield``` **berechnet**:"
   ]
  },
  {
   "cell_type": "code",
   "execution_count": 12,
   "metadata": {
    "slideshow": {
     "slide_type": "-"
    }
   },
   "outputs": [
    {
     "name": "stdout",
     "output_type": "stream",
     "text": [
      "4\n",
      "9\n"
     ]
    }
   ],
   "source": [
    "for elem in new_gen:\n",
    "    print(elem)"
   ]
  },
  {
   "cell_type": "markdown",
   "metadata": {
    "slideshow": {
     "slide_type": "slide"
    }
   },
   "source": [
    "### Unendliche Iteratoren\n",
    "\n",
    "Im Modul ```itertools``` befinden sich **drei Generatoren** welche uns **unendlich** lange mit Werten beliefern können:\n"
   ]
  },
  {
   "cell_type": "code",
   "execution_count": 23,
   "metadata": {
    "slideshow": {
     "slide_type": "-"
    }
   },
   "outputs": [],
   "source": [
    "import itertools"
   ]
  },
  {
   "cell_type": "markdown",
   "metadata": {
    "slideshow": {
     "slide_type": "fragment"
    }
   },
   "source": [
    "+ ```count``` : Wie ```repeat```, nimmt aber nur ```start``` und gegebenenfalls ```step``` entgegen und zählt unendlich lange."
   ]
  },
  {
   "cell_type": "code",
   "execution_count": 25,
   "metadata": {
    "slideshow": {
     "slide_type": "-"
    }
   },
   "outputs": [
    {
     "data": {
      "text/plain": [
       "(1, 3, 5)"
      ]
     },
     "execution_count": 25,
     "metadata": {},
     "output_type": "execute_result"
    }
   ],
   "source": [
    "c = itertools.count(1,2); next(c), next(c), next(c)"
   ]
  },
  {
   "cell_type": "markdown",
   "metadata": {
    "slideshow": {
     "slide_type": "fragment"
    }
   },
   "source": [
    "+ ```cycle``` : Wiederholt eine übergebene Kollektion unendlich oft."
   ]
  },
  {
   "cell_type": "code",
   "execution_count": 94,
   "metadata": {
    "slideshow": {
     "slide_type": "-"
    }
   },
   "outputs": [
    {
     "data": {
      "text/plain": [
       "(2, 63, 2, 63)"
      ]
     },
     "execution_count": 94,
     "metadata": {},
     "output_type": "execute_result"
    }
   ],
   "source": [
    "c = itertools.cycle((2,63)); next(c), next(c), next(c), next(c)"
   ]
  },
  {
   "cell_type": "markdown",
   "metadata": {
    "slideshow": {
     "slide_type": "fragment"
    }
   },
   "source": [
    "+ ```repeat``` : Wiederholt einen Wert unendlich lange. (Gibt man einen Wert ```n```, endlich lange)"
   ]
  },
  {
   "cell_type": "code",
   "execution_count": 95,
   "metadata": {
    "slideshow": {
     "slide_type": "-"
    }
   },
   "outputs": [
    {
     "data": {
      "text/plain": [
       "('Zack', 'Zack', 'Zack')"
      ]
     },
     "execution_count": 95,
     "metadata": {},
     "output_type": "execute_result"
    }
   ],
   "source": [
    "c = itertools.repeat(\"Zack\"); next(c), next(c), next(c)"
   ]
  },
  {
   "cell_type": "markdown",
   "metadata": {
    "slideshow": {
     "slide_type": "subslide"
    }
   },
   "source": [
    "## Eager Evaluation\n",
    "\n",
    "Im **Gegensatz** zur *lazy evaluation* spricht man von *eager evaluation*, also **eifriger** Berechnung.\n",
    "\n",
    "**Achtung**! Unendliche Strukturen sollte man niemals zu einer Liste oder ähnlichen *eifrig* berechneten Kollektionen machen. Dann stürzt der Computer ab. "
   ]
  },
  {
   "cell_type": "markdown",
   "metadata": {
    "slideshow": {
     "slide_type": "subslide"
    }
   },
   "source": [
    "### Simulationsergebnisse generieren\n",
    "\n",
    "Ein **Generator** eignet sich auch gut um unsere Simulationsergebnisse zu generieren."
   ]
  },
  {
   "cell_type": "markdown",
   "metadata": {
    "slideshow": {
     "slide_type": "fragment"
    }
   },
   "source": [
    "Wir gestalten diesen Generator ähnlich zur eager evaluierten Funktion ```simulation```:\n",
    "~~~python\n",
    "def simulation(jahre=300):\n",
    "    ergebnis = [(x_0,y_0,z_0,p_0)]\n",
    "    for jahr in range(1,jahre):\n",
    "        x, y, z, p = ergebnis[jahr-1]\n",
    "        x_neu = population(x,y,z)\n",
    "        y_neu = wirtschaft(y,z)\n",
    "        z_neu = umwelt(x,y,z,p)\n",
    "        p_neu = technologie(p)\n",
    "        ergebnis.append((x_neu, y_neu, z_neu, p_neu))\n",
    "    return ergebnis\n",
    "~~~"
   ]
  },
  {
   "cell_type": "markdown",
   "metadata": {
    "slideshow": {
     "slide_type": "subslide"
    }
   },
   "source": [
    "Die Variante als Generator besitzt ebenfalls eine Schleife, jedoch eignet sich ```while``` besser für **unendliche** Wiederholungen:"
   ]
  },
  {
   "cell_type": "code",
   "execution_count": 27,
   "metadata": {
    "slideshow": {
     "slide_type": "-"
    }
   },
   "outputs": [],
   "source": [
    "def simulation(ausgangs_zustand=(1.0,1.0,0.98,1.0)):\n",
    "    # Startwerte entpacken\n",
    "    x,y,z,p = ausgangs_zustand\n",
    "    # Startwerte zur Verfügung stellen\n",
    "    yield (x,y,z,p)\n",
    "    \n",
    "    while 1:\n",
    "        # Nächsten Zeitschritt berechnen\n",
    "        x_neu = population(x,y,z)\n",
    "        y_neu = wirtschaft(y,z)\n",
    "        z_neu = umwelt(x,y,z,p)\n",
    "        p_neu = technologie(p)\n",
    "        # Ergebnisse abspeichern\n",
    "        x,y,z,p = x_neu, y_neu, z_neu, p_neu\n",
    "        # Ergebnis zur Verfügung stellen\n",
    "        yield (x,y,z,p)"
   ]
  },
  {
   "cell_type": "markdown",
   "metadata": {
    "slideshow": {
     "slide_type": "-"
    }
   },
   "source": [
    "Das Ergebnis wird nicht in einer Liste gespeichert. Der Generator wartet bei ```yield``` bis wir mit ```next``` das **Ergebnis abrufen** und berechnet dann ein neues.\n",
    "\n",
    "*Zum Mitdenken:* Warum speichern wir zuerst in ```x_neu``` um dann ```x = x_neu``` zu schreiben?"
   ]
  },
  {
   "cell_type": "markdown",
   "metadata": {
    "slideshow": {
     "slide_type": "notes"
    }
   },
   "source": [
    "<div class=\"alert alert-block alert-info\">\n",
    "<h3>Tipp: Singletons</h3>\n",
    "<p>   \n",
    "Das leere Tupel <code>()</code> und der Wert <code>None</code> bilden <strong>Singletons</strong> in Python. \n",
    "</p>\n",
    "<p>\n",
    "Das heißt, dass von ihnen <strong>immer genau eine Instanz</strong> existiert. Erstellen wir ein neues leeres Tupel, verweist Python auf das bereits existierende Objekt <code>()</code>. \n",
    "</p>\n",
    "<p>\n",
    "Das bedeutet, dass <code>repeat(())</code> oder <code>repeat(None)</code> in Wirklichkeit <strong>nie</strong> neue Objekte erzeugen müssen. Dies ist äußerst effizient.\n",
    "    </p>\n",
    "</div>"
   ]
  },
  {
   "cell_type": "markdown",
   "metadata": {
    "slideshow": {
     "slide_type": "subslide"
    }
   },
   "source": [
    "Rufen wir die Generator - Funktion auf, übergibt diese uns einen Generator:"
   ]
  },
  {
   "cell_type": "code",
   "execution_count": 109,
   "metadata": {
    "slideshow": {
     "slide_type": "-"
    }
   },
   "outputs": [],
   "source": [
    "g = simulations_gen()"
   ]
  },
  {
   "cell_type": "markdown",
   "metadata": {
    "slideshow": {
     "slide_type": "fragment"
    }
   },
   "source": [
    "Mit ```next``` rufen wir dann in einer List-Comprehension die ersten 300 Ergebnisse ab:"
   ]
  },
  {
   "cell_type": "code",
   "execution_count": 110,
   "metadata": {
    "slideshow": {
     "slide_type": "-"
    }
   },
   "outputs": [],
   "source": [
    "ergebnisse = [next(g) for _ in range(300)]"
   ]
  },
  {
   "cell_type": "markdown",
   "metadata": {
    "slideshow": {
     "slide_type": "subslide"
    }
   },
   "source": [
    "Lassen wir uns die ```ergebnisse``` noch darstellen:"
   ]
  },
  {
   "cell_type": "code",
   "execution_count": 111,
   "metadata": {
    "slideshow": {
     "slide_type": "-"
    }
   },
   "outputs": [
    {
     "data": {
      "text/plain": [
       "[<matplotlib.lines.Line2D at 0x26e6f6d94a8>,\n",
       " <matplotlib.lines.Line2D at 0x26e6f6d9630>,\n",
       " <matplotlib.lines.Line2D at 0x26e6f6d9780>,\n",
       " <matplotlib.lines.Line2D at 0x26e6f6d98d0>]"
      ]
     },
     "execution_count": 111,
     "metadata": {},
     "output_type": "execute_result"
    },
    {
     "data": {
      "image/png": "[encoded data removed]",
      "text/plain": [
       "<Figure size 432x288 with 1 Axes>"
      ]
     },
     "metadata": {
      "needs_background": "light"
     },
     "output_type": "display_data"
    }
   ],
   "source": [
    "import matplotlib.pyplot as plt\n",
    "%matplotlib inline\n",
    "\n",
    "plt.plot(ergebnisse)"
   ]
  },
  {
   "cell_type": "markdown",
   "metadata": {
    "slideshow": {
     "slide_type": "slide"
    }
   },
   "source": [
    "### Funktionen höherer Ordnung\n",
    "\n",
    "**Höhere Funktionen** sind solche, welche selbst **Funktionen als  Argumente** übernehmen oder sie als **Ergebnis** zurückgeben."
   ]
  },
  {
   "cell_type": "markdown",
   "metadata": {
    "slideshow": {
     "slide_type": "fragment"
    }
   },
   "source": [
    "Einige solche Funktionen sind **bereits in der Standardbibliothek** enthalten:\n",
    "+ ```map``` : Wendet eine Funktion auf alle Elemente einer Kollektion an."
   ]
  },
  {
   "cell_type": "markdown",
   "metadata": {
    "slideshow": {
     "slide_type": "fragment"
    }
   },
   "source": [
    "+ ```filter``` : Entfernt Elemente einer Kollektion wenn eine Funktion mit ihnen ```False``` ergibt."
   ]
  },
  {
   "cell_type": "markdown",
   "metadata": {
    "slideshow": {
     "slide_type": "fragment"
    }
   },
   "source": [
    "+ Dekoratoren : Des öfteren haben wir bereits ```@...``` über eine Funktion geschrieben. Diese Dekoratoren nehmen die Funktion unter ihnen und geben uns eine neue mit demselben Namen."
   ]
  },
  {
   "cell_type": "markdown",
   "metadata": {
    "slideshow": {
     "slide_type": "fragment"
    }
   },
   "source": [
    "Viele **weitere höhere Funktionen** befinden sich in den Modulen [functools](https://docs.python.org/3/library/functools.html) und [itertools](https://docs.python.org/3/library/itertools.html).<br>\n",
    "Einige davon werden wir nun bei einer Analyse der Wonderland-Ergebnisse **genauer unter die Lupe nehmen**."
   ]
  },
  {
   "cell_type": "markdown",
   "metadata": {
    "slideshow": {
     "slide_type": "slide"
    }
   },
   "source": [
    "### Weitere Filter - Funktionen\n",
    "\n",
    "Die Funktion ```filter``` kennen wir nun schon. Zu ihr gesellen sich in ```itertools``` noch weitere, ähnliche Funktionen:"
   ]
  },
  {
   "cell_type": "markdown",
   "metadata": {
    "slideshow": {
     "slide_type": "fragment"
    }
   },
   "source": [
    "+ ```filerfalse``` : Entfernt alle Elemente für welche die überreichte Funktion ```True``` ergibt."
   ]
  },
  {
   "cell_type": "code",
   "execution_count": 115,
   "metadata": {
    "slideshow": {
     "slide_type": "-"
    }
   },
   "outputs": [
    {
     "data": {
      "text/plain": [
       "['a']"
      ]
     },
     "execution_count": 115,
     "metadata": {},
     "output_type": "execute_result"
    }
   ],
   "source": [
    "list( itertools.filterfalse(lambda x: len(x)>1, ['a','ab'])  )"
   ]
  },
  {
   "cell_type": "markdown",
   "metadata": {
    "slideshow": {
     "slide_type": "fragment"
    }
   },
   "source": [
    "+ ```dropwhile``` : Entfernt alle Elemente **solange** eine Funktion für diese Elemente ```True``` ergibt:"
   ]
  },
  {
   "cell_type": "code",
   "execution_count": 116,
   "metadata": {
    "slideshow": {
     "slide_type": "-"
    }
   },
   "outputs": [
    {
     "data": {
      "text/plain": [
       "[4, 5, 6, 7, 8, 9]"
      ]
     },
     "execution_count": 116,
     "metadata": {},
     "output_type": "execute_result"
    }
   ],
   "source": [
    "list( itertools.dropwhile(lambda x: x < 4, range(10))  )"
   ]
  },
  {
   "cell_type": "markdown",
   "metadata": {
    "slideshow": {
     "slide_type": "fragment"
    }
   },
   "source": [
    "+ ```takewhile``` : Entfernt alle Elemente **nachdem** eine Funktion für ein Element ```False``` ergibt:"
   ]
  },
  {
   "cell_type": "code",
   "execution_count": null,
   "metadata": {
    "slideshow": {
     "slide_type": "-"
    }
   },
   "outputs": [],
   "source": [
    "list(  itertools.takewhile(lambda x: x < 4, range(10))  )"
   ]
  },
  {
   "cell_type": "markdown",
   "metadata": {
    "slideshow": {
     "slide_type": "skip"
    }
   },
   "source": [
    "<div class=\"alert alert-block alert-info\">\n",
    "<h3>Tipp: Kollektionen lazy machen</h3>\n",
    "    \n",
    "<code>next</code> funktioniert nicht nur bei verzögerter Auswertung, es lässt sich auf alle Kollektionen anwenden. Dazu muss man aus der Kollektion nur einen <code>Iterator</code> machen. Dazu gibt es die Funktion <code>ìter</code>.\n",
    "<pre><code>>>>l = list(range(10))\n",
    ">>>i = iter(l)\n",
    ">>>next(i)\n",
    "0\n",
    "</code></pre>\n",
    "</div>"
   ]
  },
  {
   "cell_type": "markdown",
   "metadata": {
    "slideshow": {
     "slide_type": "slide"
    }
   },
   "source": [
    "## Faltungen\n",
    "\n",
    "Faltungen wenden eine **Funktion mit zwei Argumenten** auf die Elemente einer Kollektion an. Das kann man sich so vorstellen, dass die **Beistriche** in zB einem Tupel, durch einen **Operator ersetzt** werden:\n",
    "~~~haskell\n",
    "(1,2,3,4) => 1 * 2 * 3 * 4 \n",
    "~~~\n",
    "In Python befindet sich diese Funktion in ```functools``` und heißt ```reduce```."
   ]
  },
  {
   "cell_type": "code",
   "execution_count": 118,
   "metadata": {
    "slideshow": {
     "slide_type": "-"
    }
   },
   "outputs": [],
   "source": [
    "import functools"
   ]
  },
  {
   "cell_type": "markdown",
   "metadata": {
    "slideshow": {
     "slide_type": "fragment"
    }
   },
   "source": [
    "```reduce``` kann zum Beispiel Summen oder Faktorielle berechnen und nimmt dazu **drei Argumente** entgegen:\n",
    "+ ```f``` - Eine Funktion mit zwei Argumenten und einem Rückgabewert\n",
    "+ ```l``` - Eine Kollektion\n",
    "+ ```s``` - Den Startwert\n",
    "\n",
    "Am besten sieht man das an einem **Beispiel**:"
   ]
  },
  {
   "cell_type": "code",
   "execution_count": 119,
   "metadata": {
    "slideshow": {
     "slide_type": "-"
    }
   },
   "outputs": [
    {
     "data": {
      "text/plain": [
       "24"
      ]
     },
     "execution_count": 119,
     "metadata": {},
     "output_type": "execute_result"
    }
   ],
   "source": [
    "functools.reduce(lambda x,y: x*y, range(1,5), 1)"
   ]
  },
  {
   "cell_type": "markdown",
   "metadata": {
    "slideshow": {
     "slide_type": "subslide"
    }
   },
   "source": [
    "In den meisten Nutzungsszenarien kann ```reduce``` durch einfachere Funktionen ersetzt werden:\n",
    "+ ```sum``` - Berechnet die Summe\n",
    "+ ```any``` - Setzt ein logisches 'oder' ```or``` zwischen alle Elemente\n",
    "+ ```all``` - Wie ```any``` nur mit 'und' (```and```)\n",
    "+ ```math.factorial``` - Berechnet Faktorielle"
   ]
  },
  {
   "cell_type": "markdown",
   "metadata": {
    "slideshow": {
     "slide_type": "subslide"
    }
   },
   "source": [
    "Mit ```reduce``` können wir aber auch komplexeres beschreiben. Zum Beispiel wie sich die **Differenzen** in unserem Ergebnis berechnen:"
   ]
  },
  {
   "cell_type": "code",
   "execution_count": 159,
   "metadata": {
    "scrolled": true,
    "slideshow": {
     "slide_type": "-"
    }
   },
   "outputs": [
    {
     "data": {
      "text/plain": [
       "[(1, 1, 0.98, 1, 0),\n",
       " (1.0, 1.0, 0.98, 1.0, 0.0),\n",
       " (1.0138524222275629, 1.019952, 1.0, 0.99, 0.020000000000000018),\n",
       " (1.0278733751433995, 1.04035104, 1.0, 0.9801, 0.0),\n",
       " (1.0420642625906258, 1.0611580608, 1.0, 0.9702989999999999, 0.0),\n",
       " (1.0564262930234785, 1.082381222016, 1.0, 0.96059601, 0.0),\n",
       " (1.0709606504416775, 1.1040288464563202, 1.0, 0.9509900498999999, 0.0),\n",
       " (1.0856684927843006, 1.1261094233854465, 1.0, 0.9414801494009999, 0.0),\n",
       " (1.1005509502703816, 1.1486316118531554, 1.0, 0.9320653479069899, 0.0),\n",
       " (1.1156091236851995, 1.1716042440902186, 1.0, 0.92274469442792, 0.0),\n",
       " (1.1308440826112323, 1.195036328972023, 1.0, 0.9135172474836407, 0.0),\n",
       " (1.1462568636027808, 1.2189370555514634, 1.0, 0.9043820750088043, 0.0),\n",
       " (1.16184846830329, 1.2433157966624926, 1.0, 0.8953382542587163, 0.0),\n",
       " (1.1776198615044193, 1.2681821125957424, 1.0, 0.8863848717161291, 0.0),\n",
       " (1.1935719691459556, 1.2935457548476572, 1.0, 0.8775210229989678, 0.0),\n",
       " (1.2097056762556944, 1.3194166699446104, 1.0, 0.8687458127689781, 0.0),\n",
       " (1.226021824828457, 1.3458050033435025, 1.0, 0.8600583546412883, 0.0),\n",
       " (1.242521211643466, 1.3727211034103726, 1.0, 0.8514577710948754, 0.0),\n",
       " (1.259204586019351, 1.4001755254785802, 1.0, 0.8429431933839266, 0.0),\n",
       " (1.2760726475061108, 1.4281790359881519, 1.0, 0.8345137614500874, 0.0),\n",
       " (1.2931260435134415, 1.456742616707915, 1.0, 0.8261686238355865, 0.0),\n",
       " (1.3103653668748907, 1.4858774690420733, 1.0, 0.8179069375972307, 0.0),\n",
       " (1.3277911533473952, 1.5155950184229148, 1.0, 0.8097278682212583, 0.0),\n",
       " (1.3454038790458411, 1.5459069187913732, 1.0, 0.8016305895390458, 0.0),\n",
       " (1.3632039578123791, 1.5768250571672007, 1.0, 0.7936142836436553, 0.0),\n",
       " (1.3811917385203334, 1.6083615583105446, 1.0, 0.7856781408072188, 0.0),\n",
       " (1.3993675023126586, 1.6405287894767555, 1.0, 0.7778213593991465, 0.0),\n",
       " (1.4177314597750164, 1.6733393652662907, 1.0, 0.7700431458051551, 0.0),\n",
       " (1.43628374804368, 1.7068061525716165, 1.0, 0.7623427143471035, 0.0),\n",
       " (1.4550244278486166, 1.7409422756230488, 1.0, 0.7547192872036325, 0.0),\n",
       " (1.4739534804922476, 1.7757611211355098, 1.0, 0.7471720943315961, 0.0),\n",
       " (1.493070804764561, 1.81127634355822, 1.0, 0.7397003733882802, 0.0),\n",
       " (1.512376213795418, 1.8475018704293844, 1.0, 0.7323033696543974, 0.0),\n",
       " (1.531869431845093, 1.8844519078379722, 1.0, 0.7249803359578534, 0.0),\n",
       " (1.5515500910342848, 1.9221409459947316, 1.0, 0.7177305325982748, 0.0),\n",
       " (1.5714177280150579, 1.9605837649146263, 1.0, 0.7105532272722921, 0.0),\n",
       " (1.5914717805844025, 1.9997954402129188, 1.0, 0.7034476949995692, 0.0),\n",
       " (1.6117115842423513, 2.039791349017177, 1.0, 0.6964132180495735, 0.0),\n",
       " (1.632136368696846, 2.0805871759975205, 1.0, 0.6894490858690777, 0.0),\n",
       " (1.6527452543178378, 2.122198919517471, 1.0, 0.682554595010387, 0.0),\n",
       " (1.673537248543389, 2.1646428979078207, 1.0, 0.6757290490602831, 0.0),\n",
       " (1.6945112422408655, 2.2079357558659773, 1.0, 0.6689717585696803, 0.0),\n",
       " (1.7156660060266327, 2.252094470983297, 1.0, 0.6622820409839835, 0.0),\n",
       " (1.7370001865480291, 2.2971363604029627, 1.0, 0.6556592205741436, 0.0),\n",
       " (1.7585123027317424, 2.343079087611022, 1.0, 0.6491026283684022, 0.0),\n",
       " (1.7802007420031203, 2.3899406693632423, 1.0, 0.6426116020847181, 0.0),\n",
       " (1.8020637564813442, 2.4377394827505072, 1.0, 0.6361854860638709, 0.0),\n",
       " (1.8240994591558288, 2.4864942724055172, 1.0, 0.6298236312032323, 0.0),\n",
       " (1.8463058200496532, 2.5362241578536278, 1.0, 0.6235253948912, 0.0),\n",
       " (1.8686806623763115, 2.5869486410107005, 1.0, 0.617290140942288, 0.0),\n",
       " (1.891221658696553, 2.6386876138309145, 1.0, 0.6111172395328651, 0.0),\n",
       " (1.913926327082597, 2.691461366107533, 1.0, 0.6050060671375365, 0.0),\n",
       " (1.9367920272975518,\n",
       "  2.745290593429684,\n",
       "  0.9999999999999998,\n",
       "  0.5989560064661611,\n",
       "  -2.220446049250313e-16),\n",
       " (1.9598159569984073,\n",
       "  2.8001964052982777,\n",
       "  1.0,\n",
       "  0.5929664464014994,\n",
       "  2.220446049250313e-16),\n",
       " (1.9829951479715697, 2.856200333404243, 1.0, 0.5870367819374844, 0.0),\n",
       " (2.0063264624104846, 2.913324340072328, 1.0, 0.5811664141181095, 0.0),\n",
       " (2.0298065892455335,\n",
       "  2.9715908268737743,\n",
       "  0.9999999999999998,\n",
       "  0.5753547499769285,\n",
       "  -2.220446049250313e-16),\n",
       " (2.0534320405370123,\n",
       "  3.0310226434112497,\n",
       "  0.9999999999999998,\n",
       "  0.5696012024771592,\n",
       "  0.0),\n",
       " (2.077199147942673,\n",
       "  3.091643096279475,\n",
       "  1.0,\n",
       "  0.5639051904523876,\n",
       "  2.220446049250313e-16),\n",
       " (2.1011040592719747, 3.1534759582050644, 1.0, 0.5582661385478638, 0.0),\n",
       " (2.1251427351398946, 3.216545477369166, 1.0, 0.5526834771623851, 0.0),\n",
       " (2.1493109457338457, 3.280876386916549, 1.0, 0.5471566423907612, 0.0),\n",
       " (2.173604267707989,\n",
       "  3.34649391465488,\n",
       "  0.9999999999999998,\n",
       "  0.5416850759668536,\n",
       "  -2.220446049250313e-16),\n",
       " (2.1980180812199404,\n",
       "  3.413423792947978,\n",
       "  0.9999999999999998,\n",
       "  0.536268225207185,\n",
       "  0.0),\n",
       " (2.222547567125632,\n",
       "  3.4816922688069374,\n",
       "  1.0,\n",
       "  0.5309055429551132,\n",
       "  2.220446049250313e-16),\n",
       " (2.2471877043488333,\n",
       "  3.5513261141830763,\n",
       "  0.9999999999999998,\n",
       "  0.525596487525562,\n",
       "  -2.220446049250313e-16),\n",
       " (2.271933267442589,\n",
       "  3.6223526364667378,\n",
       "  0.9999999999999998,\n",
       "  0.5203405226503064,\n",
       "  0.0),\n",
       " (2.2967788243605787,\n",
       "  3.6947996891960724,\n",
       "  1.0,\n",
       "  0.5151371174238033,\n",
       "  2.220446049250313e-16),\n",
       " (2.321718734457161, 3.768695682979994, 1.0, 0.5099857462495653, 0.0),\n",
       " (2.3467471467356082, 3.844069596639594, 1.0, 0.5048858887870696, 0.0),\n",
       " (2.3718579983647476, 3.9209509885723857, 1.0, 0.4998370298991989, 0.0),\n",
       " (2.3970450134849504, 3.9993700083438335, 1.0, 0.49483865960020695, 0.0),\n",
       " (2.422301702325091,\n",
       "  4.0793574085107105,\n",
       "  0.9999999999999998,\n",
       "  0.4898902730042049,\n",
       "  -2.220446049250313e-16),\n",
       " (2.4476213606527506,\n",
       "  4.160944556680925,\n",
       "  1.0,\n",
       "  0.48499137027416284,\n",
       "  2.220446049250313e-16),\n",
       " (2.4729970695805483,\n",
       "  4.244163447814544,\n",
       "  0.9999999999999998,\n",
       "  0.4801414565714212,\n",
       "  -2.220446049250313e-16),\n",
       " (2.4984216957520715,\n",
       "  4.329046716770835,\n",
       "  0.9999999999999998,\n",
       "  0.475340042005707,\n",
       "  0.0),\n",
       " (2.5238878919313765,\n",
       "  4.415627651106251,\n",
       "  0.9999999999999998,\n",
       "  0.47058664158564995,\n",
       "  0.0),\n",
       " (2.5493880980204935,\n",
       "  4.5039402041283765,\n",
       "  1.0,\n",
       "  0.4658807751697934,\n",
       "  2.220446049250313e-16),\n",
       " (2.5749145425297586,\n",
       "  4.594019008210944,\n",
       "  0.9999999999999998,\n",
       "  0.4612219674180955,\n",
       "  -2.220446049250313e-16),\n",
       " (2.600459244526084,\n",
       "  4.685899388375163,\n",
       "  0.9999999999999998,\n",
       "  0.45660974774391455,\n",
       "  0.0),\n",
       " (2.626014016084502,\n",
       "  4.779617376142666,\n",
       "  1.0,\n",
       "  0.4520436502664754,\n",
       "  2.220446049250313e-16),\n",
       " (2.6515704652684113, 4.875209723665519, 1.0, 0.44752321376381066, 0.0),\n",
       " (2.6771199996639594, 4.97271391813883, 1.0, 0.44304798162617254, 0.0),\n",
       " (2.702653830493843, 5.0721681965016066, 1.0, 0.4386175018099108, 0.0),\n",
       " (2.728162977335539, 5.173611560431639, 1.0, 0.4342313267918117, 0.0),\n",
       " (2.7536382734685545, 5.277083791640272, 1.0, 0.4298890135238936, 0.0),\n",
       " (2.7790703718746665,\n",
       "  5.382625467473077,\n",
       "  0.9999999999999998,\n",
       "  0.42559012338865465,\n",
       "  -2.220446049250313e-16),\n",
       " (2.8044497519143614,\n",
       "  5.490277976822539,\n",
       "  0.9999999999999998,\n",
       "  0.4213342221547681,\n",
       "  0.0),\n",
       " (2.829766726701696,\n",
       "  5.60008353635899,\n",
       "  0.9999999999999998,\n",
       "  0.41712087993322045,\n",
       "  0.0),\n",
       " (2.8550114511986187,\n",
       "  5.71208520708617,\n",
       "  0.9999999999999998,\n",
       "  0.41294967113388825,\n",
       "  0.0),\n",
       " (2.8801739310483874,\n",
       "  5.826326911227893,\n",
       "  0.9999999999999996,\n",
       "  0.40882017442254937,\n",
       "  -2.220446049250313e-16),\n",
       " (2.905244032166051,\n",
       "  5.942853449452451,\n",
       "  1.0,\n",
       "  0.4047319726783239,\n",
       "  4.440892098500626e-16),\n",
       " (2.930211491102091, 6.0617105184415, 1.0, 0.40068465295154065, 0.0),\n",
       " (2.9550659261931287, 6.18294472881033, 1.0, 0.39667780642202527, 0.0),\n",
       " (2.979796849511178,\n",
       "  6.306603623386537,\n",
       "  0.9999999999999998,\n",
       "  0.392711028357805,\n",
       "  -2.220446049250313e-16),\n",
       " (3.0043936796201907,\n",
       "  6.432735695854268,\n",
       "  0.9999999999999998,\n",
       "  0.38878391807422696,\n",
       "  0.0),\n",
       " (3.0288457551456074,\n",
       "  6.561390409771353,\n",
       "  0.9999999999999998,\n",
       "  0.3848960788934847,\n",
       "  0.0),\n",
       " (3.053142349159324,\n",
       "  6.69261821796678,\n",
       "  0.9999999999999996,\n",
       "  0.38104711810454983,\n",
       "  -2.220446049250313e-16),\n",
       " (3.077272684378796,\n",
       "  6.826470582326116,\n",
       "  0.9999999999999993,\n",
       "  0.37723664692350434,\n",
       "  -2.220446049250313e-16),\n",
       " (3.101225949175093,\n",
       "  6.962999993972638,\n",
       "  0.9999999999999998,\n",
       "  0.37346428045426927,\n",
       "  4.440892098500626e-16),\n",
       " (3.124991314380425,\n",
       "  7.102259993852091,\n",
       "  1.0,\n",
       "  0.36972963764972655,\n",
       "  2.220446049250313e-16),\n",
       " (3.148557950881067, 7.244305193729133, 1.0, 0.36603234127322926, 0.0),\n",
       " (3.1719150479767424, 7.389191297603716, 1.0, 0.36237201786049694, 0.0),\n",
       " (3.195051832482321, 7.5369751235557905, 1.0, 0.358748297681892, 0.0),\n",
       " (3.2179575885422147, 7.6877146260269065, 1.0, 0.35516081470507305, 0.0),\n",
       " (3.2406216781221215, 7.841468918547445, 1.0, 0.3516092065580223, 0.0),\n",
       " (3.263033562136791, 7.998298296918394, 1.0, 0.34809311449244207, 0.0),\n",
       " (3.2851828221662775,\n",
       "  8.158264262856761,\n",
       "  0.9999999999999998,\n",
       "  0.34461218334751764,\n",
       "  -2.220446049250313e-16),\n",
       " (3.3070591827067846,\n",
       "  8.321429548113896,\n",
       "  0.9999999999999996,\n",
       "  0.34116606151404244,\n",
       "  -2.220446049250313e-16),\n",
       " (3.3286525338956845,\n",
       "  8.487858139076174,\n",
       "  0.9999999999999996,\n",
       "  0.337754400898902,\n",
       "  0.0),\n",
       " (3.349952954643686,\n",
       "  8.657615301857698,\n",
       "  0.9999999999999996,\n",
       "  0.334376856889913,\n",
       "  0.0),\n",
       " (3.3709507361004767,\n",
       "  8.830767607894852,\n",
       "  0.9999999999999996,\n",
       "  0.33103308832101386,\n",
       "  0.0),\n",
       " (3.391636405373525,\n",
       "  9.00738296005275,\n",
       "  0.9999999999999996,\n",
       "  0.3277227574378037,\n",
       "  0.0),\n",
       " (3.4120007494131697,\n",
       "  9.187530619253804,\n",
       "  0.9999999999999996,\n",
       "  0.3244455298634257,\n",
       "  0.0),\n",
       " (3.4320348389707154,\n",
       "  9.37128123163888,\n",
       "  0.9999999999999994,\n",
       "  0.3212010745647914,\n",
       "  -1.1102230246251565e-16),\n",
       " (3.451730052530073,\n",
       "  9.558706856271659,\n",
       "  0.9999999999999994,\n",
       "  0.3179890638191435,\n",
       "  0.0),\n",
       " (3.4710781001075763,\n",
       "  9.749880993397092,\n",
       "  0.9999999999999994,\n",
       "  0.31480917318095203,\n",
       "  0.0),\n",
       " (3.490071046809144,\n",
       "  9.944878613265034,\n",
       "  0.9999999999999994,\n",
       "  0.3116610814491425,\n",
       "  0.0),\n",
       " (3.508701336028903,\n",
       "  10.143776185530335,\n",
       "  0.9999999999999994,\n",
       "  0.30854447063465107,\n",
       "  0.0),\n",
       " (3.5269618121689477,\n",
       "  10.346651709240941,\n",
       "  0.9999999999999993,\n",
       "  0.30545902592830454,\n",
       "  -1.1102230246251565e-16),\n",
       " (3.544845742756095,\n",
       "  10.55358474342576,\n",
       "  0.9999999999999992,\n",
       "  0.3024044356690215,\n",
       "  -1.1102230246251565e-16),\n",
       " (3.562346839828457,\n",
       "  10.764656438294276,\n",
       "  0.9999999999999992,\n",
       "  0.29938039131233124,\n",
       "  0.0),\n",
       " (3.5794592804624132,\n",
       "  10.979949567060162,\n",
       "  0.9999999999999991,\n",
       "  0.2963865873992079,\n",
       "  -1.1102230246251565e-16),\n",
       " (3.5961777263092984,\n",
       "  11.199548558401366,\n",
       "  0.9999999999999991,\n",
       "  0.29342272152521587,\n",
       "  0.0),\n",
       " (3.612497342010806,\n",
       "  11.423539529569394,\n",
       "  0.999999999999999,\n",
       "  0.2904884943099637,\n",
       "  -1.1102230246251565e-16),\n",
       " (3.6284138123629557,\n",
       "  11.652010320160782,\n",
       "  0.9999999999999988,\n",
       "  0.28758360936686406,\n",
       "  -2.220446049250313e-16),\n",
       " (3.6439233581003707,\n",
       "  11.885050526563997,\n",
       "  0.9999999999999986,\n",
       "  0.2847077732731954,\n",
       "  -2.220446049250313e-16),\n",
       " (3.6590227501758434,\n",
       "  12.122751537095278,\n",
       "  0.9999999999999981,\n",
       "  0.28186069554046345,\n",
       "  -4.440892098500626e-16),\n",
       " (3.673709322414539,\n",
       "  12.365206567837184,\n",
       "  0.9999999999999978,\n",
       "  0.2790420885850588,\n",
       "  -3.3306690738754696e-16),\n",
       " (3.6879809824279546,\n",
       "  12.612510699193928,\n",
       "  0.9999999999999972,\n",
       "  0.2762516676992082,\n",
       "  -5.551115123125783e-16),\n",
       " (3.701836220679745,\n",
       "  12.864760913177808,\n",
       "  0.9999999999999966,\n",
       "  0.27348915102221616,\n",
       "  -6.661338147750939e-16),\n",
       " (3.7152741176039012,\n",
       "  13.122056131441363,\n",
       "  0.9999999999999957,\n",
       "  0.270754259511994,\n",
       "  -8.881784197001252e-16),\n",
       " (3.7282943486853855,\n",
       "  13.38449725407019,\n",
       "  0.9999999999999946,\n",
       "  0.26804671691687404,\n",
       "  -1.1102230246251565e-15),\n",
       " (3.740897187424219,\n",
       "  13.652187199151594,\n",
       "  0.999999999999993,\n",
       "  0.2653662497477053,\n",
       "  -1.5543122344752192e-15),\n",
       " (3.753083506116133,\n",
       "  13.925230943134627,\n",
       "  0.9999999999999908,\n",
       "  0.2627125872502282,\n",
       "  -2.220446049250313e-15),\n",
       " (3.7648547743960754,\n",
       "  14.20373556199732,\n",
       "  0.9999999999999879,\n",
       "  0.2600854613777259,\n",
       "  -2.886579864025407e-15),\n",
       " (3.7762130555051336,\n",
       "  14.487810273237267,\n",
       "  0.9999999999999839,\n",
       "  0.2574846067639487,\n",
       "  -3.9968028886505635e-15),\n",
       " (3.7871610002565643,\n",
       "  14.777566478702013,\n",
       "  0.9999999999999784,\n",
       "  0.2549097606963092,\n",
       "  -5.551115123125783e-15),\n",
       " (3.7977018386925354,\n",
       "  15.073117808276054,\n",
       "  0.9999999999999707,\n",
       "  0.2523606630893461,\n",
       "  -7.66053886991358e-15),\n",
       " (3.8078393694397,\n",
       "  15.374580164441575,\n",
       "  0.9999999999999603,\n",
       "  0.24983705645845267,\n",
       "  -1.0436096431476471e-14),\n",
       " (3.8175779467886937,\n",
       "  15.682071767730406,\n",
       "  0.9999999999999455,\n",
       "  0.24733868589386815,\n",
       "  -1.4765966227514582e-14),\n",
       " (3.826922465539866,\n",
       "  15.995713203085014,\n",
       "  0.9999999999999248,\n",
       "  0.24486529903492946,\n",
       "  -2.0650148258027912e-14),\n",
       " (3.835878343674812,\n",
       "  16.315627467146715,\n",
       "  0.9999999999998954,\n",
       "  0.24241664604458016,\n",
       "  -2.942091015256665e-14),\n",
       " (3.844451502930408,\n",
       "  16.64194001648965,\n",
       "  0.9999999999998531,\n",
       "  0.23999247958413436,\n",
       "  -4.2299497238218464e-14),\n",
       " (3.8526483473688127,\n",
       "  16.97477881681944,\n",
       "  0.9999999999997923,\n",
       "  0.23759255478829303,\n",
       "  -6.084022174945858e-14),\n",
       " (3.8604757400531033,\n",
       "  17.31427439315583,\n",
       "  0.9999999999997039,\n",
       "  0.2352166292404101,\n",
       "  -8.837375276016246e-14),\n",
       " (3.867940977953603,\n",
       "  17.660559881018948,\n",
       "  0.9999999999995749,\n",
       "  0.232864462948006,\n",
       "  -1.290079154614432e-13),\n",
       " (3.8750517652244256,\n",
       "  18.013771078639326,\n",
       "  0.9999999999993853,\n",
       "  0.23053581831852593,\n",
       "  -1.8962609260597674e-13),\n",
       " (3.881816185003009,\n",
       "  18.374046500212113,\n",
       "  0.9999999999991048,\n",
       "  0.22823046013534068,\n",
       "  -2.8044233602031454e-13),\n",
       " (3.8882426698973207,\n",
       "  18.741527430216355,\n",
       "  0.9999999999986874,\n",
       "  0.22594815553398728,\n",
       "  -4.1744385725905886e-13),\n",
       " (3.894339971335822,\n",
       "  19.11635797882068,\n",
       "  0.9999999999980623,\n",
       "  0.22368867397864742,\n",
       "  -6.250555628639631e-13),\n",
       " (3.9001171279640445,\n",
       "  19.498685138397093,\n",
       "  0.9999999999971209,\n",
       "  0.22145178723886094,\n",
       "  -9.414691248821327e-13),\n",
       " (3.905583433278596,\n",
       "  19.888658841165036,\n",
       "  0.9999999999956946,\n",
       "  0.21923726936647234,\n",
       "  -1.4263035197359386e-12),\n",
       " (3.910748402694565,\n",
       "  20.286432017988336,\n",
       "  0.9999999999935207,\n",
       "  0.2170448966728076,\n",
       "  -2.1738166822160565e-12),\n",
       " (3.9156217402454856,\n",
       "  20.692160658348104,\n",
       "  0.9999999999901892,\n",
       "  0.21487444770607952,\n",
       "  -3.3315572522951697e-12),\n",
       " (3.9202133051162997,\n",
       "  21.106003871515068,\n",
       "  0.9999999999850548,\n",
       "  0.21272570322901874,\n",
       "  -5.134337399681499e-12),\n",
       " (3.9245330782090395,\n",
       "  21.528123948945368,\n",
       "  0.9999999999770983,\n",
       "  0.21059844619672854,\n",
       "  -7.956524328278647e-12),\n",
       " (3.928591128938315,\n",
       "  21.958686427924274,\n",
       "  0.9999999999647021,\n",
       "  0.20849246173476127,\n",
       "  -1.2396195181452185e-11),\n",
       " (3.932397582449193,\n",
       "  22.39786015648276,\n",
       "  0.9999999999452869,\n",
       "  0.20640753711741366,\n",
       "  -1.941524718773735e-11),\n",
       " (3.9359625874436865,\n",
       "  22.845817359612415,\n",
       "  0.9999999999147198,\n",
       "  0.20434346174623952,\n",
       "  -3.056710440318966e-11),\n",
       " (3.9392962847941018,\n",
       "  23.302733706804663,\n",
       "  0.9999999998663495,\n",
       "  0.20230002712877712,\n",
       "  -4.837030775917128e-11),\n",
       " (3.9424087771118423,\n",
       "  23.768788380940755,\n",
       "  0.9999999997894223,\n",
       "  0.20027702685748935,\n",
       "  -7.692713133167217e-11),\n",
       " (3.945310099429263,\n",
       "  24.24416414855957,\n",
       "  0.9999999996664755,\n",
       "  0.19827425658891445,\n",
       "  -1.2294687490310707e-10),\n",
       " (3.9480101911398826,\n",
       "  24.729047431530763,\n",
       "  0.9999999994690262,\n",
       "  0.1962915140230253,\n",
       "  -1.974492791489979e-10),\n",
       " (3.9505188693288416,\n",
       "  25.22362838016138,\n",
       "  0.9999999991504176,\n",
       "  0.19432859888279505,\n",
       "  -3.18608583960156e-10),\n",
       " (3.952845803611249,\n",
       "  25.728100947764606,\n",
       "  0.9999999986338977,\n",
       "  0.1923853128939671,\n",
       "  -5.165199379320029e-10),\n",
       " (3.9550004925810285,\n",
       "  26.242662966719898,\n",
       "  0.9999999977926772,\n",
       "  0.19046145976502743,\n",
       "  -8.412204266505796e-10),\n",
       " (3.956992241957371,\n",
       "  26.767516226054298,\n",
       "  0.9999999964164469,\n",
       "  0.18855684516737714,\n",
       "  -1.3762303519015973e-09),\n",
       " (3.9588301445000584,\n",
       "  27.302866550575384,\n",
       "  0.999999994154942,\n",
       "  0.18667127671570335,\n",
       "  -2.261504872258513e-09),\n",
       " (3.96052306174896,\n",
       "  27.84892388158689,\n",
       "  0.9999999904224747,\n",
       "  0.18480456394854633,\n",
       "  -3.732467335204603e-09),\n",
       " (3.9620796076270706,\n",
       "  28.40590235921863,\n",
       "  0.9999999842358419,\n",
       "  0.18295651830906087,\n",
       "  -6.1866327616399985e-09),\n",
       " (3.963508133930782,\n",
       "  28.974020406403003,\n",
       "  0.9999999739381277,\n",
       "  0.18112695312597027,\n",
       "  -1.0297714236884303e-08),\n",
       " (3.96481671771577,\n",
       "  29.553500814531063,\n",
       "  0.9999999567264004,\n",
       "  0.17931568359471056,\n",
       "  -1.7211727265653565e-08),\n",
       " (3.9660131505721132,\n",
       "  30.144570830821678,\n",
       "  0.9999999278412439,\n",
       "  0.17752252675876345,\n",
       "  -2.8885156488911434e-08),\n",
       " (3.9671049297681913,\n",
       "  30.747462247438094,\n",
       "  0.9999998791712009,\n",
       "  0.17574730149117582,\n",
       "  -4.867004299580202e-08),\n",
       " (3.9680992512295985,\n",
       "  31.3624114923868,\n",
       "  0.9999997968415861,\n",
       "  0.17398982847626407,\n",
       "  -8.232961479226475e-08),\n",
       " (3.969003004306925,\n",
       "  31.989659722234386,\n",
       "  0.9999996570345879,\n",
       "  0.17224993019150142,\n",
       "  -1.3980699820059783e-07),\n",
       " (3.9698227682748453,\n",
       "  32.629452916678616,\n",
       "  0.9999994187193436,\n",
       "  0.1705274308895864,\n",
       "  -2.383152443163894e-07),\n",
       " (3.9705648104945976,\n",
       "  33.28204197501086,\n",
       "  0.9999990109665982,\n",
       "  0.16882215658069055,\n",
       "  -4.077527454571239e-07),\n",
       " (3.971235086162683,\n",
       "  33.94768281450717,\n",
       "  0.9999983107431781,\n",
       "  0.16713393501488363,\n",
       "  -7.002234200248481e-07),\n",
       " (3.9718392395605027,\n",
       "  34.62663647078569,\n",
       "  0.9999971039191136,\n",
       "  0.16546259566473479,\n",
       "  -1.2068240645701778e-06),\n",
       " (3.9723826067127126,\n",
       "  35.319169200166556,\n",
       "  0.9999950165839598,\n",
       "  0.16380796970808745,\n",
       "  -2.0873351537220586e-06),\n",
       " (3.9728702193563135,\n",
       "  36.025552584064634,\n",
       "  0.9999913936955177,\n",
       "  0.16216989001100657,\n",
       "  -3.622888442134098e-06),\n",
       " (3.973306810117866,\n",
       "  36.74606363542573,\n",
       "  0.9999850840315501,\n",
       "  0.1605481911108965,\n",
       "  -6.309663967640766e-06),\n",
       " (3.9736968187928037,\n",
       "  37.48098490715318,\n",
       "  0.9999740579763736,\n",
       "  0.15894270919978754,\n",
       "  -1.102605517644406e-05),\n",
       " (3.974044399618508,\n",
       "  38.230604602269324,\n",
       "  0.999954726233546,\n",
       "  0.15735328210778965,\n",
       "  -1.933174282764405e-05),\n",
       " (3.9743534294316416,\n",
       "  38.99521668491129,\n",
       "  0.9999207220073072,\n",
       "  0.15577974928671176,\n",
       "  -3.4004226238781854e-05),\n",
       " (3.9746275166002856,\n",
       "  39.77512098919932,\n",
       "  0.9998607181156562,\n",
       "  0.15422195179384465,\n",
       "  -6.0003891650950436e-05),\n",
       " (3.9748700106229435,\n",
       "  40.57062331638949,\n",
       "  0.9997545038357842,\n",
       "  0.1526797322759062,\n",
       "  -0.00010621427987200782),\n",
       " (3.9750840122902464,\n",
       "  41.382035489302254,\n",
       "  0.9995659162450226,\n",
       "  0.15115293495314713,\n",
       "  -0.00018858759076167964),\n",
       " (3.9752723843137616,\n",
       "  42.20967526338069,\n",
       "  0.9992300744827507,\n",
       "  0.14964140560361566,\n",
       "  -0.00033584176227186013),\n",
       " (3.975437762346722,\n",
       "  43.05386576609529,\n",
       "  0.9986302797414776,\n",
       "  0.1481449915475795,\n",
       "  -0.0005997947412731408),\n",
       " (3.9755825663744733,\n",
       "  43.914933388440765,\n",
       "  0.9975561577612193,\n",
       "  0.1466635416321037,\n",
       "  -0.001074121980258247),\n",
       " (3.975709012597115,\n",
       "  44.79320058308883,\n",
       "  0.9956277917651656,\n",
       "  0.14519690621578268,\n",
       "  -0.001928365996053727),\n",
       " (3.97581912633301,\n",
       "  45.68896184163083,\n",
       "  0.9921584573932629,\n",
       "  0.14374493715362485,\n",
       "  -0.003469334371902666),\n",
       " (3.975914757624413,\n",
       "  46.60240394990068,\n",
       "  0.9859076971583806,\n",
       "  0.1423074877820886,\n",
       "  -0.006250760234882358),\n",
       " (3.9759976045009577,\n",
       "  47.53334143955725,\n",
       "  0.9746432230379778,\n",
       "  0.1408844129042677,\n",
       "  -0.011264474120402768),\n",
       " (3.9760692581133603,\n",
       "  48.48034078887236,\n",
       "  0.9543876043804875,\n",
       "  0.13947556877522502,\n",
       "  -0.02025561865749026),\n",
       " (3.9761313099299382,\n",
       "  49.43784405725561,\n",
       "  0.9182152777121152,\n",
       "  0.13808081308747278,\n",
       "  -0.036172326668372334),\n",
       " (3.9761856346174023,\n",
       "  50.386919707449294,\n",
       "  0.8546876173590912,\n",
       "  0.13670000495659804,\n",
       "  -0.06352766035302404),\n",
       " (3.976235186963197,\n",
       "  51.266983561181306,\n",
       "  0.7471960992128368,\n",
       "  0.13533300490703207,\n",
       "  -0.10749151814625435),\n",
       " (3.9762865414913953,\n",
       "  51.899147637102935,\n",
       "  0.5793590647096498,\n",
       "  0.13397967485796175,\n",
       "  -0.167837034503187),\n",
       " (3.976360073941294,\n",
       "  51.835173863532404,\n",
       "  0.35751952047008884,\n",
       "  0.13263987810938213,\n",
       "  -0.22183954423956098),\n",
       " (3.9762427941540395,\n",
       "  50.304287316349885,\n",
       "  0.1454718263031891,\n",
       "  0.1313134793282883,\n",
       "  -0.21204769416689973),\n",
       " (3.954453540391095,\n",
       "  46.90239912116609,\n",
       "  0.030935841509365125,\n",
       "  0.13000034453500542,\n",
       "  -0.11453598479382399),\n",
       " (3.807710793193928,\n",
       "  42.555004434116455,\n",
       "  0.0038447538260924265,\n",
       "  0.12870034108965536,\n",
       "  -0.0270910876832727),\n",
       " (3.5930964867855564,\n",
       "  38.33869574812994,\n",
       "  0.0005234670202927082,\n",
       "  0.12741333767875881,\n",
       "  -0.0033212868057997183),\n",
       " (3.380099857400797,\n",
       "  34.50964148293715,\n",
       "  9.62833953484564e-05,\n",
       "  0.12613920430197123,\n",
       "  -0.00042718362494425176),\n",
       " (3.178392607970131,\n",
       "  31.059474745561886,\n",
       "  2.3306363538749475e-05,\n",
       "  0.12487781225895152,\n",
       "  -7.297703180970693e-05),\n",
       " (2.9883894291105717,\n",
       "  27.953701000999505,\n",
       "  7.111409386707687e-06,\n",
       "  0.123629034136362,\n",
       "  -1.6194954152041788e-05),\n",
       " (2.8094759693879277,\n",
       "  25.15837861038072,\n",
       "  2.633873172015393e-06,\n",
       "  0.12239274379499838,\n",
       "  -4.477536214692294e-06),\n",
       " (2.6409392611286227,\n",
       "  22.64255665267654,\n",
       "  1.1471763576904092e-06,\n",
       "  0.1211688163570484,\n",
       "  -1.4866968143249839e-06),\n",
       " (2.482101185478631,\n",
       "  20.37830722140667,\n",
       "  5.722282414206356e-07,\n",
       "  0.11995712819347792,\n",
       "  -5.749481162697737e-07),\n",
       " (2.332342344365007,\n",
       "  18.3404792979155,\n",
       "  3.197526470753841e-07,\n",
       "  0.11875755691154315,\n",
       "  -2.524755943452515e-07),\n",
       " (2.1911043849787766,\n",
       "  16.506432775583757,\n",
       "  1.9649071137423294e-07,\n",
       "  0.11756998134242772,\n",
       "  -1.2326193570115115e-07),\n",
       " (2.0578856667061745,\n",
       "  14.855790276431877,\n",
       "  1.3074975783119652e-07,\n",
       "  0.11639428152900344,\n",
       "  -6.574095354303642e-08),\n",
       " (1.932234198398107,\n",
       "  13.370211714962494,\n",
       "  9.300173254149449e-08,\n",
       "  0.11523033871371341,\n",
       "  -3.7748025289702036e-08),\n",
       " (1.813739684106728,\n",
       "  12.033190841894916,\n",
       "  6.994949873307546e-08,\n",
       "  0.11407803532657627,\n",
       "  -2.305223380841903e-08),\n",
       " (1.7020258203784835,\n",
       "  10.829871959717178,\n",
       "  5.512849882204845e-08,\n",
       "  0.11293725497331052,\n",
       "  -1.4820999911027008e-08),\n",
       " (1.5967435293206593,\n",
       "  9.746884907033756,\n",
       "  4.518129025222366e-08,\n",
       "  0.1118078824235774,\n",
       "  -9.947208569824789e-09),\n",
       " (1.4975654445331013,\n",
       "  8.772196522020819,\n",
       "  3.8261315943364964e-08,\n",
       "  0.11068980359934164,\n",
       "  -6.919974308858696e-09),\n",
       " (1.4041816973801025,\n",
       "  7.894976950371323,\n",
       "  3.330094880996614e-08,\n",
       "  0.10958290556334822,\n",
       "  -4.9603671333988224e-09),\n",
       " (1.3162968823561667,\n",
       "  7.105479318432643,\n",
       "  2.9655268545195796e-08,\n",
       "  0.10848707650771475,\n",
       "  -3.6456802647703453e-09),\n",
       " (1.2336279973085382,\n",
       "  6.394931437160953,\n",
       "  2.691936079777305e-08,\n",
       "  0.1074022057426376,\n",
       "  -2.735907747422745e-09),\n",
       " (1.155903132588417,\n",
       "  5.75543833476025,\n",
       "  2.4830157953674112e-08,\n",
       "  0.10632818368521123,\n",
       "  -2.089202844098939e-09),\n",
       " (1.0828606985991331,\n",
       "  5.1798945355822505,\n",
       "  2.3211476649576797e-08,\n",
       "  0.10526490184835911,\n",
       "  -1.6186813040973155e-09),\n",
       " (1.014249014627942,\n",
       "  4.661905110879945,\n",
       "  2.1942084891718838e-08,\n",
       "  0.10421225282987552,\n",
       "  -1.269391757857959e-09),\n",
       " (0.9498261205210107,\n",
       "  4.195714624342011,\n",
       "  2.09365238058887e-08,\n",
       "  0.10317013030157676,\n",
       "  -1.005561085830138e-09),\n",
       " (0.889359709351413,\n",
       "  3.776143182990292,\n",
       "  2.0133239737980565e-08,\n",
       "  0.10213842899856099,\n",
       "  -8.032840679081354e-10),\n",
       " (0.83262711029974,\n",
       "  3.398528882937502,\n",
       "  1.948703806296548e-08,\n",
       "  0.10111704470857538,\n",
       "  -6.462016750150835e-10),\n",
       " (0.7794152755185495,\n",
       "  3.0586760105382944,\n",
       "  1.8964164622005515e-08,\n",
       "  0.10010587426148963,\n",
       "  -5.228734409599657e-10),\n",
       " (0.7295207431166841,\n",
       "  2.7528084234057215,\n",
       "  1.8539026132643887e-08,\n",
       "  0.09910481551887473,\n",
       "  -4.2513848936162847e-10),\n",
       " (0.6827495615030033,\n",
       "  2.477527593313402,\n",
       "  1.8191957086604782e-08,\n",
       "  0.09811376736368599,\n",
       "  -3.470690460391046e-10),\n",
       " (0.6389171692582698,\n",
       "  2.22977484479912,\n",
       "  1.790766935936373e-08,\n",
       "  0.09713262969004913,\n",
       "  -2.8428772724105123e-10),\n",
       " (0.5978482304834895,\n",
       "  2.006797369902425,\n",
       "  1.7674156165238383e-08,\n",
       "  0.09616130339314863,\n",
       "  -2.335131941253477e-10),\n",
       " (0.5593764290704664,\n",
       "  1.8061176414246105,\n",
       "  1.7481904039391158e-08,\n",
       "  0.09519969035921715,\n",
       "  -1.9225212584722556e-10),\n",
       " (0.5233442272433967,\n",
       "  1.6255058848599995,\n",
       "  1.732331731076378e-08,\n",
       "  0.09424769345562498,\n",
       "  -1.5858672862737823e-10),\n",
       " (0.4896025945495054,\n",
       "  1.4629553031321967,\n",
       "  1.7192291582437566e-08,\n",
       "  0.09330521652106873,\n",
       "  -1.31025728326214e-10),\n",
       " (0.45801071361223833,\n",
       "  1.31665977885535,\n",
       "  1.7083893335158478e-08,\n",
       "  0.09237216435585804,\n",
       "  -1.0839824727908741e-10),\n",
       " (0.4284356686717684,\n",
       "  1.184993806368297,\n",
       "  1.6994116231798815e-08,\n",
       "  0.09144844271229946,\n",
       "  -8.977710335966311e-11),\n",
       " (0.40075212241016844,\n",
       "  1.0664944305645685,\n",
       "  1.6919693636572702e-08,\n",
       "  0.09053395828517646,\n",
       "  -7.442259522611263e-11),\n",
       " (0.3748419859167181,\n",
       "  0.9598449918388537,\n",
       "  1.6857952882034068e-08,\n",
       "  0.08962861870232469,\n",
       "  -6.174075453863421e-11),\n",
       " (0.35059408597273123,\n",
       "  0.8638604965384135,\n",
       "  1.6806700927932478e-08,\n",
       "  0.08873233251530144,\n",
       "  -5.125195410158996e-11),\n",
       " (0.32790383317469474,\n",
       "  0.7774744503690469,\n",
       "  1.6764133901197796e-08,\n",
       "  0.08784500919014843,\n",
       "  -4.2567026734682605e-11),\n",
       " (0.3066728937981439,\n",
       "  0.6997270084602268,\n",
       "  1.6728765000699016e-08,\n",
       "  0.08696655909824694,\n",
       "  -3.53689004987801e-11),\n",
       " (0.2868088677474126,\n",
       "  0.6297543104235406,\n",
       "  1.6699366665800878e-08,\n",
       "  0.08609689350726446,\n",
       "  -2.939833489813731e-11),\n",
       " (0.26822497444395704,\n",
       "  0.566778881905146,\n",
       "  1.6674923924409954e-08,\n",
       "  0.08523592457219181,\n",
       "  -2.4442741390924647e-11),\n",
       " (0.2508397480785156,\n",
       "  0.5101009959828701,\n",
       "  1.6654596575151077e-08,\n",
       "  0.0843835653264699,\n",
       "  -2.032734925887642e-11),\n",
       " (0.23457674328672415,\n",
       "  0.45909089842350936,\n",
       "  1.6637688401650033e-08,\n",
       "  0.0835397296732052,\n",
       "  -1.6908173501044023e-11),\n",
       " (0.2193642519989228,\n",
       "  0.41318181041432916,\n",
       "  1.6623622020930875e-08,\n",
       "  0.08270433237647315,\n",
       "  -1.4066380719158412e-11),\n",
       " (0.20513503195692126,\n",
       "  0.371863631021355,\n",
       "  1.661191827168291e-08,\n",
       "  0.08187728905270841,\n",
       "  -1.1703749247964845e-11),\n",
       " (0.19182604717738116,\n",
       "  0.3346772694017878,\n",
       "  1.6602179278920048e-08,\n",
       "  0.08105851616218133,\n",
       "  -9.738992762862095e-12),\n",
       " (0.1793782204673613,\n",
       "  0.30120954379513837,\n",
       "  1.6594074508642845e-08,\n",
       "  0.08024793100055952,\n",
       "  -8.104770277203064e-12),\n",
       " (0.16773619795699163,\n",
       "  0.271088590615215,\n",
       "  1.658732926329803e-08,\n",
       "  0.07944545169055392,\n",
       "  -6.7452453448131505e-12),\n",
       " (0.15684812550222735,\n",
       "  0.24397973263288608,\n",
       "  1.6581715176041244e-08,\n",
       "  0.07865099717364837,\n",
       "  -5.6140872567876046e-12),\n",
       " (0.1466654367227717,\n",
       "  0.21958176034054205,\n",
       "  1.6577042346276737e-08,\n",
       "  0.07786448720191189,\n",
       "  -4.672829764506785e-12),\n",
       " (0.1371426523726635,\n",
       "  0.1976235851800917,\n",
       "  1.657315282598964e-08,\n",
       "  0.07708584232989277,\n",
       "  -3.889520287098267e-12),\n",
       " (0.12823719069033457,\n",
       "  0.17786122744814153,\n",
       "  1.6569915219951442e-08,\n",
       "  0.07631498390659384,\n",
       "  -3.2376060381965197e-12),\n",
       " (0.11990918833825398,\n",
       "  0.1600751054106423,\n",
       "  1.6567220205930587e-08,\n",
       "  0.07555183406752791,\n",
       "  -2.6950140208557873e-12),\n",
       " (0.11212133151710828,\n",
       "  0.14406759550605794,\n",
       "  1.6564976815821648e-08,\n",
       "  0.07479631572685264,\n",
       "  -2.243390108938642e-12),\n",
       " (0.10483869682371648,\n",
       "  0.12966083652820648,\n",
       "  1.656310934683625e-08,\n",
       "  0.07404835256958411,\n",
       "  -1.8674689853970263e-12),\n",
       " (0.09802860141376138,\n",
       "  0.11669475339080662,\n",
       "  1.656155479490104e-08,\n",
       "  0.07330786904388827,\n",
       "  -1.5545519352106145e-12),\n",
       " (0.09166046202843829,\n",
       "  0.10502527851556112,\n",
       "  1.656026072121537e-08,\n",
       "  0.07257479035344938,\n",
       "  -1.2940736856713824e-12),\n",
       " (0.08570566244702302,\n",
       "  0.09452275108142405,\n",
       "  1.655918347834357e-08,\n",
       "  0.07184904244991488,\n",
       "  -1.0772428717976575e-12),\n",
       " (0.08013742893409453,\n",
       "  0.08507047634893435,\n",
       "  1.655828673489474e-08,\n",
       "  0.07113055202541574,\n",
       "  -8.967434488325998e-13),\n",
       " (0.07493071325984636,\n",
       "  0.07656342905211003,\n",
       "  1.6557540248287433e-08,\n",
       "  0.07041924650516158,\n",
       "  -7.464866073053797e-13),\n",
       " (0.07006208288386194,\n",
       "  0.06890708645114751,\n",
       "  1.6556918843715927e-08,\n",
       "  0.06971505404010997,\n",
       "  -6.214045715058606e-13),\n",
       " (0.0655096179063223,\n",
       "  0.062016378079846134,\n",
       "  1.6556401564558912e-08,\n",
       "  0.06901790349970886,\n",
       "  -5.172791570150634e-13),\n",
       " (0.0612528144053729,\n",
       "  0.055814740518285846,\n",
       "  1.6555970965367248e-08,\n",
       "  0.06832772446471178,\n",
       "  -4.305991916641671e-13),\n",
       " (0.057272493794903616,\n",
       "  0.0502332666882334,\n",
       "  1.6555612523451454e-08,\n",
       "  0.06764444722006466,\n",
       "  -3.5844191579441413e-13),\n",
       " (0.05355071785297258,\n",
       "  0.045209940219004256,\n",
       "  1.655531414913962e-08,\n",
       "  0.066968002747864,\n",
       "  -2.9837431183245367e-13),\n",
       " (0.05007070908727124,\n",
       "  0.040688946376735376,\n",
       "  1.6555065778136666e-08,\n",
       "  0.06629832272038537,\n",
       "  -2.4837100295509855e-13),\n",
       " (0.04681677612018059,\n",
       "  0.0366200519007278,\n",
       "  1.6554859032206088e-08,\n",
       "  0.06563533949318151,\n",
       "  -2.0674593057800176e-13),\n",
       " (0.043774243791943945,\n",
       "  0.03295804685615257,\n",
       "  1.6554686936713084e-08,\n",
       "  0.06497898609824969,\n",
       "  -1.7209549300412872e-13),\n",
       " (0.04092938769615472,\n",
       "  0.02966224230148375,\n",
       "  1.6554543685494038e-08,\n",
       "  0.0643291962372672,\n",
       "  -1.4325121904601627e-13),\n",
       " (0.03826937287703163,\n",
       "  0.026696018189186144,\n",
       "  1.6554424445118603e-08,\n",
       "  0.06368590427489453,\n",
       "  -1.1924037543507158e-13),\n",
       " (0.03578219643275703,\n",
       "  0.02402641647633246,\n",
       "  1.6554325191942276e-08,\n",
       "  0.06304904523214558,\n",
       "  -9.92531763266081e-14),\n",
       " (0.033456633783434914,\n",
       "  0.021623774924157083,\n",
       "  1.655424257645476e-08,\n",
       "  0.06241855477982412,\n",
       "  -8.261548751753652e-14),\n",
       " (0.03128218837594776,\n",
       "  0.019461397517653026,\n",
       "  1.6554173810350904e-08,\n",
       "  0.06179436923202588,\n",
       "  -6.876610385449494e-14),\n",
       " (0.029249044611134343,\n",
       "  0.01751525784320789,\n",
       "  1.6554116572517653e-08,\n",
       "  0.06117642553970562,\n",
       "  -5.723783325105737e-14),\n",
       " (0.027348023791261142,\n",
       "  0.015763732128475007,\n",
       "  1.6554068930768284e-08,\n",
       "  0.06056466128430856,\n",
       "  -4.764174936917117e-14),\n",
       " (0.02557054289771646,\n",
       "  0.014187358978256445,\n",
       "  1.655402927668633e-08,\n",
       "  0.05995901467146548,\n",
       "  -3.9654081954574786e-14),\n",
       " (0.023908576020221176,\n",
       "  0.01276862313679671,\n",
       "  1.6553996271383304e-08,\n",
       "  0.05935942452475082,\n",
       "  -3.300530302572186e-14),\n",
       " (0.02235461826963323,\n",
       "  0.011491760873846256,\n",
       "  1.6553968800342328e-08,\n",
       "  0.058765830279503314,\n",
       "  -2.7471040976349184e-14),\n",
       " (0.02090165201663673,\n",
       "  0.01034258483211785,\n",
       "  1.655394593582584e-08,\n",
       "  0.05817817197670828,\n",
       "  -2.286451648853965e-14),\n",
       " (0.01954311530826786,\n",
       "  0.009308326389996607,\n",
       "  1.6553926905580563e-08,\n",
       "  0.057596390256941195,\n",
       "  -1.903024527620206e-14),\n",
       " (0.018272872323356018,\n",
       "  0.00837749378797839,\n",
       "  1.6553911066784894e-08,\n",
       "  0.05702042635437178,\n",
       "  -1.5838795669120385e-14),\n",
       " (0.017085185736570873,\n",
       "  0.007539744442463821,\n",
       "  1.655389788436077e-08,\n",
       "  0.05645022209082806,\n",
       "  -1.3182424123491813e-14),\n",
       " (0.015974690868884207,\n",
       "  0.006785770028172357,\n",
       "  1.6553886912918913e-08,\n",
       "  0.05588571986991978,\n",
       "  -1.0971441857555887e-14),\n",
       " (0.014936371509901864,\n",
       "  0.006107193052314529,\n",
       "  1.6553877781728882e-08,\n",
       "  0.055326862671220584,\n",
       "  -9.131190030765406e-15),\n",
       " (0.013965537304717418,\n",
       "  0.005496473771346531,\n",
       "  1.6553870182207307e-08,\n",
       "  0.05477359404450838,\n",
       "  -7.599521574391251e-15),\n",
       " (0.01305780260470717,\n",
       "  0.004946826416048977,\n",
       "  1.6553863857502413e-08,\n",
       "  0.054225858104063294,\n",
       "  -6.324704894165762e-15),\n",
       " (0.01220906668804734,\n",
       "  0.004452143794097461,\n",
       "  1.655385859382374e-08,\n",
       "  0.05368359952302266,\n",
       "  -5.263678674700213e-15),\n",
       " (0.011415495261710068,\n",
       "  0.004006929432375753,\n",
       "  1.6553854213224663e-08,\n",
       "  0.053146763527792434,\n",
       "  -4.380599075705203e-15),\n",
       " (0.010673503162305729,\n",
       "  0.0036062365050574074,\n",
       "  1.655385056759438e-08,\n",
       "  0.052615295892514506,\n",
       "  -3.6456302814385415e-15),\n",
       " (0.00997973817840501,\n",
       "  0.0032456128688789707,\n",
       "  1.655384753365667e-08,\n",
       "  0.052089142933589364,\n",
       "  -3.0339377127119273e-15),\n",
       " (0.009331065921914497,\n",
       "  0.0029210515948856447,\n",
       "  1.6553845008806788e-08,\n",
       "  0.05156825150425347,\n",
       "  -2.5248498811721992e-15),\n",
       " (0.008724555680712802,\n",
       "  0.0026289464470021927,\n",
       "  1.6553842907646092e-08,\n",
       "  0.051052568989210935,\n",
       "  -2.1011606955418704e-15),\n",
       " (0.008157467189098065,\n",
       "  0.0023660518127465737,\n",
       "  1.6553841159097447e-08,\n",
       "  0.05054204329931883,\n",
       "  -1.7485486451714958e-15),\n",
       " (0.007627238256669191,\n",
       "  0.002129446640872055,\n",
       "  1.6553839704004094e-08,\n",
       "  0.05003662286632564,\n",
       "  -1.4550933526763044e-15),\n",
       " (0.00713147320007828,\n",
       "  0.0019165019852449739,\n",
       "  1.6553838493131043e-08,\n",
       "  0.04953625663766238,\n",
       "  -1.2108730513065187e-15)]"
      ]
     },
     "execution_count": 159,
     "metadata": {},
     "output_type": "execute_result"
    }
   ],
   "source": [
    "differenzen_wirtschaft = functools.reduce(\n",
    "    differenz(1) , ergebnisse, [(1, 1, 0.98, 1, 0)]\n",
    ")\n",
    "list(differenzen_umwelt)"
   ]
  },
  {
   "cell_type": "markdown",
   "metadata": {
    "slideshow": {
     "slide_type": "fragment"
    }
   },
   "source": [
    "Schritt für Schritt, **funktionalen Code** geht man am besten **von innen nach außen** durch:"
   ]
  },
  {
   "cell_type": "markdown",
   "metadata": {
    "slideshow": {
     "slide_type": "fragment"
    }
   },
   "source": [
    "+ Wir starten mit dem ursprünglichen Zustand: ```(1.0, 1.0, 0.98, 1.0)``` + die **erste Differenz** ```0```, in einer **Liste**."
   ]
  },
  {
   "cell_type": "markdown",
   "metadata": {
    "slideshow": {
     "slide_type": "fragment"
    }
   },
   "source": [
    "+ Für das **erste** Element, nimmt die Funktion ```f(a,b)``` diesen Ausgangswert als ```a``` und das **erste Element** aus ```ergebnisse``` als ```b```.\n",
    "    Dann fügt sie an die **Liste** ```a``` alle den **Zustand** in ```b``` und die Differenz der **Umwelt** (*daher der Index* ```2``` ) an."
   ]
  },
  {
   "cell_type": "markdown",
   "metadata": {
    "slideshow": {
     "slide_type": "fragment"
    }
   },
   "source": [
    "+ Für jedes weitere Element entnimmt ```f``` dem Ergebnis der **vorherigen** Anwendung von ```f``` den **letzten** Zustand und fügt wieder den neuen und die Differenz zum letzten an."
   ]
  },
  {
   "cell_type": "markdown",
   "metadata": {
    "slideshow": {
     "slide_type": "fragment"
    }
   },
   "source": [
    "+ ```reduce``` generiert also **Tupel mit 5 Elementen**. Die ersten vier sind der jeweilige Zustand, das fünfte die **Differenz**. Wenn uns nur letzteres interessiert, verwenden können wir mit ```map``` Differenzen herauspicken."
   ]
  },
  {
   "cell_type": "markdown",
   "metadata": {
    "slideshow": {
     "slide_type": "slide"
    }
   },
   "source": [
    "### Das Operator - Modul\n",
    "\n",
    "Funktionen höherer Ordnung verlangen fast immer eine Funktion als Argument. Bisher haben wir dabei meistens von ```lambda``` - Ausdrücken Gebrauch gemacht. Dies ist oft **umständlich** wenn wir doch nur kurze **Ausdrücke in eine Funktion** umwandeln wollen."
   ]
  },
  {
   "cell_type": "markdown",
   "metadata": {
    "slideshow": {
     "slide_type": "skip"
    }
   },
   "source": [
    "Das [Modul ```operator```](https://docs.python.org/3/library/operator.html) bietet hier eine Lösung."
   ]
  },
  {
   "cell_type": "code",
   "execution_count": 125,
   "metadata": {
    "slideshow": {
     "slide_type": "-"
    }
   },
   "outputs": [],
   "source": [
    "import operator as op"
   ]
  },
  {
   "cell_type": "markdown",
   "metadata": {
    "slideshow": {
     "slide_type": "fragment"
    }
   },
   "source": [
    "**Operatoren** wie ```+``` für die Addition oder ```*``` für die Multiplikation sind hier als Funktionen hinterlegt. <br>\n",
    "So verkürzt sich ```lambda x,y: x+y``` zu ```add```."
   ]
  },
  {
   "cell_type": "code",
   "execution_count": 133,
   "metadata": {
    "slideshow": {
     "slide_type": "-"
    }
   },
   "outputs": [
    {
     "data": {
      "text/plain": [
       "171"
      ]
     },
     "execution_count": 133,
     "metadata": {},
     "output_type": "execute_result"
    }
   ],
   "source": [
    "functools.reduce(op.add,range(19))"
   ]
  },
  {
   "cell_type": "code",
   "execution_count": null,
   "metadata": {
    "slideshow": {
     "slide_type": "fragment"
    }
   },
   "outputs": [],
   "source": [
    "functools.reduce(op.mul, range(1,10)) # Multiplikation mit 'mul'"
   ]
  },
  {
   "cell_type": "markdown",
   "metadata": {
    "slideshow": {
     "slide_type": "-"
    }
   },
   "source": [
    "Wir überreichen also der Funktion ```reduce``` ein **Funktions - Objekt**, indem wir letztere auf **keine Argumente anwenden**; Das übernimmt ```reduce``` für uns."
   ]
  },
  {
   "cell_type": "markdown",
   "metadata": {
    "slideshow": {
     "slide_type": "fragment"
    }
   },
   "source": [
    "#### Weitere Inhalte von Operator\n",
    "\n",
    "Neben anderen Operatoren, bietet ```operator``` weitere Hilfsmittel um ```lambda``` - Ausdrücke vermeiden zu können.\n",
    "\n",
    "Es ist zum Beispiel oft nötig das ```i```-te Element einer Kollektion zu entnehmen.\n",
    "~~~python\n",
    "lambda kol: kol[i]\n",
    "~~~\n",
    "Dies lässt sich durch ```operator.itemgetter``` ersetzen:"
   ]
  },
  {
   "cell_type": "code",
   "execution_count": 134,
   "metadata": {
    "slideshow": {
     "slide_type": "-"
    }
   },
   "outputs": [],
   "source": [
    "letztes_element = op.itemgetter(-1)"
   ]
  },
  {
   "cell_type": "markdown",
   "metadata": {
    "slideshow": {
     "slide_type": "skip"
    }
   },
   "source": [
    "<div class=\"alert alert-block alert-info\">\n",
    "<h3>Tipp: Operator - Funktionen für Kollektionen</h3>\n",
    "    <p>\n",
    "Der Operator <code>+</code> sieht für Kollektionen und Zahlen gleich aus, in <code>operator</code> gibt es aber unterschiedliche Funktionen. Für Zahlen verwendet man <code>add</code>, für Kollektionen <code>concat</code>.\n",
    "</p>\n",
    "<p>\n",
    "Selbiges gilt für <code>*</code> bzw. <code>mul</code>, hier haben wir bereits <code>repeat</code> im Modul <code>itertools</code> kennengelernt.\n",
    "    </p>\n",
    "</div>"
   ]
  },
  {
   "cell_type": "markdown",
   "metadata": {
    "slideshow": {
     "slide_type": "slide"
    }
   },
   "source": [
    "## Kombination von Faltung und Filter-Funktionen\n",
    "\n",
    "Gemeinsam mit der durch Faltung erstellten Liste mit Differenzen, können wir nun mit ```dropwhile``` und ```takewhile``` genau jene **Werte am kritischen Übergang** herausfiltern!"
   ]
  },
  {
   "cell_type": "code",
   "execution_count": 147,
   "metadata": {
    "slideshow": {
     "slide_type": "fragment"
    }
   },
   "outputs": [],
   "source": [
    "nach_übergang = itertools.dropwhile(lambda diff: abs(letztes_element(diff)) < 0.034,differenzen_umwelt)\n",
    "nur_übergang = itertools.takewhile(lambda diff: abs(letztes_element(diff)) > 0.00001,nach_übergang)"
   ]
  },
  {
   "cell_type": "markdown",
   "metadata": {
    "slideshow": {
     "slide_type": "fragment"
    }
   },
   "source": [
    "Sehen wir uns das Ergebnis an:"
   ]
  },
  {
   "cell_type": "code",
   "execution_count": 148,
   "metadata": {
    "slideshow": {
     "slide_type": "-"
    }
   },
   "outputs": [
    {
     "data": {
      "text/plain": [
       "[<matplotlib.lines.Line2D at 0x26e6f9cc2b0>,\n",
       " <matplotlib.lines.Line2D at 0x26e6f9cc438>]"
      ]
     },
     "execution_count": 148,
     "metadata": {},
     "output_type": "execute_result"
    },
    {
     "data": {
      "image/png": "[encoded data removed]",
      "text/plain": [
       "<Figure size 432x288 with 1 Axes>"
      ]
     },
     "metadata": {
      "needs_background": "light"
     },
     "output_type": "display_data"
    }
   ],
   "source": [
    "import matplotlib.pyplot as plt\n",
    "plt.plot([(z,abs(d)) for _,_,z,_,d  in nur_übergang])"
   ]
  },
  {
   "cell_type": "markdown",
   "metadata": {
    "slideshow": {
     "slide_type": "fragment"
    }
   },
   "source": [
    "*Welche Filterwerte ergeben einen guten Ausschnitt?*"
   ]
  },
  {
   "cell_type": "markdown",
   "metadata": {
    "slideshow": {
     "slide_type": "slide"
    }
   },
   "source": [
    "# Pause"
   ]
  },
  {
   "cell_type": "markdown",
   "metadata": {
    "slideshow": {
     "slide_type": "slide"
    }
   },
   "source": [
    "## Currying\n",
    "\n",
    "Wenn Funktionen **referentiell transparent** sind, dann können wir ihnen auch einen Teil ihrer Argumente schon im Vorhinein geben und den Rest später. Denn ihr **Ergebnis hängt nicht vom Zeitpunkt** der Berechnung **ab**."
   ]
  },
  {
   "cell_type": "markdown",
   "metadata": {
    "slideshow": {
     "slide_type": "fragment"
    }
   },
   "source": [
    "Diese Praxis nennt man nach dem Logiker [Haskell Curry](https://de.wikipedia.org/wiki/Haskell_Brooks_Curry) **currying**. Im Modul ```functools``` finden wir die Funktion ```partial``` die uns currying erlaubt: "
   ]
  },
  {
   "cell_type": "code",
   "execution_count": 149,
   "metadata": {
    "slideshow": {
     "slide_type": "-"
    }
   },
   "outputs": [],
   "source": [
    "plus_5 = functools.partial(op.add,5)"
   ]
  },
  {
   "cell_type": "markdown",
   "metadata": {
    "slideshow": {
     "slide_type": "fragment"
    }
   },
   "source": [
    "*Was passiert wenn wir die Funktion* ```plus_5``` *auf eine Zahl anwenden?* "
   ]
  },
  {
   "cell_type": "code",
   "execution_count": 150,
   "metadata": {
    "slideshow": {
     "slide_type": "-"
    }
   },
   "outputs": [
    {
     "data": {
      "text/plain": [
       "24"
      ]
     },
     "execution_count": 150,
     "metadata": {},
     "output_type": "execute_result"
    }
   ],
   "source": [
    "plus_5(19)"
   ]
  },
  {
   "cell_type": "markdown",
   "metadata": {
    "slideshow": {
     "slide_type": "slide"
    }
   },
   "source": [
    "## Closures\n",
    "\n",
    "Aber wir können Funktionen auch von vornherein darauf **vorbereiten** ge-curry-t zu werden. **Funktionen höherer Ordnung** können natürlich auch **eigene Funktionen definieren**."
   ]
  },
  {
   "cell_type": "code",
   "execution_count": 151,
   "metadata": {
    "slideshow": {
     "slide_type": "fragment"
    }
   },
   "outputs": [],
   "source": [
    "def plus(a):\n",
    "    \n",
    "    def inner(b):\n",
    "        return a+b\n",
    "    \n",
    "    return inner"
   ]
  },
  {
   "cell_type": "markdown",
   "metadata": {
    "slideshow": {
     "slide_type": "fragment"
    }
   },
   "source": [
    "*Was macht die Funktion* ```plus``` *und wie können wir sie nutzen?*"
   ]
  },
  {
   "cell_type": "code",
   "execution_count": 156,
   "metadata": {
    "slideshow": {
     "slide_type": "-"
    }
   },
   "outputs": [],
   "source": [
    "f = plus(5)"
   ]
  },
  {
   "cell_type": "markdown",
   "metadata": {
    "slideshow": {
     "slide_type": "fragment"
    }
   },
   "source": [
    "Der **große Vorteil** von Closures ist, dass sie in einer **Sprache ohne Konstanten** (*Python*) **referentielle Transparenz** schaffen! Ist ```plus(x)``` einmal ausgeführt, ist ```x``` konstant.\n",
    "\n",
    "Bei einer **Klasse** welche diesem Wert evtl. als ```Klasse._x``` abspeichert, kann **nie wirklich garantiert** werden, <br>\n",
    "dass sich der **Wert im Objekt nicht geändert** hat."
   ]
  },
  {
   "cell_type": "code",
   "execution_count": 158,
   "metadata": {},
   "outputs": [],
   "source": [
    "def differenz(index):\n",
    "    def von(a, b):\n",
    "        return a + [(*b,b[index]-a[-1][index])]\n",
    "    return von"
   ]
  },
  {
   "cell_type": "markdown",
   "metadata": {
    "slideshow": {
     "slide_type": "skip"
    }
   },
   "source": [
    "<div class=\"alert alert-block alert-info\">\n",
    "<h3>Tipp: Dekoratoren</h3>\n",
    "    \n",
    "Wie eingangs erwähnt, sind Dekoratoren nichts anderes als Funktionen, welche eine Funktion als Argument entgegennehmen und wiederum eine als Ergebnis ausgeben. Damit <strong>bilden</strong> sie eine <strong>Closure</strong> mit der ihr überreichten Funktion.\n",
    "\n",
    "Ein einfacher Dektorator <code>deko</code> welcher die ihm überreichte Funktion nicht beeinfluss, ist bereits eine Closure:\n",
    "<pre><code>def deko(f):\n",
    "    def inner(*args,**kwargs):\n",
    "        return f(*args,**kwargs)\n",
    "    return inner\n",
    "</code></pre>\n",
    "Der Dekorator <code>deko</code> bietet eine praktische Vorlage um Dekoratoren zu entwerfen. Zum Beispiel kann man dann eine Funktion abhängig vom <strong>Typ des Arguments</strong> verschiedene Dinge ausführen lassen. Dies nennt man <strong>Überladen</strong> (<i>overloading</i>) einer Funktion.\n",
    "<pre><code>def dispatch(f):\n",
    "    funktionen = [f]\n",
    "    def reg(f):\n",
    "            funktionen.append(f)\n",
    "    def inner(*args,**kwargs):\n",
    "        for f in funktionen:\n",
    "            try:\n",
    "                return f(*args,**kwargs)\n",
    "            except TypeError:\n",
    "                pass\n",
    "    inner.reg = reg\n",
    "    return inner\n",
    "</code></pre>\n",
    "Das funktioniert indem man sie dann mit <code>@dispatch</code> dekoriert und die <strong>alternativen</strong> Funktionen mit <code>@ .. .reg</code> auf ihr <strong>registriert</strong>:\n",
    "<pre><code>>>>@dispatch\n",
    "   def plus(x):\n",
    "       return x+5\n",
    ">>>@plus.reg\n",
    "   def plus_str(x):\n",
    "       return x+\"a\"\n",
    ">>>plus(\"b\"), plus(1)\n",
    "('ba', 6)\n",
    "</code></pre>\n",
    "\n",
    "Einen <strong>ähnlichen</strong> Dekorator bietet Python im <code>functools</code> Paket, er heißt dort <code>singledispatch</code>.\n",
    "</div>"
   ]
  },
  {
   "cell_type": "markdown",
   "metadata": {
    "slideshow": {
     "slide_type": "slide"
    }
   },
   "source": [
    "## Grenzen der referentiellen Transparenz in Python\n",
    "\n",
    "Python ist grundsätzlich **nicht referentiell transparent** gestaltet. Wie wir wissen gibt es in Python keine Konstanten. Außerdem werden Variablen nicht als solche, sondern als Objekt **ID** überreicht und durch ihren Namen aufgerufen."
   ]
  },
  {
   "cell_type": "markdown",
   "metadata": {
    "slideshow": {
     "slide_type": "fragment"
    }
   },
   "source": [
    "Verzögerte Evaluierung darf allerdings **nur in referentiell transparenten** Sprachen eingeführt werden. In Python muss man bei ihrer Verwendung einige Fallen beachten."
   ]
  },
  {
   "cell_type": "code",
   "execution_count": 160,
   "metadata": {
    "slideshow": {
     "slide_type": "fragment"
    }
   },
   "outputs": [],
   "source": [
    "f = lambda x: x+1\n",
    "gen = (f(x) for x in itertools.repeat(10))"
   ]
  },
  {
   "cell_type": "markdown",
   "metadata": {
    "slideshow": {
     "slide_type": "fragment"
    }
   },
   "source": [
    "```f``` ist also eine Funktion welche ihr Argument **inkrementiert**. <br>\n",
    "```gen``` ist ein Generator welcher ```f``` immer wieder ```10``` als Argument überreicht."
   ]
  },
  {
   "cell_type": "code",
   "execution_count": 161,
   "metadata": {
    "slideshow": {
     "slide_type": "fragment"
    }
   },
   "outputs": [
    {
     "data": {
      "text/plain": [
       "(11, 11, 11)"
      ]
     },
     "execution_count": 161,
     "metadata": {},
     "output_type": "execute_result"
    }
   ],
   "source": [
    "next(gen), next(gen), next(gen)"
   ]
  },
  {
   "cell_type": "markdown",
   "metadata": {
    "slideshow": {
     "slide_type": "subslide"
    }
   },
   "source": [
    "Naturgemäß gibt er immer wieder ```11``` aus."
   ]
  },
  {
   "cell_type": "markdown",
   "metadata": {
    "slideshow": {
     "slide_type": "fragment"
    }
   },
   "source": [
    "Nun **ändern** wir ```f``` so, dass sie ihr Argument **dekrementiert** und rufen ```gen``` wieder auf:"
   ]
  },
  {
   "cell_type": "code",
   "execution_count": 162,
   "metadata": {
    "slideshow": {
     "slide_type": "fragment"
    }
   },
   "outputs": [
    {
     "data": {
      "text/plain": [
       "9"
      ]
     },
     "execution_count": 162,
     "metadata": {},
     "output_type": "execute_result"
    }
   ],
   "source": [
    "f = lambda x: x-1\n",
    "next(gen)"
   ]
  },
  {
   "cell_type": "markdown",
   "metadata": {
    "slideshow": {
     "slide_type": "fragment"
    }
   },
   "source": [
    "Wir sehen, dass ```gen``` den **Namen** der Funktion ```f``` **referenziert**, nicht deren **ID**. "
   ]
  },
  {
   "cell_type": "markdown",
   "metadata": {
    "slideshow": {
     "slide_type": "subslide"
    }
   },
   "source": [
    "Bilden wir eine Generator-Funktion, besitzt diese ihren **eigenen Namespace** und hält ```f``` somit intern **konstant**:"
   ]
  },
  {
   "cell_type": "code",
   "execution_count": 163,
   "metadata": {
    "slideshow": {
     "slide_type": "-"
    }
   },
   "outputs": [],
   "source": [
    "def get_gen(f):\n",
    "    for x in itertools.repeat(10):\n",
    "        yield f(x)"
   ]
  },
  {
   "cell_type": "markdown",
   "metadata": {
    "slideshow": {
     "slide_type": "fragment"
    }
   },
   "source": [
    "Die Generator-Funktion muss aber **zuerst aufgerufen** werden und **überreicht** uns dann den Generator:"
   ]
  },
  {
   "cell_type": "code",
   "execution_count": 164,
   "metadata": {
    "slideshow": {
     "slide_type": "-"
    }
   },
   "outputs": [],
   "source": [
    "gen = get_gen(f)"
   ]
  },
  {
   "cell_type": "code",
   "execution_count": 171,
   "metadata": {
    "slideshow": {
     "slide_type": "subslide"
    }
   },
   "outputs": [
    {
     "data": {
      "text/plain": [
       "9"
      ]
     },
     "execution_count": 171,
     "metadata": {},
     "output_type": "execute_result"
    }
   ],
   "source": [
    "next(gen)"
   ]
  },
  {
   "cell_type": "markdown",
   "metadata": {
    "slideshow": {
     "slide_type": "fragment"
    }
   },
   "source": [
    "Wir ändern wiederum ```f``` zur inkrementierenden Version:"
   ]
  },
  {
   "cell_type": "code",
   "execution_count": 172,
   "metadata": {
    "slideshow": {
     "slide_type": "-"
    }
   },
   "outputs": [],
   "source": [
    "f = lambda x: x+1"
   ]
  },
  {
   "cell_type": "code",
   "execution_count": 173,
   "metadata": {
    "slideshow": {
     "slide_type": "fragment"
    }
   },
   "outputs": [
    {
     "data": {
      "text/plain": [
       "9"
      ]
     },
     "execution_count": 173,
     "metadata": {},
     "output_type": "execute_result"
    }
   ],
   "source": [
    "next(gen)"
   ]
  },
  {
   "cell_type": "markdown",
   "metadata": {
    "slideshow": {
     "slide_type": "skip"
    }
   },
   "source": [
    "<div class=\"alert alert-block alert-info\">\n",
    "<h3>Tipp: Funktoren und Monaden</h3>\n",
    "    \n",
    "Für alle, denen die eingangs erwähnten <strong>(Applikativen) Funktoren</strong> und auch die <strong>Monaden</strong> nicht aus dem Kopf gehen.\n",
    "\n",
    "<ul>\n",
    "    <li> Funktoren sind alle <strong>Typen</strong> auf die wir <code>map</code> anwenden können. (Deshalb auf oft <code>fmap</code> genannt)</li>\n",
    " \n",
    "\n",
    "<li> Applikative Funktoren bieten uns eine Funktion <code>pure</code> und einen Operator <code>&lt;*&gt;</code></li>\n",
    "<ul>\n",
    "<li> <code>pure</code> garantiert uns dass ein Wert rein (<i>pure</i>) funktional ist.</li>\n",
    "<li> <code>&lt;*&gt;</code> nimmt eine <i>reine</i> Funktion $f$ mit einer Eingangsvariablen und ein <i>rein</i> funktionales Argument $a$. Danach garantiert <code>&lt;*&gt;</code>, dass auch das Ergebnis von $f(a)$ rein funktional ist.\n",
    "    <br><br>Alle applikativen Funktoren sind <strong>automatisch Funktoren</strong> denn es gilt: <code>map(f,xs) == pure(f) &lt;*&gt; xs</code>\n",
    " </li>\n",
    "    </ul>\n",
    "<li>Monaden bieten auch genau zwei Funktionen: <code>return</code> und <code>bind</code></li>\n",
    "  <ul>\n",
    "    <li> <code>return</code> ist nicht das <code>return</code> welches wir aus Python kennen, sondern nimmt einen Wert und <strong>weißt ihn der Monade zu</strong>.</li>\n",
    "    <li> <code>bind</code> nimmt einen Wert in der Monade und eine Funktion. Dann entnimmt sie den Wert aus der Monade und die Funktion gibt mit diesem Wert einen neuen <strong>in der Monade</strong> zurück. Dies ist das Ergebnis von <code>bind</code>.\n",
    "    <br><br>\n",
    "    Alle Monaden sind applikative Funktoren, denn es gilt: <br>\n",
    "    <code>pure(f) &lt;*&gt; xs == bind(return f,lambda x1: bind(xs,lambda x2: return x1(x2)))</code></li>\n",
    "    </ul>\n",
    "    </ul>\n",
    "</div>"
   ]
  },
  {
   "cell_type": "markdown",
   "metadata": {
    "slideshow": {
     "slide_type": "slide"
    }
   },
   "source": [
    "<div class=\"alert alert-block alert-danger\">\n",
    "<h3>Übungsaufgabe 5: Gruppen-Statements</h3>\n",
    "    \n",
    "Gruppe finden. <br>\n",
    "Thema finden. <br>\n",
    "Gruppenstatement schreiben (1-2 Seiten) -> Details auf Moodle\n",
    "</div>"
   ]
  },
  {
   "cell_type": "markdown",
   "metadata": {
    "slideshow": {
     "slide_type": "-"
    }
   },
   "source": [
    "Buch Empfehlung zum Thema FP in Python: Functional Programming in Python - David Mertz"
   ]
  }
 ],
 "metadata": {
  "celltoolbar": "Slideshow",
  "kernelspec": {
   "display_name": "Python 3",
   "language": "python",
   "name": "python3"
  },
  "language_info": {
   "codemirror_mode": {
    "name": "ipython",
    "version": 3
   },
   "file_extension": ".py",
   "mimetype": "text/x-python",
   "name": "python",
   "nbconvert_exporter": "python",
   "pygments_lexer": "ipython3",
   "version": "3.7.7"
  },
  "rise": {
   "enable_chalkboard": true,
   "scroll": true,
   "theme": "serif"
  }
 },
 "nbformat": 4,
 "nbformat_minor": 2
}
