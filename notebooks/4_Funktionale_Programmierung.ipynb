{
 "cells": [
  {
   "cell_type": "markdown",
   "metadata": {
    "slideshow": {
     "slide_type": "slide"
    }
   },
   "source": [
    "# Funktionale Programmierung\n",
    "### Angewandte Systemwissenschaften I\n",
    "#### Python - Wonderland\n",
    "Einheit 4 / 10"
   ]
  },
  {
   "cell_type": "markdown",
   "metadata": {
    "slideshow": {
     "slide_type": "slide"
    }
   },
   "source": [
    "# Semesterplan\n",
    "\n",
    "0. Anaconda und Pip\n",
    "1. Einführung in Python\n",
    "2. Matplotlib: Eine Einführung ins Wonderland - Modell\n",
    "3. Jupyter-Notebooks: Wonderland in Python\n",
    "4. **Funktionale Programmierung & Python-Module**\n",
    "5. Python-Pakete und Workflow\n",
    "6. Agenten-basierte Modellierung\n",
    "7. Objekt-orientierte Programmierung \n",
    "8. Animationen zur Modellentwicklung\n",
    "9. Multiprocessing & Sensitivity Analysis\n",
    "10. Projektpräsentationen"
   ]
  },
  {
   "cell_type": "markdown",
   "metadata": {
    "slideshow": {
     "slide_type": "subslide"
    }
   },
   "source": [
    "## Inhalt\n",
    "\n",
    "+ Programmierparadigmen\n",
    "+ Prozedurale Programmierung\n",
    "+ Funktionale Programmierung\n",
    "+ Python als funktionale Programmiersprache\n",
    "+ Vom Jupyter Notebook zum Python-Modul\n",
    "+ Mehr funktionale Programmierung in Python"
   ]
  },
  {
   "cell_type": "markdown",
   "metadata": {
    "slideshow": {
     "slide_type": "slide"
    }
   },
   "source": [
    "# *** Programmierung - Was heißt das?\n",
    "\n",
    "Es gibt verschiedene **Paradigmen** zur Programmierung.\n",
    "\n",
    "Die Namen dieser Paradigmen beschreiben meist den **Gedankengang** beim Programmieren.\n",
    "\n"
   ]
  },
  {
   "cell_type": "markdown",
   "metadata": {
    "slideshow": {
     "slide_type": "slide"
    }
   },
   "source": [
    "# Was bisher geschah: Prozedureale Programmierung\n",
    "\n",
    "Bei der **prozedurealen** Programmierung denkt man also in **Prozederen** (Abfolgen)."
   ]
  },
  {
   "cell_type": "markdown",
   "metadata": {
    "slideshow": {
     "slide_type": "fragment"
    }
   },
   "source": [
    "Da man hier nur einige **Programmiergrundlagen** benötigt, lernt man Python oft so kennen.\n",
    "\n",
    "~~~python\n",
    "# Sortiere 100 Fibonacci zahlen in gerade und ungerade\n",
    "LOOPS = 98\n",
    "fibs = [0,1]\n",
    "# Erzeuge Fibonacci Reihe\n",
    "for _ in range(LOOPS):\n",
    "    fibs.append(fibs[-1] + fibs[-2])\n",
    "# Sortiere in gerade und ungerade\n",
    "fibs_odd  = list()\n",
    "fibs_even = list()\n",
    "for fib in fibs:\n",
    "    if fib % 2:\n",
    "        fibs_odd.append(fib)\n",
    "    else:\n",
    "        fibs_even.append(fib)\n",
    "~~~"
   ]
  },
  {
   "cell_type": "markdown",
   "metadata": {
    "slideshow": {
     "slide_type": "fragment"
    }
   },
   "source": [
    "Man **denkt** also Befehl für Befehl und führt diese **der Reihe nach** aus. Im Jupyter Notebook lassen sich diese Befehlsreihen in **Segmente** unterteilen."
   ]
  },
  {
   "cell_type": "markdown",
   "metadata": {
    "slideshow": {
     "slide_type": "subslide"
    }
   },
   "source": [
    "## Globaler Zustand\n",
    "\n",
    "Als globalen Zustand bezeichnet man **Variablen** welche sich im **globalen Namespace** befinden. Auf die also **alle Teile** des Quellcodes **Zugriff** haben."
   ]
  },
  {
   "cell_type": "markdown",
   "metadata": {
    "slideshow": {
     "slide_type": "fragment"
    }
   },
   "source": [
    "Dadurch entstehen einige Probleme:\n",
    "\n",
    "+ Ergebnisse sind von der **Abfolge** der Abschnitte abhängig\n",
    "+ Fehler sind **schwer Auswertbar**\n",
    "+ Code **lässt sich nicht gut testen**\n",
    "+ Der Zustand des Programms wird zunehmen **unvorhersehbar**"
   ]
  },
  {
   "cell_type": "code",
   "execution_count": null,
   "metadata": {
    "slideshow": {
     "slide_type": "fragment"
    }
   },
   "outputs": [],
   "source": [
    "# Globaler Zustand\n",
    "speicher = 0\n",
    "\n",
    "def a():\n",
    "    speicher += 1\n",
    "    \n",
    "def b():\n",
    "    speicher += 2"
   ]
  },
  {
   "cell_type": "code",
   "execution_count": null,
   "metadata": {
    "slideshow": {
     "slide_type": "fragment"
    }
   },
   "outputs": [],
   "source": []
  },
  {
   "cell_type": "markdown",
   "metadata": {
    "slideshow": {
     "slide_type": "slide"
    }
   },
   "source": [
    "## Funktionale Programmierung\n",
    "\n",
    "Es gibt verschiedene Varianten die Lösung eines Problems zu beschreiben. Viele Programmiersprachen setzen auf **imperative** Paradigmen. Man gibt dem Computer also **Befehle** die dieser hintereinander ausführt (auch: *Prozedureale Programmierung*).\n",
    "\n",
    "Dabei ergibt sich ein Problem: **Globaler Zustand**, also Variablen die allgemein zugänglich sind, machen den Programm-Ablauf **unübersichtlich** und **verhindern**, dass Funktionen **parallel** ausgeführt werden können."
   ]
  },
  {
   "cell_type": "markdown",
   "metadata": {
    "slideshow": {
     "slide_type": "fragment"
    }
   },
   "source": [
    "Einen **Lösungsansatz** dafür werden wir bereits in der nächsten Einheit kennenlernen: **Objekt-orientierte** Programmierung erlaubt es, den **Zustand in Objekten zu bündeln** und so **nicht mehr global** zugänglich zu machen und besser zu **organisieren**."
   ]
  },
  {
   "cell_type": "markdown",
   "metadata": {
    "slideshow": {
     "slide_type": "fragment"
    }
   },
   "source": [
    "**Funktionale Programmierung** erlaubt gar keinen variablen Zustand. <br>\n",
    "Programme werden nicht mehr als **Ausführung von Befehlen** betrachtet, sondern **als mathematische Funktionen** beschrieben, die gelöst werden wollen."
   ]
  },
  {
   "cell_type": "markdown",
   "metadata": {
    "slideshow": {
     "slide_type": "subslide"
    }
   },
   "source": [
    "## Geschichte der funktionalen Programmierung\n",
    "\n",
    "Bereits eine der **ersten Programmiersprachen** überhaupt, der [Lambda - Kalkül](https://de.wikipedia.org/wiki/Lambda-Kalk%C3%BCl) von Alonso Church, war rein funktional!"
   ]
  },
  {
   "cell_type": "markdown",
   "metadata": {
    "slideshow": {
     "slide_type": "fragment"
    }
   },
   "source": [
    "Dessen Ideen flossen später in der **bis heute angewandt**en Sprache ```LISP``` (kurz für: *List Processing*) ein."
   ]
  },
  {
   "cell_type": "markdown",
   "metadata": {
    "slideshow": {
     "slide_type": "fragment"
    }
   },
   "source": [
    "Später wurde von der Firma Ericsson eine Programmiersprache gesucht, mit welcher man die vielen Prozesse welche in einem **Telekommunikations-Server** gleichzeitig ablaufen praktisch implementieren konnte. Dies ging nur mit funktionaler Programmierung und mit ```Erlang``` erschufen sie schließlich eine eigene."
   ]
  },
  {
   "cell_type": "markdown",
   "metadata": {
    "slideshow": {
     "slide_type": "fragment"
    }
   },
   "source": [
    "In etwa zur gleichen Zeit fanden sich einige Professoren zusammen und beschlossen die Sprache ```Haskell``` **als Forschungsgegenstand** zu funktionaler Programmierung zu schaffen."
   ]
  },
  {
   "cell_type": "markdown",
   "metadata": {
    "slideshow": {
     "slide_type": "subslide"
    }
   },
   "source": [
    "So wurden viele Konzepte entwickelt, welche sich dann **mit der Zeit auch in klassischeren** Programmiersprachen wiederfanden:\n",
    "+ Lambda - Ausdrücke\n",
    "+ List - Comprehensions\n",
    "+ Lazy - Evaluation\n",
    "+ Höhere Funktionen\n",
    "+ und sogar Funktoren, Applikative Funktoren und Monaden"
   ]
  },
  {
   "cell_type": "markdown",
   "metadata": {
    "slideshow": {
     "slide_type": "fragment"
    }
   },
   "source": [
    "Einige dieser Konzepte haben wir **bereits in Python** wiedergefunden. Im folgenden wollen wir deren **Vorteile erörtern**."
   ]
  },
  {
   "cell_type": "markdown",
   "metadata": {
    "slideshow": {
     "slide_type": "subslide"
    }
   },
   "source": [
    "## Referentielle Transparenz\n",
    "\n",
    "Mathematische Funktionen haben **eine zentrale Eigenschaft** welche für uns wichtig ist:\n",
    "> Gibt man einer solchen zweimal den **selben Input**, ergibt sie garantiert das **selbe Ergebnis**!"
   ]
  },
  {
   "cell_type": "markdown",
   "metadata": {
    "slideshow": {
     "slide_type": "notes"
    }
   },
   "source": [
    "Dies nennt man **Referentielle Transparenz**."
   ]
  },
  {
   "cell_type": "markdown",
   "metadata": {
    "slideshow": {
     "slide_type": "fragment"
    }
   },
   "source": [
    "Solche Funktionen können **unmöglich** auf einen variablen Zustand zugreifen! Deshalb erlauben **reine funktionale Programmiersprachen** wie zum Beispiel ```Haskell``` nicht einmal Schleifen sondern **nur Rekursion**. Das ist natürlich unrealistisch in ```Python``` (*siehe Einheit 1*)."
   ]
  },
  {
   "cell_type": "markdown",
   "metadata": {
    "slideshow": {
     "slide_type": "subslide"
    }
   },
   "source": [
    "## Vorteile funktionaler Prorgammierung\n",
    "\n",
    "*Was bringt einem diese Einschränkung?*"
   ]
  },
  {
   "cell_type": "markdown",
   "metadata": {
    "slideshow": {
     "slide_type": "fragment"
    }
   },
   "source": [
    "> \"The functional programmer sounds rather like a medievæl monk denying himself the pleasures of life, in the hope that it will make him virtuos\"\n",
    ">\n",
    "> \\- *John Hughes (Why Functional Programming matters)*"
   ]
  },
  {
   "cell_type": "markdown",
   "metadata": {
    "slideshow": {
     "slide_type": "slide"
    }
   },
   "source": [
    "## Funktionale Programmierung in Python\n",
    "\n",
    "In Python haben wir den **Nutzen** von ```lambda```s und List-Comprehensions **schon entdeckt**. "
   ]
  },
  {
   "cell_type": "code",
   "execution_count": null,
   "metadata": {
    "slideshow": {
     "slide_type": "fragment"
    }
   },
   "outputs": [],
   "source": [
    "def f():\n",
    "    print('Hola')\n",
    "\n",
    "type(f), type(lambda: print('Hola')) # lambdas sind anonyme Funktionen, also Funktionen ohne Namen"
   ]
  },
  {
   "cell_type": "code",
   "execution_count": null,
   "metadata": {
    "slideshow": {
     "slide_type": "fragment"
    }
   },
   "outputs": [],
   "source": [
    " # Mit List-Comprehensions gelingt filter und map (auch gleichzeitig)\n",
    "[x*x for x in range(10) if x%5 == 1]"
   ]
  },
  {
   "cell_type": "markdown",
   "metadata": {
    "slideshow": {
     "slide_type": "fragment"
    }
   },
   "source": [
    "Zwei weitere Vorteile funktionaler Programmiersprachen können wir noch besser erkunden:\n",
    "    \n",
    "**Lazy - Evaluation** und **andere höhere Funktionen**."
   ]
  },
  {
   "cell_type": "markdown",
   "metadata": {
    "slideshow": {
     "slide_type": "slide"
    }
   },
   "source": [
    "### Lazy Evaluation\n",
    "\n",
    "Unter **verzögerter Berechnung** versteht man den Umstand, dass Funktionen **erst dann berechnet** werden, wenn ihr **Ergebnis tatsächlich gebraucht** wird."
   ]
  },
  {
   "cell_type": "markdown",
   "metadata": {
    "slideshow": {
     "slide_type": "fragment"
    }
   },
   "source": [
    "Was zuerst nach einem unnötigen Warten klingt, hat **einige wichtige Vorteile**! So können wir mit Lazy Evaluation **unendlich lange Kollektionen** schaffen. Außerdem müssen wir niemals eine **lange Kollektion** im Speicher aufbewaren, da wir sie **on the fly berechnen** können."
   ]
  },
  {
   "cell_type": "markdown",
   "metadata": {
    "slideshow": {
     "slide_type": "fragment"
    }
   },
   "source": [
    "In Python sind Objekte vom Typ ```Generator``` **lazy**. Diese können wir ganz einfach mit einer **Generator Expression** ähnllich einer List - Comprehension erstellen. Statt der eckigen Klammer ```[]``` benutzen wir einfach runde ```()```:"
   ]
  },
  {
   "cell_type": "code",
   "execution_count": null,
   "metadata": {
    "slideshow": {
     "slide_type": "-"
    }
   },
   "outputs": [],
   "source": [
    "gen = (x*x for x in range(99_999))"
   ]
  },
  {
   "cell_type": "markdown",
   "metadata": {
    "slideshow": {
     "slide_type": "fragment"
    }
   },
   "source": [
    "Ihren nächsten Wert lassen wir mit ```next``` berechnen:"
   ]
  },
  {
   "cell_type": "code",
   "execution_count": null,
   "metadata": {
    "slideshow": {
     "slide_type": "-"
    }
   },
   "outputs": [],
   "source": [
    "next(gen)"
   ]
  },
  {
   "cell_type": "markdown",
   "metadata": {
    "slideshow": {
     "slide_type": "skip"
    }
   },
   "source": [
    "<div class=\"alert alert-block alert-info\">\n",
    "<h3>Tipp: Mit dem Unterstrich Zahlen strukturieren</h3>\n",
    "    \n",
    "In Python gilt:\n",
    "<pre><code>>>>10000000 == 10_000_000\n",
    "True\n",
    "</pre></code>\n",
    "Mit ```_``` bleibt die Zahl gleich, ihr Wert ist aber <strong>übersichtlicher</strong> zu erfassen.\n",
    "</div>"
   ]
  },
  {
   "cell_type": "markdown",
   "metadata": {
    "slideshow": {
     "slide_type": "subslide"
    }
   },
   "source": [
    "## Nützliche Funktionen"
   ]
  },
  {
   "cell_type": "code",
   "execution_count": 71,
   "metadata": {
    "slideshow": {
     "slide_type": "fragment"
    }
   },
   "outputs": [
    {
     "data": {
      "text/plain": [
       "range(0, 19)"
      ]
     },
     "execution_count": 71,
     "metadata": {},
     "output_type": "execute_result"
    }
   ],
   "source": [
    "range(19)"
   ]
  },
  {
   "cell_type": "code",
   "execution_count": 72,
   "metadata": {},
   "outputs": [
    {
     "data": {
      "text/plain": [
       "<zip at 0x7f3b002492d0>"
      ]
     },
     "execution_count": 72,
     "metadata": {},
     "output_type": "execute_result"
    }
   ],
   "source": [
    "zip([1,2,3],[4,5,6])"
   ]
  },
  {
   "cell_type": "code",
   "execution_count": null,
   "metadata": {},
   "outputs": [],
   "source": []
  },
  {
   "cell_type": "markdown",
   "metadata": {
    "slideshow": {
     "slide_type": "slide"
    }
   },
   "source": [
    "### Generators\n",
    "\n",
    "Außerdem können wir auch **normale Funktionen** zu Generator-Fabriken **verwandeln**. Alles was wir dazu brauchen ist das **Schlüsselwort** ```yield```:"
   ]
  },
  {
   "cell_type": "code",
   "execution_count": null,
   "metadata": {
    "slideshow": {
     "slide_type": "-"
    }
   },
   "outputs": [],
   "source": [
    "def quadrate(bis=4):\n",
    "    for x in range(2,bis):\n",
    "        yield x*x"
   ]
  },
  {
   "cell_type": "markdown",
   "metadata": {
    "slideshow": {
     "slide_type": "fragment"
    }
   },
   "source": [
    "Rufen wir nun die Funktion ```quadrate``` auf, liefert sie uns einen Generator:"
   ]
  },
  {
   "cell_type": "code",
   "execution_count": null,
   "metadata": {
    "slideshow": {
     "slide_type": "-"
    }
   },
   "outputs": [],
   "source": [
    "new_gen = quadrate()\n",
    "type(new_gen)"
   ]
  },
  {
   "cell_type": "markdown",
   "metadata": {
    "slideshow": {
     "slide_type": "fragment"
    }
   },
   "source": [
    "Wenn wir diesen an ```next``` überreichen, wird das **Ergebnis** bei ```yield``` **berechnet**:"
   ]
  },
  {
   "cell_type": "code",
   "execution_count": null,
   "metadata": {
    "slideshow": {
     "slide_type": "-"
    }
   },
   "outputs": [],
   "source": [
    "for elem in new_gen:\n",
    "    print(elem)"
   ]
  },
  {
   "cell_type": "markdown",
   "metadata": {
    "slideshow": {
     "slide_type": "slide"
    }
   },
   "source": [
    "### Unendliche Iteratoren\n",
    "\n",
    "Im Modul ```itertools``` befinden sich **drei Generatoren** welche uns **unendlich** lange mit Werten beliefern können:\n"
   ]
  },
  {
   "cell_type": "code",
   "execution_count": null,
   "metadata": {
    "slideshow": {
     "slide_type": "-"
    }
   },
   "outputs": [],
   "source": [
    "import itertools"
   ]
  },
  {
   "cell_type": "markdown",
   "metadata": {
    "slideshow": {
     "slide_type": "fragment"
    }
   },
   "source": [
    "+ ```count``` : Wie ```repeat```, nimmt aber nur ```start``` und gegebenenfalls ```step``` entgegen und zählt unendlich lange."
   ]
  },
  {
   "cell_type": "code",
   "execution_count": null,
   "metadata": {
    "slideshow": {
     "slide_type": "-"
    }
   },
   "outputs": [],
   "source": [
    "c = itertools.count(1,2); next(c), next(c), next(c)"
   ]
  },
  {
   "cell_type": "markdown",
   "metadata": {
    "slideshow": {
     "slide_type": "fragment"
    }
   },
   "source": [
    "+ ```cycle``` : Wiederholt eine übergebene Kollektion unendlich oft."
   ]
  },
  {
   "cell_type": "code",
   "execution_count": null,
   "metadata": {
    "slideshow": {
     "slide_type": "-"
    }
   },
   "outputs": [],
   "source": [
    "c = itertools.cycle((2,63)); next(c), next(c), next(c), next(c)"
   ]
  },
  {
   "cell_type": "markdown",
   "metadata": {
    "slideshow": {
     "slide_type": "fragment"
    }
   },
   "source": [
    "+ ```repeat``` : Wiederholt einen Wert unendlich lange. (Gibt man einen Wert ```n```, endlich lange)"
   ]
  },
  {
   "cell_type": "code",
   "execution_count": null,
   "metadata": {
    "slideshow": {
     "slide_type": "-"
    }
   },
   "outputs": [],
   "source": [
    "c = itertools.repeat(\"Zack\"); next(c), next(c), next(c)"
   ]
  },
  {
   "cell_type": "markdown",
   "metadata": {
    "slideshow": {
     "slide_type": "subslide"
    }
   },
   "source": [
    "## Eager Evaluation\n",
    "\n",
    "Im **Gegensatz** zur *lazy evaluation* spricht man von *eager evaluation*, also **eifriger** Berechnung.\n",
    "\n",
    "**Achtung**! Unendliche Strukturen sollte man niemals zu einer Liste oder ähnlichen *eifrig* berechneten Kollektionen machen. Dann stürzt der Computer ab. "
   ]
  },
  {
   "cell_type": "markdown",
   "metadata": {
    "slideshow": {
     "slide_type": "slide"
    }
   },
   "source": [
    "## Wonderland-Modul\n",
    "\n",
    "Mit diesem Wissen wollen wir uns einmal daran machen, unser Wonderland vom **Jupyter-Notebook zu einem Modul** zu transferieren."
   ]
  },
  {
   "cell_type": "markdown",
   "metadata": {
    "slideshow": {
     "slide_type": "subslide"
    }
   },
   "source": [
    "### Simulationsergebnisse generieren\n",
    "\n",
    "Ein **Generator** eignet sich auch gut um unsere Simulationsergebnisse zu generieren."
   ]
  },
  {
   "cell_type": "code",
   "execution_count": null,
   "metadata": {},
   "outputs": [],
   "source": [
    "import wonderland as wl"
   ]
  },
  {
   "cell_type": "markdown",
   "metadata": {
    "slideshow": {
     "slide_type": "fragment"
    }
   },
   "source": [
    "Wir gestalten diesen Generator ähnlich zur eager evaluierten Funktion ```simulation```:\n",
    "~~~python\n",
    "def simulation(jahre=300):\n",
    "    ergebnis = [(x_0,y_0,z_0,p_0)]\n",
    "    for jahr in range(1,jahre):\n",
    "        x, y, z, p = ergebnis[jahr-1]\n",
    "        x_neu = population(x,y,z)\n",
    "        y_neu = wirtschaft(y,z)\n",
    "        z_neu = umwelt(x,y,z,p)\n",
    "        p_neu = technologie(p)\n",
    "        ergebnis.append((x_neu, y_neu, z_neu, p_neu))\n",
    "    return ergebnis\n",
    "~~~"
   ]
  },
  {
   "cell_type": "markdown",
   "metadata": {
    "slideshow": {
     "slide_type": "subslide"
    }
   },
   "source": [
    "Die Variante als Generator besitzt ebenfalls eine Schleife, jedoch eignet sich ```while``` besser für **unendliche** Wiederholungen:"
   ]
  },
  {
   "cell_type": "code",
   "execution_count": null,
   "metadata": {
    "slideshow": {
     "slide_type": "-"
    }
   },
   "outputs": [],
   "source": [
    "def simulation(ausgangs_zustand=(1.0,1.0,0.98,1.0)):\n",
    "    # Startwerte entpacken\n",
    "    x,y,z,p = ausgangs_zustand\n",
    "    # Startwerte zur Verfügung stellen\n",
    "    yield (x,y,z,p)\n",
    "    \n",
    "    while 1:\n",
    "        # Nächsten Zeitschritt berechnen\n",
    "        x_neu = wl.population(x,y,z)\n",
    "        y_neu = wl.wirtschaft(y,z)\n",
    "        z_neu = wl.umwelt(x,y,z,p)\n",
    "        p_neu = wl.technologie(p)\n",
    "        # Ergebnisse abspeichern\n",
    "        x,y,z,p = x_neu, y_neu, z_neu, p_neu\n",
    "        # Ergebnis zur Verfügung stellen\n",
    "        yield (x,y,z,p)"
   ]
  },
  {
   "cell_type": "markdown",
   "metadata": {
    "slideshow": {
     "slide_type": "-"
    }
   },
   "source": [
    "Das Ergebnis wird nicht in einer Liste gespeichert. Der Generator wartet bei ```yield``` bis wir mit ```next``` das **Ergebnis abrufen** und berechnet dann ein neues.\n",
    "\n",
    "*Zum Mitdenken:* Warum speichern wir zuerst in ```x_neu``` um dann ```x = x_neu``` zu schreiben?"
   ]
  },
  {
   "cell_type": "markdown",
   "metadata": {
    "slideshow": {
     "slide_type": "notes"
    }
   },
   "source": [
    "<div class=\"alert alert-block alert-info\">\n",
    "<h3>Tipp: Singletons</h3>\n",
    "<p>   \n",
    "Das leere Tupel <code>()</code> und der Wert <code>None</code> bilden <strong>Singletons</strong> in Python. \n",
    "</p>\n",
    "<p>\n",
    "Das heißt, dass von ihnen <strong>immer genau eine Instanz</strong> existiert. Erstellen wir ein neues leeres Tupel, verweist Python auf das bereits existierende Objekt <code>()</code>. \n",
    "</p>\n",
    "<p>\n",
    "Das bedeutet, dass <code>repeat(())</code> oder <code>repeat(None)</code> in Wirklichkeit <strong>nie</strong> neue Objekte erzeugen müssen. Dies ist äußerst effizient.\n",
    "    </p>\n",
    "</div>"
   ]
  },
  {
   "cell_type": "markdown",
   "metadata": {
    "slideshow": {
     "slide_type": "subslide"
    }
   },
   "source": [
    "Rufen wir die Generator - Funktion auf, übergibt diese uns einen Generator:"
   ]
  },
  {
   "cell_type": "code",
   "execution_count": null,
   "metadata": {
    "slideshow": {
     "slide_type": "-"
    }
   },
   "outputs": [],
   "source": [
    "g = simulation()"
   ]
  },
  {
   "cell_type": "markdown",
   "metadata": {
    "slideshow": {
     "slide_type": "fragment"
    }
   },
   "source": [
    "Mit ```next``` rufen wir dann in einer List-Comprehension die ersten 300 Ergebnisse ab:"
   ]
  },
  {
   "cell_type": "code",
   "execution_count": null,
   "metadata": {
    "slideshow": {
     "slide_type": "-"
    }
   },
   "outputs": [],
   "source": [
    "ergebnisse = [next(g) for _ in range(300)]"
   ]
  },
  {
   "cell_type": "markdown",
   "metadata": {
    "slideshow": {
     "slide_type": "subslide"
    }
   },
   "source": [
    "Lassen wir uns die ```ergebnisse``` noch darstellen:"
   ]
  },
  {
   "cell_type": "code",
   "execution_count": null,
   "metadata": {
    "slideshow": {
     "slide_type": "-"
    }
   },
   "outputs": [],
   "source": [
    "import matplotlib.pyplot as plt\n",
    "%matplotlib inline\n",
    "\n",
    "plt.plot(ergebnisse)"
   ]
  },
  {
   "cell_type": "markdown",
   "metadata": {
    "slideshow": {
     "slide_type": "slide"
    }
   },
   "source": [
    "### Funktionen höherer Ordnung\n",
    "\n",
    "**Höhere Funktionen** sind solche, welche selbst **Funktionen als  Argumente** übernehmen oder sie als **Ergebnis** zurückgeben."
   ]
  },
  {
   "cell_type": "markdown",
   "metadata": {
    "slideshow": {
     "slide_type": "fragment"
    }
   },
   "source": [
    "Einige solche Funktionen sind **bereits in der Standardbibliothek** enthalten:\n",
    "+ ```map``` : Wendet eine Funktion auf alle Elemente einer Kollektion an."
   ]
  },
  {
   "cell_type": "code",
   "execution_count": null,
   "metadata": {
    "slideshow": {
     "slide_type": "-"
    }
   },
   "outputs": [],
   "source": [
    "list(map(lambda x: x*x, range(10)))"
   ]
  },
  {
   "cell_type": "markdown",
   "metadata": {
    "slideshow": {
     "slide_type": "fragment"
    }
   },
   "source": [
    "+ ```filter``` - Filtert die Elemente einer Funktion anhand einer Funktion (genannt Predikat) welche eine ```bool``` ergibt:"
   ]
  },
  {
   "cell_type": "code",
   "execution_count": null,
   "metadata": {
    "slideshow": {
     "slide_type": "-"
    }
   },
   "outputs": [],
   "source": [
    "list(filter(lambda x: x%5 == 1, range(10)))"
   ]
  },
  {
   "cell_type": "markdown",
   "metadata": {
    "slideshow": {
     "slide_type": "fragment"
    }
   },
   "source": [
    "Viele **weitere höhere Funktionen** befinden sich in den Modulen [functools](https://docs.python.org/3/library/functools.html) und [itertools](https://docs.python.org/3/library/itertools.html).<br>\n",
    "Einige davon werden wir nun bei einer Analyse der Wonderland-Ergebnisse **genauer unter die Lupe nehmen**."
   ]
  },
  {
   "cell_type": "markdown",
   "metadata": {
    "slideshow": {
     "slide_type": "slide"
    }
   },
   "source": [
    "### Weitere Filter - Funktionen\n",
    "\n",
    "Die Funktion ```filter``` kennen wir nun schon. Zu ihr gesellen sich in ```itertools``` noch weitere, ähnliche Funktionen:"
   ]
  },
  {
   "cell_type": "markdown",
   "metadata": {
    "slideshow": {
     "slide_type": "fragment"
    }
   },
   "source": [
    "+ ```filerfalse``` : Entfernt alle Elemente für welche die überreichte Funktion ```True``` ergibt."
   ]
  },
  {
   "cell_type": "code",
   "execution_count": null,
   "metadata": {
    "slideshow": {
     "slide_type": "-"
    }
   },
   "outputs": [],
   "source": [
    "list( itertools.filterfalse(lambda x: len(x)>1, ['a','ab'])  )"
   ]
  },
  {
   "cell_type": "markdown",
   "metadata": {
    "slideshow": {
     "slide_type": "fragment"
    }
   },
   "source": [
    "+ ```dropwhile``` : Entfernt alle Elemente **solange** eine Funktion für diese Elemente ```True``` ergibt:"
   ]
  },
  {
   "cell_type": "code",
   "execution_count": null,
   "metadata": {
    "slideshow": {
     "slide_type": "-"
    }
   },
   "outputs": [],
   "source": [
    "list( itertools.dropwhile(lambda x: x < 4, range(10))  )"
   ]
  },
  {
   "cell_type": "markdown",
   "metadata": {
    "slideshow": {
     "slide_type": "fragment"
    }
   },
   "source": [
    "+ ```takewhile``` : Entfernt alle Elemente **nachdem** eine Funktion für ein Element ```False``` ergibt:"
   ]
  },
  {
   "cell_type": "code",
   "execution_count": null,
   "metadata": {
    "slideshow": {
     "slide_type": "-"
    }
   },
   "outputs": [],
   "source": [
    "list(  itertools.takewhile(lambda x: x < 4, range(10))  )"
   ]
  },
  {
   "cell_type": "markdown",
   "metadata": {
    "slideshow": {
     "slide_type": "skip"
    }
   },
   "source": [
    "<div class=\"alert alert-block alert-info\">\n",
    "<h3>Tipp: Kollektionen lazy machen</h3>\n",
    "    \n",
    "<code>next</code> funktioniert nicht nur bei verzögerter Auswertung, es lässt sich auf alle Kollektionen anwenden. Dazu muss man aus der Kollektion nur einen <code>Iterator</code> machen. Dazu gibt es die Funktion <code>ìter</code>.\n",
    "<pre><code>>>>l = list(range(10))\n",
    ">>>i = iter(l)\n",
    ">>>next(i)\n",
    "0\n",
    "</code></pre>\n",
    "</div>"
   ]
  },
  {
   "cell_type": "markdown",
   "metadata": {
    "slideshow": {
     "slide_type": "slide"
    }
   },
   "source": [
    "## Faltungen\n",
    "\n",
    "Faltungen wenden eine **Funktion mit zwei Argumenten** auf die Elemente einer Kollektion an. Das kann man sich so vorstellen, dass die **Beistriche** in zB einem Tupel, durch einen **Operator ersetzt** werden:\n",
    "~~~haskell\n",
    "(1,2,3,4) => 1 * 2 * 3 * 4 \n",
    "~~~\n",
    "In Python befindet sich diese Funktion in ```functools``` und heißt ```reduce```."
   ]
  },
  {
   "cell_type": "code",
   "execution_count": null,
   "metadata": {
    "slideshow": {
     "slide_type": "-"
    }
   },
   "outputs": [],
   "source": [
    "import functools"
   ]
  },
  {
   "cell_type": "markdown",
   "metadata": {
    "slideshow": {
     "slide_type": "fragment"
    }
   },
   "source": [
    "```reduce``` kann zum Beispiel Summen oder Faktorielle berechnen und nimmt dazu **drei Argumente** entgegen:\n",
    "+ ```f``` - Eine Funktion mit zwei Argumenten und einem Rückgabewert\n",
    "+ ```l``` - Eine Kollektion\n",
    "+ ```s``` - Den Startwert\n",
    "\n",
    "Am besten sieht man das an einem **Beispiel**:"
   ]
  },
  {
   "cell_type": "code",
   "execution_count": null,
   "metadata": {
    "slideshow": {
     "slide_type": "-"
    }
   },
   "outputs": [],
   "source": [
    "functools.reduce(lambda x,y: x*y, range(1,5), 1)"
   ]
  },
  {
   "cell_type": "markdown",
   "metadata": {
    "slideshow": {
     "slide_type": "subslide"
    }
   },
   "source": [
    "In den meisten Nutzungsszenarien kann ```reduce``` durch einfachere Funktionen ersetzt werden:\n",
    "+ ```sum``` - Berechnet die Summe\n",
    "+ ```any``` - Setzt ein logisches 'oder' ```or``` zwischen alle Elemente\n",
    "+ ```all``` - Wie ```any``` nur mit 'und' (```and```)\n",
    "+ ```math.factorial``` - Berechnet Faktorielle"
   ]
  },
  {
   "cell_type": "markdown",
   "metadata": {
    "slideshow": {
     "slide_type": "subslide"
    }
   },
   "source": [
    "Mit ```reduce``` können wir aber auch komplexeres beschreiben. Zum Beispiel wie sich die **Differenzen** in unserem Ergebnis berechnen:"
   ]
  },
  {
   "cell_type": "code",
   "execution_count": null,
   "metadata": {
    "scrolled": true,
    "slideshow": {
     "slide_type": "-"
    }
   },
   "outputs": [],
   "source": [
    "differenzen_umwelt = functools.reduce(\n",
    "    lambda a,b: b + (a[2]-b[2],),\n",
    "    ergebnisse, # zB [(1.1, 1, 0.99, 0.5),(1.2, 2, 1.0, 0.25)]\n",
    "    (1, 1, 0.98, 1, 0)\n",
    ")"
   ]
  },
  {
   "cell_type": "markdown",
   "metadata": {
    "slideshow": {
     "slide_type": "fragment"
    }
   },
   "source": [
    "Schritt für Schritt, **funktionalen Code** geht man am besten **von innen nach außen** durch:"
   ]
  },
  {
   "cell_type": "markdown",
   "metadata": {
    "slideshow": {
     "slide_type": "fragment"
    }
   },
   "source": [
    "+ Wir starten mit dem ursprünglichen Zustand: ```(1.0, 1.0, 0.98, 1.0)``` + die **erste Differenz** ```0```, in einer **Liste**."
   ]
  },
  {
   "cell_type": "markdown",
   "metadata": {
    "slideshow": {
     "slide_type": "fragment"
    }
   },
   "source": [
    "+ Für das **erste** Element, nimmt die Funktion ```f(a,b)``` diesen Ausgangswert als ```a``` und das **erste Element** aus ```ergebnisse``` als ```b```.\n",
    "    Dann fügt sie an die **Liste** ```a``` alle den **Zustand** in ```b``` und die Differenz der **Umwelt** (*daher der Index* ```2``` ) an."
   ]
  },
  {
   "cell_type": "markdown",
   "metadata": {
    "slideshow": {
     "slide_type": "fragment"
    }
   },
   "source": [
    "+ Für jedes weitere Element entnimmt ```f``` dem Ergebnis der **vorherigen** Anwendung von ```f``` den **letzten** Zustand und fügt wieder den neuen und die Differenz zum letzten an."
   ]
  },
  {
   "cell_type": "markdown",
   "metadata": {
    "slideshow": {
     "slide_type": "fragment"
    }
   },
   "source": [
    "+ ```reduce``` generiert also **Tupel mit 5 Elementen**. Die ersten vier sind der jeweilige Zustand, das fünfte die **Differenz**. Wenn uns nur letzteres interessiert, verwenden können wir mit ```map``` Differenzen herauspicken."
   ]
  },
  {
   "cell_type": "markdown",
   "metadata": {
    "slideshow": {
     "slide_type": "slide"
    }
   },
   "source": [
    "### Das Operator - Modul\n",
    "\n",
    "Funktionen höherer Ordnung verlangen fast immer eine Funktion als Argument. Bisher haben wir dabei meistens von ```lambda``` - Ausdrücken Gebrauch gemacht. Dies ist oft **umständlich** wenn wir doch nur kurze **Ausdrücke in eine Funktion** umwandeln wollen."
   ]
  },
  {
   "cell_type": "markdown",
   "metadata": {
    "slideshow": {
     "slide_type": "skip"
    }
   },
   "source": [
    "Das [Modul ```operator```](https://docs.python.org/3/library/operator.html) bietet hier eine Lösung."
   ]
  },
  {
   "cell_type": "code",
   "execution_count": null,
   "metadata": {
    "slideshow": {
     "slide_type": "-"
    }
   },
   "outputs": [],
   "source": [
    "import operator as op"
   ]
  },
  {
   "cell_type": "markdown",
   "metadata": {
    "slideshow": {
     "slide_type": "fragment"
    }
   },
   "source": [
    "**Operatoren** wie ```+``` für die Addition oder ```*``` für die Multiplikation sind hier als Funktionen hinterlegt. <br>\n",
    "So verkürzt sich ```lambda x,y: x+y``` zu ```add```."
   ]
  },
  {
   "cell_type": "code",
   "execution_count": null,
   "metadata": {
    "slideshow": {
     "slide_type": "-"
    }
   },
   "outputs": [],
   "source": [
    "functools.reduce(op.add,range(19))"
   ]
  },
  {
   "cell_type": "code",
   "execution_count": null,
   "metadata": {
    "slideshow": {
     "slide_type": "fragment"
    }
   },
   "outputs": [],
   "source": [
    "functools.reduce(op.mul, range(1,10)) # Multiplikation mit 'mul'"
   ]
  },
  {
   "cell_type": "markdown",
   "metadata": {
    "slideshow": {
     "slide_type": "-"
    }
   },
   "source": [
    "Wir überreichen also der Funktion ```reduce``` ein **Funktions - Objekt**, indem wir letztere auf **keine Argumente anwenden**; Das übernimmt ```reduce``` für uns."
   ]
  },
  {
   "cell_type": "markdown",
   "metadata": {
    "slideshow": {
     "slide_type": "fragment"
    }
   },
   "source": [
    "#### Weitere Inhalte von Operator\n",
    "\n",
    "Neben anderen Operatoren, bietet ```operator``` weitere Hilfsmittel um ```lambda``` - Ausdrücke vermeiden zu können.\n",
    "\n",
    "Es ist zum Beispiel oft nötig das ```i```-te Element einer Kollektion zu entnehmen.\n",
    "~~~python\n",
    "lambda kol: kol[i]\n",
    "~~~\n",
    "Dies lässt sich durch ```operator.itemgetter``` ersetzen:"
   ]
  },
  {
   "cell_type": "code",
   "execution_count": null,
   "metadata": {
    "slideshow": {
     "slide_type": "-"
    }
   },
   "outputs": [],
   "source": [
    "letztes_element = op.itemgetter(-1)\n",
    "letztes_element(range(10))"
   ]
  },
  {
   "cell_type": "markdown",
   "metadata": {
    "slideshow": {
     "slide_type": "skip"
    }
   },
   "source": [
    "<div class=\"alert alert-block alert-info\">\n",
    "<h3>Tipp: Operator - Funktionen für Kollektionen</h3>\n",
    "    <p>\n",
    "Der Operator <code>+</code> sieht für Kollektionen und Zahlen gleich aus, in <code>operator</code> gibt es aber unterschiedliche Funktionen. Für Zahlen verwendet man <code>add</code>, für Kollektionen <code>concat</code>.\n",
    "</p>\n",
    "<p>\n",
    "Selbiges gilt für <code>*</code> bzw. <code>mul</code>, hier haben wir bereits <code>repeat</code> im Modul <code>itertools</code> kennengelernt.\n",
    "    </p>\n",
    "</div>"
   ]
  },
  {
   "cell_type": "markdown",
   "metadata": {
    "slideshow": {
     "slide_type": "slide"
    }
   },
   "source": [
    "## Kombination von Faltung und Filter-Funktionen\n",
    "\n",
    "Gemeinsam mit der durch Faltung erstellten Liste mit Differenzen, können wir nun mit ```dropwhile``` und ```takewhile``` genau jene **Werte am kritischen Übergang** herausfiltern!"
   ]
  },
  {
   "cell_type": "code",
   "execution_count": null,
   "metadata": {
    "slideshow": {
     "slide_type": "fragment"
    }
   },
   "outputs": [],
   "source": [
    "nach_übergang = itertools.dropwhile(lambda d: abs(letztes_element(d)) < 0.034, differenzen_umwelt)\n",
    "nur_übergang = itertools.takewhile(lambda d: abs(letztes_element(d)) > 0.00001, nach_übergang)"
   ]
  },
  {
   "cell_type": "markdown",
   "metadata": {
    "slideshow": {
     "slide_type": "fragment"
    }
   },
   "source": [
    "Sehen wir uns das Ergebnis an:"
   ]
  },
  {
   "cell_type": "code",
   "execution_count": null,
   "metadata": {
    "slideshow": {
     "slide_type": "-"
    }
   },
   "outputs": [],
   "source": [
    "import matplotlib.pyplot as plt\n",
    "plt.plot([(z,abs(d)) for _,_,z,_,d  in nur_übergang])"
   ]
  },
  {
   "cell_type": "markdown",
   "metadata": {
    "slideshow": {
     "slide_type": "fragment"
    }
   },
   "source": [
    "*Welche Filterwerte ergeben einen guten Ausschnitt?*"
   ]
  },
  {
   "cell_type": "markdown",
   "metadata": {
    "slideshow": {
     "slide_type": "slide"
    }
   },
   "source": [
    "## Currying\n",
    "\n",
    "Wenn Funktionen **referentiell transparent** sind, dann können wir ihnen auch einen Teil ihrer Argumente schon im Vorhinein geben und den Rest später. Denn ihr **Ergebnis hängt nicht vom Zeitpunkt** der Berechnung **ab**."
   ]
  },
  {
   "cell_type": "markdown",
   "metadata": {
    "slideshow": {
     "slide_type": "fragment"
    }
   },
   "source": [
    "Diese Praxis nennt man nach dem Logiker [Haskell Curry](https://de.wikipedia.org/wiki/Haskell_Brooks_Curry) **currying**. Im Modul ```functools``` finden wir die Funktion ```partial``` die uns currying erlaubt: "
   ]
  },
  {
   "cell_type": "code",
   "execution_count": null,
   "metadata": {
    "slideshow": {
     "slide_type": "-"
    }
   },
   "outputs": [],
   "source": [
    "plus_5 = functools.partial(op.add,5)"
   ]
  },
  {
   "cell_type": "markdown",
   "metadata": {
    "slideshow": {
     "slide_type": "fragment"
    }
   },
   "source": [
    "*Was passiert wenn wir die Funktion* ```plus_5``` *auf eine Zahl anwenden?* "
   ]
  },
  {
   "cell_type": "code",
   "execution_count": null,
   "metadata": {
    "slideshow": {
     "slide_type": "-"
    }
   },
   "outputs": [],
   "source": [
    "plus_5(19)"
   ]
  },
  {
   "cell_type": "markdown",
   "metadata": {
    "slideshow": {
     "slide_type": "slide"
    }
   },
   "source": [
    "## Closures\n",
    "\n",
    "Aber wir können Funktionen auch von vornherein darauf **vorbereiten** ge-curry-t zu werden. **Funktionen höherer Ordnung** können natürlich auch **eigene Funktionen definieren**."
   ]
  },
  {
   "cell_type": "code",
   "execution_count": null,
   "metadata": {
    "slideshow": {
     "slide_type": "fragment"
    }
   },
   "outputs": [],
   "source": [
    "def plus(a):\n",
    "    \n",
    "    def inner(b):\n",
    "        return a+b\n",
    "    \n",
    "    return inner"
   ]
  },
  {
   "cell_type": "markdown",
   "metadata": {
    "slideshow": {
     "slide_type": "fragment"
    }
   },
   "source": [
    "*Was macht die Funktion* ```plus``` *und wie können wir sie nutzen?*"
   ]
  },
  {
   "cell_type": "code",
   "execution_count": null,
   "metadata": {
    "slideshow": {
     "slide_type": "-"
    }
   },
   "outputs": [],
   "source": [
    "f = plus(5)"
   ]
  },
  {
   "cell_type": "markdown",
   "metadata": {
    "slideshow": {
     "slide_type": "fragment"
    }
   },
   "source": [
    "Der **große Vorteil** von Closures ist, dass sie in einer **Sprache ohne Konstanten** (*Python*) **referentielle Transparenz** schaffen! Ist ```plus(x)``` einmal ausgeführt, ist ```x``` konstant."
   ]
  },
  {
   "cell_type": "code",
   "execution_count": null,
   "metadata": {
    "slideshow": {
     "slide_type": "-"
    }
   },
   "outputs": [],
   "source": [
    "f(4), f(6)"
   ]
  },
  {
   "cell_type": "markdown",
   "metadata": {
    "slideshow": {
     "slide_type": "skip"
    }
   },
   "source": [
    "<div class=\"alert alert-block alert-info\">\n",
    "<h3>Tipp: Dekoratoren</h3>\n",
    "    \n",
    "Wie eingangs erwähnt, sind Dekoratoren nichts anderes als Funktionen, welche eine Funktion als Argument entgegennehmen und wiederum eine als Ergebnis ausgeben. Damit <strong>bilden</strong> sie eine <strong>Closure</strong> mit der ihr überreichten Funktion.\n",
    "\n",
    "Ein einfacher Dektorator <code>deko</code> welcher die ihm überreichte Funktion nicht beeinfluss, ist bereits eine Closure:\n",
    "<pre><code>def deko(f):\n",
    "    def inner(*args,**kwargs):\n",
    "        return f(*args,**kwargs)\n",
    "    return inner\n",
    "</code></pre>\n",
    "Der Dekorator <code>deko</code> bietet eine praktische Vorlage um Dekoratoren zu entwerfen. Zum Beispiel kann man dann eine Funktion abhängig vom <strong>Typ des Arguments</strong> verschiedene Dinge ausführen lassen. Dies nennt man <strong>Überladen</strong> (<i>overloading</i>) einer Funktion.\n",
    "<pre><code>def dispatch(f):\n",
    "    funktionen = [f]\n",
    "    def reg(f):\n",
    "            funktionen.append(f)\n",
    "    def inner(*args,**kwargs):\n",
    "        for f in funktionen:\n",
    "            try:\n",
    "                return f(*args,**kwargs)\n",
    "            except TypeError:\n",
    "                pass\n",
    "    inner.reg = reg\n",
    "    return inner\n",
    "</code></pre>\n",
    "Das funktioniert indem man sie dann mit <code>@dispatch</code> dekoriert und die <strong>alternativen</strong> Funktionen mit <code>@ .. .reg</code> auf ihr <strong>registriert</strong>:\n",
    "<pre><code>>>>@dispatch\n",
    "   def plus(x):\n",
    "       return x+5\n",
    ">>>@plus.reg\n",
    "   def plus_str(x):\n",
    "       return x+\"a\"\n",
    ">>>plus(\"b\"), plus(1)\n",
    "('ba', 6)\n",
    "</code></pre>\n",
    "\n",
    "Einen <strong>ähnlichen</strong> Dekorator bietet Python im <code>functools</code> Paket, er heißt dort <code>singledispatch</code>.\n",
    "</div>"
   ]
  },
  {
   "cell_type": "markdown",
   "metadata": {
    "slideshow": {
     "slide_type": "slide"
    }
   },
   "source": [
    "## Grenzen der referentiellen Transparenz in Python\n",
    "\n",
    "Python ist grundsätzlich **nicht referentiell transparent** gestaltet. Wie wir wissen gibt es in Python keine Konstanten. Außerdem werden Variablen nicht als solche, sondern als Objekt **ID** überreicht und durch ihren Namen aufgerufen."
   ]
  },
  {
   "cell_type": "markdown",
   "metadata": {
    "slideshow": {
     "slide_type": "fragment"
    }
   },
   "source": [
    "Verzögerte Evaluierung darf allerdings **nur in referentiell transparenten** Sprachen eingeführt werden. In Python muss man bei ihrer Verwendung einige Fallen beachten."
   ]
  },
  {
   "cell_type": "code",
   "execution_count": null,
   "metadata": {
    "slideshow": {
     "slide_type": "fragment"
    }
   },
   "outputs": [],
   "source": [
    "f = lambda x: x+1\n",
    "gen = (f(x) for x in itertools.repeat(10))"
   ]
  },
  {
   "cell_type": "markdown",
   "metadata": {
    "slideshow": {
     "slide_type": "fragment"
    }
   },
   "source": [
    "```f``` ist also eine Funktion welche ihr Argument **inkrementiert**. <br>\n",
    "```gen``` ist ein Generator welcher ```f``` immer wieder ```10``` als Argument überreicht."
   ]
  },
  {
   "cell_type": "code",
   "execution_count": null,
   "metadata": {
    "slideshow": {
     "slide_type": "fragment"
    }
   },
   "outputs": [],
   "source": [
    "next(gen), next(gen), next(gen)"
   ]
  },
  {
   "cell_type": "markdown",
   "metadata": {
    "slideshow": {
     "slide_type": "subslide"
    }
   },
   "source": [
    "Naturgemäß gibt er immer wieder ```11``` aus."
   ]
  },
  {
   "cell_type": "markdown",
   "metadata": {
    "slideshow": {
     "slide_type": "fragment"
    }
   },
   "source": [
    "Nun **ändern** wir ```f``` so, dass sie ihr Argument **dekrementiert** und rufen ```gen``` wieder auf:"
   ]
  },
  {
   "cell_type": "code",
   "execution_count": null,
   "metadata": {
    "slideshow": {
     "slide_type": "fragment"
    }
   },
   "outputs": [],
   "source": [
    "f = lambda x: x-1\n",
    "next(gen)"
   ]
  },
  {
   "cell_type": "markdown",
   "metadata": {
    "slideshow": {
     "slide_type": "fragment"
    }
   },
   "source": [
    "Wir sehen, dass ```gen``` den **Namen** der Funktion ```f``` **referenziert**, nicht deren **ID**. "
   ]
  },
  {
   "cell_type": "markdown",
   "metadata": {
    "slideshow": {
     "slide_type": "subslide"
    }
   },
   "source": [
    "Bilden wir eine Generator-Funktion, besitzt diese ihren **eigenen Namespace** und hält ```f``` somit intern **konstant**:"
   ]
  },
  {
   "cell_type": "code",
   "execution_count": null,
   "metadata": {
    "slideshow": {
     "slide_type": "-"
    }
   },
   "outputs": [],
   "source": [
    "def get_gen(f):\n",
    "    for x in itertools.repeat(10):\n",
    "        yield f(x)"
   ]
  },
  {
   "cell_type": "markdown",
   "metadata": {
    "slideshow": {
     "slide_type": "fragment"
    }
   },
   "source": [
    "Die Generator-Funktion muss aber **zuerst aufgerufen** werden und **überreicht** uns dann den Generator:"
   ]
  },
  {
   "cell_type": "code",
   "execution_count": null,
   "metadata": {
    "slideshow": {
     "slide_type": "-"
    }
   },
   "outputs": [],
   "source": [
    "gen = get_gen(f)"
   ]
  },
  {
   "cell_type": "code",
   "execution_count": null,
   "metadata": {
    "slideshow": {
     "slide_type": "subslide"
    }
   },
   "outputs": [],
   "source": [
    "next(gen)"
   ]
  },
  {
   "cell_type": "markdown",
   "metadata": {
    "slideshow": {
     "slide_type": "fragment"
    }
   },
   "source": [
    "Wir ändern wiederum ```f``` zur inkrementierenden Version:"
   ]
  },
  {
   "cell_type": "code",
   "execution_count": null,
   "metadata": {
    "slideshow": {
     "slide_type": "-"
    }
   },
   "outputs": [],
   "source": [
    "f = lambda x: x+1"
   ]
  },
  {
   "cell_type": "code",
   "execution_count": null,
   "metadata": {
    "slideshow": {
     "slide_type": "fragment"
    }
   },
   "outputs": [],
   "source": [
    "next(gen)"
   ]
  },
  {
   "cell_type": "markdown",
   "metadata": {
    "slideshow": {
     "slide_type": "skip"
    }
   },
   "source": [
    "<div class=\"alert alert-block alert-info\">\n",
    "<h3>Tipp: Funktoren und Monaden</h3>\n",
    "    \n",
    "Für alle, denen die eingangs erwähnten <strong>(Applikativen) Funktoren</strong> und auch die <strong>Monaden</strong> nicht aus dem Kopf gehen.\n",
    "\n",
    "<ul>\n",
    "    <li> Funktoren sind alle <strong>Typen</strong> auf die wir <code>map</code> anwenden können. (Deshalb auf oft <code>fmap</code> genannt)</li>\n",
    " \n",
    "\n",
    "<li> Applikative Funktoren bieten uns eine Funktion <code>pure</code> und einen Operator <code>&lt;*&gt;</code></li>\n",
    "<ul>\n",
    "<li> <code>pure</code> garantiert uns dass ein Wert rein (<i>pure</i>) funktional ist.</li>\n",
    "<li> <code>&lt;*&gt;</code> nimmt eine <i>reine</i> Funktion $f$ mit einer Eingangsvariablen und ein <i>rein</i> funktionales Argument $a$. Danach garantiert <code>&lt;*&gt;</code>, dass auch das Ergebnis von $f(a)$ rein funktional ist.\n",
    "    <br><br>Alle applikativen Funktoren sind <strong>automatisch Funktoren</strong> denn es gilt: <code>map(f,xs) == pure(f) &lt;*&gt; xs</code>\n",
    " </li>\n",
    "    </ul>\n",
    "<li>Monaden bieten auch genau zwei Funktionen: <code>return</code> und <code>bind</code></li>\n",
    "  <ul>\n",
    "    <li> <code>return</code> ist nicht das <code>return</code> welches wir aus Python kennen, sondern nimmt einen Wert und <strong>weißt ihn der Monade zu</strong>.</li>\n",
    "    <li> <code>bind</code> nimmt einen Wert in der Monade und eine Funktion. Dann entnimmt sie den Wert aus der Monade und die Funktion gibt mit diesem Wert einen neuen <strong>in der Monade</strong> zurück. Dies ist das Ergebnis von <code>bind</code>.\n",
    "    <br><br>\n",
    "    Alle Monaden sind applikative Funktoren, denn es gilt: <br>\n",
    "    <code>pure(f) &lt;*&gt; xs == bind(return f,lambda x1: bind(xs,lambda x2: return x1(x2)))</code></li>\n",
    "    </ul>\n",
    "    </ul>\n",
    "</div>"
   ]
  },
  {
   "cell_type": "markdown",
   "metadata": {
    "slideshow": {
     "slide_type": "slide"
    }
   },
   "source": [
    "<div class=\"alert alert-block alert-danger\">\n",
    "<h3>Übungsaufgabe 4: Functional Programming</h3>\n",
    "   \n",
    "</div>"
   ]
  },
  {
   "cell_type": "markdown",
   "metadata": {
    "slideshow": {
     "slide_type": "-"
    }
   },
   "source": [
    "Buch Empfehlung zum Thema FP in Python: Functional Programming in Python - David Mertz"
   ]
  }
 ],
 "metadata": {
  "celltoolbar": "Slideshow",
  "kernelspec": {
   "display_name": "Python 3",
   "language": "python",
   "name": "python3"
  },
  "language_info": {
   "codemirror_mode": {
    "name": "ipython",
    "version": 3
   },
   "file_extension": ".py",
   "mimetype": "text/x-python",
   "name": "python",
   "nbconvert_exporter": "python",
   "pygments_lexer": "ipython3",
   "version": "3.7.7"
  },
  "rise": {
   "enable_chalkboard": true,
   "scroll": true,
   "theme": "serif"
  }
 },
 "nbformat": 4,
 "nbformat_minor": 2
}
