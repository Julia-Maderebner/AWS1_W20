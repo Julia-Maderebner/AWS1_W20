{
 "cells": [
  {
   "cell_type": "markdown",
   "metadata": {
    "slideshow": {
     "slide_type": "slide"
    }
   },
   "source": [
    "# Angewandte Systemwissenschaften I\n",
    "---\n",
    "# Gruppe Plakolb - Syllabus\n",
    "---"
   ]
  },
  {
   "cell_type": "markdown",
   "metadata": {
    "slideshow": {
     "slide_type": "subslide"
    }
   },
   "source": [
    "# Vortragender\n",
    "---\n",
    "### Simon Plakolb\n",
    "\n",
    "- Studium: USW (NaWi-Tech)\n",
    "\n",
    "- Forschungsgebiete\n",
    "    - Agentenbasierte Modellierung\n",
    "    - Artificial Intelligence\n",
    "    - Netwerke\n",
    "    - Verkehrssimulation\n",
    "    "
   ]
  },
  {
   "cell_type": "markdown",
   "metadata": {
    "slideshow": {
     "slide_type": "slide"
    }
   },
   "source": [
    "<img src=\"../notenschl%C3%BCssel.png\" align=\"right\" height=\"400\" width=\"80\">\n",
    "\n",
    "# Modus\n",
    "---\n",
    "- Termine: 10\n",
    "\n",
    "- Benotungsschema:\n",
    "    - Mitarbeit: 10 * 2 Punkte in der Stunde (*für aktive Teilnahme am Geschehen*)\n",
    "    - Insgesamt 40 Punkte für Hausübungsbeispiele\n",
    "    - Proseminararbeit: 40 Punkte\n",
    "    - Notenschlüssel: \n",
    "        - Ab exkl. 50 Punkten positiv\n",
    "        - Von 50-100 Punkte gleich große Schritte \\\n",
    "             $<= 50$ P $\\quad \\to \\quad 5$ \\\n",
    "             $> 50$ P $\\quad \\to \\quad 4$ \\\n",
    "             $> 62.5$ P $\\quad \\to \\quad 3$ \\\n",
    "             $> 75$ P $\\quad \\to \\quad 2$ \\\n",
    "             $> 87.5$ P $\\quad \\to \\quad 1$"
   ]
  },
  {
   "cell_type": "markdown",
   "metadata": {
    "slideshow": {
     "slide_type": "subslide"
    }
   },
   "source": [
    "#### In Python-Code ausgedrück:"
   ]
  },
  {
   "cell_type": "code",
   "execution_count": 102,
   "metadata": {
    "slideshow": {
     "slide_type": "-"
    }
   },
   "outputs": [],
   "source": [
    "def grade(points):\n",
    "    \"\"\"Calculates the grade of a student.\n",
    "    \n",
    "    Parameters\n",
    "    ----------\n",
    "    punkte : float\n",
    "        Points the student has reached.\n",
    "        \n",
    "    Returns\n",
    "    -------\n",
    "    grade : int\n",
    "        The resulting grade.\n",
    "    \"\"\"\n",
    "    for limit in (50+(4-g)*12.5 for g in range(1,5)):\n",
    "        if points > limit:\n",
    "            return 4-int((limit-50)/12.5)\n",
    "        else:\n",
    "            continue\n",
    "    else:\n",
    "        return 5"
   ]
  },
  {
   "cell_type": "code",
   "execution_count": 103,
   "metadata": {
    "slideshow": {
     "slide_type": "fragment"
    }
   },
   "outputs": [
    {
     "data": {
      "text/plain": [
       "(5, 4, 3, 2, 1)"
      ]
     },
     "execution_count": 103,
     "metadata": {},
     "output_type": "execute_result"
    }
   ],
   "source": [
    "grade(0), grade(50.01), grade(62.51), grade(75.01), grade(87.51)"
   ]
  },
  {
   "cell_type": "markdown",
   "metadata": {
    "slideshow": {
     "slide_type": "subslide"
    }
   },
   "source": [
    "- Die LV hat **immanenten Prüfungscharakter**\n",
    "    - Grundsätzlich **Anwesenheitspflicht**\n",
    "    - Entschuldigtes Fernbleiben (*80%*)\n",
    "    - **Bewertung nach erster erbrachter Leistung** (*Auch wenn der Kurs nicht abgeschlossen wird*)"
   ]
  },
  {
   "cell_type": "markdown",
   "metadata": {
    "slideshow": {
     "slide_type": "subslide"
    }
   },
   "source": [
    "### Corona\n",
    "\n",
    "- Personen in der Risikogruppe oder mit solchen im Haushalt? -> Online-Teilnahme möglich\n",
    "\n",
    "#### Bei Präsenz\n",
    "\n",
    "- Maske\n",
    "- Abstand\n",
    "- Hände waschen / desinfizieren"
   ]
  },
  {
   "cell_type": "markdown",
   "metadata": {
    "slideshow": {
     "slide_type": "fragment"
    }
   },
   "source": [
    "## Hausübungen\n",
    "\n",
    "Bis **darauffolgenden Sonntag 24:00** auf **Moodle** abzugeben."
   ]
  },
  {
   "cell_type": "markdown",
   "metadata": {
    "slideshow": {
     "slide_type": "subslide"
    }
   },
   "source": [
    "## Proseminar-Arbeit\n",
    "\n",
    "In **Kleingruppen** zu erledigen. \n",
    "\n",
    "$10 \\pm 2$ Seiten insgesamt.\n",
    "\n",
    "- Einleitung ins Problem (*10 Punkte*)\n",
    "- Lösungsprotokoll (*5 Punkte*)\n",
    "- Diskussion der\n",
    "    - Angewandten in der LV erlernten Kenntnisse (*5 Punkte*)\n",
    "    - Qualität der Lösung (*5 Punkte*)\n",
    "- Quellcode im Anhang (*15 Punkte*)\n",
    "    - zählt nicht zur Seitenanzahl!"
   ]
  },
  {
   "cell_type": "markdown",
   "metadata": {
    "slideshow": {
     "slide_type": "subslide"
    }
   },
   "source": [
    "<img src=\"putput.jpg\">"
   ]
  },
  {
   "cell_type": "markdown",
   "metadata": {
    "slideshow": {
     "slide_type": "slide"
    }
   },
   "source": [
    "# Inhalt\n",
    "---\n",
    "0. **Anaconda und Pip**\n",
    "1. Einführung in Python\n",
    "2. Matplotlib: Eine Einführung ins Wonderland - Modell\n",
    "3. Jupyter-Notebooks: Wonderland in Python\n",
    "4. Funktionale Programmierung & Python-Module\n",
    "5. Python-Pakete und Workflow\n",
    "6. Objekt-orientierte Programmierung\n",
    "7. Agenten-basierte Modellierung\n",
    "8. Animationen zur Modellentwicklung\n",
    "9. Multiprocessing & Sensitivity Analysis\n",
    "10. Projektpräsentationen"
   ]
  },
  {
   "cell_type": "markdown",
   "metadata": {
    "slideshow": {
     "slide_type": "subslide"
    }
   },
   "source": [
    "## Ziel\n",
    "\n",
    "Verständnis und Anwendung von Programmier-Grundkonzepten in der Programmiersprache Python.\n",
    "\n",
    "Grundlagen im Umgang mit dem Versionskontroll-Tool GIT und Python-Umgebungen wie Jupyter Notebook, Spyder o.ä.\n",
    "\n",
    "Anwendung dieser Kenntnisse auf systemwissenschaftlich motivierte Probleme."
   ]
  },
  {
   "cell_type": "markdown",
   "metadata": {
    "slideshow": {
     "slide_type": "slide"
    }
   },
   "source": [
    "# Warum Python?\n",
    "---\n",
    "# [Toibe - Index](https://www.tiobe.com/tiobe-index/)\n",
    "---\n",
    "# [PYPL](http://pypl.github.io/PYPL.html)\n",
    "---\n",
    "# [IEEE](https://spectrum.ieee.org/at-work/innovation/the-2018-top-programming-languages)"
   ]
  }
 ],
 "metadata": {
  "celltoolbar": "Slideshow",
  "kernelspec": {
   "display_name": "Python 3",
   "language": "python",
   "name": "python3"
  },
  "language_info": {
   "codemirror_mode": {
    "name": "ipython",
    "version": 3
   },
   "file_extension": ".py",
   "mimetype": "text/x-python",
   "name": "python",
   "nbconvert_exporter": "python",
   "pygments_lexer": "ipython3",
   "version": "3.7.7"
  }
 },
 "nbformat": 4,
 "nbformat_minor": 2
}
