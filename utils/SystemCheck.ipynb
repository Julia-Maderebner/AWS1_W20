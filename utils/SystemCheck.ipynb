{
 "cells": [
  {
   "cell_type": "markdown",
   "metadata": {},
   "source": [
    "# System Checker - AWS 1\n",
    "\n",
    "Der ```System Checker``` überprüft welche Versionen der für die Lehrveranstaltung \"Angewandte Systemwissenschaften 1\" in der \"Gruppe Plakolb\" **relevanten Software** installiert sind.\n",
    "\n",
    "Python-Pakete und Anaconda-Pakete werden dabei **automatisch installiert**, sollten sie noch nicht vorhanden sein.\n",
    "\n",
    "Zum Schluss erstellt der ```System Checker``` einen Report über etwaige Fehler bzw die Versionsnummern. Dieser kann über Moodle an die LV-Leitung übermittelt werden.\n",
    "\n",
    "### Editor\n",
    "\n",
    "Grundsätzlich ist es in der LV **egal** welcher Text-Editor/welche IDE individuell verwendet wird. Frühere Teilnehmer waren neben dem rudimentären, von [Jupyter](https://jupyter.org/) zur Verfügung gestellten Editor zufrieden mit:\n",
    "\n",
    "* [Visual Studio Code](https://code.visualstudio.com/)\n",
    "* [PyCharm](https://www.jetbrains.com/pycharm/)\n",
    "* [Spyder](https://www.spyder-ide.org/)\n",
    "\n",
    "Wichtig ist, dass man sich mit der Lösung wohlfühlt :)\n",
    "\n",
    "### Sinn und Zweck\n",
    "\n",
    "Der Grund für diesen Check ist, dass gleich zu Beginn der Lehrveranstaltung eine solide Ausgangsbasis auf allen verwendeten Geräten sichergestellt werden soll."
   ]
  },
  {
   "cell_type": "code",
   "execution_count": 1,
   "metadata": {},
   "outputs": [],
   "source": [
    "import os\n",
    "import sys\n",
    "import subprocess\n",
    "import conda\n",
    "import importlib\n",
    "import socket\n",
    "import getpass\n",
    "import datetime\n",
    "from functools import reduce\n",
    "from IPython import display\n",
    "\n",
    "run = lambda *cmd: subprocess.run(cmd, capture_output=True)"
   ]
  },
  {
   "cell_type": "markdown",
   "metadata": {},
   "source": [
    "### Helper Functions"
   ]
  },
  {
   "cell_type": "code",
   "execution_count": 17,
   "metadata": {
    "tags": [
     "hide-cell"
    ]
   },
   "outputs": [],
   "source": [
    "def check_version(name, failed=False):\n",
    "    \"\"\"Check the version of a command line tool ``name``.\n",
    "    \n",
    "    Parameters\n",
    "    ----------\n",
    "    name : str\n",
    "        The name of the cli tool.\n",
    "        \n",
    "    Returns\n",
    "    -------\n",
    "    version : str\n",
    "        ``stdout`` output of a ``name --version`` call.\n",
    "    \"\"\"\n",
    "    version = run(name,'--version')\n",
    "    if version.stderr:\n",
    "        install = run('conda','install','-y',name)\n",
    "        return install\n",
    "    else:\n",
    "        return version\n",
    "\n",
    "def check_import(name, failed=False):\n",
    "    \"\"\"Check the version of a Python library ``name``.\n",
    "    \n",
    "    Parameters\n",
    "    ----------\n",
    "    name : str\n",
    "        The name of the library.\n",
    "        \n",
    "    Returns\n",
    "    -------\n",
    "    version : str\n",
    "        The output of ``name.__version__``.\n",
    "    \"\"\"\n",
    "    try:\n",
    "        m = importlib.import_module(name)\n",
    "        res = m.__version__\n",
    "    except ImportError as e:\n",
    "        if not failed:\n",
    "            run('pip','install',name)\n",
    "            return check_import(name, failed=True)\n",
    "        else:\n",
    "            res = repr(e)\n",
    "    return res\n",
    "\n",
    "def show_status(text, version, required=0, best=0):\n",
    "    \"\"\"Create a formatted HTML string graphically\n",
    "    displaying the version requirements.\n",
    "    \n",
    "    Parameters\n",
    "    ----------\n",
    "    text : str\n",
    "        The name of the checked package.\n",
    "    version : str\n",
    "        The version string of the package.\n",
    "    required : int\n",
    "        Minimum version number required. Default: 0\n",
    "    best : int\n",
    "        Recommended version number. Default: 0\n",
    "        \n",
    "    Returns\n",
    "    -------\n",
    "    html : str\n",
    "        HTML span tagged version badge.\n",
    "    \"\"\"\n",
    "    version = int(''.join(version.split('.')))\n",
    "    base = '<span style=\"background-color:{}; width:90px\">{}</span>'\n",
    "    if best > 0 and version >= best:\n",
    "        color = '#e2fcbf'\n",
    "    elif version >= required:\n",
    "        color = '#e6e8a4'\n",
    "    else:\n",
    "        color = '#f28d65'\n",
    "    return base.format(color, text)"
   ]
  },
  {
   "cell_type": "markdown",
   "metadata": {},
   "source": [
    "## Check conda path\n",
    "\n",
    "The installation path of anaconda cannot contain any space characters (```' '```)."
   ]
  },
  {
   "cell_type": "code",
   "execution_count": 3,
   "metadata": {},
   "outputs": [],
   "source": [
    "conda_path_ok = conda.CONDA_PACKAGE_ROOT.find(' ') < 0"
   ]
  },
  {
   "cell_type": "code",
   "execution_count": 4,
   "metadata": {},
   "outputs": [],
   "source": [
    "conda_version = run('conda','--version')"
   ]
  },
  {
   "cell_type": "code",
   "execution_count": 5,
   "metadata": {},
   "outputs": [],
   "source": [
    "# check version\n",
    "if int(''.join(conda_version.stdout.decode('utf-8').strip()[-5:].split('.'))) < 400:\n",
    "    conda_update = run('conda','update','-y','conda')\n",
    "else:\n",
    "    conda_update = None"
   ]
  },
  {
   "cell_type": "code",
   "execution_count": 6,
   "metadata": {},
   "outputs": [],
   "source": [
    "conda = run('conda','info')"
   ]
  },
  {
   "cell_type": "code",
   "execution_count": 7,
   "metadata": {},
   "outputs": [],
   "source": [
    "conda_env = run('conda','env','list')"
   ]
  },
  {
   "cell_type": "code",
   "execution_count": 8,
   "metadata": {},
   "outputs": [],
   "source": [
    "# conda_update_all = run('conda','update','-y','--all')"
   ]
  },
  {
   "cell_type": "markdown",
   "metadata": {},
   "source": [
    "## Check conda installs\n",
    "\n",
    "Here we check all the packages that should've been installed with ```conda install```"
   ]
  },
  {
   "cell_type": "code",
   "execution_count": 9,
   "metadata": {},
   "outputs": [],
   "source": [
    "python = check_version('python')\n",
    "pip = check_version('pip')\n",
    "git = check_version('git')\n",
    "jupyter = check_version('jupyter')"
   ]
  },
  {
   "cell_type": "code",
   "execution_count": 10,
   "metadata": {},
   "outputs": [],
   "source": [
    "%%capture vscode\n",
    "# VS Code triggers FileNotFoundError when \"run('code')\"  on Windows\n",
    "!code --version"
   ]
  },
  {
   "cell_type": "markdown",
   "metadata": {},
   "source": [
    "## Check python packages\n",
    "\n",
    "This checks the packages that should've been installed with ```pip install```"
   ]
  },
  {
   "cell_type": "code",
   "execution_count": 11,
   "metadata": {},
   "outputs": [],
   "source": [
    "matplotlib = check_import('matplotlib')\n",
    "numpy = check_import('numpy')\n",
    "pandas = check_import('pandas')\n",
    "pip_py = check_import('pip')\n",
    "pytest = check_import('pytest')\n",
    "hypothesis = check_import('hypothesis')"
   ]
  },
  {
   "cell_type": "code",
   "execution_count": 12,
   "metadata": {},
   "outputs": [],
   "source": [
    "%%capture matplotlib_backend\n",
    "%matplotlib"
   ]
  },
  {
   "cell_type": "markdown",
   "metadata": {},
   "source": [
    "# Display Results"
   ]
  },
  {
   "cell_type": "code",
   "execution_count": 57,
   "metadata": {},
   "outputs": [],
   "source": [
    "reporting = False\n",
    "\n",
    "# conda installs\n",
    "cot, cov = conda_version.stdout.decode('utf-8').strip().split(' ')[:2]\n",
    "pyt, pyv = python.stdout.decode('utf-8').strip().split(' ')[:2]\n",
    "pit, piv = 'pip', pip_py\n",
    "try:\n",
    "    jut, juv = [x.split('\\n')[1].strip() for x in jupyter.stdout.decode('utf-8').strip().split(':')[:2]]\n",
    "except IndexError:\n",
    "    jut, juv = 'Jupyter','0.0.0'\n",
    "except ValueError:\n",
    "    jut, juv = 'Jupyter','0.0.0'\n",
    "    \n",
    "requirements = [\n",
    "    (cot, cov, 400, 480),\n",
    "    (pyt, pyv, 300, 380),\n",
    "    (pit, piv, 1000, 2000),\n",
    "    ('matplotlib', matplotlib, 200, 313),\n",
    "    ('numpy', numpy, 100, 1180),\n",
    "    ('pandas', pandas, 80, 100),\n",
    "    ('pytest', pytest, 300, 540),\n",
    "    ('hypothesis', hypothesis, 400, 580)\n",
    "]"
   ]
  },
  {
   "cell_type": "markdown",
   "metadata": {},
   "source": [
    "## Report Errors"
   ]
  },
  {
   "cell_type": "code",
   "execution_count": 13,
   "metadata": {},
   "outputs": [],
   "source": [
    "def write_report(*contents):\n",
    "    \"\"\"Output a report file with ``contents``.\n",
    "    \n",
    "    Parameters\n",
    "    ----------\n",
    "    *contents : Variable tuple of strings\n",
    "        The lines that should be printed to the file.\n",
    "    \"\"\"\n",
    "    with open('syscheck-report-{}-{}-{}.txt'.format(\n",
    "                socket.gethostname(),\n",
    "                getpass.getuser(),\n",
    "                datetime.datetime.now().date().isoformat()\n",
    "                )\n",
    "              , 'w') as f:\n",
    "        \n",
    "        for line in contents:\n",
    "            if line:\n",
    "                f.write(line + '\\n')\n",
    "        else:\n",
    "            f.write('\\n'+hex(hash(reduce(lambda a,b: a+b, contents))))"
   ]
  },
  {
   "cell_type": "code",
   "execution_count": 23,
   "metadata": {},
   "outputs": [],
   "source": [
    "if reporting:\n",
    "    write_report(\n",
    "        'Report',\n",
    "        '------',\n",
    "        '\\nSystem',\n",
    "        '------\\n',\n",
    "        '- Platform: {}'.format(sys.platform),\n",
    "        '- Conda path clean: {}'.format(conda_path_ok),\n",
    "        '- Conda cli:',\n",
    "        conda.stdout.decode('utf-8'),\n",
    "        conda.stderr.decode('utf-8'),\n",
    "        conda_env.stdout.decode('utf-8'),\n",
    "        conda_env.stderr.decode('utf-8'),\n",
    "    #     conda_update_all.stdout.decode('utf-8'),\n",
    "    #     conda_update_all.stderr.decode('utf-8'),\n",
    "        '\\n- Python cli:',\n",
    "        python.stdout.decode('utf-8'),\n",
    "        python.stderr.decode('utf-8'),\n",
    "        '\\n- Pip cli:',\n",
    "        pip.stdout.decode('utf-8'),\n",
    "        pip.stderr.decode('utf-8'),\n",
    "        '\\n- Git cli:',\n",
    "        git.stdout.decode('utf-8'),\n",
    "        git.stderr.decode('utf-8'),\n",
    "        '\\n-Jupyter cli:',\n",
    "        jupyter.stdout.decode('utf-8'),\n",
    "        jupyter.stderr.decode('utf-8'),\n",
    "        '\\n- Visual Studio Code:',\n",
    "        vscode.stdout,\n",
    "        vscode.stderr,\n",
    "        '\\nPython modules',\n",
    "        '--------------\\n',\n",
    "        '- matplotlib: ' + matplotlib,\n",
    "        '- Backend: ' + matplotlib_backend.stdout,\n",
    "        matplotlib_backend.stderr,\n",
    "        '- mumpy: ' + numpy,\n",
    "        '- pandas: ' + pandas,\n",
    "        '- pip: ' + pip_py,\n",
    "        '- pytest: ' + pytest,\n",
    "        '- hypothesis: ' + hypothesis\n",
    "        )"
   ]
  },
  {
   "cell_type": "code",
   "execution_count": null,
   "metadata": {},
   "outputs": [],
   "source": []
  }
 ],
 "metadata": {
  "kernelspec": {
   "display_name": "Python 3",
   "language": "python",
   "name": "python3"
  },
  "language_info": {
   "codemirror_mode": {
    "name": "ipython",
    "version": 3
   },
   "file_extension": ".py",
   "mimetype": "text/x-python",
   "name": "python",
   "nbconvert_exporter": "python",
   "pygments_lexer": "ipython3",
   "version": "3.7.7"
  }
 },
 "nbformat": 4,
 "nbformat_minor": 4
}
