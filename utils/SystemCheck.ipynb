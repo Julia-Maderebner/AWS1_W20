{
 "cells": [
  {
   "cell_type": "markdown",
   "metadata": {},
   "source": [
    "# System Checker - AWS 1\n",
    "\n",
    "Der ```System Checker``` überprüft welche Versionen der für die Lehrveranstaltung \"Angewandte Systemwissenschaften 1\" in der \"Gruppe Plakolb\" **relevanten Software** installiert sind.\n",
    "\n",
    "Python-Pakete und Anaconda-Pakete werden dabei **automatisch installiert**, sollten sie noch nicht vorhanden sein.\n",
    "\n",
    "Zum Schluss erstellt der ```System Checker``` einen Report über etwaige Fehler bzw die Versionsnummern. Dieser kann über Moodle an die LV-Leitung übermittelt werden.\n",
    "\n",
    "### Editor\n",
    "\n",
    "Grundsätzlich ist es in der LV **egal** welcher Text-Editor/welche IDE individuell verwendet wird. Frühere Teilnehmer waren neben dem rudimentären, von [Jupyter](https://jupyter.org/) zur Verfügung gestellten Editor zufrieden mit:\n",
    "\n",
    "* [Visual Studio Code](https://code.visualstudio.com/)\n",
    "* [PyCharm](https://www.jetbrains.com/pycharm/)\n",
    "* [Spyder](https://www.spyder-ide.org/)\n",
    "\n",
    "Wichtig ist, dass man sich mit der Lösung wohlfühlt :)\n",
    "\n",
    "### Sinn und Zweck\n",
    "\n",
    "Der Grund für diesen Check ist, dass gleich zu Beginn der Lehrveranstaltung eine solide Ausgangsbasis auf allen verwendeten Geräten sichergestellt werden soll.\n",
    "\n",
    "## Ausführen\n",
    "\n",
    "Um diese Datei auszuführen, klicke auf das &#9193; - Icon in der Toolleiste oben klicken und den Neustart des Kernels bestätigen.\n",
    "\n",
    "Der Statusbericht befindet sich dann unten."
   ]
  },
  {
   "cell_type": "code",
   "execution_count": 10,
   "metadata": {},
   "outputs": [],
   "source": [
    "import os\n",
    "import sys\n",
    "import subprocess\n",
    "import conda\n",
    "import importlib\n",
    "import socket\n",
    "import getpass\n",
    "import datetime\n",
    "from functools import reduce\n",
    "from IPython import display\n",
    "\n",
    "version = sys.version_info\n",
    "if version.major == 3 and version.minor > 6:\n",
    "    run = lambda *cmd: subprocess.run(cmd, capture_output=True)\n",
    "elif version.major == 3 and version.minor > 4:\n",
    "    PIPE = subprocess.PIPE\n",
    "    run = lambda *cmd: subprocess.run(cmd, stdout=PIPE, stderr=PIPE)\n",
    "else:\n",
    "    raise ImportError(\"Please update Python!\")"
   ]
  },
  {
   "cell_type": "markdown",
   "metadata": {},
   "source": [
    "### Helper Functions"
   ]
  },
  {
   "cell_type": "code",
   "execution_count": 2,
   "metadata": {
    "tags": [
     "hide-cell"
    ]
   },
   "outputs": [],
   "source": [
    "def get_version(name, failed=False):\n",
    "    \"\"\"Reads the version of a command line tool ``name``.\n",
    "    \n",
    "    Parameters\n",
    "    ----------\n",
    "    name : str\n",
    "        The name of the cli tool.\n",
    "        \n",
    "    Returns\n",
    "    -------\n",
    "    version : str\n",
    "        ``stdout`` output of a ``name --version`` call.\n",
    "    \"\"\"\n",
    "    version = run(name,'--version')\n",
    "    if version.stderr:\n",
    "        install = run('conda','install','-y',name)\n",
    "        return install\n",
    "    else:\n",
    "        return version\n",
    "\n",
    "def get_import(name, failed=False):\n",
    "    \"\"\"Reads the version of a Python library ``name``.\n",
    "    \n",
    "    Parameters\n",
    "    ----------\n",
    "    name : str\n",
    "        The name of the library.\n",
    "        \n",
    "    Returns\n",
    "    -------\n",
    "    version : str\n",
    "        The output of ``name.__version__``.\n",
    "    \"\"\"\n",
    "    try:\n",
    "        m = importlib.import_module(name)\n",
    "        res = m.__version__\n",
    "    except ImportError as e:\n",
    "        if not failed:\n",
    "            run('pip','install',name)\n",
    "            return check_import(name, failed=True)\n",
    "        else:\n",
    "            res = repr(e)\n",
    "    return res\n",
    "\n",
    "def show_status(text, version, required=0, best=0):\n",
    "    \"\"\"Creates a formatted HTML string graphically\n",
    "    displaying the version requirements.\n",
    "    \n",
    "    Parameters\n",
    "    ----------\n",
    "    text : str\n",
    "        The name of the checked package.\n",
    "    version : str\n",
    "        The version string of the package.\n",
    "    required : int\n",
    "        Minimum version number required. Default: 0\n",
    "    best : int\n",
    "        Recommended version number. Default: 0\n",
    "        \n",
    "    Returns\n",
    "    -------\n",
    "    html : str\n",
    "        HTML span tagged version badge.\n",
    "    \"\"\"\n",
    "    version = int(''.join(version.split('.')))\n",
    "    base = '<span style=\"background-color:{}; width:90px; margin: 6px; padding: 6px\">{}</span>'\n",
    "    if best > 0 and version >= best:\n",
    "        color = '#e2fcbf'\n",
    "    elif version >= required:\n",
    "        color = '#e6e8a4'\n",
    "    else:\n",
    "        color = '#f28d65'\n",
    "    return base.format(color, text)\n",
    "\n",
    "def check_version(version, required):\n",
    "    \"\"\"Checks a version code against requirements.\n",
    "    \n",
    "    Parameters\n",
    "    ----------\n",
    "    version : str\n",
    "        The version string of the package.\n",
    "    required : int\n",
    "        Minimum version number required.\n",
    "\n",
    "    Returns\n",
    "    -------\n",
    "    ok : bool\n",
    "        True if ``version`` meets ``required``.\n",
    "    \"\"\"\n",
    "    version = int(''.join(version.split('.')))\n",
    "    return version >= required"
   ]
  },
  {
   "cell_type": "markdown",
   "metadata": {},
   "source": [
    "## Check conda path\n",
    "\n",
    "The installation path of anaconda cannot contain any space characters (```' '```)."
   ]
  },
  {
   "cell_type": "code",
   "execution_count": 3,
   "metadata": {},
   "outputs": [],
   "source": [
    "conda_path_ok = conda.CONDA_PACKAGE_ROOT.find(' ') < 0"
   ]
  },
  {
   "cell_type": "code",
   "execution_count": 4,
   "metadata": {},
   "outputs": [],
   "source": [
    "conda_version = run('conda','--version')"
   ]
  },
  {
   "cell_type": "code",
   "execution_count": 5,
   "metadata": {},
   "outputs": [],
   "source": [
    "# check version\n",
    "if int(''.join(conda_version.stdout.decode('utf-8').strip()[-5:].split('.'))) < 400:\n",
    "    conda_update = run('conda','update','-y','conda')\n",
    "else:\n",
    "    conda_update = None"
   ]
  },
  {
   "cell_type": "code",
   "execution_count": 6,
   "metadata": {},
   "outputs": [],
   "source": [
    "conda = run('conda','info')"
   ]
  },
  {
   "cell_type": "code",
   "execution_count": 7,
   "metadata": {},
   "outputs": [],
   "source": [
    "conda_env = run('conda','env','list')"
   ]
  },
  {
   "cell_type": "code",
   "execution_count": 8,
   "metadata": {},
   "outputs": [],
   "source": [
    "# conda_update_all = run('conda','update','-y','--all')"
   ]
  },
  {
   "cell_type": "markdown",
   "metadata": {},
   "source": [
    "## Check conda installs\n",
    "\n",
    "Here we check all the packages that should've been installed with ```conda install```"
   ]
  },
  {
   "cell_type": "code",
   "execution_count": 9,
   "metadata": {},
   "outputs": [
    {
     "ename": "FileNotFoundError",
     "evalue": "[WinError 2] The system cannot find the file specified",
     "output_type": "error",
     "traceback": [
      "\u001b[1;31m---------------------------------------------------------------------------\u001b[0m",
      "\u001b[1;31mFileNotFoundError\u001b[0m                         Traceback (most recent call last)",
      "\u001b[1;32m<ipython-input-9-4b2a127e638c>\u001b[0m in \u001b[0;36m<module>\u001b[1;34m\u001b[0m\n\u001b[0;32m      3\u001b[0m \u001b[0mgit\u001b[0m \u001b[1;33m=\u001b[0m \u001b[0mget_version\u001b[0m\u001b[1;33m(\u001b[0m\u001b[1;34m'git'\u001b[0m\u001b[1;33m)\u001b[0m\u001b[1;33m\u001b[0m\u001b[1;33m\u001b[0m\u001b[0m\n\u001b[0;32m      4\u001b[0m \u001b[0mjupyter\u001b[0m \u001b[1;33m=\u001b[0m \u001b[0mget_version\u001b[0m\u001b[1;33m(\u001b[0m\u001b[1;34m'jupyter'\u001b[0m\u001b[1;33m)\u001b[0m\u001b[1;33m\u001b[0m\u001b[1;33m\u001b[0m\u001b[0m\n\u001b[1;32m----> 5\u001b[1;33m \u001b[0mrun\u001b[0m\u001b[1;33m(\u001b[0m\u001b[1;34m'blablu'\u001b[0m\u001b[1;33m)\u001b[0m\u001b[1;33m\u001b[0m\u001b[1;33m\u001b[0m\u001b[0m\n\u001b[0m",
      "\u001b[1;32m<ipython-input-1-5576b351a5d8>\u001b[0m in \u001b[0;36m<lambda>\u001b[1;34m(*cmd)\u001b[0m\n\u001b[0;32m     12\u001b[0m \u001b[0mversion\u001b[0m \u001b[1;33m=\u001b[0m \u001b[0msys\u001b[0m\u001b[1;33m.\u001b[0m\u001b[0mversion_info\u001b[0m\u001b[1;33m\u001b[0m\u001b[1;33m\u001b[0m\u001b[0m\n\u001b[0;32m     13\u001b[0m \u001b[1;32mif\u001b[0m \u001b[0mversion\u001b[0m\u001b[1;33m.\u001b[0m\u001b[0mmajor\u001b[0m \u001b[1;33m==\u001b[0m \u001b[1;36m3\u001b[0m \u001b[1;32mand\u001b[0m \u001b[0mversion\u001b[0m\u001b[1;33m.\u001b[0m\u001b[0mminor\u001b[0m \u001b[1;33m>\u001b[0m \u001b[1;36m6\u001b[0m\u001b[1;33m:\u001b[0m\u001b[1;33m\u001b[0m\u001b[1;33m\u001b[0m\u001b[0m\n\u001b[1;32m---> 14\u001b[1;33m     \u001b[0mrun\u001b[0m \u001b[1;33m=\u001b[0m \u001b[1;32mlambda\u001b[0m \u001b[1;33m*\u001b[0m\u001b[0mcmd\u001b[0m\u001b[1;33m:\u001b[0m \u001b[0msubprocess\u001b[0m\u001b[1;33m.\u001b[0m\u001b[0mrun\u001b[0m\u001b[1;33m(\u001b[0m\u001b[0mcmd\u001b[0m\u001b[1;33m,\u001b[0m \u001b[0mcapture_output\u001b[0m\u001b[1;33m=\u001b[0m\u001b[1;32mTrue\u001b[0m\u001b[1;33m)\u001b[0m\u001b[1;33m\u001b[0m\u001b[1;33m\u001b[0m\u001b[0m\n\u001b[0m\u001b[0;32m     15\u001b[0m \u001b[1;32melif\u001b[0m \u001b[0mversion\u001b[0m\u001b[1;33m.\u001b[0m\u001b[0mmajor\u001b[0m \u001b[1;33m==\u001b[0m \u001b[1;36m3\u001b[0m \u001b[1;32mand\u001b[0m \u001b[0mversion\u001b[0m\u001b[1;33m.\u001b[0m\u001b[0mminor\u001b[0m \u001b[1;33m>\u001b[0m \u001b[1;36m4\u001b[0m\u001b[1;33m:\u001b[0m\u001b[1;33m\u001b[0m\u001b[1;33m\u001b[0m\u001b[0m\n\u001b[0;32m     16\u001b[0m     \u001b[0mPIPE\u001b[0m \u001b[1;33m=\u001b[0m \u001b[0msubprocess\u001b[0m\u001b[1;33m.\u001b[0m\u001b[0mPIPE\u001b[0m\u001b[1;33m\u001b[0m\u001b[1;33m\u001b[0m\u001b[0m\n",
      "\u001b[1;32mC:\\ProgramData\\Anaconda3\\lib\\subprocess.py\u001b[0m in \u001b[0;36mrun\u001b[1;34m(input, capture_output, timeout, check, *popenargs, **kwargs)\u001b[0m\n\u001b[0;32m    486\u001b[0m         \u001b[0mkwargs\u001b[0m\u001b[1;33m[\u001b[0m\u001b[1;34m'stderr'\u001b[0m\u001b[1;33m]\u001b[0m \u001b[1;33m=\u001b[0m \u001b[0mPIPE\u001b[0m\u001b[1;33m\u001b[0m\u001b[1;33m\u001b[0m\u001b[0m\n\u001b[0;32m    487\u001b[0m \u001b[1;33m\u001b[0m\u001b[0m\n\u001b[1;32m--> 488\u001b[1;33m     \u001b[1;32mwith\u001b[0m \u001b[0mPopen\u001b[0m\u001b[1;33m(\u001b[0m\u001b[1;33m*\u001b[0m\u001b[0mpopenargs\u001b[0m\u001b[1;33m,\u001b[0m \u001b[1;33m**\u001b[0m\u001b[0mkwargs\u001b[0m\u001b[1;33m)\u001b[0m \u001b[1;32mas\u001b[0m \u001b[0mprocess\u001b[0m\u001b[1;33m:\u001b[0m\u001b[1;33m\u001b[0m\u001b[1;33m\u001b[0m\u001b[0m\n\u001b[0m\u001b[0;32m    489\u001b[0m         \u001b[1;32mtry\u001b[0m\u001b[1;33m:\u001b[0m\u001b[1;33m\u001b[0m\u001b[1;33m\u001b[0m\u001b[0m\n\u001b[0;32m    490\u001b[0m             \u001b[0mstdout\u001b[0m\u001b[1;33m,\u001b[0m \u001b[0mstderr\u001b[0m \u001b[1;33m=\u001b[0m \u001b[0mprocess\u001b[0m\u001b[1;33m.\u001b[0m\u001b[0mcommunicate\u001b[0m\u001b[1;33m(\u001b[0m\u001b[0minput\u001b[0m\u001b[1;33m,\u001b[0m \u001b[0mtimeout\u001b[0m\u001b[1;33m=\u001b[0m\u001b[0mtimeout\u001b[0m\u001b[1;33m)\u001b[0m\u001b[1;33m\u001b[0m\u001b[1;33m\u001b[0m\u001b[0m\n",
      "\u001b[1;32mC:\\ProgramData\\Anaconda3\\lib\\subprocess.py\u001b[0m in \u001b[0;36m__init__\u001b[1;34m(self, args, bufsize, executable, stdin, stdout, stderr, preexec_fn, close_fds, shell, cwd, env, universal_newlines, startupinfo, creationflags, restore_signals, start_new_session, pass_fds, encoding, errors, text)\u001b[0m\n\u001b[0;32m    798\u001b[0m                                 \u001b[0mc2pread\u001b[0m\u001b[1;33m,\u001b[0m \u001b[0mc2pwrite\u001b[0m\u001b[1;33m,\u001b[0m\u001b[1;33m\u001b[0m\u001b[1;33m\u001b[0m\u001b[0m\n\u001b[0;32m    799\u001b[0m                                 \u001b[0merrread\u001b[0m\u001b[1;33m,\u001b[0m \u001b[0merrwrite\u001b[0m\u001b[1;33m,\u001b[0m\u001b[1;33m\u001b[0m\u001b[1;33m\u001b[0m\u001b[0m\n\u001b[1;32m--> 800\u001b[1;33m                                 restore_signals, start_new_session)\n\u001b[0m\u001b[0;32m    801\u001b[0m         \u001b[1;32mexcept\u001b[0m\u001b[1;33m:\u001b[0m\u001b[1;33m\u001b[0m\u001b[1;33m\u001b[0m\u001b[0m\n\u001b[0;32m    802\u001b[0m             \u001b[1;31m# Cleanup if the child failed starting.\u001b[0m\u001b[1;33m\u001b[0m\u001b[1;33m\u001b[0m\u001b[1;33m\u001b[0m\u001b[0m\n",
      "\u001b[1;32mC:\\ProgramData\\Anaconda3\\lib\\subprocess.py\u001b[0m in \u001b[0;36m_execute_child\u001b[1;34m(self, args, executable, preexec_fn, close_fds, pass_fds, cwd, env, startupinfo, creationflags, shell, p2cread, p2cwrite, c2pread, c2pwrite, errread, errwrite, unused_restore_signals, unused_start_new_session)\u001b[0m\n\u001b[0;32m   1205\u001b[0m                                          \u001b[0menv\u001b[0m\u001b[1;33m,\u001b[0m\u001b[1;33m\u001b[0m\u001b[1;33m\u001b[0m\u001b[0m\n\u001b[0;32m   1206\u001b[0m                                          \u001b[0mos\u001b[0m\u001b[1;33m.\u001b[0m\u001b[0mfspath\u001b[0m\u001b[1;33m(\u001b[0m\u001b[0mcwd\u001b[0m\u001b[1;33m)\u001b[0m \u001b[1;32mif\u001b[0m \u001b[0mcwd\u001b[0m \u001b[1;32mis\u001b[0m \u001b[1;32mnot\u001b[0m \u001b[1;32mNone\u001b[0m \u001b[1;32melse\u001b[0m \u001b[1;32mNone\u001b[0m\u001b[1;33m,\u001b[0m\u001b[1;33m\u001b[0m\u001b[1;33m\u001b[0m\u001b[0m\n\u001b[1;32m-> 1207\u001b[1;33m                                          startupinfo)\n\u001b[0m\u001b[0;32m   1208\u001b[0m             \u001b[1;32mfinally\u001b[0m\u001b[1;33m:\u001b[0m\u001b[1;33m\u001b[0m\u001b[1;33m\u001b[0m\u001b[0m\n\u001b[0;32m   1209\u001b[0m                 \u001b[1;31m# Child is launched. Close the parent's copy of those pipe\u001b[0m\u001b[1;33m\u001b[0m\u001b[1;33m\u001b[0m\u001b[1;33m\u001b[0m\u001b[0m\n",
      "\u001b[1;31mFileNotFoundError\u001b[0m: [WinError 2] The system cannot find the file specified"
     ]
    }
   ],
   "source": [
    "python = get_version('python')\n",
    "pip = get_version('pip')\n",
    "git = get_version('git')\n",
    "jupyter = get_version('jupyter')\n",
    "run('blablu')"
   ]
  },
  {
   "cell_type": "code",
   "execution_count": null,
   "metadata": {},
   "outputs": [],
   "source": [
    "%%capture vscode\n",
    "# VS Code triggers FileNotFoundError when \"run('code')\"  on Windows\n",
    "!code --version"
   ]
  },
  {
   "cell_type": "markdown",
   "metadata": {},
   "source": [
    "## Check python packages\n",
    "\n",
    "This checks the packages that should've been installed with ```pip install```"
   ]
  },
  {
   "cell_type": "code",
   "execution_count": null,
   "metadata": {},
   "outputs": [],
   "source": [
    "matplotlib = get_import('matplotlib')\n",
    "numpy = get_import('numpy')\n",
    "pandas = get_import('pandas')\n",
    "pip_py = get_import('pip')\n",
    "pytest = get_import('pytest')\n",
    "hypothesis = get_import('hypothesis')"
   ]
  },
  {
   "cell_type": "code",
   "execution_count": null,
   "metadata": {},
   "outputs": [],
   "source": [
    "%%capture matplotlib_backend\n",
    "%matplotlib"
   ]
  },
  {
   "cell_type": "markdown",
   "metadata": {},
   "source": [
    "# Display Results"
   ]
  },
  {
   "cell_type": "code",
   "execution_count": null,
   "metadata": {},
   "outputs": [],
   "source": [
    "# Prepare version codes and requirements\n",
    "\n",
    "cot, cov = conda_version.stdout.decode('utf-8').strip().split(' ')[:2]\n",
    "pyt, pyv = python.stdout.decode('utf-8').strip().split(' ')[:2]\n",
    "pit, piv = 'pip', pip_py\n",
    "try:\n",
    "    jut, juv = [x.split('\\n')[1].strip() for x in jupyter.stdout.decode('utf-8').strip().split(':')[:2]]\n",
    "except IndexError:\n",
    "    jut, juv = 'Jupyter','0.0.0'\n",
    "except ValueError:\n",
    "    jut, juv = 'Jupyter','0.0.0'\n",
    "    \n",
    "requirements = [\n",
    "    (cot, cov, 400, 480),\n",
    "    (pyt, pyv, 300, 380),\n",
    "    (pit, piv, 1000, 2000),\n",
    "    ('matplotlib', matplotlib, 200, 313),\n",
    "    ('numpy', numpy, 100, 1180),\n",
    "    ('pandas', pandas, 80, 100),\n",
    "    ('pytest', pytest, 300, 540),\n",
    "    ('hypothesis', hypothesis, 400, 580)\n",
    "]"
   ]
  },
  {
   "cell_type": "code",
   "execution_count": null,
   "metadata": {},
   "outputs": [],
   "source": [
    "status = reduce(lambda a,b: a+b, [show_status(*r) for r in  requirements])\n",
    "reporting = not any(check_version(v, r) for _, v, r, _ in requirements) and conda_path_ok\n",
    "if reporting:\n",
    "    status += show_status('&rArr; Failed, please send the report printed below!', '0', 100)\n",
    "else:\n",
    "    status += show_status('&rArr; Success!', '200', 1, 1)\n",
    "display.HTML(status)"
   ]
  },
  {
   "cell_type": "markdown",
   "metadata": {},
   "source": [
    "## Report Errors"
   ]
  },
  {
   "cell_type": "code",
   "execution_count": null,
   "metadata": {},
   "outputs": [],
   "source": [
    "def write_report(*contents):\n",
    "    \"\"\"Output a report file with ``contents``.\n",
    "    \n",
    "    Parameters\n",
    "    ----------\n",
    "    *contents : Variable tuple of strings\n",
    "        The lines that should be printed to the file.\n",
    "    \"\"\"\n",
    "    print('\\n'.join(contents))\n",
    "    with open('syscheck-report-{}-{}-{}.txt'.format(\n",
    "                socket.gethostname(),\n",
    "                getpass.getuser(),\n",
    "                datetime.datetime.now().date().isoformat()\n",
    "                )\n",
    "              , 'w') as f:\n",
    "        \n",
    "        for line in contents:\n",
    "            if line:\n",
    "                f.write(line + '\\n')\n",
    "        else:\n",
    "            f.write('\\n'+hex(hash(reduce(lambda a,b: a+b, contents))))"
   ]
  },
  {
   "cell_type": "code",
   "execution_count": null,
   "metadata": {},
   "outputs": [],
   "source": [
    "if reporting:\n",
    "    write_report(\n",
    "        'Report',\n",
    "        '------',\n",
    "        datetime.datetime.now().date().isoformat(),\n",
    "        '\\nSystem',\n",
    "        '------\\n',\n",
    "        '- Platform: {}'.format(sys.platform),\n",
    "        '- Conda path clean: {}'.format(conda_path_ok),\n",
    "        '- Conda cli:',\n",
    "        conda.stdout.decode('utf-8'),\n",
    "        conda.stderr.decode('utf-8'),\n",
    "        conda_env.stdout.decode('utf-8'),\n",
    "        conda_env.stderr.decode('utf-8'),\n",
    "    #     conda_update_all.stdout.decode('utf-8'),\n",
    "    #     conda_update_all.stderr.decode('utf-8'),\n",
    "        '\\n- Python cli:',\n",
    "        python.stdout.decode('utf-8'),\n",
    "        python.stderr.decode('utf-8'),\n",
    "        '\\n- Pip cli:',\n",
    "        pip.stdout.decode('utf-8'),\n",
    "        pip.stderr.decode('utf-8'),\n",
    "        '\\n- Git cli:',\n",
    "        git.stdout.decode('utf-8'),\n",
    "        git.stderr.decode('utf-8'),\n",
    "        '\\n-Jupyter cli:',\n",
    "        jupyter.stdout.decode('utf-8'),\n",
    "        jupyter.stderr.decode('utf-8'),\n",
    "        '\\n- Visual Studio Code:',\n",
    "        vscode.stdout,\n",
    "        vscode.stderr,\n",
    "        '\\nPython modules',\n",
    "        '--------------\\n',\n",
    "        '- matplotlib: ' + matplotlib,\n",
    "        '- Backend: ' + matplotlib_backend.stdout,\n",
    "        matplotlib_backend.stderr,\n",
    "        '- mumpy: ' + numpy,\n",
    "        '- pandas: ' + pandas,\n",
    "        '- pip: ' + pip_py,\n",
    "        '- pytest: ' + pytest,\n",
    "        '- hypothesis: ' + hypothesis\n",
    "        )"
   ]
  }
 ],
 "metadata": {
  "kernelspec": {
   "display_name": "Python 3",
   "language": "python",
   "name": "python3"
  },
  "language_info": {
   "codemirror_mode": {
    "name": "ipython",
    "version": 3
   },
   "file_extension": ".py",
   "mimetype": "text/x-python",
   "name": "python",
   "nbconvert_exporter": "python",
   "pygments_lexer": "ipython3",
   "version": "3.7.7"
  }
 },
 "nbformat": 4,
 "nbformat_minor": 4
}
