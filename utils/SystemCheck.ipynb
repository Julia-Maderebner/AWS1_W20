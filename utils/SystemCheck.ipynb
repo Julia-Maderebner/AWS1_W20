{
 "cells": [
  {
   "cell_type": "code",
   "execution_count": 36,
   "metadata": {},
   "outputs": [],
   "source": [
    "import os\n",
    "import sys\n",
    "import subprocess\n",
    "import conda\n",
    "import importlib\n",
    "import socket\n",
    "import getpass\n",
    "import datetime\n",
    "\n",
    "run = lambda *cmd: subprocess.run(cmd, capture_output=True)"
   ]
  },
  {
   "cell_type": "markdown",
   "metadata": {},
   "source": [
    "### Helper Functions"
   ]
  },
  {
   "cell_type": "code",
   "execution_count": 40,
   "metadata": {
    "tags": [
     "hide-cell"
    ]
   },
   "outputs": [],
   "source": [
    "def check_version(name, failed=False):\n",
    "    version = run(name,'--version')\n",
    "    if version.stderr:\n",
    "        install = run('conda','install','-y',name)\n",
    "        return install\n",
    "    else:\n",
    "        return version\n",
    "\n",
    "def check_import(name, failed=False):\n",
    "    try:\n",
    "        m = importlib.import_module(name)\n",
    "        res = m.__version__\n",
    "    except ImportError as e:\n",
    "        if not failed:\n",
    "            run('pip','install',name)\n",
    "            return check_import(name, failed=True)\n",
    "        else:\n",
    "            res = repr(e)\n",
    "    return res"
   ]
  },
  {
   "cell_type": "markdown",
   "metadata": {},
   "source": [
    "## Check conda path\n",
    "\n",
    "The installation path of anaconda cannot contain any space characters (```' '```)."
   ]
  },
  {
   "cell_type": "code",
   "execution_count": 41,
   "metadata": {},
   "outputs": [],
   "source": [
    "conda_path_ok = conda.CONDA_PACKAGE_ROOT.find(' ') < 0"
   ]
  },
  {
   "cell_type": "code",
   "execution_count": 64,
   "metadata": {},
   "outputs": [],
   "source": [
    "conda = run('conda','info')"
   ]
  },
  {
   "cell_type": "code",
   "execution_count": 65,
   "metadata": {},
   "outputs": [],
   "source": [
    "conda_version = run('conda','--version')"
   ]
  },
  {
   "cell_type": "code",
   "execution_count": 79,
   "metadata": {},
   "outputs": [],
   "source": [
    "# check version\n",
    "if int(''.join(conda_version.stdout.decode('utf-8').strip()[-5:].split('.'))) < 400:\n",
    "    conda_update = run('conda','update','-y','conda')\n",
    "else:\n",
    "    conda_update = None"
   ]
  },
  {
   "cell_type": "code",
   "execution_count": null,
   "metadata": {},
   "outputs": [],
   "source": [
    "conda_update_all = run('conda','update','-y','--all')"
   ]
  },
  {
   "cell_type": "markdown",
   "metadata": {},
   "source": [
    "## Check conda installs"
   ]
  },
  {
   "cell_type": "code",
   "execution_count": 49,
   "metadata": {},
   "outputs": [],
   "source": [
    "python = check_version('python')\n",
    "pip = check_version('pip')\n",
    "git = check_version('git')\n",
    "jupyter = check_version('jupyter')"
   ]
  },
  {
   "cell_type": "code",
   "execution_count": 58,
   "metadata": {},
   "outputs": [],
   "source": [
    "%%capture vscode\n",
    "# VS Code triggers FileNotFoundError when \"run('code')\"  on Windows\n",
    "!code --version"
   ]
  },
  {
   "cell_type": "markdown",
   "metadata": {},
   "source": [
    "## Check python packages"
   ]
  },
  {
   "cell_type": "code",
   "execution_count": 4,
   "metadata": {},
   "outputs": [],
   "source": [
    "matplotlib = check_import('matplotlib')\n",
    "numpy = check_import('numpy')\n",
    "pandas = check_import('pandas')\n",
    "pip_py = check_import('pip')\n",
    "pytest = check_import('pytest')\n",
    "hypothesis = check_import('hypothesis')"
   ]
  },
  {
   "cell_type": "code",
   "execution_count": 5,
   "metadata": {},
   "outputs": [],
   "source": [
    "%%capture matplotlib_backend\n",
    "%matplotlib"
   ]
  },
  {
   "cell_type": "markdown",
   "metadata": {},
   "source": [
    "## Print Report"
   ]
  },
  {
   "cell_type": "code",
   "execution_count": 94,
   "metadata": {},
   "outputs": [],
   "source": [
    "hostname = socket.gethostname()\n",
    "username = getpass.getuser()\n",
    "localtime = datetime.datetime.now().isoformat()"
   ]
  },
  {
   "cell_type": "code",
   "execution_count": 97,
   "metadata": {},
   "outputs": [
    {
     "data": {
      "text/plain": [
       "'2020-09-21'"
      ]
     },
     "execution_count": 97,
     "metadata": {},
     "output_type": "execute_result"
    }
   ],
   "source": [
    "datetime.datetime.now().date().isoformat()"
   ]
  },
  {
   "cell_type": "code",
   "execution_count": null,
   "metadata": {},
   "outputs": [],
   "source": [
    "with open(\"syscheck-report-{}-{}-{}.txt\".format(hostname, username, datetime.datetime.now().date().isoformat()), 'w') as f:\n",
    "    pass"
   ]
  }
 ],
 "metadata": {
  "kernelspec": {
   "display_name": "Python 3",
   "language": "python",
   "name": "python3"
  },
  "language_info": {
   "codemirror_mode": {
    "name": "ipython",
    "version": 3
   },
   "file_extension": ".py",
   "mimetype": "text/x-python",
   "name": "python",
   "nbconvert_exporter": "python",
   "pygments_lexer": "ipython3",
   "version": "3.7.7"
  }
 },
 "nbformat": 4,
 "nbformat_minor": 4
}
